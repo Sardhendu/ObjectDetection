{
 "cells": [
  {
   "cell_type": "code",
   "execution_count": 1,
   "metadata": {},
   "outputs": [],
   "source": [
    "import os\n",
    "import os.path as path\n",
    "import sys\n",
    "\n",
    "wk_dir = os.path.dirname(os.path.realpath('__file__'))\n",
    "parent_code_dir =  path.abspath(path.join(wk_dir ,\"../..\"))\n",
    "sys.path.append(parent_code_dir)\n",
    "\n",
    "import logging\n",
    "import random\n",
    "import cv2\n",
    "import math\n",
    "import numpy as np\n",
    "import pandas as pd\n",
    "import  matplotlib.pyplot as plt\n",
    "from PIL import Image\n",
    "from PIL import ImageDraw\n",
    "\n",
    "\n",
    "from MaskRCNN.building_blocks import utils\n",
    "from MaskRCNN.config import config\n",
    "from MaskRCNN.shapes import ShapesConfig, Dataset\n",
    "\n",
    "%matplotllib inline"
   ]
  },
  {
   "cell_type": "markdown",
   "metadata": {},
   "source": [
    "## Get/Prepare Data:\n",
    "------"
   ]
  },
  {
   "cell_type": "code",
   "execution_count": 2,
   "metadata": {},
   "outputs": [
    {
     "name": "stdout",
     "output_type": "stream",
     "text": [
      "Batch Meta:  {0: {'width': 128, 'bg_color': array([150, 122, 110]), 'height': 128, 'object_info': [('triangle', (156, 2, 101), (40, 84, 24)), ('square', (86, 212, 158), (29, 36, 21)), ('square', (98, 106, 30), (92, 58, 31))]}}\n",
      "Anchors Max Min length:  154.509667992 -90.5096679919\n",
      "Anchor shape:  (4092, 4)\n",
      "Achor Area:  (4092,)\n",
      "active_class_ids  [0 1 1 0]\n",
      "pos_idx,  3\n",
      "neg_idx,  4053 128\n",
      "+ve class count  3\n",
      "-ve class count  128\n",
      "neutral class count  3961\n",
      "batch_images  (1, 128, 128, 3)\n",
      "batch_gt_masks  (1, 128, 128, 100)\n",
      "batch_gt_class_ids  (1, 100)\n",
      "batch_gt_bboxes  (1, 100, 4)\n",
      "batch_image_metas  (1, 16)\n",
      "batch_rpn_target_class  (1, 4092, 1)\n",
      "batch_rpn_target_bbox  (1, 256, 4)\n",
      "batch_positive_anchors  (1, 3, 4)\n",
      "dict_keys(['batch_gt_masks', 'batch_gt_class_ids', 'batch_gt_bboxes', 'batch_image_metas', 'batch_rpn_target_class', 'batch_images', 'batch_rpn_target_bbox', 'batch_positive_anchors'])\n"
     ]
    }
   ],
   "source": [
    "# Debugg\n",
    "from MaskRCNN.building_blocks.data_processor import PreprareTrainData\n",
    "conf = ShapesConfig()\n",
    "\n",
    "batch_size = 1\n",
    "# Get data from for randomly generated shapes\n",
    "data = Dataset(num_images=batch_size, height=128, width=128, num_classes=4)\n",
    "print ('Batch Meta: ', data.image_meta)\n",
    "image_ids = data.image_meta.keys()\n",
    "\n",
    "obj_ptd = PreprareTrainData(conf, data)\n",
    "data_dict = obj_ptd.get_data(image_ids)\n",
    "print(data_dict.keys())\n",
    "\n",
    "\n",
    "##### GET DATA TO VIZUALIZE\n",
    "run_for_batch_num = 0\n",
    "# Get Batch Image\n",
    "batch_images = data_dict['batch_images']\n",
    "\n",
    "# Get ground truth boxes\n",
    "batch_gt_bboxes = data_dict['batch_gt_bboxes']\n",
    "\n",
    "# Get ground truth boxes\n",
    "batch_gt_masks = data_dict['batch_gt_masks']\n",
    "\n",
    "# Get Batch RPN Target Class\n",
    "batch_rpn_target_class = data_dict['batch_rpn_target_class']\n",
    "\n",
    "# Get Boxes with iou > 0.7 to gt_boxes: batch_rpn target box\n",
    "batch_rpn_target_bbox = data_dict['batch_rpn_target_bbox']\n",
    "\n",
    "# Get Positive anchors with IOU more than 0.7\n",
    "batch_positive_anchors = data_dict['batch_positive_anchors']"
   ]
  },
  {
   "cell_type": "code",
   "execution_count": 3,
   "metadata": {},
   "outputs": [
    {
     "name": "stdout",
     "output_type": "stream",
     "text": [
      "[0 1 2]\n",
      "image  (128, 128, 3)\n",
      "gt_box  (3, 4)\n",
      "gt_masks  (3, 128, 128)\n",
      "rpn_target_bbox  (3, 4)\n",
      "anchors_idx_with_neg_iou  128\n",
      "anchors_idx_with_neutral_iou  3961\n",
      "anchors_idx_with_pos_iou  3\n",
      "positive_anchors  (3, 4)\n",
      "neutral_anchors  (3961, 4)\n",
      "negative_anchors  (128, 4)\n",
      "positive_anchor_bbox  (3, 4)\n"
     ]
    }
   ],
   "source": [
    "# batch_gt_bboxes.shape\n",
    "indice = np.where(np.sum(abs(batch_gt_bboxes), axis=2)[run_for_batch_num] != 0)[0]\n",
    "print(indice)\n",
    "image = batch_images[run_for_batch_num]\n",
    "gt_box = batch_gt_bboxes[run_for_batch_num, indice]\n",
    "gt_masks = batch_gt_masks[run_for_batch_num, :,:,indice]\n",
    "anchors_idx_with_neg_iou = np.where(batch_rpn_target_class[run_for_batch_num] == -1)[0]\n",
    "anchors_idx_with_neutral_iou = np.where(batch_rpn_target_class[run_for_batch_num] == 0)[0]\n",
    "anchors_idx_with_pos_iou = np.where(batch_rpn_target_class[run_for_batch_num] == 1)[0]\n",
    "rpn_target_bbox = batch_rpn_target_bbox[run_for_batch_num, indice]\n",
    "positive_anchor_bbox = batch_positive_anchors[run_for_batch_num]\n",
    "\n",
    "positive_anchors = obj_ptd.anchors[anchors_idx_with_pos_iou]\n",
    "neutral_anchors = obj_ptd.anchors[anchors_idx_with_neutral_iou]\n",
    "negative_anchors = obj_ptd.anchors[anchors_idx_with_neg_iou]\n",
    "\n",
    "print ('image ', image.shape)\n",
    "print ('gt_box ', gt_box.shape)\n",
    "print ('gt_masks ', gt_masks.shape)\n",
    "print ('rpn_target_bbox ', rpn_target_bbox.shape)\n",
    "\n",
    "print ('anchors_idx_with_neg_iou ', len(anchors_idx_with_neg_iou))\n",
    "print ('anchors_idx_with_neutral_iou ', len(anchors_idx_with_neutral_iou))\n",
    "print ('anchors_idx_with_pos_iou ', len(anchors_idx_with_pos_iou))\n",
    "print ('positive_anchors ', positive_anchors.shape)\n",
    "print ('neutral_anchors ', neutral_anchors.shape)\n",
    "print ('negative_anchors ', negative_anchors.shape)\n",
    "\n",
    "\n",
    "print ('positive_anchor_bbox ', positive_anchor_bbox.shape)\n",
    "\n"
   ]
  },
  {
   "cell_type": "code",
   "execution_count": 4,
   "metadata": {},
   "outputs": [
    {
     "data": {
      "text/plain": [
       "array([[  -5.65685425,   -2.82842712,    5.65685425,    2.82842712],\n",
       "       [  -4.        ,   -4.        ,    4.        ,    4.        ],\n",
       "       [  -2.82842712,   -5.65685425,    2.82842712,    5.65685425],\n",
       "       ..., \n",
       "       [ -26.50966799,   18.745166  ,  154.50966799,  109.254834  ],\n",
       "       [   0.        ,    0.        ,  128.        ,  128.        ],\n",
       "       [  18.745166  ,  -26.50966799,  109.254834  ,  154.50966799]])"
      ]
     },
     "execution_count": 4,
     "metadata": {},
     "output_type": "execute_result"
    }
   ],
   "source": [
    "neutral_anchors"
   ]
  },
  {
   "cell_type": "markdown",
   "metadata": {},
   "source": [
    "#### Check if Positive index on the anchor box is the same as extracted positive_anchor_box"
   ]
  },
  {
   "cell_type": "code",
   "execution_count": 5,
   "metadata": {},
   "outputs": [
    {
     "name": "stdout",
     "output_type": "stream",
     "text": [
      "[[  16.   16.   48.   48.]\n",
      " [   0.   64.   64.  128.]\n",
      " [  64.   32.  128.   96.]]\n",
      "[[  16.   16.   48.   48.]\n",
      " [   0.   64.   64.  128.]\n",
      " [  64.   32.  128.   96.]]\n"
     ]
    }
   ],
   "source": [
    "print (obj_ptd.anchors[anchors_idx_with_pos_iou])  \n",
    "print (positive_anchor_bbox)"
   ]
  },
  {
   "cell_type": "markdown",
   "metadata": {},
   "source": [
    "## Vizualize obejcts:\n",
    "---------"
   ]
  },
  {
   "cell_type": "code",
   "execution_count": 6,
   "metadata": {},
   "outputs": [
    {
     "data": {
      "image/png": "[encoded data removed]",
      "text/plain": [
       "<matplotlib.figure.Figure at 0x1c2245aa58>"
      ]
     },
     "metadata": {},
     "output_type": "display_data"
    }
   ],
   "source": [
    "from MaskRCNN.visualize import Visualize\n",
    "obj_viz = Visualize(rows=1, cols=4, figsize=(20,4))\n",
    "\n",
    "obj_viz.vizualize_image(image)\n",
    "for j in range(0,3):  # total number of labels\n",
    "    if j < gt_masks.shape[0]:\n",
    "        obj_viz.vizualize_image(gt_masks[j,:,:])\n",
    "    else:\n",
    "        obj_viz.num += 1\n",
    "obj_viz.show()"
   ]
  },
  {
   "cell_type": "markdown",
   "metadata": {},
   "source": [
    "## Vizualize Ground Truth Boxes\n",
    "---------"
   ]
  },
  {
   "cell_type": "code",
   "execution_count": 7,
   "metadata": {},
   "outputs": [
    {
     "data": {
      "image/png": "[encoded data removed]",
      "text/plain": [
       "<matplotlib.figure.Figure at 0x1c2237c7b8>"
      ]
     },
     "metadata": {},
     "output_type": "display_data"
    }
   ],
   "source": [
    "obj_viz = Visualize(rows=1, cols=1, figsize=(20,10))\n",
    "obj_viz.visualize_boxes(gt_box, image)\n",
    "obj_viz.show()"
   ]
  },
  {
   "cell_type": "markdown",
   "metadata": {},
   "source": [
    "## Vizualize Positive Anchors woth IOU > 0.7 or the bouding box with max IOU\n",
    "------"
   ]
  },
  {
   "cell_type": "code",
   "execution_count": 8,
   "metadata": {},
   "outputs": [
    {
     "data": {
      "image/png": "[encoded data removed]",
      "text/plain": [
       "<matplotlib.figure.Figure at 0x1c2ab95ac8>"
      ]
     },
     "metadata": {},
     "output_type": "display_data"
    }
   ],
   "source": [
    "obj_viz = Visualize(rows=1, cols=1, figsize=(20,10))\n",
    "obj_viz.visualize_boxes(positive_anchor_bbox, image)\n",
    "obj_viz.show()"
   ]
  },
  {
   "cell_type": "markdown",
   "metadata": {},
   "source": [
    "## Vizualize Negative Anchors with IOU < 0.3\n",
    "----------"
   ]
  },
  {
   "cell_type": "code",
   "execution_count": 9,
   "metadata": {},
   "outputs": [
    {
     "data": {
      "image/png": "[encoded data removed]",
      "text/plain": [
       "<matplotlib.figure.Figure at 0x1c2b0c14a8>"
      ]
     },
     "metadata": {},
     "output_type": "display_data"
    }
   ],
   "source": [
    "obj_viz = Visualize(rows=1, cols=1, figsize=(20,10))\n",
    "obj_viz.visualize_boxes(negative_anchors, image)\n",
    "obj_viz.show()"
   ]
  },
  {
   "cell_type": "markdown",
   "metadata": {},
   "source": [
    "## Vizualize Neutral Anchors 0.3<IOU<0.7\n",
    "\n",
    "#### Read this:\n",
    "* You might be wondering, why many boxes, which seem to have iou = 0 are marked as neutral. This is becasue. In normal scenario we would have a class imbalance problem, where we would end up having more negative classes than positive classes.\n",
    "\n",
    "* Moreover, for regression Loss we have stated a limit of 256 anchors 128(+ve) and 128(-ve). in real scenario we would have -ve anchors >>> 128. Hence for training and loss calculation we select only 128 anchors from the list of all -ve anchors and make all other -ve anchors as neutral."
   ]
  },
  {
   "cell_type": "code",
   "execution_count": 10,
   "metadata": {
    "collapsed": true
   },
   "outputs": [],
   "source": [
    "np.random.shuffle(neutral_anchors)"
   ]
  },
  {
   "cell_type": "code",
   "execution_count": 11,
   "metadata": {},
   "outputs": [
    {
     "data": {
      "image/png": "[encoded data removed]",
      "text/plain": [
       "<matplotlib.figure.Figure at 0x1c2b6503c8>"
      ]
     },
     "metadata": {},
     "output_type": "display_data"
    }
   ],
   "source": [
    "obj_viz = Visualize(rows=1, cols=1, figsize=(20,10))\n",
    "obj_viz.visualize_boxes(neutral_anchors[0:10], image)\n",
    "obj_viz.show()"
   ]
  },
  {
   "cell_type": "markdown",
   "metadata": {},
   "source": [
    "## Lets do some Training:\n",
    "--------"
   ]
  },
  {
   "cell_type": "code",
   "execution_count": 12,
   "metadata": {
    "scrolled": true
   },
   "outputs": [
    {
     "name": "stderr",
     "output_type": "stream",
     "text": [
      "Using TensorFlow backend.\n"
     ]
    },
    {
     "name": "stdout",
     "output_type": "stream",
     "text": [
      "[[  0 128 128   3 128 128   3   0   0 128 128   1   0   1   1   0]]\n",
      "<MaskRCNN.shapes.ShapesConfig object at 0x1c2239c0f0>\n",
      "(process_images) Image Resized Nnormalized: (shape)  (1, 128, 128, 3)\n",
      "(process_images) Image meta: (shape)  (1, 16)\n",
      "(process_images) Image Window: (shape)  (1, 4)\n",
      "(process_images) Anchors: (shape)  (1, 4092, 4)\n",
      "(1, 128, 128, 3) (1, 16) (1, 4) (1, 4092, 4)\n",
      "(FPN) C2: (shape)  (?, 32, 32, 256)\n",
      "(FPN) C3: (shape)  (?, 16, 16, 512)\n",
      "(FPN) C4: (shape)  (?, 8, 8, 1024)\n",
      "(FPN) C5: (shape)  (?, 4, 4, 2048)\n",
      "(FPN) P2: (shape)  (?, 32, 32, 256)\n",
      "(FPN) P3: (shape)  (?, 16, 16, 256)\n",
      "(FPN) P4: (shape)  (?, 8, 8, 256)\n",
      "(FPN) P5: (shape)  (?, 4, 4, 256)\n",
      "(FPN) P6: (shape)  (?, 2, 2, 256)\n",
      "(RPN) Class Logits (shape)  (?, ?, 2)\n",
      "(RPN) Class Probs (shape)  (?, ?, 2)\n",
      "(RPN) Bbox (shape)  (?, ?, 4)\n",
      "(RPN) Class Logits (shape)  (?, ?, 2)\n",
      "(RPN) Class Probs (shape)  (?, ?, 2)\n",
      "(RPN) Bbox (shape)  (?, ?, 4)\n",
      "(RPN) Class Logits (shape)  (?, ?, 2)\n",
      "(RPN) Class Probs (shape)  (?, ?, 2)\n",
      "(RPN) Bbox (shape)  (?, ?, 4)\n",
      "(RPN) Class Logits (shape)  (?, ?, 2)\n",
      "(RPN) Class Probs (shape)  (?, ?, 2)\n",
      "(RPN) Bbox (shape)  (?, ?, 4)\n",
      "(RPN) Class Logits (shape)  (?, ?, 2)\n",
      "(RPN) Class Probs (shape)  (?, ?, 2)\n",
      "(RPN) Bbox (shape)  (?, ?, 4)\n",
      "(Proposals) Proposals (shape)  (1, ?, ?)\n",
      "Proposal DEBUG ................\n",
      "(MRCNN) Pooled Roi's (shape) (1, ?, 7, 7, 256)\n",
      "(?, ?)\n",
      "mrcnn_target_box (1, ?, ?) \n",
      " Tensor(\"stack_3:0\", shape=(1, ?, ?), dtype=float32)\n",
      "\n",
      "mrcnn_pred_box (?, ?, 4, 4) \n",
      " Tensor(\"mrcnn_bbox/Reshape:0\", shape=(?, ?, 4, 4), dtype=float32)\n",
      "\n",
      "mrcnn_target_class_ids (1, ?) \n",
      " Tensor(\"concat_10:0\", shape=(1, ?), dtype=int32)\n",
      "batch_active_class_ids  (1, 4) [[0 1 1 0]]\n",
      "batch_rpn_target_class  (1, 4092, 1)\n",
      "Variable:  fpn_c5p5/kernel:0\n",
      "Shape:  (1, 1, 2048, 256)\n",
      "Variable:  fpn_c5p5/bias:0\n",
      "Shape:  (256,)\n",
      "Variable:  fpn_c4p4/kernel:0\n",
      "Shape:  (1, 1, 1024, 256)\n",
      "Variable:  fpn_c4p4/bias:0\n",
      "Shape:  (256,)\n",
      "Variable:  fpn_c3p3/kernel:0\n",
      "Shape:  (1, 1, 512, 256)\n",
      "Variable:  fpn_c3p3/bias:0\n",
      "Shape:  (256,)\n",
      "Variable:  fpn_c2p2/kernel:0\n",
      "Shape:  (1, 1, 256, 256)\n",
      "Variable:  fpn_c2p2/bias:0\n",
      "Shape:  (256,)\n",
      "Variable:  fpn_p2/kernel:0\n",
      "Shape:  (3, 3, 256, 256)\n",
      "Variable:  fpn_p2/bias:0\n",
      "Shape:  (256,)\n",
      "Variable:  fpn_p3/kernel:0\n",
      "Shape:  (3, 3, 256, 256)\n",
      "Variable:  fpn_p3/bias:0\n",
      "Shape:  (256,)\n",
      "Variable:  fpn_p4/kernel:0\n",
      "Shape:  (3, 3, 256, 256)\n",
      "Variable:  fpn_p4/bias:0\n",
      "Shape:  (256,)\n",
      "Variable:  fpn_p5/kernel:0\n",
      "Shape:  (3, 3, 256, 256)\n",
      "Variable:  fpn_p5/bias:0\n",
      "Shape:  (256,)\n",
      "Variable:  rpn_conv_shared/kernel:0\n",
      "Shape:  (3, 3, 256, 512)\n",
      "Variable:  rpn_conv_shared/bias:0\n",
      "Shape:  (512,)\n",
      "Variable:  rpn_class_raw/kernel:0\n",
      "Shape:  (1, 1, 512, 6)\n",
      "Variable:  rpn_class_raw/bias:0\n",
      "Shape:  (6,)\n",
      "Variable:  rpn_bbox_pred/kernel:0\n",
      "Shape:  (1, 1, 512, 12)\n",
      "Variable:  rpn_bbox_pred/bias:0\n",
      "Shape:  (12,)\n",
      "Variable:  mrcnn_class_conv1/kernel:0\n",
      "Shape:  (7, 7, 256, 1024)\n",
      "Variable:  mrcnn_class_conv1/bias:0\n",
      "Shape:  (1024,)\n",
      "Variable:  mrcnn_class_bn1/gamma:0\n",
      "Shape:  (1024,)\n",
      "Variable:  mrcnn_class_bn1/beta:0\n",
      "Shape:  (1024,)\n",
      "Variable:  mrcnn_class_bn1/moving_mean:0\n",
      "Shape:  (1024,)\n",
      "Variable:  mrcnn_class_bn1/moving_variance:0\n",
      "Shape:  (1024,)\n",
      "Variable:  mrcnn_class_conv2/kernel:0\n",
      "Shape:  (1, 1, 1024, 1024)\n",
      "Variable:  mrcnn_class_conv2/bias:0\n",
      "Shape:  (1024,)\n",
      "Variable:  mrcnn_class_bn2/gamma:0\n",
      "Shape:  (1024,)\n",
      "Variable:  mrcnn_class_bn2/beta:0\n",
      "Shape:  (1024,)\n",
      "Variable:  mrcnn_class_bn2/moving_mean:0\n",
      "Shape:  (1024,)\n",
      "Variable:  mrcnn_class_bn2/moving_variance:0\n",
      "Shape:  (1024,)\n",
      "Variable:  mrcnn_class_logits/kernel:0\n",
      "Shape:  (1024, 4)\n",
      "Variable:  mrcnn_class_logits/bias:0\n",
      "Shape:  (4,)\n",
      "Variable:  mrcnn_bbox_fc/kernel:0\n",
      "Shape:  (1024, 16)\n",
      "Variable:  mrcnn_bbox_fc/bias:0\n",
      "Shape:  (16,)\n",
      "Max and Min Proposals,  1.0 0.0\n",
      "Num NaN present in Proposals  0\n",
      "(RPN) rpn_pred_logits:  (1, 4092, 2)\n",
      "(RPN) rpn_pred_probs:  (1, 4092, 2)\n",
      "(RPN) rpn_pred_bbox:  (1, 4092, 4)\n",
      "(PROPOSAL) proposals  (1, 2000, 4)\n",
      "(MRCNN) mrcnn_target_class_ids (1, 32)\n",
      "(MRCNN) mrcnn_target_box (shape)  (1, 32, 4)\n",
      "(MRCNN) mrcnn_class_logits (1, 32, 4)\n",
      "(MRCNN) mrcnn_class_probs (shape)  (1, 32, 4)\n",
      "(MRCNN) mrcnn_bbox (shape)  (1, 32, 4, 4)\n",
      "(LOSS) rpn_loss_extra_var (shape)  (3, 4)\n",
      "(LOSS) rpn_class_loss (shape)  1.33826e+26\n",
      "(LOSS) rpn_box_loss (shape)  nan\n",
      "(LOSS) mrcnn_class_loss (shape)  8.08936e+24\n",
      "(LOSS) mrcnn_box_loss (shape)  0.0\n",
      "batch_rpn_target_class:  [[[0]\n",
      "  [0]\n",
      "  [0]\n",
      "  ..., \n",
      "  [0]\n",
      "  [0]\n",
      "  [0]]]\n",
      "[[  0 128 128   3 128 128   3   0   0 128 128   1   0   1   1   0]]\n",
      "[[ -1.10795814e+25  -1.81031993e+26   1.01403191e+26  -2.39718114e+26]\n",
      " [ -1.13450243e+26  -1.51483325e+26   1.72908342e+26  -8.07715039e+25]\n",
      " [  1.10252518e+26  -2.49892711e+26   2.45126976e+26  -4.40479010e+25]]\n"
     ]
    }
   ],
   "source": [
    "from MaskRCNN.training import Train as Train\n",
    "from MaskRCNN.training_debug import Train as TrainDebug\n",
    "print(data_dict['batch_image_metas'])\n",
    "pretrained_weights_path = '/Users/sam/All-Program/App-DataSet/ObjectDetection/MaskRCNN/mask_rcnn_coco.h5'\n",
    "\n",
    "obj_trn = Train(conf, batch_size=batch_size,\n",
    "                pretrained_weights_path=None)\n",
    "obj_trn.exec_sess(data_dict, image_ids)\n"
   ]
  },
  {
   "cell_type": "code",
   "execution_count": 13,
   "metadata": {},
   "outputs": [
    {
     "data": {
      "text/plain": [
       "array([[0, 0, 0, 0, 0, 0, 0, 0, 0, 0, 0, 0, 0, 0, 0, 0, 0, 0, 0, 0, 0, 0,\n",
       "        0, 0, 0, 0, 0, 0, 0, 0, 0, 0]], dtype=int32)"
      ]
     },
     "execution_count": 13,
     "metadata": {},
     "output_type": "execute_result"
    }
   ],
   "source": [
    "obj_trn.outputs_[4]    # mrcnn_target_class_ids"
   ]
  },
  {
   "cell_type": "code",
   "execution_count": 14,
   "metadata": {},
   "outputs": [
    {
     "data": {
      "text/plain": [
       "array([[  16.,   16.,   48.,   48.],\n",
       "       [   0.,   64.,   64.,  128.],\n",
       "       [  64.,   32.,  128.,   96.]])"
      ]
     },
     "execution_count": 14,
     "metadata": {},
     "output_type": "execute_result"
    }
   ],
   "source": [
    "positive_anchor_bbox"
   ]
  },
  {
   "cell_type": "code",
   "execution_count": 15,
   "metadata": {},
   "outputs": [
    {
     "data": {
      "text/plain": [
       "array([3895, 4054, 4075])"
      ]
     },
     "execution_count": 15,
     "metadata": {},
     "output_type": "execute_result"
    }
   ],
   "source": [
    "anchors_idx_with_pos_iou"
   ]
  },
  {
   "cell_type": "code",
   "execution_count": 16,
   "metadata": {},
   "outputs": [
    {
     "data": {
      "text/plain": [
       "array([[ -1.10795814e+25,  -1.81031993e+26,   1.01403191e+26,\n",
       "         -2.39718114e+26],\n",
       "       [ -1.13450243e+26,  -1.51483325e+26,   1.72908342e+26,\n",
       "         -8.07715039e+25],\n",
       "       [  1.10252518e+26,  -2.49892711e+26,   2.45126976e+26,\n",
       "         -4.40479010e+25]], dtype=float32)"
      ]
     },
     "execution_count": 16,
     "metadata": {},
     "output_type": "execute_result"
    }
   ],
   "source": [
    "obj_trn.outputs_[2][0][anchors_idx_with_pos_iou,:]"
   ]
  },
  {
   "cell_type": "markdown",
   "metadata": {},
   "source": [
    "## Debug Detection Target creation layer:"
   ]
  },
  {
   "cell_type": "code",
   "execution_count": 13,
   "metadata": {
    "collapsed": true
   },
   "outputs": [],
   "source": [
    "from MaskRCNN.building_blocks import data_processor\n",
    "def get_detection_target_graph(proposals_, input_gt_class_ids, input_gt_bboxes):\n",
    "    batch_rois = []\n",
    "    batch_rois_gt_class_ids = []\n",
    "    batch_rois_gt_class_boxes = []\n",
    "    for i in range(0, obj_trn.batch_size):\n",
    "        obj_dp = data_processor.BuildDetectionTargets(\n",
    "                conf, proposals_[i], input_gt_class_ids[i], input_gt_bboxes[i],\n",
    "                DEBUG=True)\n",
    "        rois, roi_gt_class_ids, roi_gt_box_deltas = obj_dp.get_target_rois()\n",
    "        debug_opt = obj_dp.debug_outputs()\n",
    "        break\n",
    "#         batch_rois.append(rois)\n",
    "#         batch_rois_gt_class_ids.append(roi_gt_class_ids)\n",
    "#         batch_rois_gt_class_boxes.append(roi_gt_box_deltas)\n",
    "\n",
    "#         batch_rois = tf.stack(batch_rois, axis=0)\n",
    "#         batch_rois_gt_class_ids = tf.concat(batch_rois_gt_class_ids, axis=0)\n",
    "#         batch_rois_gt_class_boxes = tf.stack(batch_rois_gt_class_boxes, axis=0)\n",
    "\n",
    "    return batch_rois, batch_rois_gt_class_ids, batch_rois_gt_class_boxes, debug_opt"
   ]
  },
  {
   "cell_type": "code",
   "execution_count": 14,
   "metadata": {},
   "outputs": [],
   "source": [
    "rois, mrcnn_target_class_ids, mrcnn_target_box, debug_opt = get_detection_target_graph(\n",
    "            obj_trn.proposals,\n",
    "            obj_trn.input_gt_class_ids,\n",
    "            obj_trn.input_gt_bboxes\n",
    ")"
   ]
  },
  {
   "cell_type": "code",
   "execution_count": 25,
   "metadata": {},
   "outputs": [
    {
     "ename": "TypeError",
     "evalue": "Fetch argument 10 has invalid type <class 'int'>, must be a string or Tensor. (Can not convert a int into a Tensor or Operation.)",
     "output_type": "error",
     "traceback": [
      "\u001b[0;31m---------------------------------------------------------------------------\u001b[0m",
      "\u001b[0;31mTypeError\u001b[0m                                 Traceback (most recent call last)",
      "\u001b[0;32m~/App-Setup/anaconda/envs/anaconda35/lib/python3.5/site-packages/tensorflow/python/client/session.py\u001b[0m in \u001b[0;36m__init__\u001b[0;34m(self, fetches, contraction_fn)\u001b[0m\n\u001b[1;32m    270\u001b[0m         self._unique_fetches.append(ops.get_default_graph().as_graph_element(\n\u001b[0;32m--> 271\u001b[0;31m             fetch, allow_tensor=True, allow_operation=True))\n\u001b[0m\u001b[1;32m    272\u001b[0m       \u001b[0;32mexcept\u001b[0m \u001b[0mTypeError\u001b[0m \u001b[0;32mas\u001b[0m \u001b[0me\u001b[0m\u001b[0;34m:\u001b[0m\u001b[0;34m\u001b[0m\u001b[0m\n",
      "\u001b[0;32m~/App-Setup/anaconda/envs/anaconda35/lib/python3.5/site-packages/tensorflow/python/framework/ops.py\u001b[0m in \u001b[0;36mas_graph_element\u001b[0;34m(self, obj, allow_tensor, allow_operation)\u001b[0m\n\u001b[1;32m   3034\u001b[0m     \u001b[0;32mwith\u001b[0m \u001b[0mself\u001b[0m\u001b[0;34m.\u001b[0m\u001b[0m_lock\u001b[0m\u001b[0;34m:\u001b[0m\u001b[0;34m\u001b[0m\u001b[0m\n\u001b[0;32m-> 3035\u001b[0;31m       \u001b[0;32mreturn\u001b[0m \u001b[0mself\u001b[0m\u001b[0;34m.\u001b[0m\u001b[0m_as_graph_element_locked\u001b[0m\u001b[0;34m(\u001b[0m\u001b[0mobj\u001b[0m\u001b[0;34m,\u001b[0m \u001b[0mallow_tensor\u001b[0m\u001b[0;34m,\u001b[0m \u001b[0mallow_operation\u001b[0m\u001b[0;34m)\u001b[0m\u001b[0;34m\u001b[0m\u001b[0m\n\u001b[0m\u001b[1;32m   3036\u001b[0m \u001b[0;34m\u001b[0m\u001b[0m\n",
      "\u001b[0;32m~/App-Setup/anaconda/envs/anaconda35/lib/python3.5/site-packages/tensorflow/python/framework/ops.py\u001b[0m in \u001b[0;36m_as_graph_element_locked\u001b[0;34m(self, obj, allow_tensor, allow_operation)\u001b[0m\n\u001b[1;32m   3123\u001b[0m       raise TypeError(\"Can not convert a %s into a %s.\" % (type(obj).__name__,\n\u001b[0;32m-> 3124\u001b[0;31m                                                            types_str))\n\u001b[0m\u001b[1;32m   3125\u001b[0m \u001b[0;34m\u001b[0m\u001b[0m\n",
      "\u001b[0;31mTypeError\u001b[0m: Can not convert a int into a Tensor or Operation.",
      "\nDuring handling of the above exception, another exception occurred:\n",
      "\u001b[0;31mTypeError\u001b[0m                                 Traceback (most recent call last)",
      "\u001b[0;32m<ipython-input-25-15b0822f7654>\u001b[0m in \u001b[0;36m<module>\u001b[0;34m()\u001b[0m\n\u001b[1;32m     31\u001b[0m \u001b[0;32mwith\u001b[0m \u001b[0mtf\u001b[0m\u001b[0;34m.\u001b[0m\u001b[0mSession\u001b[0m\u001b[0;34m(\u001b[0m\u001b[0;34m)\u001b[0m \u001b[0;32mas\u001b[0m \u001b[0msess\u001b[0m\u001b[0;34m:\u001b[0m\u001b[0;34m\u001b[0m\u001b[0m\n\u001b[1;32m     32\u001b[0m     \u001b[0msess\u001b[0m\u001b[0;34m.\u001b[0m\u001b[0mrun\u001b[0m\u001b[0;34m(\u001b[0m\u001b[0mtf\u001b[0m\u001b[0;34m.\u001b[0m\u001b[0mglobal_variables_initializer\u001b[0m\u001b[0;34m(\u001b[0m\u001b[0;34m)\u001b[0m\u001b[0;34m)\u001b[0m\u001b[0;34m\u001b[0m\u001b[0m\n\u001b[0;32m---> 33\u001b[0;31m     \u001b[0moutput_\u001b[0m \u001b[0;34m=\u001b[0m \u001b[0msess\u001b[0m\u001b[0;34m.\u001b[0m\u001b[0mrun\u001b[0m\u001b[0;34m(\u001b[0m\u001b[0mdebug_outputs\u001b[0m\u001b[0;34m,\u001b[0m \u001b[0mfeed_dict\u001b[0m\u001b[0;34m=\u001b[0m\u001b[0mfeed_dict\u001b[0m\u001b[0;34m)\u001b[0m\u001b[0;34m\u001b[0m\u001b[0m\n\u001b[0m\u001b[1;32m     34\u001b[0m \u001b[0;34m\u001b[0m\u001b[0m\n",
      "\u001b[0;32m~/App-Setup/anaconda/envs/anaconda35/lib/python3.5/site-packages/tensorflow/python/client/session.py\u001b[0m in \u001b[0;36mrun\u001b[0;34m(self, fetches, feed_dict, options, run_metadata)\u001b[0m\n\u001b[1;32m    887\u001b[0m     \u001b[0;32mtry\u001b[0m\u001b[0;34m:\u001b[0m\u001b[0;34m\u001b[0m\u001b[0m\n\u001b[1;32m    888\u001b[0m       result = self._run(None, fetches, feed_dict, options_ptr,\n\u001b[0;32m--> 889\u001b[0;31m                          run_metadata_ptr)\n\u001b[0m\u001b[1;32m    890\u001b[0m       \u001b[0;32mif\u001b[0m \u001b[0mrun_metadata\u001b[0m\u001b[0;34m:\u001b[0m\u001b[0;34m\u001b[0m\u001b[0m\n\u001b[1;32m    891\u001b[0m         \u001b[0mproto_data\u001b[0m \u001b[0;34m=\u001b[0m \u001b[0mtf_session\u001b[0m\u001b[0;34m.\u001b[0m\u001b[0mTF_GetBuffer\u001b[0m\u001b[0;34m(\u001b[0m\u001b[0mrun_metadata_ptr\u001b[0m\u001b[0;34m)\u001b[0m\u001b[0;34m\u001b[0m\u001b[0m\n",
      "\u001b[0;32m~/App-Setup/anaconda/envs/anaconda35/lib/python3.5/site-packages/tensorflow/python/client/session.py\u001b[0m in \u001b[0;36m_run\u001b[0;34m(self, handle, fetches, feed_dict, options, run_metadata)\u001b[0m\n\u001b[1;32m   1103\u001b[0m     \u001b[0;31m# Create a fetch handler to take care of the structure of fetches.\u001b[0m\u001b[0;34m\u001b[0m\u001b[0;34m\u001b[0m\u001b[0m\n\u001b[1;32m   1104\u001b[0m     fetch_handler = _FetchHandler(\n\u001b[0;32m-> 1105\u001b[0;31m         self._graph, fetches, feed_dict_tensor, feed_handles=feed_handles)\n\u001b[0m\u001b[1;32m   1106\u001b[0m \u001b[0;34m\u001b[0m\u001b[0m\n\u001b[1;32m   1107\u001b[0m     \u001b[0;31m# Run request and get response.\u001b[0m\u001b[0;34m\u001b[0m\u001b[0;34m\u001b[0m\u001b[0m\n",
      "\u001b[0;32m~/App-Setup/anaconda/envs/anaconda35/lib/python3.5/site-packages/tensorflow/python/client/session.py\u001b[0m in \u001b[0;36m__init__\u001b[0;34m(self, graph, fetches, feeds, feed_handles)\u001b[0m\n\u001b[1;32m    412\u001b[0m     \"\"\"\n\u001b[1;32m    413\u001b[0m     \u001b[0;32mwith\u001b[0m \u001b[0mgraph\u001b[0m\u001b[0;34m.\u001b[0m\u001b[0mas_default\u001b[0m\u001b[0;34m(\u001b[0m\u001b[0;34m)\u001b[0m\u001b[0;34m:\u001b[0m\u001b[0;34m\u001b[0m\u001b[0m\n\u001b[0;32m--> 414\u001b[0;31m       \u001b[0mself\u001b[0m\u001b[0;34m.\u001b[0m\u001b[0m_fetch_mapper\u001b[0m \u001b[0;34m=\u001b[0m \u001b[0m_FetchMapper\u001b[0m\u001b[0;34m.\u001b[0m\u001b[0mfor_fetch\u001b[0m\u001b[0;34m(\u001b[0m\u001b[0mfetches\u001b[0m\u001b[0;34m)\u001b[0m\u001b[0;34m\u001b[0m\u001b[0m\n\u001b[0m\u001b[1;32m    415\u001b[0m     \u001b[0mself\u001b[0m\u001b[0;34m.\u001b[0m\u001b[0m_fetches\u001b[0m \u001b[0;34m=\u001b[0m \u001b[0;34m[\u001b[0m\u001b[0;34m]\u001b[0m\u001b[0;34m\u001b[0m\u001b[0m\n\u001b[1;32m    416\u001b[0m     \u001b[0mself\u001b[0m\u001b[0;34m.\u001b[0m\u001b[0m_targets\u001b[0m \u001b[0;34m=\u001b[0m \u001b[0;34m[\u001b[0m\u001b[0;34m]\u001b[0m\u001b[0;34m\u001b[0m\u001b[0m\n",
      "\u001b[0;32m~/App-Setup/anaconda/envs/anaconda35/lib/python3.5/site-packages/tensorflow/python/client/session.py\u001b[0m in \u001b[0;36mfor_fetch\u001b[0;34m(fetch)\u001b[0m\n\u001b[1;32m    232\u001b[0m     \u001b[0;32melif\u001b[0m \u001b[0misinstance\u001b[0m\u001b[0;34m(\u001b[0m\u001b[0mfetch\u001b[0m\u001b[0;34m,\u001b[0m \u001b[0;34m(\u001b[0m\u001b[0mlist\u001b[0m\u001b[0;34m,\u001b[0m \u001b[0mtuple\u001b[0m\u001b[0;34m)\u001b[0m\u001b[0;34m)\u001b[0m\u001b[0;34m:\u001b[0m\u001b[0;34m\u001b[0m\u001b[0m\n\u001b[1;32m    233\u001b[0m       \u001b[0;31m# NOTE(touts): This is also the code path for namedtuples.\u001b[0m\u001b[0;34m\u001b[0m\u001b[0;34m\u001b[0m\u001b[0m\n\u001b[0;32m--> 234\u001b[0;31m       \u001b[0;32mreturn\u001b[0m \u001b[0m_ListFetchMapper\u001b[0m\u001b[0;34m(\u001b[0m\u001b[0mfetch\u001b[0m\u001b[0;34m)\u001b[0m\u001b[0;34m\u001b[0m\u001b[0m\n\u001b[0m\u001b[1;32m    235\u001b[0m     \u001b[0;32melif\u001b[0m \u001b[0misinstance\u001b[0m\u001b[0;34m(\u001b[0m\u001b[0mfetch\u001b[0m\u001b[0;34m,\u001b[0m \u001b[0mdict\u001b[0m\u001b[0;34m)\u001b[0m\u001b[0;34m:\u001b[0m\u001b[0;34m\u001b[0m\u001b[0m\n\u001b[1;32m    236\u001b[0m       \u001b[0;32mreturn\u001b[0m \u001b[0m_DictFetchMapper\u001b[0m\u001b[0;34m(\u001b[0m\u001b[0mfetch\u001b[0m\u001b[0;34m)\u001b[0m\u001b[0;34m\u001b[0m\u001b[0m\n",
      "\u001b[0;32m~/App-Setup/anaconda/envs/anaconda35/lib/python3.5/site-packages/tensorflow/python/client/session.py\u001b[0m in \u001b[0;36m__init__\u001b[0;34m(self, fetches)\u001b[0m\n\u001b[1;32m    339\u001b[0m     \"\"\"\n\u001b[1;32m    340\u001b[0m     \u001b[0mself\u001b[0m\u001b[0;34m.\u001b[0m\u001b[0m_fetch_type\u001b[0m \u001b[0;34m=\u001b[0m \u001b[0mtype\u001b[0m\u001b[0;34m(\u001b[0m\u001b[0mfetches\u001b[0m\u001b[0;34m)\u001b[0m\u001b[0;34m\u001b[0m\u001b[0m\n\u001b[0;32m--> 341\u001b[0;31m     \u001b[0mself\u001b[0m\u001b[0;34m.\u001b[0m\u001b[0m_mappers\u001b[0m \u001b[0;34m=\u001b[0m \u001b[0;34m[\u001b[0m\u001b[0m_FetchMapper\u001b[0m\u001b[0;34m.\u001b[0m\u001b[0mfor_fetch\u001b[0m\u001b[0;34m(\u001b[0m\u001b[0mfetch\u001b[0m\u001b[0;34m)\u001b[0m \u001b[0;32mfor\u001b[0m \u001b[0mfetch\u001b[0m \u001b[0;32min\u001b[0m \u001b[0mfetches\u001b[0m\u001b[0;34m]\u001b[0m\u001b[0;34m\u001b[0m\u001b[0m\n\u001b[0m\u001b[1;32m    342\u001b[0m     \u001b[0mself\u001b[0m\u001b[0;34m.\u001b[0m\u001b[0m_unique_fetches\u001b[0m\u001b[0;34m,\u001b[0m \u001b[0mself\u001b[0m\u001b[0;34m.\u001b[0m\u001b[0m_value_indices\u001b[0m \u001b[0;34m=\u001b[0m \u001b[0m_uniquify_fetches\u001b[0m\u001b[0;34m(\u001b[0m\u001b[0mself\u001b[0m\u001b[0;34m.\u001b[0m\u001b[0m_mappers\u001b[0m\u001b[0;34m)\u001b[0m\u001b[0;34m\u001b[0m\u001b[0m\n\u001b[1;32m    343\u001b[0m \u001b[0;34m\u001b[0m\u001b[0m\n",
      "\u001b[0;32m~/App-Setup/anaconda/envs/anaconda35/lib/python3.5/site-packages/tensorflow/python/client/session.py\u001b[0m in \u001b[0;36m<listcomp>\u001b[0;34m(.0)\u001b[0m\n\u001b[1;32m    339\u001b[0m     \"\"\"\n\u001b[1;32m    340\u001b[0m     \u001b[0mself\u001b[0m\u001b[0;34m.\u001b[0m\u001b[0m_fetch_type\u001b[0m \u001b[0;34m=\u001b[0m \u001b[0mtype\u001b[0m\u001b[0;34m(\u001b[0m\u001b[0mfetches\u001b[0m\u001b[0;34m)\u001b[0m\u001b[0;34m\u001b[0m\u001b[0m\n\u001b[0;32m--> 341\u001b[0;31m     \u001b[0mself\u001b[0m\u001b[0;34m.\u001b[0m\u001b[0m_mappers\u001b[0m \u001b[0;34m=\u001b[0m \u001b[0;34m[\u001b[0m\u001b[0m_FetchMapper\u001b[0m\u001b[0;34m.\u001b[0m\u001b[0mfor_fetch\u001b[0m\u001b[0;34m(\u001b[0m\u001b[0mfetch\u001b[0m\u001b[0;34m)\u001b[0m \u001b[0;32mfor\u001b[0m \u001b[0mfetch\u001b[0m \u001b[0;32min\u001b[0m \u001b[0mfetches\u001b[0m\u001b[0;34m]\u001b[0m\u001b[0;34m\u001b[0m\u001b[0m\n\u001b[0m\u001b[1;32m    342\u001b[0m     \u001b[0mself\u001b[0m\u001b[0;34m.\u001b[0m\u001b[0m_unique_fetches\u001b[0m\u001b[0;34m,\u001b[0m \u001b[0mself\u001b[0m\u001b[0;34m.\u001b[0m\u001b[0m_value_indices\u001b[0m \u001b[0;34m=\u001b[0m \u001b[0m_uniquify_fetches\u001b[0m\u001b[0;34m(\u001b[0m\u001b[0mself\u001b[0m\u001b[0;34m.\u001b[0m\u001b[0m_mappers\u001b[0m\u001b[0;34m)\u001b[0m\u001b[0;34m\u001b[0m\u001b[0m\n\u001b[1;32m    343\u001b[0m \u001b[0;34m\u001b[0m\u001b[0m\n",
      "\u001b[0;32m~/App-Setup/anaconda/envs/anaconda35/lib/python3.5/site-packages/tensorflow/python/client/session.py\u001b[0m in \u001b[0;36mfor_fetch\u001b[0;34m(fetch)\u001b[0m\n\u001b[1;32m    240\u001b[0m         \u001b[0;32mif\u001b[0m \u001b[0misinstance\u001b[0m\u001b[0;34m(\u001b[0m\u001b[0mfetch\u001b[0m\u001b[0;34m,\u001b[0m \u001b[0mtensor_type\u001b[0m\u001b[0;34m)\u001b[0m\u001b[0;34m:\u001b[0m\u001b[0;34m\u001b[0m\u001b[0m\n\u001b[1;32m    241\u001b[0m           \u001b[0mfetches\u001b[0m\u001b[0;34m,\u001b[0m \u001b[0mcontraction_fn\u001b[0m \u001b[0;34m=\u001b[0m \u001b[0mfetch_fn\u001b[0m\u001b[0;34m(\u001b[0m\u001b[0mfetch\u001b[0m\u001b[0;34m)\u001b[0m\u001b[0;34m\u001b[0m\u001b[0m\n\u001b[0;32m--> 242\u001b[0;31m           \u001b[0;32mreturn\u001b[0m \u001b[0m_ElementFetchMapper\u001b[0m\u001b[0;34m(\u001b[0m\u001b[0mfetches\u001b[0m\u001b[0;34m,\u001b[0m \u001b[0mcontraction_fn\u001b[0m\u001b[0;34m)\u001b[0m\u001b[0;34m\u001b[0m\u001b[0m\n\u001b[0m\u001b[1;32m    243\u001b[0m     \u001b[0;31m# Did not find anything.\u001b[0m\u001b[0;34m\u001b[0m\u001b[0;34m\u001b[0m\u001b[0m\n\u001b[1;32m    244\u001b[0m     raise TypeError('Fetch argument %r has invalid type %r' %\n",
      "\u001b[0;32m~/App-Setup/anaconda/envs/anaconda35/lib/python3.5/site-packages/tensorflow/python/client/session.py\u001b[0m in \u001b[0;36m__init__\u001b[0;34m(self, fetches, contraction_fn)\u001b[0m\n\u001b[1;32m    273\u001b[0m         raise TypeError('Fetch argument %r has invalid type %r, '\n\u001b[1;32m    274\u001b[0m                         \u001b[0;34m'must be a string or Tensor. (%s)'\u001b[0m\u001b[0;34m\u001b[0m\u001b[0m\n\u001b[0;32m--> 275\u001b[0;31m                         % (fetch, type(fetch), str(e)))\n\u001b[0m\u001b[1;32m    276\u001b[0m       \u001b[0;32mexcept\u001b[0m \u001b[0mValueError\u001b[0m \u001b[0;32mas\u001b[0m \u001b[0me\u001b[0m\u001b[0;34m:\u001b[0m\u001b[0;34m\u001b[0m\u001b[0m\n\u001b[1;32m    277\u001b[0m         raise ValueError('Fetch argument %r cannot be interpreted as a '\n",
      "\u001b[0;31mTypeError\u001b[0m: Fetch argument 10 has invalid type <class 'int'>, must be a string or Tensor. (Can not convert a int into a Tensor or Operation.)"
     ]
    }
   ],
   "source": [
    "debug_outputs = [debug_opt['non_zeros'],\n",
    "                    debug_opt['gt_boxes_non_zero'],\n",
    "                    debug_opt['gt_class_ids_non_zero'],\n",
    "                    debug_opt['iou'],\n",
    "                    debug_opt['roi_iou_max'],\n",
    "                    debug_opt['pos_indices_05more'],\n",
    "                    debug_opt['neg_indices_05more'],\n",
    "                    debug_opt['num_pos_inst'],\n",
    "                    debug_opt['pos_indices'],\n",
    "                    debug_opt['pos_count'],\n",
    "                    debug_opt['neg_cnt'],\n",
    "                    debug_opt['neg_indices'],\n",
    "                    debug_opt['pos_rois'],\n",
    "                    debug_opt['neg_rois'],\n",
    "                    debug_opt['pos_iou'],\n",
    "                    debug_opt['roi_gt_box_assignment'],\n",
    "                    debug_opt['roi_gt_class_ids'],\n",
    "                    debug_opt['roi_gt_boxes'],\n",
    "                    debug_opt['roi_gt_box_deltas']\n",
    "                ]\n",
    "\n",
    "feed_dict = {obj_trn.xIN: obj_trn.batch_images,\n",
    "         obj_trn.anchors: obj_trn.anchors_,\n",
    "         obj_trn.input_gt_class_ids: obj_trn.batch_gt_class_ids,\n",
    "         obj_trn.input_gt_bboxes: obj_trn.batch_gt_bboxes,\n",
    "         obj_trn.rpn_target_class: obj_trn.batch_rpn_target_class,\n",
    "         obj_trn.rpn_target_bbox: obj_trn.batch_rpn_target_bbox\n",
    "         }\n",
    "\n",
    "import tensorflow as tf\n",
    "with tf.Session() as sess:\n",
    "    sess.run(tf.global_variables_initializer())\n",
    "    output_ = sess.run(debug_outputs, feed_dict=feed_dict)\n",
    "    "
   ]
  },
  {
   "cell_type": "code",
   "execution_count": 16,
   "metadata": {},
   "outputs": [
    {
     "data": {
      "text/plain": [
       "{'gt_boxes_non_zero': <tf.Tensor 'gt_box_non_zeros_1/Gather:0' shape=(?, 4) dtype=float32>,\n",
       " 'gt_class_ids_non_zero': <tf.Tensor 'gt_class_id_non_zeros_1/Gather:0' shape=(?,) dtype=int32>,\n",
       " 'iou': <tf.Tensor 'Reshape_21:0' shape=(?, ?) dtype=float32>,\n",
       " 'neg_cnt': <tf.Tensor 'sub_34:0' shape=() dtype=int32>,\n",
       " 'neg_indices': <tf.Tensor 'strided_slice_84:0' shape=(?,) dtype=int64>,\n",
       " 'neg_indices_05more': <tf.Tensor 'strided_slice_84:0' shape=(?,) dtype=int64>,\n",
       " 'neg_rois': <tf.Tensor 'Gather_12:0' shape=(?, ?) dtype=float32>,\n",
       " 'non_zeros': <tf.Tensor 'Cast_30:0' shape=(100,) dtype=bool>,\n",
       " 'num_pos_inst': 10,\n",
       " 'pos_count': <tf.Tensor 'strided_slice_83:0' shape=() dtype=int32>,\n",
       " 'pos_indices': <tf.Tensor 'strided_slice_82:0' shape=(?,) dtype=int64>,\n",
       " 'pos_indices_05more': <tf.Tensor 'strided_slice_82:0' shape=(?,) dtype=int64>,\n",
       " 'pos_iou': <tf.Tensor 'Gather_13:0' shape=(?, ?) dtype=float32>,\n",
       " 'pos_rois': <tf.Tensor 'Gather_11:0' shape=(?, ?) dtype=float32>,\n",
       " 'roi_gt_box_assignment': <tf.Tensor 'ArgMax_2:0' shape=(?,) dtype=int64>,\n",
       " 'roi_gt_box_deltas': <tf.Tensor 'truediv_16:0' shape=(?, 4) dtype=float32>,\n",
       " 'roi_gt_boxes': <tf.Tensor 'Gather_15:0' shape=(?, 4) dtype=float32>,\n",
       " 'roi_gt_class_ids': <tf.Tensor 'Gather_14:0' shape=(?,) dtype=int32>,\n",
       " 'roi_iou_max': <tf.Tensor 'Max_1:0' shape=(?,) dtype=float32>}"
      ]
     },
     "execution_count": 16,
     "metadata": {},
     "output_type": "execute_result"
    }
   ],
   "source": [
    "debug_opt"
   ]
  },
  {
   "cell_type": "code",
   "execution_count": null,
   "metadata": {
    "collapsed": true
   },
   "outputs": [],
   "source": []
  }
 ],
 "metadata": {
  "kernelspec": {
   "display_name": "Python 3",
   "language": "python",
   "name": "python3"
  },
  "language_info": {
   "codemirror_mode": {
    "name": "ipython",
    "version": 3
   },
   "file_extension": ".py",
   "mimetype": "text/x-python",
   "name": "python",
   "nbconvert_exporter": "python",
   "pygments_lexer": "ipython3",
   "version": "3.5.4"
  }
 },
 "nbformat": 4,
 "nbformat_minor": 2
}
