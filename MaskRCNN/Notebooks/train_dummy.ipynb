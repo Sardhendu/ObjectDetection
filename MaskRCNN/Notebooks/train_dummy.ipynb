{
 "cells": [
  {
   "cell_type": "code",
   "execution_count": 1,
   "metadata": {},
   "outputs": [],
   "source": [
    "import sys\n",
    "sys.path.append(\"/Users/sam/All-Program/App/ObjectDetection/\")\n",
    "\n",
    "import numpy as np\n",
    "from MaskRCNN.config import config "
   ]
  },
  {
   "cell_type": "markdown",
   "metadata": {},
   "source": [
    "## Generate a config "
   ]
  },
  {
   "cell_type": "code",
   "execution_count": 2,
   "metadata": {},
   "outputs": [
    {
     "name": "stdout",
     "output_type": "stream",
     "text": [
      "\n",
      "Configurations:\n",
      "BATCH_NORM_DECAY                         0.9\n",
      "BBOX_STD_DEV                             [ 0.1  0.1  0.2  0.2]\n",
      "DETECTION_MIN_THRESHOLD                  0.7\n",
      "DETECTION_NMS_THRESHOLD                  0.3\n",
      "DETECTION_POST_NMS_INSTANCES             100\n",
      "GPU_COUNT                                1\n",
      "IMAGES_PER_GPU                           8\n",
      "IMAGE_MAX_DIM                            128\n",
      "IMAGE_MIN_DIM                            128\n",
      "IMAGE_MIN_SCALE                          0\n",
      "IMAGE_RESIZE_MODE                        square\n",
      "IMAGE_SHAPE                              [128, 128, 3]\n",
      "MEAN_PIXEL                               [ 123.7  116.8  103.9]\n",
      "NAME                                     shapes\n",
      "NUM_CLASSES                              4\n",
      "POST_NMS_ROIS_INFERENCE                  1000\n",
      "POST_NMS_ROIS_TRAINING                   2000\n",
      "PRE_NMS_ROIS_INFERENCE                   6000\n",
      "RESNET_STRIDES                           [4, 8, 16, 32, 64]\n",
      "RPN_ANCHOR_RATIOS                        [0.5, 1, 2]\n",
      "RPN_ANCHOR_SCALES                        (8, 16, 32, 64, 128)\n",
      "RPN_ANCHOR_STRIDE                        1\n",
      "RPN_BBOX_STDDEV                          [ 0.1  0.1  0.2  0.2]\n",
      "RPN_NMS_THRESHOLD                        0.7\n",
      "STEPS_PER_EPOCH                          100\n",
      "TRAIN_ROIS_PER_IMAGE                     32\n",
      "VALIDATION_STEPS                         5\n",
      "\n",
      "\n"
     ]
    }
   ],
   "source": [
    "class ShapesConfig(config):\n",
    "    \"\"\"Configuration for training on the toy shapes dataset.\n",
    "    Derives from the base Config class and overrides values specific\n",
    "    to the toy shapes dataset.\n",
    "    \"\"\"\n",
    "    # Give the configuration a recognizable name\n",
    "    NAME = \"shapes\"\n",
    "\n",
    "    # Train on 1 GPU and 8 images per GPU. We can put multiple images on each\n",
    "    # GPU because the images are small. Batch size is 8 (GPUs * images/GPU).\n",
    "    GPU_COUNT = 1\n",
    "    IMAGES_PER_GPU = 8\n",
    "\n",
    "    # Number of classes (including background)\n",
    "    NUM_CLASSES = 1 + 3  # background + 3 shapes\n",
    "\n",
    "    # Use small images for faster training. Set the limits of the small side\n",
    "    # the large side, and that determines the image shape.\n",
    "    IMAGE_MIN_DIM = 128\n",
    "    IMAGE_MAX_DIM = 128\n",
    "    IMAGE_SHAPE = [128, 128, 3]\n",
    "\n",
    "    # Use smaller anchors because our image and objects are small\n",
    "    RPN_ANCHOR_SCALES = (8, 16, 32, 64, 128)  # anchor side in pixels\n",
    "\n",
    "    # Reduce training ROIs per image because the images are small and have\n",
    "    # few objects. Aim to allow ROI sampling to pick 33% positive ROIs.\n",
    "    TRAIN_ROIS_PER_IMAGE = 32\n",
    "\n",
    "    # Use a small epoch since the data is simple\n",
    "    STEPS_PER_EPOCH = 100\n",
    "\n",
    "    # use small validation steps since the epoch is small\n",
    "    VALIDATION_STEPS = 5\n",
    "    \n",
    "conf = ShapesConfig()\n",
    "conf.display()"
   ]
  },
  {
   "cell_type": "markdown",
   "metadata": {},
   "source": [
    "## Generate Random Images, Squares traingle and circle."
   ]
  },
  {
   "cell_type": "code",
   "execution_count": 15,
   "metadata": {},
   "outputs": [],
   "source": [
    "from MaskRCNN.building_blocks import utils\n",
    "import random\n",
    "\n",
    "class ShapesDataset(utils.Dataset):\n",
    "    \"\"\"Generates the shapes synthetic dataset. The dataset consists of simple\n",
    "    shapes (triangles, squares, circles) placed randomly on a blank surface.\n",
    "    The images are generated on the fly. No file access required.\n",
    "    \"\"\"\n",
    "\n",
    "    def load_shapes(self, count, height, width):\n",
    "        \"\"\"Generate the requested number of synthetic images.\n",
    "        count: number of images to generate.\n",
    "        height, width: the size of the generated images.\n",
    "        \"\"\"\n",
    "        print('load_shapes ................')\n",
    "        # Add classes\n",
    "        self.add_class(\"shapes\", 1, \"square\")\n",
    "        self.add_class(\"shapes\", 2, \"circle\")\n",
    "        self.add_class(\"shapes\", 3, \"triangle\")\n",
    "\n",
    "        # Add images\n",
    "        # Generate random specifications of images (i.e. color and\n",
    "        # list of shapes sizes and locations). This is more compact than\n",
    "        # actual images. Images are generated on the fly in load_image().\n",
    "        for i in range(count):\n",
    "            bg_color, shapes = self.random_image(height, width)\n",
    "            self.add_image(\"shapes\", image_id=i, path=None,\n",
    "                           width=width, height=height,\n",
    "                           bg_color=bg_color, shapes=shapes)\n",
    "\n",
    "    def load_image(self, image_id):\n",
    "        \"\"\"Generate an image from the specs of the given image ID.\n",
    "        Typically this function loads the image from a file, but\n",
    "        in this case it generates the image on the fly from the\n",
    "        specs in image_info.\n",
    "        \"\"\"\n",
    "        print('load_image ................')\n",
    "        info = self.image_info[image_id]\n",
    "        bg_color = np.array(info['bg_color']).reshape([1, 1, 3])\n",
    "        image = np.ones([info['height'], info['width'], 3], dtype=np.uint8)\n",
    "        image = image * bg_color.astype(np.uint8)\n",
    "        for shape, color, dims in info['shapes']:\n",
    "            image = self.draw_shape(image, shape, dims, color)\n",
    "        return image\n",
    "\n",
    "    def image_reference(self, image_id):\n",
    "        \"\"\"Return the shapes data of the image.\"\"\"\n",
    "        print('image_reference ................')\n",
    "        info = self.image_info[image_id]\n",
    "        if info[\"source\"] == \"shapes\":\n",
    "            return info[\"shapes\"]\n",
    "        else:\n",
    "            super(self.__class__).image_reference(self, image_id)\n",
    "\n",
    "    def load_mask(self, image_id):\n",
    "        \"\"\"Generate instance masks for shapes of the given image ID.\n",
    "        \"\"\"\n",
    "        print('load_mask ................')\n",
    "        info = self.image_info[image_id]\n",
    "        print ('info.... ', info)\n",
    "        shapes = info['shapes']\n",
    "        count = len(shapes)\n",
    "        mask = np.zeros([info['height'], info['width'], count], dtype=np.uint8)\n",
    "        for i, (shape, _, dims) in enumerate(info['shapes']):\n",
    "            mask[:, :, i:i+1] = self.draw_shape(mask[:, :, i:i+1].copy(),\n",
    "                                                shape, dims, 1)\n",
    "        # Handle occlusions\n",
    "        occlusion = np.logical_not(mask[:, :, -1]).astype(np.uint8)\n",
    "        for i in range(count-2, -1, -1):\n",
    "            mask[:, :, i] = mask[:, :, i] * occlusion\n",
    "            occlusion = np.logical_and(occlusion, np.logical_not(mask[:, :, i]))\n",
    "        # Map class names to class IDs.\n",
    "        class_ids = np.array([self.class_names.index(s[0]) for s in shapes])\n",
    "        return mask.astype(np.bool), class_ids.astype(np.int32)\n",
    "\n",
    "    def draw_shape(self, image, shape, dims, color):\n",
    "        \"\"\"Draws a shape from the given specs.\"\"\"\n",
    "        print('draw_shape ................')\n",
    "        # Get the center x, y and the size s\n",
    "        x, y, s = dims\n",
    "        if shape == 'square':\n",
    "            cv2.rectangle(image, (x-s, y-s), (x+s, y+s), color, -1)\n",
    "        elif shape == \"circle\":\n",
    "            cv2.circle(image, (x, y), s, color, -1)\n",
    "        elif shape == \"triangle\":\n",
    "            points = np.array([[(x, y-s),\n",
    "                                (x-s/math.sin(math.radians(60)), y+s),\n",
    "                                (x+s/math.sin(math.radians(60)), y+s),\n",
    "                                ]], dtype=np.int32)\n",
    "            cv2.fillPoly(image, points, color)\n",
    "        return image\n",
    "\n",
    "    def random_shape(self, height, width):\n",
    "        \"\"\"Generates specifications of a random shape that lies within\n",
    "        the given height and width boundaries.\n",
    "        Returns a tuple of three valus:\n",
    "        * The shape name (square, circle, ...)\n",
    "        * Shape color: a tuple of 3 values, RGB.\n",
    "        * Shape dimensions: A tuple of values that define the shape size\n",
    "                            and location. Differs per shape type.\n",
    "        \"\"\"\n",
    "#         print('random_shape ................')\n",
    "        # Shape\n",
    "        shape = random.choice([\"square\", \"circle\", \"triangle\"])\n",
    "        # Color\n",
    "        color = tuple([random.randint(0, 255) for _ in range(3)])\n",
    "        # Center x, y\n",
    "        buffer = 20\n",
    "        y = random.randint(buffer, height - buffer - 1)\n",
    "        x = random.randint(buffer, width - buffer - 1)\n",
    "        # Size\n",
    "        s = random.randint(buffer, height//4)\n",
    "        return shape, color, (x, y, s)\n",
    "\n",
    "    def random_image(self, height, width):\n",
    "        \"\"\"Creates random specifications of an image with multiple shapes.\n",
    "        Returns the background color of the image and a list of shape\n",
    "        specifications that can be used to draw the image.\n",
    "        \"\"\"\n",
    "#         print('random_image ................')\n",
    "        # Pick random background color\n",
    "        bg_color = np.array([random.randint(0, 255) for _ in range(3)])\n",
    "        # Generate a few random shapes and record their\n",
    "        # bounding boxes\n",
    "        shapes = []\n",
    "        boxes = []\n",
    "        N = random.randint(1, 4)\n",
    "        for _ in range(N):\n",
    "            shape, color, dims = self.random_shape(height, width)\n",
    "            shapes.append((shape, color, dims))\n",
    "            x, y, s = dims\n",
    "            boxes.append([y-s, x-s, y+s, x+s])\n",
    "        # Apply non-max suppression wit 0.3 threshold to avoid\n",
    "        # shapes covering each other\n",
    "        keep_ixs = utils.non_max_suppression(np.array(boxes), np.arange(N), 0.3)\n",
    "        shapes = [s for i, s in enumerate(shapes) if i in keep_ixs]\n",
    "        return bg_color, shapes"
   ]
  },
  {
   "cell_type": "code",
   "execution_count": 16,
   "metadata": {},
   "outputs": [
    {
     "data": {
      "text/plain": [
       "1024"
      ]
     },
     "execution_count": 16,
     "metadata": {},
     "output_type": "execute_result"
    }
   ],
   "source": [
    "config.IMAGE_SHAPE[0]"
   ]
  },
  {
   "cell_type": "code",
   "execution_count": 17,
   "metadata": {},
   "outputs": [
    {
     "name": "stdout",
     "output_type": "stream",
     "text": [
      "load_shapes ................\n",
      "prepare ...........\n"
     ]
    }
   ],
   "source": [
    "dataset_train = ShapesDataset()\n",
    "dataset_train.load_shapes(500, conf.IMAGE_SHAPE[0], conf.IMAGE_SHAPE[1])\n",
    "dataset_train.prepare()"
   ]
  },
  {
   "cell_type": "code",
   "execution_count": 18,
   "metadata": {},
   "outputs": [
    {
     "name": "stdout",
     "output_type": "stream",
     "text": [
      "load_shapes ................\n",
      "prepare ...........\n"
     ]
    }
   ],
   "source": [
    "dataset_val = ShapesDataset()\n",
    "dataset_val.load_shapes(50, conf.IMAGE_SHAPE[0], conf.IMAGE_SHAPE[1])\n",
    "dataset_val.prepare()"
   ]
  },
  {
   "cell_type": "code",
   "execution_count": 19,
   "metadata": {},
   "outputs": [
    {
     "data": {
      "text/plain": [
       "array([360,  43, 435,  52])"
      ]
     },
     "execution_count": 19,
     "metadata": {},
     "output_type": "execute_result"
    }
   ],
   "source": [
    "image_ids = np.random.choice(dataset_train.image_ids, 4)\n",
    "image_ids"
   ]
  },
  {
   "cell_type": "code",
   "execution_count": 20,
   "metadata": {},
   "outputs": [
    {
     "name": "stdout",
     "output_type": "stream",
     "text": [
      "load_image ................\n",
      "draw_shape ................\n",
      "draw_shape ................\n"
     ]
    },
    {
     "data": {
      "text/plain": [
       "(128, 128, 3)"
      ]
     },
     "execution_count": 20,
     "metadata": {},
     "output_type": "execute_result"
    }
   ],
   "source": [
    "import math\n",
    "import cv2\n",
    "dataset_train.load_image(image_ids[0]).shape"
   ]
  },
  {
   "cell_type": "code",
   "execution_count": 23,
   "metadata": {},
   "outputs": [
    {
     "name": "stdout",
     "output_type": "stream",
     "text": [
      "load_mask ................\n",
      "info....  {'path': None, 'shapes': [('triangle', (33, 189, 69), (39, 86, 32)), ('triangle', (144, 135, 234), (42, 22, 31))], 'height': 128, 'id': 360, 'width': 128, 'source': 'shapes', 'bg_color': array([212,   2,  46])}\n",
      "draw_shape ................\n",
      "draw_shape ................\n",
      "(128, 128, 2)\n",
      "load_mask ................\n",
      "info....  {'path': None, 'shapes': [('triangle', (33, 189, 69), (39, 86, 32)), ('triangle', (144, 135, 234), (42, 22, 31))], 'height': 128, 'id': 360, 'width': 128, 'source': 'shapes', 'bg_color': array([212,   2,  46])}\n",
      "draw_shape ................\n",
      "draw_shape ................\n",
      "(2,)\n"
     ]
    }
   ],
   "source": [
    "print(dataset_train.load_mask(image_ids[0])[0].shape)\n",
    "print(dataset_train.load_mask(image_ids[0])[1].shape)\n",
    "#[0].shape"
   ]
  },
  {
   "cell_type": "code",
   "execution_count": 9,
   "metadata": {},
   "outputs": [
    {
     "name": "stdout",
     "output_type": "stream",
     "text": [
      "load_mask ................\n",
      "draw_shape ................\n"
     ]
    },
    {
     "data": {
      "text/plain": [
       "array([2], dtype=int32)"
      ]
     },
     "execution_count": 9,
     "metadata": {},
     "output_type": "execute_result"
    }
   ],
   "source": [
    "dataset_train.load_mask(image_ids[0])[1]"
   ]
  },
  {
   "cell_type": "code",
   "execution_count": 14,
   "metadata": {},
   "outputs": [
    {
     "name": "stdout",
     "output_type": "stream",
     "text": [
      "load_image ................\n",
      "draw_shape ................\n",
      "load_mask ................\n",
      "draw_shape ................\n",
      "(128, 128, 1)\n"
     ]
    },
    {
     "data": {
      "image/png": "[encoded data removed]",
      "text/plain": [
       "<matplotlib.figure.Figure at 0x11e442898>"
      ]
     },
     "metadata": {},
     "output_type": "display_data"
    }
   ],
   "source": [
    "import math\n",
    "import cv2\n",
    "from MaskRCNN import visualize\n",
    "for image_id in image_ids:\n",
    "    image = dataset_train.load_image(image_id)\n",
    "    mask, class_ids = dataset_train.load_mask(image_id)\n",
    "    print(mask.shape)\n",
    "    visualize.display_top_masks(image, mask, class_ids, dataset_train.class_names)\n",
    "    break"
   ]
  },
  {
   "cell_type": "code",
   "execution_count": null,
   "metadata": {
    "collapsed": true
   },
   "outputs": [],
   "source": []
  },
  {
   "cell_type": "code",
   "execution_count": null,
   "metadata": {
    "collapsed": true
   },
   "outputs": [],
   "source": []
  },
  {
   "cell_type": "code",
   "execution_count": null,
   "metadata": {
    "collapsed": true
   },
   "outputs": [],
   "source": []
  },
  {
   "cell_type": "code",
   "execution_count": null,
   "metadata": {
    "collapsed": true
   },
   "outputs": [],
   "source": []
  },
  {
   "cell_type": "code",
   "execution_count": null,
   "metadata": {
    "collapsed": true
   },
   "outputs": [],
   "source": []
  },
  {
   "cell_type": "code",
   "execution_count": 3,
   "metadata": {},
   "outputs": [],
   "source": [
    "\n",
    "import random\n",
    "import cv2\n",
    "import math\n",
    "import numpy as np\n",
    "from MaskRCNN.building_blocks import utils\n",
    "\n",
    "\n",
    "class Dataset():\n",
    "    def __init__(self, num_images, height, width, num_classes):\n",
    "        self.image_meta = {}\n",
    "        self.num_classes = num_classes\n",
    "        \n",
    "        for i in range(0, num_images):\n",
    "            self.image_meta[i] = self.build_images_meta(height, width)\n",
    "    \n",
    "    def draw_bg_image(self, height, width, bg_color):\n",
    "        bg_ = np.array(bg_color).reshape([1, 1, 3])\n",
    "        bg_image = np.ones([height, width, 3]) * np.array(bg_, dtype=np.uint8)\n",
    "        return bg_image\n",
    "    \n",
    "    def draw_object_shape(self, image, object_info):\n",
    "        ''' WHY THE WEIRDNESS IN FORMULA\n",
    "\n",
    "        :param bg_image:\n",
    "        :param object_info:\n",
    "        :return:\n",
    "\n",
    "        Important Note: When you look at the formulas, it might seem weird or rather oposite to what we are\n",
    "        accustomed to use with numpy. This is because, we use OpenCV.\n",
    "\n",
    "        Numpy          0,10 ____________ 10,10\n",
    "                            |          |\n",
    "                            |          |\n",
    "                            |          |\n",
    "                       0,0  |__________| 10,0\n",
    "\n",
    "        OpenCV         0,0  ____________ 10,0\n",
    "                            |          |\n",
    "                            |          |\n",
    "                            |          |\n",
    "                       0,10 |__________| 10,10\n",
    "\n",
    "        '''\n",
    "        object_, (color), (c_y, c_x, size) = object_info\n",
    "        if object_ == 'square':\n",
    "            cv2.rectangle(image, (c_x - size, c_y - size), (c_x + size, c_y + size), color, -1)\n",
    "        elif object_ == 'circle':\n",
    "            cv2.circle(img=image, center=(c_x, c_y), radius=size, color=color, thickness=-1)\n",
    "        elif object_ == 'triangle':\n",
    "            points = np.array([[(c_x, c_y - size),  # Top point\n",
    "                                (c_x - size / math.sin(math.radians(60)), c_y + size),  # Bottom left\n",
    "                                (c_x + size / math.sin(math.radians(60)), c_y + size),  # Bottom right\n",
    "                                ]], dtype=np.int32)\n",
    "            \n",
    "            cv2.fillPoly(image, points, color)\n",
    "        return image\n",
    "    \n",
    "    def gen_random_shapes(self, height, width):\n",
    "        # select a random object (class)\n",
    "        object_ = np.random.choice(['square', 'triangle', 'circle'])\n",
    "        \n",
    "        # Get random color for 3 channels\n",
    "        color = tuple([random.randint(0, 255) for _ in range(3)])\n",
    "        \n",
    "        # Leave a buffer space (pad) of 20 pixels for the object_ to accomodate in the\n",
    "        # background and collect a random center points (c_x, cy)\n",
    "        buffer_space = 20\n",
    "        c_y = np.random.randint(buffer_space, height - buffer_space - 1)\n",
    "        c_x = np.random.randint(buffer_space, width - buffer_space - 1)\n",
    "        \n",
    "        # Get a Random size of the bounding box in which the object_ (tringle, square, cicle) is embedded\n",
    "        size = np.random.randint(buffer_space, height // 4)\n",
    "        # to account for both side towards the left form center to the right\n",
    "        return object_, color, (c_y, c_x, size)\n",
    "    \n",
    "    def gen_random_image(self, height, width):\n",
    "        # Pick a random 3 channel for the background color\n",
    "        bg_color = np.array([random.randint(0, 255) for _ in range(3)])\n",
    "        \n",
    "        # Pick randomly how many object_ to put in the background image frame\n",
    "        num_objects = np.random.randint(1, self.num_classes)\n",
    "        \n",
    "        object_info = []\n",
    "        bounding_boxes = []\n",
    "        for _ in range(0, num_objects):\n",
    "            object_, color, (c_y, c_x, size) = self.gen_random_shapes(height, width)\n",
    "            object_info.append((object_, (color), (c_y, c_x, size)))\n",
    "            bounding_boxes.append(\n",
    "                    [c_y - size, c_x - size, c_y + size, c_x + size]\n",
    "            )  # lower left and upper right coordinates\n",
    "        bounding_boxes = np.array(bounding_boxes)\n",
    "        # print(bounding_boxes)\n",
    "        # Sometimes if we select two or more objects to be dispayed in the image we can have those images\n",
    "        # to overlap completely. In such a case we should ensure that the non-max supression between the\n",
    "        # objects are atleast 0.3 so that we dont mess out training labels.\n",
    "        keep_idx = utils.non_max_supression(bounding_boxes, np.arange(num_objects), threshold=0.3)\n",
    "        # print('object_info pre NMS ', object_info)\n",
    "        object_info = [s for i, s in enumerate(object_info) if i in keep_idx]\n",
    "        # print('keep_idx ', keep_idx)\n",
    "        # print('objects post NMS ', object_info)\n",
    "        return bg_color, object_info\n",
    "    \n",
    "    def build_images_meta(self, height, width):\n",
    "        image_info = {}\n",
    "        image_info['height'] = height\n",
    "        image_info['width'] = width\n",
    "        bg_color, object_info = self.gen_random_image(height, width)\n",
    "        image_info['object_info'] = object_info\n",
    "        image_info['bg_color'] = bg_color\n",
    "        return image_info\n",
    "    \n",
    "    def get_images(self, image_id):\n",
    "        image_info = self.image_meta[image_id]\n",
    "        objects_info = image_info['object_info']\n",
    "        bg_color = image_info['bg_color']\n",
    "        height = image_info['height']\n",
    "        width = image_info['width']\n",
    "        image = self.draw_bg_image(height, width, bg_color)\n",
    "        print(objects_info)\n",
    "        num_objects = len(objects_info)\n",
    "        \n",
    "        for i in np.arange(num_objects):\n",
    "            image = self.draw_object_shape(image, objects_info[i])\n",
    "        return image\n",
    "\n",
    "\n",
    "data = Dataset(num_images=2, height=128, width=128, num_classes=4)\n",
    "# print (data.image_meta)\n",
    "# data.get_images(image_id=0)\n",
    "# data.build_image_meta(height=128, width=128)\n"
   ]
  },
  {
   "cell_type": "code",
   "execution_count": 4,
   "metadata": {},
   "outputs": [
    {
     "data": {
      "text/plain": [
       "{0: {'bg_color': array([246,  52,  89]),\n",
       "  'height': 128,\n",
       "  'object_info': [('square', (230, 61, 141), (81, 34, 25)),\n",
       "   ('square', (123, 197, 255), (94, 76, 29))],\n",
       "  'width': 128},\n",
       " 1: {'bg_color': array([ 40, 203, 225]),\n",
       "  'height': 128,\n",
       "  'object_info': [('triangle', (151, 213, 102), (48, 67, 26)),\n",
       "   ('triangle', (56, 116, 53), (91, 85, 28))],\n",
       "  'width': 128}}"
      ]
     },
     "execution_count": 4,
     "metadata": {},
     "output_type": "execute_result"
    }
   ],
   "source": [
    "data.image_meta"
   ]
  },
  {
   "cell_type": "code",
   "execution_count": 6,
   "metadata": {},
   "outputs": [
    {
     "name": "stdout",
     "output_type": "stream",
     "text": [
      "[('square', (230, 61, 141), (81, 34, 25)), ('square', (123, 197, 255), (94, 76, 29))]\n",
      "[('triangle', (151, 213, 102), (48, 67, 26)), ('triangle', (56, 116, 53), (91, 85, 28))]\n"
     ]
    },
    {
     "data": {
      "image/png": "[encoded data removed]",
      "text/plain": [
       "<matplotlib.figure.Figure at 0x11286e5f8>"
      ]
     },
     "metadata": {},
     "output_type": "display_data"
    },
    {
     "data": {
      "image/png": "[encoded data removed]",
      "text/plain": [
       "<matplotlib.figure.Figure at 0x1c21931978>"
      ]
     },
     "metadata": {},
     "output_type": "display_data"
    }
   ],
   "source": [
    "from MaskRCNN.visualize import Visualize\n",
    "obj_viz = Visualize(rows=1, cols=2, figsize=(10,5))\n",
    "obj_viz.vizualize_image(data.get_images(image_id=0))\n",
    "obj_viz.vizualize_image(data.get_images(image_id=1))\n",
    "obj_viz.show()"
   ]
  },
  {
   "cell_type": "markdown",
   "metadata": {},
   "source": [
    "## TO DOS:\n",
    "\n",
    "-- We have background color and class ids that have been selected to be in the image\n",
    "-- We need to\n",
    "    * generate masks for image\n",
    "    * resize image  # Already wrote the function for this\n",
    "    * resize masks, # Since we resize the image, we need to resize the mask\n",
    "    * Do image augmentation (Horizontal flip), remember to flip the masks too. (Keep it simple: Dont do it for now)\n",
    "    * make a data generation function, that can do stuff on the fly"
   ]
  },
  {
   "cell_type": "code",
   "execution_count": null,
   "metadata": {
    "collapsed": true
   },
   "outputs": [],
   "source": []
  },
  {
   "cell_type": "code",
   "execution_count": null,
   "metadata": {
    "collapsed": true
   },
   "outputs": [],
   "source": []
  }
 ],
 "metadata": {
  "kernelspec": {
   "display_name": "Python 3",
   "language": "python",
   "name": "python3"
  },
  "language_info": {
   "codemirror_mode": {
    "name": "ipython",
    "version": 3
   },
   "file_extension": ".py",
   "mimetype": "text/x-python",
   "name": "python",
   "nbconvert_exporter": "python",
   "pygments_lexer": "ipython3",
   "version": "3.5.4"
  }
 },
 "nbformat": 4,
 "nbformat_minor": 2
}
