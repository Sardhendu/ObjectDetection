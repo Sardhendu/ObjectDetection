{
 "cells": [
  {
   "cell_type": "code",
   "execution_count": 1,
   "metadata": {
    "collapsed": true
   },
   "outputs": [],
   "source": [
    "import sys\n",
    "sys.path.append(\"/Users/sam/All-Program/App/ObjectDetection/\")\n",
    "\n",
    "import numpy as np\n",
    "from MaskRCNN.config import config "
   ]
  },
  {
   "cell_type": "markdown",
   "metadata": {},
   "source": [
    "## Generate a config "
   ]
  },
  {
   "cell_type": "code",
   "execution_count": 2,
   "metadata": {},
   "outputs": [
    {
     "name": "stdout",
     "output_type": "stream",
     "text": [
      "\n",
      "Configurations:\n",
      "BATCH_NORM_DECAY                         0.9\n",
      "BBOX_STD_DEV                             [ 0.1  0.1  0.2  0.2]\n",
      "DETECTION_MIN_THRESHOLD                  0.7\n",
      "DETECTION_NMS_THRESHOLD                  0.3\n",
      "DETECTION_POST_NMS_INSTANCES             100\n",
      "GPU_COUNT                                1\n",
      "IMAGES_PER_GPU                           8\n",
      "IMAGE_MAX_DIM                            128\n",
      "IMAGE_MIN_DIM                            128\n",
      "IMAGE_MIN_SCALE                          0\n",
      "IMAGE_RESIZE_MODE                        square\n",
      "IMAGE_SHAPE                              [128, 128, 3]\n",
      "MEAN_PIXEL                               [ 123.7  116.8  103.9]\n",
      "NAME                                     shapes\n",
      "NUM_CLASSES                              4\n",
      "POST_NMS_ROIS_INFERENCE                  1000\n",
      "POST_NMS_ROIS_TRAINING                   2000\n",
      "PRE_NMS_ROIS_INFERENCE                   6000\n",
      "RESNET_STRIDES                           [4, 8, 16, 32, 64]\n",
      "RPN_ANCHOR_RATIOS                        [0.5, 1, 2]\n",
      "RPN_ANCHOR_SCALES                        (8, 16, 32, 64, 128)\n",
      "RPN_ANCHOR_STRIDE                        1\n",
      "RPN_BBOX_STDDEV                          [ 0.1  0.1  0.2  0.2]\n",
      "RPN_NMS_THRESHOLD                        0.7\n",
      "STEPS_PER_EPOCH                          100\n",
      "TRAIN_ROIS_PER_IMAGE                     32\n",
      "VALIDATION_STEPS                         5\n",
      "\n",
      "\n"
     ]
    }
   ],
   "source": [
    "class ShapesConfig(config):\n",
    "    \"\"\"Configuration for training on the toy shapes dataset.\n",
    "    Derives from the base Config class and overrides values specific\n",
    "    to the toy shapes dataset.\n",
    "    \"\"\"\n",
    "    # Give the configuration a recognizable name\n",
    "    NAME = \"shapes\"\n",
    "\n",
    "    # Train on 1 GPU and 8 images per GPU. We can put multiple images on each\n",
    "    # GPU because the images are small. Batch size is 8 (GPUs * images/GPU).\n",
    "    GPU_COUNT = 1\n",
    "    IMAGES_PER_GPU = 8\n",
    "\n",
    "    # Number of classes (including background)\n",
    "    NUM_CLASSES = 1 + 3  # background + 3 shapes\n",
    "\n",
    "    # Use small images for faster training. Set the limits of the small side\n",
    "    # the large side, and that determines the image shape.\n",
    "    IMAGE_MIN_DIM = 128\n",
    "    IMAGE_MAX_DIM = 128\n",
    "    IMAGE_SHAPE = [128, 128, 3]\n",
    "\n",
    "    # Use smaller anchors because our image and objects are small\n",
    "    RPN_ANCHOR_SCALES = (8, 16, 32, 64, 128)  # anchor side in pixels\n",
    "\n",
    "    # Reduce training ROIs per image because the images are small and have\n",
    "    # few objects. Aim to allow ROI sampling to pick 33% positive ROIs.\n",
    "    TRAIN_ROIS_PER_IMAGE = 32\n",
    "\n",
    "    # Use a small epoch since the data is simple\n",
    "    STEPS_PER_EPOCH = 100\n",
    "\n",
    "    # use small validation steps since the epoch is small\n",
    "    VALIDATION_STEPS = 5\n",
    "    \n",
    "conf = ShapesConfig()\n",
    "conf.display()"
   ]
  },
  {
   "cell_type": "markdown",
   "metadata": {},
   "source": [
    "## Generate Random Images, Squares traingle and circle."
   ]
  },
  {
   "cell_type": "code",
   "execution_count": 3,
   "metadata": {
    "collapsed": true
   },
   "outputs": [],
   "source": [
    "import random\n",
    "import cv2\n",
    "import math\n",
    "import numpy as np\n",
    "from MaskRCNN.building_blocks import utils\n",
    "\n",
    "\n",
    "class Dataset():\n",
    "    def __init__(self, num_images, height, width, num_classes):\n",
    "        self.image_meta = {}\n",
    "        self.num_classes = num_classes\n",
    "        self.class_names = dict(square=0, triangle=1, circle=2)\n",
    "        \n",
    "        for i in range(0, num_images):\n",
    "            self.image_meta[i] = self.build_images_meta(height, width)\n",
    "    \n",
    "    def draw_bg_image(self, height, width, bg_color):\n",
    "        bg_ = np.array(bg_color).reshape([1, 1, 3])\n",
    "        bg_image = np.ones([height, width, 3]) * np.array(bg_, dtype=np.uint8)\n",
    "        return bg_image\n",
    "    \n",
    "    def draw_object_shape(self, image, object_, color, dims):\n",
    "        ''' WHY THE WEIRDNESS IN FORMULA\n",
    "\n",
    "        :param bg_image:\n",
    "        :param object_info:\n",
    "        :return:\n",
    "\n",
    "        Important Note: When you look at the formulas, it might seem weird or rather oposite to what we are\n",
    "        accustomed to use with numpy. This is because, we use OpenCV.\n",
    "\n",
    "        Numpy          0,10 ____________ 10,10\n",
    "                            |          |\n",
    "                            |          |\n",
    "                            |          |\n",
    "                       0,0  |__________| 10,0\n",
    "\n",
    "        OpenCV         0,0  ____________ 10,0\n",
    "                            |          |\n",
    "                            |          |\n",
    "                            |          |\n",
    "                       0,10 |__________| 10,10\n",
    "\n",
    "        '''\n",
    "        c_y, c_x, size = dims\n",
    "        if object_ == 'square':\n",
    "            cv2.rectangle(image, (c_x - size, c_y - size), (c_x + size, c_y + size), color, -1)\n",
    "        elif object_ == 'circle':\n",
    "            cv2.circle(img=image, center=(c_x, c_y), radius=size, color=color, thickness=-1)\n",
    "        elif object_ == 'triangle':\n",
    "            points = np.array([[(c_x, c_y - size),  # Top point\n",
    "                                (c_x - size / math.sin(math.radians(60)), c_y + size),  # Bottom left\n",
    "                                (c_x + size / math.sin(math.radians(60)), c_y + size),  # Bottom right\n",
    "                                ]], dtype=np.int32)\n",
    "            \n",
    "            cv2.fillPoly(image, points, color)\n",
    "        return image\n",
    "    \n",
    "    def gen_random_shapes(self, height, width):\n",
    "        # select a random object (class)\n",
    "        object_ = np.random.choice(['square', 'triangle', 'circle'])\n",
    "        \n",
    "        # Get random color for 3 channels\n",
    "        color = tuple([random.randint(0, 255) for _ in range(3)])\n",
    "        \n",
    "        # Leave a buffer space (pad) of 20 pixels for the object_ to accomodate in the\n",
    "        # background and collect a random center points (c_x, cy)\n",
    "        buffer_space = 20\n",
    "        c_y = np.random.randint(buffer_space, height - buffer_space - 1)\n",
    "        c_x = np.random.randint(buffer_space, width - buffer_space - 1)\n",
    "        \n",
    "        # Get a Random size of the bounding box in which the object_ (tringle, square, cicle) is embedded\n",
    "        size = np.random.randint(buffer_space, height // 4)\n",
    "        # to account for both side towards the left form center to the right\n",
    "        return object_, color, (c_y, c_x, size)\n",
    "    \n",
    "    def gen_random_image(self, height, width):\n",
    "        # Pick a random 3 channel for the background color\n",
    "        bg_color = np.array([random.randint(0, 255) for _ in range(3)])\n",
    "        \n",
    "        # Pick randomly how many object_ to put in the background image frame\n",
    "        num_objects = np.random.randint(1, self.num_classes)\n",
    "        \n",
    "        object_info = []\n",
    "        bounding_boxes = []\n",
    "        for _ in range(0, num_objects):\n",
    "            object_, color, (c_y, c_x, size) = self.gen_random_shapes(height, width)\n",
    "            object_info.append((object_, (color), (c_y, c_x, size)))\n",
    "            bounding_boxes.append(\n",
    "                    [c_y - size, c_x - size, c_y + size, c_x + size]\n",
    "            )  # lower left and upper right coordinates\n",
    "        bounding_boxes = np.array(bounding_boxes)\n",
    "        # print(bounding_boxes)\n",
    "        # Sometimes if we select two or more objects to be dispayed in the image we can have those images\n",
    "        # to overlap completely. In such a case we should ensure that the non-max supression between the\n",
    "        # objects are atleast 0.3 so that we dont mess out training labels.\n",
    "        keep_idx = utils.non_max_supression(bounding_boxes, np.arange(num_objects), threshold=0.3)\n",
    "        # print('object_info pre NMS ', object_info)\n",
    "        object_info = [s for i, s in enumerate(object_info) if i in keep_idx]\n",
    "        # print('keep_idx ', keep_idx)\n",
    "        # print('objects post NMS ', object_info)\n",
    "        return bg_color, object_info\n",
    "    \n",
    "    def build_images_meta(self, height, width):\n",
    "        image_info = {}\n",
    "        image_info['height'] = height\n",
    "        image_info['width'] = width\n",
    "        bg_color, object_info = self.gen_random_image(height, width)\n",
    "        image_info['object_info'] = object_info\n",
    "        image_info['bg_color'] = bg_color\n",
    "        return image_info\n",
    "    \n",
    "    def get_object_mask(self, image_id):\n",
    "        \"\"\"Generate instance masks for shapes of the given image ID. \n",
    "\n",
    "        Its the same shape as that of the image, however only the object part is colored white\n",
    "        output_shape = [height, width, num_objects], where \n",
    "\n",
    "        \"\"\"\n",
    "        image_info = self.image_meta[image_id]\n",
    "        object_info = image_info['object_info']\n",
    "        object_cnt = len(object_info)\n",
    "        mask = np.zeros([image_info['height'], image_info['width'], object_cnt], dtype=np.uint8)\n",
    "        for i, (object_, _, dims) in enumerate(object_info):\n",
    "            mask[:, :, i:i + 1] = self.draw_object_shape(mask[:, :, i:i + 1].copy(), object_, 1, dims)\n",
    "        \n",
    "        # Handle occlusions, when two objects intersect, we should ensure that the intersection mask is\n",
    "        # given to only only object.\n",
    "        occlusion = np.logical_not(mask[:, :, -1]).astype(np.uint8)\n",
    "        # print(occlusion)\n",
    "    \n",
    "        for i in range(object_cnt-2, -1, -1):\n",
    "            mask[:, :, i] = mask[:, :, i] * occlusion\n",
    "            occlusion = np.logical_and(occlusion, np.logical_not(mask[:, :, i]))\n",
    "        # Map class names to class IDs.\n",
    "        return mask.astype(np.bool)\n",
    "\n",
    "    def get_class_labels(self, image_id):\n",
    "        object_info = self.image_meta[image_id][\"object_info\"]\n",
    "        # Map class names to class IDs.\n",
    "        class_ids = np.array([self.class_names[s[0]] for s in object_info])\n",
    "        return class_ids.astype(np.int32)\n",
    "\n",
    "    def get_image(self, image_id):\n",
    "        image_info = self.image_meta[image_id]\n",
    "        object_info = image_info['object_info']\n",
    "        bg_color = image_info['bg_color']\n",
    "        height = image_info['height']\n",
    "        width = image_info['width']\n",
    "        image = self.draw_bg_image(height, width, bg_color)\n",
    "        # print(object_info)\n",
    "        num_objects = len(object_info)\n",
    "        \n",
    "        for i in np.arange(num_objects):\n",
    "            object_, color, dims = object_info[i]\n",
    "            image = self.draw_object_shape(image, object_, color, dims)\n",
    "        return image"
   ]
  },
  {
   "cell_type": "markdown",
   "metadata": {},
   "source": [
    "## Visualize the Image, Objects and masks:"
   ]
  },
  {
   "cell_type": "code",
   "execution_count": 4,
   "metadata": {
    "collapsed": true
   },
   "outputs": [],
   "source": [
    "data = Dataset(num_images=5, height=128, width=128, num_classes=4)\n",
    "image_ids = data.image_meta.keys()\n",
    "\n",
    "images = []\n",
    "masks = []\n",
    "class_ids = []\n",
    "for ids in image_ids:\n",
    "    images.append(data.get_image(image_id=ids))\n",
    "    masks.append(data.get_object_mask(image_id=ids))\n",
    "    class_ids.append(data.get_class_labels(image_id=ids))"
   ]
  },
  {
   "cell_type": "code",
   "execution_count": 5,
   "metadata": {},
   "outputs": [
    {
     "data": {
      "text/plain": [
       "(128, 128)"
      ]
     },
     "execution_count": 5,
     "metadata": {},
     "output_type": "execute_result"
    }
   ],
   "source": [
    "masks[0][:,:,0].shape"
   ]
  },
  {
   "cell_type": "code",
   "execution_count": 6,
   "metadata": {},
   "outputs": [
    {
     "data": {
      "image/png": "[encoded data removed]",
      "text/plain": [
       "<matplotlib.figure.Figure at 0x10bb70b70>"
      ]
     },
     "metadata": {},
     "output_type": "display_data"
    }
   ],
   "source": [
    "from MaskRCNN.visualize import Visualize\n",
    "obj_viz = Visualize(rows=5, cols=4, figsize=(15,15))\n",
    "\n",
    "for i in range(0,len(images)):\n",
    "    obj_viz.vizualize_image(images[i])\n",
    "    for j in range(0,3):\n",
    "        if j < masks[i].shape[2]:\n",
    "            obj_viz.vizualize_image(masks[i][:,:,j])\n",
    "        else:\n",
    "            obj_viz.num += 1\n",
    "obj_viz.show()"
   ]
  },
  {
   "cell_type": "markdown",
   "metadata": {},
   "source": [
    "## Prepare Data For Training:"
   ]
  },
  {
   "cell_type": "code",
   "execution_count": 11,
   "metadata": {
    "collapsed": true
   },
   "outputs": [],
   "source": [
    "# from MaskRCNN.building_blocks.data_processor import PreprareTrainData\n",
    "# class_ids = [0,1]\n",
    "\n",
    "\n",
    "# Keep metadata of images for post processing\n",
    "def compose_image_meta(image_id, original_image_shape, image_shape,\n",
    "                       img_window, scale, active_class_ids):\n",
    "    \"\"\"Takes attributes of an image and puts them in one 1D array.\n",
    "\n",
    "    image_id: An int ID of the image. Useful for debugging.\n",
    "    original_image_shape: [H, W, C] before resizing or padding.\n",
    "    image_shape: [H, W, C] after resizing and padding\n",
    "    img_window: (y1, x1, y2, x2) in pixels. The area of the image where the real\n",
    "            image is (excluding the padding)\n",
    "    scale: The scaling factor applied to the original image (float32)\n",
    "    active_class_ids: List of class_ids available in the dataset from which\n",
    "        the image came. Useful if training on images from multiple datasets\n",
    "        where not all classes are present in all datasets.\n",
    "    \"\"\"\n",
    "    meta = np.array(\n",
    "        [image_id] +                  # size=1\n",
    "        list(original_image_shape) +  # size=3\n",
    "        list(image_shape) +           # size=3\n",
    "        list(img_window) +                # size=4 (y1, x1, y2, x2) in image coordinates\n",
    "        [scale] +                     # size=1\n",
    "        list(active_class_ids)        # size=num_classes\n",
    "    )\n",
    "    return meta\n",
    "\n",
    "\n",
    "class PreprareTrainData():\n",
    "    def __init__(self, conf):\n",
    "        self.image_min_dim = conf.IMAGE_MIN_DIM\n",
    "        self.image_max_dim = conf.IMAGE_MAX_DIM\n",
    "        self.min_scale = conf.IMAGE_MIN_SCALE\n",
    "        self.resize_mode = conf.IMAGE_RESIZE_MODE\n",
    "    \n",
    "    def extract_bboxes(self, mask):\n",
    "        '''\n",
    "        :param mask: [height, width, num_objects]\n",
    "        :return:     Given a mask outputs a bounding box with \"lower left\" and \"upper right\" coordinites\n",
    "        '''\n",
    "        bboxes = np.zeros([mask.shape[-1], 4], dtype=np.int32)\n",
    "        shift = [0, 0, 1, 1]\n",
    "        for i in range(0, mask.shape[-1]):\n",
    "            msk = mask[:, :, i]\n",
    "            horizontal_coord = np.where(np.any(msk, axis=0))[0]\n",
    "            vertical_coord = np.where(np.any(msk, axis=1))[0]\n",
    "            \n",
    "            if len(horizontal_coord) >= 0 and len(horizontal_coord) >= 0:\n",
    "                x1, x2 = horizontal_coord[[0, -1]]\n",
    "                y1, y2 = vertical_coord[[0, -1]]\n",
    "                \n",
    "                bbox = np.array([y1, x1, y2, x2]) + shift\n",
    "            else:\n",
    "                bbox = [0, 0, 0, 0]\n",
    "            bboxes[i] = bbox\n",
    "        return bboxes.astype(np.int32)\n",
    "    \n",
    "    def get_ground_truth_data(self, dataset, image_ids):\n",
    "        images = []\n",
    "        gt_masks = []\n",
    "        gt_class_ids = []\n",
    "        gt_bboxes = []\n",
    "        image_meta = []\n",
    "        for ids in image_ids:\n",
    "            image = dataset.get_image(image_id=ids)\n",
    "            mask = dataset.get_object_mask(image_id=ids)\n",
    "            class_ids = dataset.get_class_labels(image_id=ids)\n",
    "            active_class_ids = np.zeros(dataset.num_classes, dtype=np.int32)\n",
    "            active_class_ids[class_ids] = 1\n",
    "            original_image_shape = image.shape\n",
    "            \n",
    "            image, image_window, scale, padding = utils.resize_image(image, min_dim=self.image_min_dim,\n",
    "                                                                     max_dim=self.image_max_dim,\n",
    "                                                                     min_scale=self.min_scale,\n",
    "                                                                     mode=self.resize_mode)\n",
    "            mask = utils.resize_mask(mask, scale, padding)\n",
    "            bboxes = self.extract_bboxes(mask)\n",
    "            image_meta.append(compose_image_meta(ids, original_image_shape, image.shape,\n",
    "                                                 image_window, scale, active_class_ids))\n",
    "            images.append(image)\n",
    "            gt_masks.append(mask)\n",
    "            gt_class_ids.append(class_ids)\n",
    "            gt_bboxes.append(bboxes)\n",
    "        print (gt_masks[0].shape)\n",
    "        images = np.stack(images, axis=0)\n",
    "        return images, gt_masks, gt_class_ids, gt_bboxes, image_meta\n"
   ]
  },
  {
   "cell_type": "code",
   "execution_count": 18,
   "metadata": {},
   "outputs": [
    {
     "name": "stdout",
     "output_type": "stream",
     "text": [
      "(128, 128, 2)\n",
      "[array([  0, 128, 128,   3, 128, 128,   3,   0,   0, 128, 128,   1,   0,\n",
      "         1,   0,   0]), array([  1, 128, 128,   3, 128, 128,   3,   0,   0, 128, 128,   1,   1,\n",
      "         1,   0,   0])]\n"
     ]
    }
   ],
   "source": [
    "\n",
    "obj_ptd = PreprareTrainData(conf)\n",
    "images, gt_masks, gt_class_ids, gt_bboxes, image_meta = obj_ptd.get_ground_truth_data(data, class_ids)\n",
    "print(image_meta)"
   ]
  },
  {
   "cell_type": "code",
   "execution_count": 31,
   "metadata": {},
   "outputs": [
    {
     "data": {
      "text/plain": [
       "array([1193, 1505])"
      ]
     },
     "execution_count": 31,
     "metadata": {},
     "output_type": "execute_result"
    }
   ],
   "source": [
    "np.sum(gt_masks[0], axis=(0, 1))"
   ]
  },
  {
   "cell_type": "code",
   "execution_count": 28,
   "metadata": {
    "scrolled": true
   },
   "outputs": [
    {
     "data": {
      "text/plain": [
       "array([1193, 1505])"
      ]
     },
     "execution_count": 28,
     "metadata": {},
     "output_type": "execute_result"
    }
   ],
   "source": [
    "np.sum(np.transpose(gt_masks[0], axes=[2,0,1]), axis=(1,2))"
   ]
  },
  {
   "cell_type": "code",
   "execution_count": 26,
   "metadata": {},
   "outputs": [
    {
     "data": {
      "text/plain": [
       "(2, 128, 128)"
      ]
     },
     "execution_count": 26,
     "metadata": {},
     "output_type": "execute_result"
    }
   ],
   "source": [
    "np.transpose(gt_masks[0], axes=[2,0,1]).shape"
   ]
  },
  {
   "cell_type": "code",
   "execution_count": null,
   "metadata": {
    "collapsed": true
   },
   "outputs": [],
   "source": []
  },
  {
   "cell_type": "markdown",
   "metadata": {},
   "source": [
    "#### Cross check, If the data was generated properly"
   ]
  },
  {
   "cell_type": "code",
   "execution_count": 15,
   "metadata": {},
   "outputs": [
    {
     "data": {
      "image/png": "[encoded data removed]",
      "text/plain": [
       "<matplotlib.figure.Figure at 0x107147518>"
      ]
     },
     "metadata": {},
     "output_type": "display_data"
    }
   ],
   "source": [
    "from MaskRCNN.visualize import Visualize\n",
    "obj_viz = Visualize(rows=2, cols=4, figsize=(15,7))\n",
    "\n",
    "for i in range(0,len(images)):\n",
    "    obj_viz.vizualize_image(images[i])\n",
    "    for j in range(0,3):\n",
    "        if j < gt_masks[i].shape[2]:\n",
    "            obj_viz.vizualize_image(gt_masks[i][:,:,j])\n",
    "        else:\n",
    "            obj_viz.num += 1\n",
    "obj_viz.show()"
   ]
  },
  {
   "cell_type": "markdown",
   "metadata": {},
   "source": [
    "## TO DOS:\n",
    "\n",
    "-- We have background color and class ids that have been selected to be in the image\n",
    "-- We need to\n",
    "    * generate masks for image\n",
    "    * resize image  # Already wrote the function for this\n",
    "    * resize masks, # Since we resize the image, we need to resize the mask\n",
    "    * Do image augmentation (Horizontal flip), remember to flip the masks too. (Keep it simple: Dont do it for now)\n",
    "    * make a data generation function, that can do stuff on the fly"
   ]
  },
  {
   "cell_type": "markdown",
   "metadata": {},
   "source": [
    "## INPUTS:\n",
    "\n",
    "For Proposals\n",
    "1. Input anchors\n",
    "--> Run FPN, RPN, Proposals. get proposals\n",
    "\n",
    "For Detection module:\n",
    "2. input_gt_boxes: Input ground_truth boxes: (normalize these boxes -> gt_boxes)\n",
    "3. input_gt_masks: Input ground_truth mask\n",
    "4. input_gt_class_ids: Input ground_truth_class_ids\n",
    "5. target_rois or proposals\n",
    "\n",
    "\n",
    "4. active_class_ids\n",
    "\n",
    "\n",
    "### Code flow:\n",
    "* data_generator: generates the data given the input\n",
    "    * compute_backbbone_shape:  Wrote already\n",
    "    * generate_pyramid_anchors: Already worte\n",
    "    * load_image_gt\n",
    "    \n",
    "\n"
   ]
  },
  {
   "cell_type": "code",
   "execution_count": 7,
   "metadata": {},
   "outputs": [
    {
     "data": {
      "text/plain": [
       "array([[32, 32],\n",
       "       [16, 16],\n",
       "       [ 8,  8],\n",
       "       [ 4,  4],\n",
       "       [ 2,  2]])"
      ]
     },
     "execution_count": 7,
     "metadata": {},
     "output_type": "execute_result"
    }
   ],
   "source": [
    "from MaskRCNN.building_blocks import utils\n",
    "from MaskRCNN.config import config as conf\n",
    "\n",
    "utils.get_resnet_stage_shapes(conf, [128,128,3])"
   ]
  },
  {
   "cell_type": "code",
   "execution_count": 37,
   "metadata": {},
   "outputs": [
    {
     "name": "stdout",
     "output_type": "stream",
     "text": [
      "(128, 128, 3)\n",
      "(128, 128, 2)\n"
     ]
    }
   ],
   "source": [
    "imageIN = data.get_images(0)#\n",
    "print (imageIN.shape)\n",
    "maskIN = data.get_object_mask(0)\n",
    "print (maskIN.shape)"
   ]
  },
  {
   "cell_type": "code",
   "execution_count": 38,
   "metadata": {
    "collapsed": true
   },
   "outputs": [],
   "source": [
    "image_t, image_window, scale, padding = utils.resize_image(imageIN, max_dim=256, min_dim=256, min_scale=1)"
   ]
  },
  {
   "cell_type": "code",
   "execution_count": 39,
   "metadata": {},
   "outputs": [
    {
     "data": {
      "image/png": "[encoded data removed]",
      "text/plain": [
       "<matplotlib.figure.Figure at 0x1c1bcba940>"
      ]
     },
     "metadata": {},
     "output_type": "display_data"
    }
   ],
   "source": [
    "obj_v = Visualize()#\n",
    "obj_v.vizualize_image(image_t)#\n",
    "obj_v.show()"
   ]
  },
  {
   "cell_type": "code",
   "execution_count": 40,
   "metadata": {},
   "outputs": [
    {
     "name": "stdout",
     "output_type": "stream",
     "text": [
      "2.0\n",
      "[(0, 0), (0, 0), (0, 0)]\n"
     ]
    }
   ],
   "source": [
    "print(scale)\n",
    "print(padding)"
   ]
  },
  {
   "cell_type": "code",
   "execution_count": 41,
   "metadata": {},
   "outputs": [
    {
     "data": {
      "text/plain": [
       "(2, 128, 128)"
      ]
     },
     "execution_count": 41,
     "metadata": {},
     "output_type": "execute_result"
    }
   ],
   "source": [
    "maskIN_ = np.transpose(maskIN, [2,0,1])\n",
    "maskIN_.shape"
   ]
  },
  {
   "cell_type": "code",
   "execution_count": 42,
   "metadata": {},
   "outputs": [
    {
     "data": {
      "image/png": "[encoded data removed]",
      "text/plain": [
       "<matplotlib.figure.Figure at 0x1c1bcfa2b0>"
      ]
     },
     "metadata": {},
     "output_type": "display_data"
    }
   ],
   "source": [
    "obj_v = Visualize(rows=1, cols=2, figsize=(10,5))\n",
    "obj_v.visualize_image_2d(maskIN_)#\n",
    "obj_v.show()"
   ]
  },
  {
   "cell_type": "code",
   "execution_count": 44,
   "metadata": {},
   "outputs": [
    {
     "name": "stdout",
     "output_type": "stream",
     "text": [
      "(128, 128, 2)\n"
     ]
    }
   ],
   "source": [
    "mask_zoom = scipy.ndimage.zoom(maskIN, zoom=[1, 1, 1], order=0)\n",
    "print (mask_zoom.shape)"
   ]
  },
  {
   "cell_type": "code",
   "execution_count": 46,
   "metadata": {},
   "outputs": [
    {
     "name": "stdout",
     "output_type": "stream",
     "text": [
      "42 [ 0  1  2  3  4  5  6  7  8  9 10 11 12 13 14 15 16 17 18 19 20 21 22 23 24\n",
      " 25 26 27 28 29 30 31 32 33 34 35 36 37 38 39 40 41]\n",
      "43 [ 59  60  61  62  63  64  65  66  67  68  69  70  71  72  73  74  75  76\n",
      "  77  78  79  80  81  82  83  84  85  86  87  88  89  90  91  92  93  94\n",
      "  95  96  97  98  99 100 101]\n"
     ]
    }
   ],
   "source": [
    "m = mask_zoom[:,:,1]\n",
    "\n",
    "horizontal_indices = np.where(np.any(m, axis=0))[0]\n",
    "vertical_indices = np.where(np.any(m, axis=1))[0]\n",
    "print (len(horizontal_indices), horizontal_indices)\n",
    "print (len(vertical_indices), vertical_indices)"
   ]
  },
  {
   "cell_type": "code",
   "execution_count": 34,
   "metadata": {},
   "outputs": [
    {
     "data": {
      "text/plain": [
       "array([ 57, 101])"
      ]
     },
     "execution_count": 34,
     "metadata": {},
     "output_type": "execute_result"
    }
   ],
   "source": [
    "horizontal_indicies[[0, -1]]"
   ]
  },
  {
   "cell_type": "code",
   "execution_count": null,
   "metadata": {
    "collapsed": true
   },
   "outputs": [],
   "source": []
  }
 ],
 "metadata": {
  "kernelspec": {
   "display_name": "Python 3",
   "language": "python",
   "name": "python3"
  },
  "language_info": {
   "codemirror_mode": {
    "name": "ipython",
    "version": 3
   },
   "file_extension": ".py",
   "mimetype": "text/x-python",
   "name": "python",
   "nbconvert_exporter": "python",
   "pygments_lexer": "ipython3",
   "version": "3.5.4"
  }
 },
 "nbformat": 4,
 "nbformat_minor": 2
}
