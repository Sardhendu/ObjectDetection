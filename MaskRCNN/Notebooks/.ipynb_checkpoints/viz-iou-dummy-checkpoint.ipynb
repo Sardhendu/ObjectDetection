{
 "cells": [
  {
   "cell_type": "code",
   "execution_count": 1,
   "metadata": {},
   "outputs": [],
   "source": [
    "import os\n",
    "import os.path as path\n",
    "import sys\n",
    "\n",
    "wk_dir = os.path.dirname(os.path.realpath('__file__'))\n",
    "parent_code_dir =  path.abspath(path.join(wk_dir ,\"../..\"))\n",
    "sys.path.append(parent_code_dir)\n",
    "\n",
    "import logging\n",
    "import random\n",
    "import cv2\n",
    "import math\n",
    "import numpy as np\n",
    "import pandas as pd\n",
    "import  matplotlib.pyplot as plt\n",
    "from PIL import Image\n",
    "from PIL import ImageDraw\n",
    "\n",
    "\n",
    "from MaskRCNN.building_blocks import utils\n",
    "from MaskRCNN.config import config\n",
    "from MaskRCNN.shapes import ShapesConfig, Dataset\n",
    "\n",
    "%matplotllib inline"
   ]
  },
  {
   "cell_type": "markdown",
   "metadata": {},
   "source": [
    "## Get/Prepare Data:\n",
    "------"
   ]
  },
  {
   "cell_type": "code",
   "execution_count": 2,
   "metadata": {},
   "outputs": [
    {
     "name": "stdout",
     "output_type": "stream",
     "text": [
      "Batch Meta:  {0: {'width': 128, 'object_info': [('square', (196, 138, 53), (70, 95, 27)), ('circle', (180, 228, 79), (44, 52, 31)), ('square', (14, 130, 218), (22, 106, 26))], 'height': 128, 'bg_color': array([ 81, 230, 211])}}\n",
      "Anchors Max Min length:  154.509667992 -90.5096679919\n",
      "Anchor shape:  (4092, 4)\n",
      "Achor Area:  (4092,)\n",
      "active_class_ids  [1 0 1 0]\n",
      "pos_idx,  3\n",
      "neg_idx,  4048 128\n",
      "+ve class count  3\n",
      "-ve class count  128\n",
      "neutral class count  3961\n",
      "batch_images  (1, 128, 128, 3)\n",
      "batch_gt_masks  (1, 128, 128, 100)\n",
      "batch_gt_class_ids  (1, 100)\n",
      "batch_gt_bboxes  (1, 100, 4)\n",
      "batch_image_metas  (1, 16)\n",
      "batch_rpn_target_class  (1, 4092, 1)\n",
      "batch_rpn_target_bbox  (1, 256, 4)\n",
      "batch_positive_anchors  (1, 3, 4)\n",
      "dict_keys(['batch_images', 'batch_image_metas', 'batch_gt_masks', 'batch_rpn_target_bbox', 'batch_rpn_target_class', 'batch_gt_bboxes', 'batch_positive_anchors', 'batch_gt_class_ids'])\n"
     ]
    }
   ],
   "source": [
    "# Debugg\n",
    "from MaskRCNN.building_blocks.data_processor import PreprareTrainData\n",
    "conf = ShapesConfig()\n",
    "\n",
    "batch_size = 1\n",
    "# Get data from for randomly generated shapes\n",
    "data = Dataset(num_images=batch_size, height=128, width=128, num_classes=4)\n",
    "print ('Batch Meta: ', data.image_meta)\n",
    "image_ids = data.image_meta.keys()\n",
    "\n",
    "obj_ptd = PreprareTrainData(conf, data)\n",
    "data_dict = obj_ptd.get_data(image_ids)\n",
    "print(data_dict.keys())\n",
    "\n",
    "\n",
    "##### GET DATA TO VIZUALIZE\n",
    "run_for_batch_num = 0\n",
    "# Get Batch Image\n",
    "batch_images = data_dict['batch_images']\n",
    "\n",
    "# Get ground truth boxes\n",
    "batch_gt_bboxes = data_dict['batch_gt_bboxes']\n",
    "\n",
    "# Get ground truth boxes\n",
    "batch_gt_masks = data_dict['batch_gt_masks']\n",
    "\n",
    "# Get Boxes with iou > 0.7 to gt_boxes: batch_rpn target box\n",
    "batch_rpn_target_bbox = data_dict['batch_rpn_target_bbox']\n",
    "\n",
    "# Get Positive anchors with IOU more than 0.7\n",
    "batch_positive_anchors = data_dict['batch_positive_anchors']"
   ]
  },
  {
   "cell_type": "code",
   "execution_count": 3,
   "metadata": {},
   "outputs": [
    {
     "name": "stdout",
     "output_type": "stream",
     "text": [
      "[0 1 2]\n",
      "image  (128, 128, 3)\n",
      "gt_box  (3, 4)\n",
      "gt_masks  (3, 128, 128)\n",
      "rpn_target_bbox  (3, 4)\n",
      "positive_anchor_bbox  (3, 4)\n"
     ]
    }
   ],
   "source": [
    "# batch_gt_bboxes.shape\n",
    "indice = np.where(np.sum(abs(batch_gt_bboxes), axis=2)[run_for_batch_num] != 0)[0]\n",
    "print(indice)\n",
    "image = batch_images[run_for_batch_num]\n",
    "gt_box = batch_gt_bboxes[run_for_batch_num, indice]\n",
    "gt_masks = batch_gt_masks[run_for_batch_num, :,:,indice]\n",
    "rpn_target_bbox = batch_rpn_target_bbox[run_for_batch_num, indice]\n",
    "positive_anchor_bbox = batch_positive_anchors[run_for_batch_num]\n",
    "print ('image ', image.shape)\n",
    "print ('gt_box ', gt_box.shape)\n",
    "print ('gt_masks ', gt_masks.shape)\n",
    "print ('rpn_target_bbox ', rpn_target_bbox.shape)\n",
    "print ('positive_anchor_bbox ', positive_anchor_bbox.shape)"
   ]
  },
  {
   "cell_type": "code",
   "execution_count": 4,
   "metadata": {},
   "outputs": [
    {
     "data": {
      "text/plain": [
       "(1, 128, 128, 100)"
      ]
     },
     "execution_count": 4,
     "metadata": {},
     "output_type": "execute_result"
    }
   ],
   "source": [
    "batch_gt_masks.shape"
   ]
  },
  {
   "cell_type": "markdown",
   "metadata": {},
   "source": [
    "## Vizualize obejcts:\n",
    "---------"
   ]
  },
  {
   "cell_type": "code",
   "execution_count": 5,
   "metadata": {},
   "outputs": [
    {
     "data": {
      "image/png": "[encoded data removed]",
      "text/plain": [
       "<matplotlib.figure.Figure at 0x1c1facf160>"
      ]
     },
     "metadata": {},
     "output_type": "display_data"
    }
   ],
   "source": [
    "from MaskRCNN.visualize import Visualize\n",
    "obj_viz = Visualize(rows=1, cols=4, figsize=(20,4))\n",
    "\n",
    "obj_viz.vizualize_image(image)\n",
    "for j in range(0,3):  # total number of labels\n",
    "    if j < gt_masks.shape[0]:\n",
    "        obj_viz.vizualize_image(gt_masks[j,:,:])\n",
    "    else:\n",
    "        obj_viz.num += 1\n",
    "obj_viz.show()"
   ]
  },
  {
   "cell_type": "markdown",
   "metadata": {},
   "source": [
    "## Vizualize Ground Truth Boxes\n",
    "---------"
   ]
  },
  {
   "cell_type": "code",
   "execution_count": 6,
   "metadata": {},
   "outputs": [
    {
     "data": {
      "image/png": "[encoded data removed]",
      "text/plain": [
       "<matplotlib.figure.Figure at 0x1c1fac0dd8>"
      ]
     },
     "metadata": {},
     "output_type": "display_data"
    }
   ],
   "source": [
    "obj_viz = Visualize(rows=1, cols=1, figsize=(20,4))\n",
    "obj_viz.visualize_boxes(gt_box, image)\n",
    "obj_viz.show()"
   ]
  },
  {
   "cell_type": "markdown",
   "metadata": {},
   "source": [
    "## Vizualize Positive Anchors woth IOU > 0.7:\n",
    "------"
   ]
  },
  {
   "cell_type": "code",
   "execution_count": 7,
   "metadata": {},
   "outputs": [
    {
     "data": {
      "image/png": "[encoded data removed]",
      "text/plain": [
       "<matplotlib.figure.Figure at 0x1c1fd57c18>"
      ]
     },
     "metadata": {},
     "output_type": "display_data"
    }
   ],
   "source": [
    "obj_viz = Visualize(rows=1, cols=1, figsize=(20,4))\n",
    "obj_viz.visualize_boxes(positive_anchor_bbox, image)\n",
    "obj_viz.show()"
   ]
  },
  {
   "cell_type": "markdown",
   "metadata": {},
   "source": [
    "## Lets do some Training:\n",
    "--------"
   ]
  },
  {
   "cell_type": "code",
   "execution_count": 8,
   "metadata": {
    "scrolled": false
   },
   "outputs": [
    {
     "name": "stderr",
     "output_type": "stream",
     "text": [
      "Using TensorFlow backend.\n"
     ]
    },
    {
     "name": "stdout",
     "output_type": "stream",
     "text": [
      "[[  0 128 128   3 128 128   3   0   0 128 128   1   1   0   1   0]]\n",
      "<MaskRCNN.shapes.ShapesConfig object at 0x1c1facff98>\n",
      "(process_images) Image Resized Nnormalized: (shape)  (1, 128, 128, 3)\n",
      "(process_images) Image meta: (shape)  (1, 16)\n",
      "(process_images) Image Window: (shape)  (1, 4)\n",
      "(process_images) Anchors: (shape)  (1, 4092, 4)\n",
      "(1, 128, 128, 3) (1, 16) (1, 4) (1, 4092, 4)\n",
      "(FPN) C2: (shape)  (?, 32, 32, 256)\n",
      "(FPN) C3: (shape)  (?, 16, 16, 512)\n",
      "(FPN) C4: (shape)  (?, 8, 8, 1024)\n",
      "(FPN) C5: (shape)  (?, 4, 4, 2048)\n",
      "(FPN) P2: (shape)  (?, 32, 32, 256)\n",
      "(FPN) P3: (shape)  (?, 16, 16, 256)\n",
      "(FPN) P4: (shape)  (?, 8, 8, 256)\n",
      "(FPN) P5: (shape)  (?, 4, 4, 256)\n",
      "(FPN) P6: (shape)  (?, 2, 2, 256)\n",
      "(RPN) Class Logits (shape)  (?, ?, 2)\n",
      "(RPN) Class Probs (shape)  (?, ?, 2)\n",
      "(RPN) Bbox (shape)  (?, ?, 4)\n",
      "(RPN) Class Logits (shape)  (?, ?, 2)\n",
      "(RPN) Class Probs (shape)  (?, ?, 2)\n",
      "(RPN) Bbox (shape)  (?, ?, 4)\n",
      "(RPN) Class Logits (shape)  (?, ?, 2)\n",
      "(RPN) Class Probs (shape)  (?, ?, 2)\n",
      "(RPN) Bbox (shape)  (?, ?, 4)\n",
      "(RPN) Class Logits (shape)  (?, ?, 2)\n",
      "(RPN) Class Probs (shape)  (?, ?, 2)\n",
      "(RPN) Bbox (shape)  (?, ?, 4)\n",
      "(RPN) Class Logits (shape)  (?, ?, 2)\n",
      "(RPN) Class Probs (shape)  (?, ?, 2)\n",
      "(RPN) Bbox (shape)  (?, ?, 4)\n",
      "(Proposals) Proposals (shape)  (1, ?, ?)\n",
      "Proposal DEBUG ................\n",
      "74823749234  <dtype: 'int32'>\n",
      "09090909090  <dtype: 'float32'>\n",
      "(MRCNN) Pooled Roi's (shape) (1, ?, 7, 7, 256)\n",
      "(?, ?)\n",
      "mrcnn_target_box (1, ?, ?) \n",
      " Tensor(\"stack_3:0\", shape=(1, ?, ?), dtype=float32)\n",
      "\n",
      "mrcnn_pred_box (?, ?, 4, 4) \n",
      " Tensor(\"mrcnn_bbox/Reshape:0\", shape=(?, ?, 4, 4), dtype=float32)\n",
      "\n",
      "mrcnn_target_class_ids (1, ?) \n",
      " Tensor(\"concat_9:0\", shape=(1, ?), dtype=int32)\n",
      "batch_active_class_ids  (1, 4) [[1 0 1 0]]\n",
      "batch_rpn_target_class  (1, 4092, 1)\n",
      "Variable:  fpn_c5p5/kernel:0\n",
      "Shape:  (1, 1, 2048, 256)\n",
      "Variable:  fpn_c5p5/bias:0\n",
      "Shape:  (256,)\n",
      "Variable:  fpn_c4p4/kernel:0\n",
      "Shape:  (1, 1, 1024, 256)\n",
      "Variable:  fpn_c4p4/bias:0\n",
      "Shape:  (256,)\n",
      "Variable:  fpn_c3p3/kernel:0\n",
      "Shape:  (1, 1, 512, 256)\n",
      "Variable:  fpn_c3p3/bias:0\n",
      "Shape:  (256,)\n",
      "Variable:  fpn_c2p2/kernel:0\n",
      "Shape:  (1, 1, 256, 256)\n",
      "Variable:  fpn_c2p2/bias:0\n",
      "Shape:  (256,)\n",
      "Variable:  fpn_p2/kernel:0\n",
      "Shape:  (3, 3, 256, 256)\n",
      "Variable:  fpn_p2/bias:0\n",
      "Shape:  (256,)\n",
      "Variable:  fpn_p3/kernel:0\n",
      "Shape:  (3, 3, 256, 256)\n",
      "Variable:  fpn_p3/bias:0\n",
      "Shape:  (256,)\n",
      "Variable:  fpn_p4/kernel:0\n",
      "Shape:  (3, 3, 256, 256)\n",
      "Variable:  fpn_p4/bias:0\n",
      "Shape:  (256,)\n",
      "Variable:  fpn_p5/kernel:0\n",
      "Shape:  (3, 3, 256, 256)\n",
      "Variable:  fpn_p5/bias:0\n",
      "Shape:  (256,)\n",
      "Variable:  rpn_conv_shared/kernel:0\n",
      "Shape:  (3, 3, 256, 512)\n",
      "Variable:  rpn_conv_shared/bias:0\n",
      "Shape:  (512,)\n",
      "Variable:  rpn_class_raw/kernel:0\n",
      "Shape:  (1, 1, 512, 6)\n",
      "Variable:  rpn_class_raw/bias:0\n",
      "Shape:  (6,)\n",
      "Variable:  rpn_bbox_pred/kernel:0\n",
      "Shape:  (1, 1, 512, 12)\n",
      "Variable:  rpn_bbox_pred/bias:0\n",
      "Shape:  (12,)\n",
      "Variable:  mrcnn_class_conv1/kernel:0\n",
      "Shape:  (7, 7, 256, 1024)\n",
      "Variable:  mrcnn_class_conv1/bias:0\n",
      "Shape:  (1024,)\n",
      "Variable:  mrcnn_class_bn1/gamma:0\n",
      "Shape:  (1024,)\n",
      "Variable:  mrcnn_class_bn1/beta:0\n",
      "Shape:  (1024,)\n",
      "Variable:  mrcnn_class_bn1/moving_mean:0\n",
      "Shape:  (1024,)\n",
      "Variable:  mrcnn_class_bn1/moving_variance:0\n",
      "Shape:  (1024,)\n",
      "Variable:  mrcnn_class_conv2/kernel:0\n",
      "Shape:  (1, 1, 1024, 1024)\n",
      "Variable:  mrcnn_class_conv2/bias:0\n",
      "Shape:  (1024,)\n",
      "Variable:  mrcnn_class_bn2/gamma:0\n",
      "Shape:  (1024,)\n",
      "Variable:  mrcnn_class_bn2/beta:0\n",
      "Shape:  (1024,)\n",
      "Variable:  mrcnn_class_bn2/moving_mean:0\n",
      "Shape:  (1024,)\n",
      "Variable:  mrcnn_class_bn2/moving_variance:0\n",
      "Shape:  (1024,)\n",
      "Variable:  mrcnn_class_logits/kernel:0\n",
      "Shape:  (1024, 4)\n",
      "Variable:  mrcnn_class_logits/bias:0\n",
      "Shape:  (4,)\n",
      "Variable:  mrcnn_bbox_fc/kernel:0\n",
      "Shape:  (1024, 16)\n",
      "Variable:  mrcnn_bbox_fc/bias:0\n",
      "Shape:  (16,)\n",
      "Max and Min Proposals,  1.0 0.0\n",
      "Num NaN present in Proposals  0\n",
      "(RPN) pred_logits:  (?, ?, 2)\n",
      "(RPN) pred_prob:  (?, ?, 2)\n",
      "(RPN) pred_box:  (?, ?, 4)\n",
      "proposals (shape)  (1, 2000, 4)\n",
      "(MRCNN) target_class_ids (1, 32)\n",
      "(MRCNN) target_box (shape)  (1, 32, 4)\n",
      "(MRCNN) pred_class_ids (1, 32, 4)\n",
      "(MRCNN) pred_box (shape)  (1, 32, 4, 4)\n",
      "rpn_class_loss_:  1.61257e+26\n",
      "mrcnn_class_loss_:  nan\n",
      "mrcnn_box_loss_:  0.0\n",
      "\n",
      "[[  0 128 128   3 128 128   3   0   0 128 128   1   1   0   1   0]]\n"
     ]
    }
   ],
   "source": [
    "from MaskRCNN.training import Train as Train\n",
    "from MaskRCNN.training_debug import Train as TrainDebug\n",
    "print(data_dict['batch_image_metas'])\n",
    "pretrained_weights_path = '/Users/sam/All-Program/App-DataSet/ObjectDetection/MaskRCNN/mask_rcnn_coco.h5'\n",
    "\n",
    "obj_trn = Train(conf, batch_size=batch_size,\n",
    "                pretrained_weights_path=pretrained_weights_path)\n",
    "obj_trn.exec_sess(data_dict, image_ids)\n"
   ]
  },
  {
   "cell_type": "code",
   "execution_count": null,
   "metadata": {
    "collapsed": true
   },
   "outputs": [],
   "source": []
  }
 ],
 "metadata": {
  "kernelspec": {
   "display_name": "Python 3",
   "language": "python",
   "name": "python3"
  },
  "language_info": {
   "codemirror_mode": {
    "name": "ipython",
    "version": 3
   },
   "file_extension": ".py",
   "mimetype": "text/x-python",
   "name": "python",
   "nbconvert_exporter": "python",
   "pygments_lexer": "ipython3",
   "version": "3.5.4"
  }
 },
 "nbformat": 4,
 "nbformat_minor": 2
}
