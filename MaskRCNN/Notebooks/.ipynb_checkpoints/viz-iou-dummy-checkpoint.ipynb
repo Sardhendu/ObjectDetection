{
 "cells": [
  {
   "cell_type": "code",
   "execution_count": 1,
   "metadata": {
    "collapsed": true
   },
   "outputs": [],
   "source": [
    "import os\n",
    "import os.path as path\n",
    "import sys\n",
    "\n",
    "wk_dir = os.path.dirname(os.path.realpath('__file__'))\n",
    "parent_code_dir =  path.abspath(path.join(wk_dir ,\"../..\"))\n",
    "sys.path.append(parent_code_dir)\n",
    "\n",
    "import logging\n",
    "import random\n",
    "import cv2\n",
    "import math\n",
    "import numpy as np\n",
    "import pandas as pd\n",
    "import  matplotlib.pyplot as plt\n",
    "from PIL import Image\n",
    "from PIL import ImageDraw\n",
    "\n",
    "\n",
    "from MaskRCNN.building_blocks import utils\n",
    "from MaskRCNN.config import config\n",
    "from MaskRCNN.shapes import ShapesConfig, Dataset\n",
    "\n",
    "%matplotllib inline"
   ]
  },
  {
   "cell_type": "markdown",
   "metadata": {},
   "source": [
    "## Get/Prepare Data:\n",
    "------"
   ]
  },
  {
   "cell_type": "code",
   "execution_count": 2,
   "metadata": {},
   "outputs": [
    {
     "name": "stdout",
     "output_type": "stream",
     "text": [
      "[145   2  84]\n",
      "4\n",
      "height width:  128 128\n",
      "object_  square\n",
      "color ........  (96, 188, 76)\n",
      "height width:  128 128\n",
      "object_  circle\n",
      "color ........  (24, 175, 73)\n",
      "height width:  128 128\n",
      "object_  square\n",
      "color ........  (174, 73, 155)\n",
      "height width:  128 128\n",
      "object_  square\n",
      "color ........  (89, 135, 139)\n",
      "bounding_boxes  [[ 26  40  86 100]\n",
      " [  6  73  56 123]\n",
      " [ 52  46 112 106]\n",
      " [ 57  30  97  70]]\n",
      "active_class_info ...................  [('circle', (24, 175, 73), (31, 98, 25)), ('square', (174, 73, 155), (82, 76, 30)), ('square', (89, 135, 139), (77, 50, 20))]\n",
      "Batch Meta:  {0: {'active_class_info': [('circle', (24, 175, 73), (31, 98, 25)), ('square', (174, 73, 155), (82, 76, 30)), ('square', (89, 135, 139), (77, 50, 20))], 'width': 128, 'height': 128, 'bg_color': array([145,   2,  84])}}\n",
      "Anchors Max Min length:  154.509667992 -90.5096679919\n",
      "Anchor shape:  (4092, 4)\n",
      "Achor Area:  (4092,)\n",
      "active_class_info ....................  [('circle', (24, 175, 73), (31, 98, 25)), ('square', (174, 73, 155), (82, 76, 30)), ('square', (89, 135, 139), (77, 50, 20))]\n",
      "gt_mask ..................  [[[False False False]\n",
      "  [False False False]\n",
      "  [False False False]\n",
      "  ..., \n",
      "  [False False False]\n",
      "  [False False False]\n",
      "  [False False False]]\n",
      "\n",
      " [[False False False]\n",
      "  [False False False]\n",
      "  [False False False]\n",
      "  ..., \n",
      "  [False False False]\n",
      "  [False False False]\n",
      "  [False False False]]\n",
      "\n",
      " [[False False False]\n",
      "  [False False False]\n",
      "  [False False False]\n",
      "  ..., \n",
      "  [False False False]\n",
      "  [False False False]\n",
      "  [False False False]]\n",
      "\n",
      " ..., \n",
      " [[False False False]\n",
      "  [False False False]\n",
      "  [False False False]\n",
      "  ..., \n",
      "  [False False False]\n",
      "  [False False False]\n",
      "  [False False False]]\n",
      "\n",
      " [[False False False]\n",
      "  [False False False]\n",
      "  [False False False]\n",
      "  ..., \n",
      "  [False False False]\n",
      "  [False False False]\n",
      "  [False False False]]\n",
      "\n",
      " [[False False False]\n",
      "  [False False False]\n",
      "  [False False False]\n",
      "  ..., \n",
      "  [False False False]\n",
      "  [False False False]\n",
      "  [False False False]]]\n",
      "source_class_ids  [1 1 1 1]\n",
      "image_meta ...............  [  0 128 128   3 128 128   3   0   0 128 128   1   1   1   1   1]\n",
      "Build RPN Targets ............\n",
      "MinMax: batch_gt_boxes 6 124\n",
      "MinMax: anchors -90.5096679919 154.509667992\n",
      "0238409238490283904823048023980423  -4054\n",
      "0238409238490283904823048023980423  -4054\n",
      "pos_idx,  3\n",
      "0238409238490283904823048023980423  3 -125 -4054\n",
      "neg_idx,  4057 128\n",
      "0238409238490283904823048023980423  4057 3804 -250\n",
      "+ve class count  3\n",
      "-ve class count  253\n",
      "neutral class count  3836\n",
      "batch_images  (1, 128, 128, 3)\n",
      "batch_gt_masks  (1, 56, 56, 100)\n",
      "batch_gt_class_ids  (1, 100)\n",
      "batch_gt_bboxes  (1, 100, 4)\n",
      "batch_image_metas  (1, 16)\n",
      "batch_rpn_target_class  (1, 4092, 1)\n",
      "batch_rpn_target_bbox  (1, 256, 4)\n",
      "batch_positive_anchors  (1, 3, 4)\n",
      "dict_keys(['batch_positive_anchors', 'batch_rpn_target_bbox', 'batch_image_metas', 'batch_gt_masks', 'batch_gt_bboxes', 'batch_images', 'batch_gt_class_ids', 'batch_rpn_target_class'])\n"
     ]
    }
   ],
   "source": [
    "# Debugg\n",
    "from MaskRCNN.building_blocks.data_processor import PreprareTrainData\n",
    "conf = ShapesConfig()\n",
    "\n",
    "batch_size = 1\n",
    "# Get data from for randomly generated shapes\n",
    "data = Dataset(num_images=batch_size, height=128, width=128)\n",
    "print ('Batch Meta: ', data.image_meta)\n",
    "image_ids = data.image_meta.keys()\n",
    "\n",
    "obj_ptd = PreprareTrainData(conf, data)\n",
    "data_dict = obj_ptd.get_data(image_ids)\n",
    "print(data_dict.keys())\n",
    "\n",
    "\n",
    "##### GET DATA TO VIZUALIZE\n",
    "run_for_batch_num = 0\n",
    "# Get Batch Image\n",
    "batch_images = data_dict['batch_images']\n",
    "\n",
    "# Get Image meta\n",
    "batch_image_metas = data_dict['batch_image_metas']\n",
    "\n",
    "# Get ground truth boxes\n",
    "batch_gt_bboxes = data_dict['batch_gt_bboxes']\n",
    "\n",
    "# Get ground truth boxes\n",
    "batch_gt_class_id = data_dict['batch_gt_class_ids']\n",
    "\n",
    "# Get ground truth boxes\n",
    "batch_gt_masks = data_dict['batch_gt_masks']\n",
    "\n",
    "# Get Batch RPN Target Class\n",
    "batch_rpn_target_class = data_dict['batch_rpn_target_class']\n",
    "\n",
    "# Get Boxes with iou > 0.7 to gt_boxes: batch_rpn target box\n",
    "batch_rpn_target_bbox = data_dict['batch_rpn_target_bbox']\n",
    "\n",
    "# Get Positive anchors with IOU more than 0.7\n",
    "batch_positive_anchors = data_dict['batch_positive_anchors']"
   ]
  },
  {
   "cell_type": "code",
   "execution_count": 3,
   "metadata": {
    "scrolled": true
   },
   "outputs": [
    {
     "name": "stdout",
     "output_type": "stream",
     "text": [
      "[0 1 2]\n"
     ]
    },
    {
     "data": {
      "image/png": "[encoded data removed]",
      "text/plain": [
       "<matplotlib.figure.Figure at 0x1c25259f98>"
      ]
     },
     "metadata": {},
     "output_type": "display_data"
    }
   ],
   "source": [
    "indice = np.where(np.sum(abs(batch_gt_bboxes), axis=2)[run_for_batch_num] != 0)[0]\n",
    "print(indice)\n",
    "image = batch_images[run_for_batch_num]\n",
    "gt_box = batch_gt_bboxes[run_for_batch_num, indice]\n",
    "gt_masks = batch_gt_masks[run_for_batch_num, :,:,indice]\n",
    "anchors_idx_with_neg_iou = np.where(batch_rpn_target_class[run_for_batch_num] == -1)[0]\n",
    "anchors_idx_with_neutral_iou = np.where(batch_rpn_target_class[run_for_batch_num] == 0)[0]\n",
    "anchors_idx_with_pos_iou = np.where(batch_rpn_target_class[run_for_batch_num] == 1)[0]\n",
    "rpn_target_bbox = batch_rpn_target_bbox[run_for_batch_num, indice]\n",
    "positive_anchor_bbox = batch_positive_anchors[run_for_batch_num]\n",
    "\n",
    "positive_anchors = obj_ptd.anchors[anchors_idx_with_pos_iou]\n",
    "neutral_anchors = obj_ptd.anchors[anchors_idx_with_neutral_iou]\n",
    "negative_anchors = obj_ptd.anchors[anchors_idx_with_neg_iou]\n",
    "\n",
    "from MaskRCNN.visualize import Visualize\n",
    "obj_viz = Visualize(rows=1, cols=4, figsize=(20,4))\n",
    "\n",
    "obj_viz.vizualize_image(image)\n",
    "for j in range(0,3):  # total number of labels\n",
    "    if j < gt_masks.shape[0]:\n",
    "        obj_viz.vizualize_image(gt_masks[j,:,:])\n",
    "    else:\n",
    "        obj_viz.num += 1\n",
    "obj_viz.show()"
   ]
  },
  {
   "cell_type": "markdown",
   "metadata": {},
   "source": [
    "#### Batch Images:"
   ]
  },
  {
   "cell_type": "code",
   "execution_count": 4,
   "metadata": {},
   "outputs": [
    {
     "name": "stdout",
     "output_type": "stream",
     "text": [
      "batch_images:  (1, 128, 128, 3) [[[[  21.29999924 -114.80000305  -19.89999962]\n",
      "   [  21.29999924 -114.80000305  -19.89999962]\n",
      "   [  21.29999924 -114.80000305  -19.89999962]\n",
      "   ..., \n",
      "   [  21.29999924 -114.80000305  -19.89999962]\n",
      "   [  21.29999924 -114.80000305  -19.89999962]\n",
      "   [  21.29999924 -114.80000305  -19.89999962]]\n",
      "\n",
      "  [[  21.29999924 -114.80000305  -19.89999962]\n",
      "   [  21.29999924 -114.80000305  -19.89999962]\n",
      "   [  21.29999924 -114.80000305  -19.89999962]\n",
      "   ..., \n",
      "   [  21.29999924 -114.80000305  -19.89999962]\n",
      "   [  21.29999924 -114.80000305  -19.89999962]\n",
      "   [  21.29999924 -114.80000305  -19.89999962]]\n",
      "\n",
      "  [[  21.29999924 -114.80000305  -19.89999962]\n",
      "   [  21.29999924 -114.80000305  -19.89999962]\n",
      "   [  21.29999924 -114.80000305  -19.89999962]\n",
      "   ..., \n",
      "   [  21.29999924 -114.80000305  -19.89999962]\n",
      "   [  21.29999924 -114.80000305  -19.89999962]\n",
      "   [  21.29999924 -114.80000305  -19.89999962]]\n",
      "\n",
      "  ..., \n",
      "  [[  21.29999924 -114.80000305  -19.89999962]\n",
      "   [  21.29999924 -114.80000305  -19.89999962]\n",
      "   [  21.29999924 -114.80000305  -19.89999962]\n",
      "   ..., \n",
      "   [  21.29999924 -114.80000305  -19.89999962]\n",
      "   [  21.29999924 -114.80000305  -19.89999962]\n",
      "   [  21.29999924 -114.80000305  -19.89999962]]\n",
      "\n",
      "  [[  21.29999924 -114.80000305  -19.89999962]\n",
      "   [  21.29999924 -114.80000305  -19.89999962]\n",
      "   [  21.29999924 -114.80000305  -19.89999962]\n",
      "   ..., \n",
      "   [  21.29999924 -114.80000305  -19.89999962]\n",
      "   [  21.29999924 -114.80000305  -19.89999962]\n",
      "   [  21.29999924 -114.80000305  -19.89999962]]\n",
      "\n",
      "  [[  21.29999924 -114.80000305  -19.89999962]\n",
      "   [  21.29999924 -114.80000305  -19.89999962]\n",
      "   [  21.29999924 -114.80000305  -19.89999962]\n",
      "   ..., \n",
      "   [  21.29999924 -114.80000305  -19.89999962]\n",
      "   [  21.29999924 -114.80000305  -19.89999962]\n",
      "   [  21.29999924 -114.80000305  -19.89999962]]]]\n"
     ]
    }
   ],
   "source": [
    "print('batch_images: ', batch_images.shape, batch_images)"
   ]
  },
  {
   "cell_type": "markdown",
   "metadata": {},
   "source": [
    "#### Batch Image Meta:"
   ]
  },
  {
   "cell_type": "code",
   "execution_count": 5,
   "metadata": {},
   "outputs": [
    {
     "name": "stdout",
     "output_type": "stream",
     "text": [
      "batch_image_metas:  (1, 16) [[  0 128 128   3 128 128   3   0   0 128 128   1   1   1   1   1]]\n"
     ]
    }
   ],
   "source": [
    "print('batch_image_metas: ', batch_image_metas.shape, batch_image_metas)"
   ]
  },
  {
   "cell_type": "markdown",
   "metadata": {},
   "source": [
    "#### Batch rpn Target class:"
   ]
  },
  {
   "cell_type": "code",
   "execution_count": 6,
   "metadata": {},
   "outputs": [
    {
     "name": "stdout",
     "output_type": "stream",
     "text": [
      "batch_rpn_target_class  (1, 4092, 1) [-250] [[[0]\n",
      "  [0]\n",
      "  [0]\n",
      "  ..., \n",
      "  [0]\n",
      "  [0]\n",
      "  [0]]]\n"
     ]
    }
   ],
   "source": [
    "print('batch_rpn_target_class ', batch_rpn_target_class.shape, \n",
    "      sum(sum(batch_rpn_target_class)), \n",
    "      batch_rpn_target_class)"
   ]
  },
  {
   "cell_type": "markdown",
   "metadata": {},
   "source": [
    "#### Batch rpn Box:"
   ]
  },
  {
   "cell_type": "code",
   "execution_count": 7,
   "metadata": {},
   "outputs": [
    {
     "name": "stdout",
     "output_type": "stream",
     "text": [
      "batch_rpn_target_bbox:  (1, 256, 4) [[[-0.78125     0.78125     1.23918082  1.23918082]\n",
      "  [-0.234375    0.390625   -1.33531393 -1.13528725]\n",
      "  [-1.49155337  2.76213586 -1.97291405  1.49282186]\n",
      "  ..., \n",
      "  [ 0.          0.          0.          0.        ]\n",
      "  [ 0.          0.          0.          0.        ]\n",
      "  [ 0.          0.          0.          0.        ]]]\n"
     ]
    }
   ],
   "source": [
    "print('batch_rpn_target_bbox: ', batch_rpn_target_bbox.shape, batch_rpn_target_bbox)"
   ]
  },
  {
   "cell_type": "markdown",
   "metadata": {},
   "source": [
    "#### Batch GT classid"
   ]
  },
  {
   "cell_type": "code",
   "execution_count": 8,
   "metadata": {},
   "outputs": [
    {
     "name": "stdout",
     "output_type": "stream",
     "text": [
      "batch_gt_class_id:  (1, 100) [[2 1 1 0 0 0 0 0 0 0 0 0 0 0 0 0 0 0 0 0 0 0 0 0 0 0 0 0 0 0 0 0 0 0 0 0 0\n",
      "  0 0 0 0 0 0 0 0 0 0 0 0 0 0 0 0 0 0 0 0 0 0 0 0 0 0 0 0 0 0 0 0 0 0 0 0 0\n",
      "  0 0 0 0 0 0 0 0 0 0 0 0 0 0 0 0 0 0 0 0 0 0 0 0 0 0]]\n"
     ]
    }
   ],
   "source": [
    "print('batch_gt_class_id: ', batch_gt_class_id.shape, batch_gt_class_id)"
   ]
  },
  {
   "cell_type": "markdown",
   "metadata": {},
   "source": [
    "#### Batch GT Box"
   ]
  },
  {
   "cell_type": "code",
   "execution_count": 9,
   "metadata": {
    "scrolled": true
   },
   "outputs": [
    {
     "name": "stdout",
     "output_type": "stream",
     "text": [
      "batch_gt_bboxes:  (1, 100, 4) [[[  6  73  55 124]\n",
      "  [ 52  46 113 107]\n",
      "  [ 57  30  98  71]\n",
      "  [  0   0   0   0]\n",
      "  [  0   0   0   0]\n",
      "  [  0   0   0   0]\n",
      "  [  0   0   0   0]\n",
      "  [  0   0   0   0]\n",
      "  [  0   0   0   0]\n",
      "  [  0   0   0   0]\n",
      "  [  0   0   0   0]\n",
      "  [  0   0   0   0]\n",
      "  [  0   0   0   0]\n",
      "  [  0   0   0   0]\n",
      "  [  0   0   0   0]\n",
      "  [  0   0   0   0]\n",
      "  [  0   0   0   0]\n",
      "  [  0   0   0   0]\n",
      "  [  0   0   0   0]\n",
      "  [  0   0   0   0]\n",
      "  [  0   0   0   0]\n",
      "  [  0   0   0   0]\n",
      "  [  0   0   0   0]\n",
      "  [  0   0   0   0]\n",
      "  [  0   0   0   0]\n",
      "  [  0   0   0   0]\n",
      "  [  0   0   0   0]\n",
      "  [  0   0   0   0]\n",
      "  [  0   0   0   0]\n",
      "  [  0   0   0   0]\n",
      "  [  0   0   0   0]\n",
      "  [  0   0   0   0]\n",
      "  [  0   0   0   0]\n",
      "  [  0   0   0   0]\n",
      "  [  0   0   0   0]\n",
      "  [  0   0   0   0]\n",
      "  [  0   0   0   0]\n",
      "  [  0   0   0   0]\n",
      "  [  0   0   0   0]\n",
      "  [  0   0   0   0]\n",
      "  [  0   0   0   0]\n",
      "  [  0   0   0   0]\n",
      "  [  0   0   0   0]\n",
      "  [  0   0   0   0]\n",
      "  [  0   0   0   0]\n",
      "  [  0   0   0   0]\n",
      "  [  0   0   0   0]\n",
      "  [  0   0   0   0]\n",
      "  [  0   0   0   0]\n",
      "  [  0   0   0   0]\n",
      "  [  0   0   0   0]\n",
      "  [  0   0   0   0]\n",
      "  [  0   0   0   0]\n",
      "  [  0   0   0   0]\n",
      "  [  0   0   0   0]\n",
      "  [  0   0   0   0]\n",
      "  [  0   0   0   0]\n",
      "  [  0   0   0   0]\n",
      "  [  0   0   0   0]\n",
      "  [  0   0   0   0]\n",
      "  [  0   0   0   0]\n",
      "  [  0   0   0   0]\n",
      "  [  0   0   0   0]\n",
      "  [  0   0   0   0]\n",
      "  [  0   0   0   0]\n",
      "  [  0   0   0   0]\n",
      "  [  0   0   0   0]\n",
      "  [  0   0   0   0]\n",
      "  [  0   0   0   0]\n",
      "  [  0   0   0   0]\n",
      "  [  0   0   0   0]\n",
      "  [  0   0   0   0]\n",
      "  [  0   0   0   0]\n",
      "  [  0   0   0   0]\n",
      "  [  0   0   0   0]\n",
      "  [  0   0   0   0]\n",
      "  [  0   0   0   0]\n",
      "  [  0   0   0   0]\n",
      "  [  0   0   0   0]\n",
      "  [  0   0   0   0]\n",
      "  [  0   0   0   0]\n",
      "  [  0   0   0   0]\n",
      "  [  0   0   0   0]\n",
      "  [  0   0   0   0]\n",
      "  [  0   0   0   0]\n",
      "  [  0   0   0   0]\n",
      "  [  0   0   0   0]\n",
      "  [  0   0   0   0]\n",
      "  [  0   0   0   0]\n",
      "  [  0   0   0   0]\n",
      "  [  0   0   0   0]\n",
      "  [  0   0   0   0]\n",
      "  [  0   0   0   0]\n",
      "  [  0   0   0   0]\n",
      "  [  0   0   0   0]\n",
      "  [  0   0   0   0]\n",
      "  [  0   0   0   0]\n",
      "  [  0   0   0   0]\n",
      "  [  0   0   0   0]\n",
      "  [  0   0   0   0]]]\n"
     ]
    }
   ],
   "source": [
    "print('batch_gt_bboxes: ', batch_gt_bboxes.shape, batch_gt_bboxes)"
   ]
  },
  {
   "cell_type": "markdown",
   "metadata": {},
   "source": [
    "#### Batach GT Mask"
   ]
  },
  {
   "cell_type": "code",
   "execution_count": 10,
   "metadata": {},
   "outputs": [
    {
     "name": "stdout",
     "output_type": "stream",
     "text": [
      "batch_gt_masks:  (1, 56, 56, 100) [2387 2285 3136    0    0    0    0    0    0    0    0    0    0    0    0\n",
      "    0    0    0    0    0    0    0    0    0    0    0    0    0    0    0\n",
      "    0    0    0    0    0    0    0    0    0    0    0    0    0    0    0\n",
      "    0    0    0    0    0    0    0    0    0    0    0    0    0    0    0\n",
      "    0    0    0    0    0    0    0    0    0    0    0    0    0    0    0\n",
      "    0    0    0    0    0    0    0    0    0    0    0    0    0    0    0\n",
      "    0    0    0    0    0    0    0    0    0    0] [[[[False  True  True ..., False False False]\n",
      "   [False  True  True ..., False False False]\n",
      "   [False  True  True ..., False False False]\n",
      "   ..., \n",
      "   [False  True  True ..., False False False]\n",
      "   [False  True  True ..., False False False]\n",
      "   [False  True  True ..., False False False]]\n",
      "\n",
      "  [[False  True  True ..., False False False]\n",
      "   [False  True  True ..., False False False]\n",
      "   [False  True  True ..., False False False]\n",
      "   ..., \n",
      "   [False  True  True ..., False False False]\n",
      "   [False  True  True ..., False False False]\n",
      "   [False  True  True ..., False False False]]\n",
      "\n",
      "  [[False  True  True ..., False False False]\n",
      "   [False  True  True ..., False False False]\n",
      "   [False  True  True ..., False False False]\n",
      "   ..., \n",
      "   [False  True  True ..., False False False]\n",
      "   [False  True  True ..., False False False]\n",
      "   [False  True  True ..., False False False]]\n",
      "\n",
      "  ..., \n",
      "  [[False  True  True ..., False False False]\n",
      "   [False  True  True ..., False False False]\n",
      "   [False  True  True ..., False False False]\n",
      "   ..., \n",
      "   [False  True  True ..., False False False]\n",
      "   [False  True  True ..., False False False]\n",
      "   [False  True  True ..., False False False]]\n",
      "\n",
      "  [[False  True  True ..., False False False]\n",
      "   [False  True  True ..., False False False]\n",
      "   [False  True  True ..., False False False]\n",
      "   ..., \n",
      "   [False  True  True ..., False False False]\n",
      "   [False  True  True ..., False False False]\n",
      "   [False  True  True ..., False False False]]\n",
      "\n",
      "  [[False  True  True ..., False False False]\n",
      "   [False  True  True ..., False False False]\n",
      "   [False  True  True ..., False False False]\n",
      "   ..., \n",
      "   [False  True  True ..., False False False]\n",
      "   [False  True  True ..., False False False]\n",
      "   [False  True  True ..., False False False]]]]\n"
     ]
    }
   ],
   "source": [
    "print('batch_gt_masks: ', batch_gt_masks.shape, \n",
    "      sum(sum(sum(batch_gt_masks))), batch_gt_masks)"
   ]
  },
  {
   "cell_type": "markdown",
   "metadata": {},
   "source": [
    "#### Anchors:"
   ]
  },
  {
   "cell_type": "code",
   "execution_count": 11,
   "metadata": {},
   "outputs": [
    {
     "name": "stdout",
     "output_type": "stream",
     "text": [
      "[0 1 2]\n",
      "image  (128, 128, 3)\n",
      "gt_box  (3, 4)\n",
      "gt_masks  (3, 56, 56)\n",
      "rpn_target_bbox  (3, 4)\n",
      "anchors_idx_with_neg_iou  253\n",
      "anchors_idx_with_neutral_iou  3836\n",
      "anchors_idx_with_pos_iou  3\n",
      "positive_anchors  (3, 4)\n",
      "neutral_anchors  (3836, 4)\n",
      "negative_anchors  (253, 4)\n",
      "positive_anchor_bbox  (3, 4)\n"
     ]
    }
   ],
   "source": [
    "# batch_gt_bboxes.shape\n",
    "indice = np.where(np.sum(abs(batch_gt_bboxes), axis=2)[run_for_batch_num] != 0)[0]\n",
    "print(indice)\n",
    "image = batch_images[run_for_batch_num]\n",
    "gt_box = batch_gt_bboxes[run_for_batch_num, indice]\n",
    "gt_masks = batch_gt_masks[run_for_batch_num, :,:,indice]\n",
    "anchors_idx_with_neg_iou = np.where(batch_rpn_target_class[run_for_batch_num] == -1)[0]\n",
    "anchors_idx_with_neutral_iou = np.where(batch_rpn_target_class[run_for_batch_num] == 0)[0]\n",
    "anchors_idx_with_pos_iou = np.where(batch_rpn_target_class[run_for_batch_num] == 1)[0]\n",
    "rpn_target_bbox = batch_rpn_target_bbox[run_for_batch_num, indice]\n",
    "positive_anchor_bbox = batch_positive_anchors[run_for_batch_num]\n",
    "\n",
    "positive_anchors = obj_ptd.anchors[anchors_idx_with_pos_iou]\n",
    "neutral_anchors = obj_ptd.anchors[anchors_idx_with_neutral_iou]\n",
    "negative_anchors = obj_ptd.anchors[anchors_idx_with_neg_iou]\n",
    "\n",
    "print ('image ', image.shape)\n",
    "print ('gt_box ', gt_box.shape)\n",
    "print ('gt_masks ', gt_masks.shape)\n",
    "print ('rpn_target_bbox ', rpn_target_bbox.shape)\n",
    "\n",
    "print ('anchors_idx_with_neg_iou ', len(anchors_idx_with_neg_iou))\n",
    "print ('anchors_idx_with_neutral_iou ', len(anchors_idx_with_neutral_iou))\n",
    "print ('anchors_idx_with_pos_iou ', len(anchors_idx_with_pos_iou))\n",
    "print ('positive_anchors ', positive_anchors.shape)\n",
    "print ('neutral_anchors ', neutral_anchors.shape)\n",
    "print ('negative_anchors ', negative_anchors.shape)\n",
    "\n",
    "\n",
    "print ('positive_anchor_bbox ', positive_anchor_bbox.shape)\n",
    "\n"
   ]
  },
  {
   "cell_type": "code",
   "execution_count": 12,
   "metadata": {},
   "outputs": [
    {
     "data": {
      "text/plain": [
       "array([[  64.      ,   32.      ,   96.      ,   64.      ],\n",
       "       [   0.      ,   64.      ,   64.      ,  128.      ],\n",
       "       [  50.745166,   41.372583,  141.254834,   86.627417]])"
      ]
     },
     "execution_count": 12,
     "metadata": {},
     "output_type": "execute_result"
    }
   ],
   "source": [
    "positive_anchor_bbox"
   ]
  },
  {
   "cell_type": "markdown",
   "metadata": {},
   "source": [
    "#### Check if Positive index on the anchor box is the same as extracted positive_anchor_box"
   ]
  },
  {
   "cell_type": "code",
   "execution_count": 13,
   "metadata": {},
   "outputs": [
    {
     "name": "stdout",
     "output_type": "stream",
     "text": [
      "[[  64.         32.         96.         64.      ]\n",
      " [   0.         64.         64.        128.      ]\n",
      " [  50.745166   41.372583  141.254834   86.627417]]\n",
      "[[  64.         32.         96.         64.      ]\n",
      " [   0.         64.         64.        128.      ]\n",
      " [  50.745166   41.372583  141.254834   86.627417]]\n"
     ]
    }
   ],
   "source": [
    "print (obj_ptd.anchors[anchors_idx_with_pos_iou])  \n",
    "print (positive_anchor_bbox)"
   ]
  },
  {
   "cell_type": "markdown",
   "metadata": {},
   "source": [
    "## Vizualize obejcts:\n",
    "---------"
   ]
  },
  {
   "cell_type": "code",
   "execution_count": 14,
   "metadata": {},
   "outputs": [
    {
     "data": {
      "image/png": "[encoded data removed]",
      "text/plain": [
       "<matplotlib.figure.Figure at 0x1c25246438>"
      ]
     },
     "metadata": {},
     "output_type": "display_data"
    }
   ],
   "source": [
    "from MaskRCNN.visualize import Visualize\n",
    "obj_viz = Visualize(rows=1, cols=4, figsize=(20,4))\n",
    "\n",
    "obj_viz.vizualize_image(image)\n",
    "for j in range(0,3):  # total number of labels\n",
    "    if j < gt_masks.shape[0]:\n",
    "        obj_viz.vizualize_image(gt_masks[j,:,:])\n",
    "    else:\n",
    "        obj_viz.num += 1\n",
    "obj_viz.show()"
   ]
  },
  {
   "cell_type": "markdown",
   "metadata": {},
   "source": [
    "## Vizualize Ground Truth Boxes\n",
    "---------"
   ]
  },
  {
   "cell_type": "code",
   "execution_count": 15,
   "metadata": {},
   "outputs": [
    {
     "data": {
      "image/png": "[encoded data removed]",
      "text/plain": [
       "<matplotlib.figure.Figure at 0x1c25246080>"
      ]
     },
     "metadata": {},
     "output_type": "display_data"
    }
   ],
   "source": [
    "obj_viz = Visualize(rows=1, cols=1, figsize=(20,10))\n",
    "obj_viz.visualize_boxes(gt_box, image)\n",
    "obj_viz.show()"
   ]
  },
  {
   "cell_type": "markdown",
   "metadata": {},
   "source": [
    "## Vizualize Positive Anchors woth IOU > 0.7 or the bouding box with max IOU\n",
    "------"
   ]
  },
  {
   "cell_type": "code",
   "execution_count": 16,
   "metadata": {},
   "outputs": [
    {
     "data": {
      "image/png": "[encoded data removed]",
      "text/plain": [
       "<matplotlib.figure.Figure at 0x1c2de28710>"
      ]
     },
     "metadata": {},
     "output_type": "display_data"
    }
   ],
   "source": [
    "obj_viz = Visualize(rows=1, cols=1, figsize=(20,10))\n",
    "obj_viz.visualize_boxes(positive_anchor_bbox, image)\n",
    "obj_viz.show()"
   ]
  },
  {
   "cell_type": "markdown",
   "metadata": {},
   "source": [
    "## Vizualize Negative Anchors with IOU < 0.3\n",
    "----------"
   ]
  },
  {
   "cell_type": "code",
   "execution_count": 17,
   "metadata": {},
   "outputs": [
    {
     "data": {
      "image/png": "[encoded data removed]",
      "text/plain": [
       "<matplotlib.figure.Figure at 0x1c2dfa0908>"
      ]
     },
     "metadata": {},
     "output_type": "display_data"
    }
   ],
   "source": [
    "obj_viz = Visualize(rows=1, cols=1, figsize=(20,10))\n",
    "obj_viz.visualize_boxes(negative_anchors, image)\n",
    "obj_viz.show()"
   ]
  },
  {
   "cell_type": "markdown",
   "metadata": {},
   "source": [
    "## Vizualize Neutral Anchors 0.3<IOU<0.7\n",
    "\n",
    "#### Read this:\n",
    "* You might be wondering, why many boxes, which seem to have iou = 0 are marked as neutral. This is becasue. In normal scenario we would have a class imbalance problem, where we would end up having more negative classes than positive classes.\n",
    "\n",
    "* Moreover, for regression Loss we have stated a limit of 256 anchors 128(+ve) and 128(-ve). in real scenario we would have -ve anchors >>> 128. Hence for training and loss calculation we select only 128 anchors from the list of all -ve anchors and make all other -ve anchors as neutral."
   ]
  },
  {
   "cell_type": "code",
   "execution_count": 18,
   "metadata": {
    "collapsed": true
   },
   "outputs": [],
   "source": [
    "np.random.shuffle(neutral_anchors)"
   ]
  },
  {
   "cell_type": "code",
   "execution_count": 19,
   "metadata": {},
   "outputs": [
    {
     "data": {
      "image/png": "[encoded data removed]",
      "text/plain": [
       "<matplotlib.figure.Figure at 0x1c2dfa0f98>"
      ]
     },
     "metadata": {},
     "output_type": "display_data"
    }
   ],
   "source": [
    "obj_viz = Visualize(rows=1, cols=1, figsize=(20,10))\n",
    "obj_viz.visualize_boxes(neutral_anchors[0:10], image)\n",
    "obj_viz.show()"
   ]
  },
  {
   "cell_type": "markdown",
   "metadata": {},
   "source": [
    "## Lets do some Training:\n",
    "--------"
   ]
  },
  {
   "cell_type": "code",
   "execution_count": 20,
   "metadata": {
    "scrolled": true
   },
   "outputs": [
    {
     "name": "stderr",
     "output_type": "stream",
     "text": [
      "Using TensorFlow backend.\n"
     ]
    },
    {
     "name": "stdout",
     "output_type": "stream",
     "text": [
      "[[  0 128 128   3 128 128   3   0   0 128 128   1   1   1   1   1]]\n",
      "<MaskRCNN.shapes.ShapesConfig object at 0x1c251962e8>\n",
      "(FPN) C2: (shape)  (?, 32, 32, 256)\n",
      "(FPN) C3: (shape)  (?, 16, 16, 512)\n",
      "(FPN) C4: (shape)  (?, 8, 8, 1024)\n",
      "(FPN) C5: (shape)  (?, 4, 4, 2048)\n",
      "(FPN) P2: (shape)  (?, 32, 32, 256)\n",
      "(FPN) P3: (shape)  (?, 16, 16, 256)\n",
      "(FPN) P4: (shape)  (?, 8, 8, 256)\n",
      "(FPN) P5: (shape)  (?, 4, 4, 256)\n",
      "(FPN) P6: (shape)  (?, 2, 2, 256)\n",
      "(RPN) Class Logits (shape)  (?, ?, 2)\n",
      "(RPN) Class Probs (shape)  (?, ?, 2)\n",
      "(RPN) Bbox (shape)  (?, ?, 4)\n",
      "(RPN) Class Logits (shape)  (?, ?, 2)\n",
      "(RPN) Class Probs (shape)  (?, ?, 2)\n",
      "(RPN) Bbox (shape)  (?, ?, 4)\n",
      "(RPN) Class Logits (shape)  (?, ?, 2)\n",
      "(RPN) Class Probs (shape)  (?, ?, 2)\n",
      "(RPN) Bbox (shape)  (?, ?, 4)\n",
      "(RPN) Class Logits (shape)  (?, ?, 2)\n",
      "(RPN) Class Probs (shape)  (?, ?, 2)\n",
      "(RPN) Bbox (shape)  (?, ?, 4)\n",
      "(RPN) Class Logits (shape)  (?, ?, 2)\n",
      "(RPN) Class Probs (shape)  (?, ?, 2)\n",
      "(RPN) Bbox (shape)  (?, ?, 4)\n",
      "(Proposals) Proposals (shape)  (1, ?, ?)\n",
      "Proposal DEBUG ................\n",
      "(MRCNN) Pooled Roi's (shape) (1, ?, 7, 7, 256)\n",
      "(?, ?)\n",
      "mrcnn_target_box (1, ?, ?) \n",
      " Tensor(\"stack_3:0\", shape=(1, ?, ?), dtype=float32)\n",
      "\n",
      "mrcnn_pred_box (?, ?, 4, 4) \n",
      " Tensor(\"mrcnn_bbox/Reshape:0\", shape=(?, ?, 4, 4), dtype=float32)\n",
      "\n",
      "mrcnn_target_class_ids (1, ?) \n",
      " Tensor(\"concat_12:0\", shape=(1, ?), dtype=int32)\n",
      "batch_active_class_ids  (1, 4) [[1 1 1 1]]\n",
      "batch_rpn_target_class  (1, 4092, 1)\n",
      "Variable:  fpn_c5p5/kernel:0\n",
      "Shape:  (1, 1, 2048, 256)\n",
      "Variable:  fpn_c5p5/bias:0\n",
      "Shape:  (256,)\n",
      "Variable:  fpn_c4p4/kernel:0\n",
      "Shape:  (1, 1, 1024, 256)\n",
      "Variable:  fpn_c4p4/bias:0\n",
      "Shape:  (256,)\n",
      "Variable:  fpn_c3p3/kernel:0\n",
      "Shape:  (1, 1, 512, 256)\n",
      "Variable:  fpn_c3p3/bias:0\n",
      "Shape:  (256,)\n",
      "Variable:  fpn_c2p2/kernel:0\n",
      "Shape:  (1, 1, 256, 256)\n",
      "Variable:  fpn_c2p2/bias:0\n",
      "Shape:  (256,)\n",
      "Variable:  fpn_p2/kernel:0\n",
      "Shape:  (3, 3, 256, 256)\n",
      "Variable:  fpn_p2/bias:0\n",
      "Shape:  (256,)\n",
      "Variable:  fpn_p3/kernel:0\n",
      "Shape:  (3, 3, 256, 256)\n",
      "Variable:  fpn_p3/bias:0\n",
      "Shape:  (256,)\n",
      "Variable:  fpn_p4/kernel:0\n",
      "Shape:  (3, 3, 256, 256)\n",
      "Variable:  fpn_p4/bias:0\n",
      "Shape:  (256,)\n",
      "Variable:  fpn_p5/kernel:0\n",
      "Shape:  (3, 3, 256, 256)\n",
      "Variable:  fpn_p5/bias:0\n",
      "Shape:  (256,)\n",
      "Variable:  rpn_conv_shared/kernel:0\n",
      "Shape:  (3, 3, 256, 512)\n",
      "Variable:  rpn_conv_shared/bias:0\n",
      "Shape:  (512,)\n",
      "Variable:  rpn_class_raw/kernel:0\n",
      "Shape:  (1, 1, 512, 6)\n",
      "Variable:  rpn_class_raw/bias:0\n",
      "Shape:  (6,)\n",
      "Variable:  rpn_bbox_pred/kernel:0\n",
      "Shape:  (1, 1, 512, 12)\n",
      "Variable:  rpn_bbox_pred/bias:0\n",
      "Shape:  (12,)\n",
      "Variable:  mrcnn_class_conv1/kernel:0\n",
      "Shape:  (7, 7, 256, 1024)\n",
      "Variable:  mrcnn_class_conv1/bias:0\n",
      "Shape:  (1024,)\n",
      "Variable:  mrcnn_class_bn1/gamma:0\n",
      "Shape:  (1024,)\n",
      "Variable:  mrcnn_class_bn1/beta:0\n",
      "Shape:  (1024,)\n",
      "Variable:  mrcnn_class_bn1/moving_mean:0\n",
      "Shape:  (1024,)\n",
      "Variable:  mrcnn_class_bn1/moving_variance:0\n",
      "Shape:  (1024,)\n",
      "Variable:  mrcnn_class_conv2/kernel:0\n",
      "Shape:  (1, 1, 1024, 1024)\n",
      "Variable:  mrcnn_class_conv2/bias:0\n",
      "Shape:  (1024,)\n",
      "Variable:  mrcnn_class_bn2/gamma:0\n",
      "Shape:  (1024,)\n",
      "Variable:  mrcnn_class_bn2/beta:0\n",
      "Shape:  (1024,)\n",
      "Variable:  mrcnn_class_bn2/moving_mean:0\n",
      "Shape:  (1024,)\n",
      "Variable:  mrcnn_class_bn2/moving_variance:0\n",
      "Shape:  (1024,)\n",
      "Variable:  mrcnn_class_logits/kernel:0\n",
      "Shape:  (1024, 4)\n",
      "Variable:  mrcnn_class_logits/bias:0\n",
      "Shape:  (4,)\n",
      "Variable:  mrcnn_bbox_fc/kernel:0\n",
      "Shape:  (1024, 16)\n",
      "Variable:  mrcnn_bbox_fc/bias:0\n",
      "Shape:  (16,)\n",
      "Variable name:  <HDF5 group \"/conv1/conv1\" (2 members)>\n",
      "Variable name:  <HDF5 group \"/conv1/conv1\" (2 members)>\n",
      "Variable name:  <HDF5 group \"/bn_conv1/bn_conv1\" (4 members)>\n",
      "Variable name:  <HDF5 group \"/bn_conv1/bn_conv1\" (4 members)>\n",
      "Variable name:  <HDF5 group \"/bn_conv1/bn_conv1\" (4 members)>\n",
      "Variable name:  <HDF5 group \"/bn_conv1/bn_conv1\" (4 members)>\n",
      "Variable name:  <HDF5 group \"/res2a_branch1/res2a_branch1\" (2 members)>\n",
      "Variable name:  <HDF5 group \"/res2a_branch1/res2a_branch1\" (2 members)>\n",
      "Variable name:  <HDF5 group \"/bn2a_branch1/bn2a_branch1\" (4 members)>\n",
      "Variable name:  <HDF5 group \"/bn2a_branch1/bn2a_branch1\" (4 members)>\n",
      "Variable name:  <HDF5 group \"/bn2a_branch1/bn2a_branch1\" (4 members)>\n",
      "Variable name:  <HDF5 group \"/bn2a_branch1/bn2a_branch1\" (4 members)>\n",
      "Variable name:  <HDF5 group \"/res2a_branch2a/res2a_branch2a\" (2 members)>\n",
      "Variable name:  <HDF5 group \"/res2a_branch2a/res2a_branch2a\" (2 members)>\n",
      "Variable name:  <HDF5 group \"/bn2a_branch2a/bn2a_branch2a\" (4 members)>\n",
      "Variable name:  <HDF5 group \"/bn2a_branch2a/bn2a_branch2a\" (4 members)>\n",
      "Variable name:  <HDF5 group \"/bn2a_branch2a/bn2a_branch2a\" (4 members)>\n",
      "Variable name:  <HDF5 group \"/bn2a_branch2a/bn2a_branch2a\" (4 members)>\n",
      "Variable name:  <HDF5 group \"/res2a_branch2b/res2a_branch2b\" (2 members)>\n",
      "Variable name:  <HDF5 group \"/res2a_branch2b/res2a_branch2b\" (2 members)>\n",
      "Variable name:  <HDF5 group \"/bn2a_branch2b/bn2a_branch2b\" (4 members)>\n",
      "Variable name:  <HDF5 group \"/bn2a_branch2b/bn2a_branch2b\" (4 members)>\n",
      "Variable name:  <HDF5 group \"/bn2a_branch2b/bn2a_branch2b\" (4 members)>\n",
      "Variable name:  <HDF5 group \"/bn2a_branch2b/bn2a_branch2b\" (4 members)>\n",
      "Variable name:  <HDF5 group \"/res2a_branch2c/res2a_branch2c\" (2 members)>\n",
      "Variable name:  <HDF5 group \"/res2a_branch2c/res2a_branch2c\" (2 members)>\n",
      "Variable name:  <HDF5 group \"/bn2a_branch2c/bn2a_branch2c\" (4 members)>\n",
      "Variable name:  <HDF5 group \"/bn2a_branch2c/bn2a_branch2c\" (4 members)>\n",
      "Variable name:  <HDF5 group \"/bn2a_branch2c/bn2a_branch2c\" (4 members)>\n",
      "Variable name:  <HDF5 group \"/bn2a_branch2c/bn2a_branch2c\" (4 members)>\n",
      "Variable name:  <HDF5 group \"/res2b_branch2a/res2b_branch2a\" (2 members)>\n",
      "Variable name:  <HDF5 group \"/res2b_branch2a/res2b_branch2a\" (2 members)>\n",
      "Variable name:  <HDF5 group \"/bn2b_branch2a/bn2b_branch2a\" (4 members)>\n",
      "Variable name:  <HDF5 group \"/bn2b_branch2a/bn2b_branch2a\" (4 members)>\n",
      "Variable name:  <HDF5 group \"/bn2b_branch2a/bn2b_branch2a\" (4 members)>\n",
      "Variable name:  <HDF5 group \"/bn2b_branch2a/bn2b_branch2a\" (4 members)>\n",
      "Variable name:  <HDF5 group \"/res2b_branch2b/res2b_branch2b\" (2 members)>\n",
      "Variable name:  <HDF5 group \"/res2b_branch2b/res2b_branch2b\" (2 members)>\n",
      "Variable name:  <HDF5 group \"/bn2b_branch2b/bn2b_branch2b\" (4 members)>\n",
      "Variable name:  <HDF5 group \"/bn2b_branch2b/bn2b_branch2b\" (4 members)>\n",
      "Variable name:  <HDF5 group \"/bn2b_branch2b/bn2b_branch2b\" (4 members)>\n",
      "Variable name:  <HDF5 group \"/bn2b_branch2b/bn2b_branch2b\" (4 members)>\n",
      "Variable name:  <HDF5 group \"/res2b_branch2c/res2b_branch2c\" (2 members)>\n",
      "Variable name:  <HDF5 group \"/res2b_branch2c/res2b_branch2c\" (2 members)>\n",
      "Variable name:  <HDF5 group \"/bn2b_branch2c/bn2b_branch2c\" (4 members)>\n",
      "Variable name:  <HDF5 group \"/bn2b_branch2c/bn2b_branch2c\" (4 members)>\n",
      "Variable name:  <HDF5 group \"/bn2b_branch2c/bn2b_branch2c\" (4 members)>\n",
      "Variable name:  <HDF5 group \"/bn2b_branch2c/bn2b_branch2c\" (4 members)>\n",
      "Variable name:  <HDF5 group \"/res2c_branch2a/res2c_branch2a\" (2 members)>\n",
      "Variable name:  <HDF5 group \"/res2c_branch2a/res2c_branch2a\" (2 members)>\n",
      "Variable name:  <HDF5 group \"/bn2c_branch2a/bn2c_branch2a\" (4 members)>\n",
      "Variable name:  <HDF5 group \"/bn2c_branch2a/bn2c_branch2a\" (4 members)>\n",
      "Variable name:  <HDF5 group \"/bn2c_branch2a/bn2c_branch2a\" (4 members)>\n",
      "Variable name:  <HDF5 group \"/bn2c_branch2a/bn2c_branch2a\" (4 members)>\n",
      "Variable name:  <HDF5 group \"/res2c_branch2b/res2c_branch2b\" (2 members)>\n",
      "Variable name:  <HDF5 group \"/res2c_branch2b/res2c_branch2b\" (2 members)>\n",
      "Variable name:  <HDF5 group \"/bn2c_branch2b/bn2c_branch2b\" (4 members)>\n",
      "Variable name:  <HDF5 group \"/bn2c_branch2b/bn2c_branch2b\" (4 members)>\n",
      "Variable name:  <HDF5 group \"/bn2c_branch2b/bn2c_branch2b\" (4 members)>\n",
      "Variable name:  <HDF5 group \"/bn2c_branch2b/bn2c_branch2b\" (4 members)>\n",
      "Variable name:  <HDF5 group \"/res2c_branch2c/res2c_branch2c\" (2 members)>\n",
      "Variable name:  <HDF5 group \"/res2c_branch2c/res2c_branch2c\" (2 members)>\n",
      "Variable name:  <HDF5 group \"/bn2c_branch2c/bn2c_branch2c\" (4 members)>\n",
      "Variable name:  <HDF5 group \"/bn2c_branch2c/bn2c_branch2c\" (4 members)>\n",
      "Variable name:  <HDF5 group \"/bn2c_branch2c/bn2c_branch2c\" (4 members)>\n",
      "Variable name:  <HDF5 group \"/bn2c_branch2c/bn2c_branch2c\" (4 members)>\n",
      "Variable name:  <HDF5 group \"/res3a_branch1/res3a_branch1\" (2 members)>\n",
      "Variable name:  <HDF5 group \"/res3a_branch1/res3a_branch1\" (2 members)>\n"
     ]
    },
    {
     "name": "stdout",
     "output_type": "stream",
     "text": [
      "Variable name:  <HDF5 group \"/bn3a_branch1/bn3a_branch1\" (4 members)>\n",
      "Variable name:  <HDF5 group \"/bn3a_branch1/bn3a_branch1\" (4 members)>\n",
      "Variable name:  <HDF5 group \"/bn3a_branch1/bn3a_branch1\" (4 members)>\n",
      "Variable name:  <HDF5 group \"/bn3a_branch1/bn3a_branch1\" (4 members)>\n",
      "Variable name:  <HDF5 group \"/res3a_branch2a/res3a_branch2a\" (2 members)>\n",
      "Variable name:  <HDF5 group \"/res3a_branch2a/res3a_branch2a\" (2 members)>\n",
      "Variable name:  <HDF5 group \"/bn3a_branch2a/bn3a_branch2a\" (4 members)>\n",
      "Variable name:  <HDF5 group \"/bn3a_branch2a/bn3a_branch2a\" (4 members)>\n",
      "Variable name:  <HDF5 group \"/bn3a_branch2a/bn3a_branch2a\" (4 members)>\n",
      "Variable name:  <HDF5 group \"/bn3a_branch2a/bn3a_branch2a\" (4 members)>\n",
      "Variable name:  <HDF5 group \"/res3a_branch2b/res3a_branch2b\" (2 members)>\n",
      "Variable name:  <HDF5 group \"/res3a_branch2b/res3a_branch2b\" (2 members)>\n",
      "Variable name:  <HDF5 group \"/bn3a_branch2b/bn3a_branch2b\" (4 members)>\n",
      "Variable name:  <HDF5 group \"/bn3a_branch2b/bn3a_branch2b\" (4 members)>\n",
      "Variable name:  <HDF5 group \"/bn3a_branch2b/bn3a_branch2b\" (4 members)>\n",
      "Variable name:  <HDF5 group \"/bn3a_branch2b/bn3a_branch2b\" (4 members)>\n",
      "Variable name:  <HDF5 group \"/res3a_branch2c/res3a_branch2c\" (2 members)>\n",
      "Variable name:  <HDF5 group \"/res3a_branch2c/res3a_branch2c\" (2 members)>\n",
      "Variable name:  <HDF5 group \"/bn3a_branch2c/bn3a_branch2c\" (4 members)>\n",
      "Variable name:  <HDF5 group \"/bn3a_branch2c/bn3a_branch2c\" (4 members)>\n",
      "Variable name:  <HDF5 group \"/bn3a_branch2c/bn3a_branch2c\" (4 members)>\n",
      "Variable name:  <HDF5 group \"/bn3a_branch2c/bn3a_branch2c\" (4 members)>\n",
      "Variable name:  <HDF5 group \"/res3b_branch2a/res3b_branch2a\" (2 members)>\n",
      "Variable name:  <HDF5 group \"/res3b_branch2a/res3b_branch2a\" (2 members)>\n",
      "Variable name:  <HDF5 group \"/bn3b_branch2a/bn3b_branch2a\" (4 members)>\n",
      "Variable name:  <HDF5 group \"/bn3b_branch2a/bn3b_branch2a\" (4 members)>\n",
      "Variable name:  <HDF5 group \"/bn3b_branch2a/bn3b_branch2a\" (4 members)>\n",
      "Variable name:  <HDF5 group \"/bn3b_branch2a/bn3b_branch2a\" (4 members)>\n",
      "Variable name:  <HDF5 group \"/res3b_branch2b/res3b_branch2b\" (2 members)>\n",
      "Variable name:  <HDF5 group \"/res3b_branch2b/res3b_branch2b\" (2 members)>\n",
      "Variable name:  <HDF5 group \"/bn3b_branch2b/bn3b_branch2b\" (4 members)>\n",
      "Variable name:  <HDF5 group \"/bn3b_branch2b/bn3b_branch2b\" (4 members)>\n",
      "Variable name:  <HDF5 group \"/bn3b_branch2b/bn3b_branch2b\" (4 members)>\n",
      "Variable name:  <HDF5 group \"/bn3b_branch2b/bn3b_branch2b\" (4 members)>\n",
      "Variable name:  <HDF5 group \"/res3b_branch2c/res3b_branch2c\" (2 members)>\n",
      "Variable name:  <HDF5 group \"/res3b_branch2c/res3b_branch2c\" (2 members)>\n",
      "Variable name:  <HDF5 group \"/bn3b_branch2c/bn3b_branch2c\" (4 members)>\n",
      "Variable name:  <HDF5 group \"/bn3b_branch2c/bn3b_branch2c\" (4 members)>\n",
      "Variable name:  <HDF5 group \"/bn3b_branch2c/bn3b_branch2c\" (4 members)>\n",
      "Variable name:  <HDF5 group \"/bn3b_branch2c/bn3b_branch2c\" (4 members)>\n",
      "Variable name:  <HDF5 group \"/res3c_branch2a/res3c_branch2a\" (2 members)>\n",
      "Variable name:  <HDF5 group \"/res3c_branch2a/res3c_branch2a\" (2 members)>\n",
      "Variable name:  <HDF5 group \"/bn3c_branch2a/bn3c_branch2a\" (4 members)>\n",
      "Variable name:  <HDF5 group \"/bn3c_branch2a/bn3c_branch2a\" (4 members)>\n",
      "Variable name:  <HDF5 group \"/bn3c_branch2a/bn3c_branch2a\" (4 members)>\n",
      "Variable name:  <HDF5 group \"/bn3c_branch2a/bn3c_branch2a\" (4 members)>\n",
      "Variable name:  <HDF5 group \"/res3c_branch2b/res3c_branch2b\" (2 members)>\n",
      "Variable name:  <HDF5 group \"/res3c_branch2b/res3c_branch2b\" (2 members)>\n",
      "Variable name:  <HDF5 group \"/bn3c_branch2b/bn3c_branch2b\" (4 members)>\n",
      "Variable name:  <HDF5 group \"/bn3c_branch2b/bn3c_branch2b\" (4 members)>\n",
      "Variable name:  <HDF5 group \"/bn3c_branch2b/bn3c_branch2b\" (4 members)>\n",
      "Variable name:  <HDF5 group \"/bn3c_branch2b/bn3c_branch2b\" (4 members)>\n",
      "Variable name:  <HDF5 group \"/res3c_branch2c/res3c_branch2c\" (2 members)>\n",
      "Variable name:  <HDF5 group \"/res3c_branch2c/res3c_branch2c\" (2 members)>\n",
      "Variable name:  <HDF5 group \"/bn3c_branch2c/bn3c_branch2c\" (4 members)>\n",
      "Variable name:  <HDF5 group \"/bn3c_branch2c/bn3c_branch2c\" (4 members)>\n",
      "Variable name:  <HDF5 group \"/bn3c_branch2c/bn3c_branch2c\" (4 members)>\n",
      "Variable name:  <HDF5 group \"/bn3c_branch2c/bn3c_branch2c\" (4 members)>\n",
      "Variable name:  <HDF5 group \"/res3d_branch2a/res3d_branch2a\" (2 members)>\n",
      "Variable name:  <HDF5 group \"/res3d_branch2a/res3d_branch2a\" (2 members)>\n",
      "Variable name:  <HDF5 group \"/bn3d_branch2a/bn3d_branch2a\" (4 members)>\n",
      "Variable name:  <HDF5 group \"/bn3d_branch2a/bn3d_branch2a\" (4 members)>\n",
      "Variable name:  <HDF5 group \"/bn3d_branch2a/bn3d_branch2a\" (4 members)>\n",
      "Variable name:  <HDF5 group \"/bn3d_branch2a/bn3d_branch2a\" (4 members)>\n",
      "Variable name:  <HDF5 group \"/res3d_branch2b/res3d_branch2b\" (2 members)>\n",
      "Variable name:  <HDF5 group \"/res3d_branch2b/res3d_branch2b\" (2 members)>\n",
      "Variable name:  <HDF5 group \"/bn3d_branch2b/bn3d_branch2b\" (4 members)>\n",
      "Variable name:  <HDF5 group \"/bn3d_branch2b/bn3d_branch2b\" (4 members)>\n",
      "Variable name:  <HDF5 group \"/bn3d_branch2b/bn3d_branch2b\" (4 members)>\n",
      "Variable name:  <HDF5 group \"/bn3d_branch2b/bn3d_branch2b\" (4 members)>\n",
      "Variable name:  <HDF5 group \"/res3d_branch2c/res3d_branch2c\" (2 members)>\n",
      "Variable name:  <HDF5 group \"/res3d_branch2c/res3d_branch2c\" (2 members)>\n",
      "Variable name:  <HDF5 group \"/bn3d_branch2c/bn3d_branch2c\" (4 members)>\n",
      "Variable name:  <HDF5 group \"/bn3d_branch2c/bn3d_branch2c\" (4 members)>\n",
      "Variable name:  <HDF5 group \"/bn3d_branch2c/bn3d_branch2c\" (4 members)>\n",
      "Variable name:  <HDF5 group \"/bn3d_branch2c/bn3d_branch2c\" (4 members)>\n",
      "Variable name:  <HDF5 group \"/res4a_branch1/res4a_branch1\" (2 members)>\n",
      "Variable name:  <HDF5 group \"/res4a_branch1/res4a_branch1\" (2 members)>\n",
      "Variable name:  <HDF5 group \"/bn4a_branch1/bn4a_branch1\" (4 members)>\n",
      "Variable name:  <HDF5 group \"/bn4a_branch1/bn4a_branch1\" (4 members)>\n",
      "Variable name:  <HDF5 group \"/bn4a_branch1/bn4a_branch1\" (4 members)>\n",
      "Variable name:  <HDF5 group \"/bn4a_branch1/bn4a_branch1\" (4 members)>\n",
      "Variable name:  <HDF5 group \"/res4a_branch2a/res4a_branch2a\" (2 members)>\n",
      "Variable name:  <HDF5 group \"/res4a_branch2a/res4a_branch2a\" (2 members)>\n",
      "Variable name:  <HDF5 group \"/bn4a_branch2a/bn4a_branch2a\" (4 members)>\n",
      "Variable name:  <HDF5 group \"/bn4a_branch2a/bn4a_branch2a\" (4 members)>\n",
      "Variable name:  <HDF5 group \"/bn4a_branch2a/bn4a_branch2a\" (4 members)>\n",
      "Variable name:  <HDF5 group \"/bn4a_branch2a/bn4a_branch2a\" (4 members)>\n",
      "Variable name:  <HDF5 group \"/res4a_branch2b/res4a_branch2b\" (2 members)>\n",
      "Variable name:  <HDF5 group \"/res4a_branch2b/res4a_branch2b\" (2 members)>\n",
      "Variable name:  <HDF5 group \"/bn4a_branch2b/bn4a_branch2b\" (4 members)>\n",
      "Variable name:  <HDF5 group \"/bn4a_branch2b/bn4a_branch2b\" (4 members)>\n",
      "Variable name:  <HDF5 group \"/bn4a_branch2b/bn4a_branch2b\" (4 members)>\n",
      "Variable name:  <HDF5 group \"/bn4a_branch2b/bn4a_branch2b\" (4 members)>\n",
      "Variable name:  <HDF5 group \"/res4a_branch2c/res4a_branch2c\" (2 members)>\n",
      "Variable name:  <HDF5 group \"/res4a_branch2c/res4a_branch2c\" (2 members)>\n",
      "Variable name:  <HDF5 group \"/bn4a_branch2c/bn4a_branch2c\" (4 members)>\n",
      "Variable name:  <HDF5 group \"/bn4a_branch2c/bn4a_branch2c\" (4 members)>\n",
      "Variable name:  <HDF5 group \"/bn4a_branch2c/bn4a_branch2c\" (4 members)>\n",
      "Variable name:  <HDF5 group \"/bn4a_branch2c/bn4a_branch2c\" (4 members)>\n",
      "Variable name:  <HDF5 group \"/res4b_branch2a/res4b_branch2a\" (2 members)>\n",
      "Variable name:  <HDF5 group \"/res4b_branch2a/res4b_branch2a\" (2 members)>\n",
      "Variable name:  <HDF5 group \"/bn4b_branch2a/bn4b_branch2a\" (4 members)>\n",
      "Variable name:  <HDF5 group \"/bn4b_branch2a/bn4b_branch2a\" (4 members)>\n",
      "Variable name:  <HDF5 group \"/bn4b_branch2a/bn4b_branch2a\" (4 members)>\n",
      "Variable name:  <HDF5 group \"/bn4b_branch2a/bn4b_branch2a\" (4 members)>\n",
      "Variable name:  <HDF5 group \"/res4b_branch2b/res4b_branch2b\" (2 members)>\n",
      "Variable name:  <HDF5 group \"/res4b_branch2b/res4b_branch2b\" (2 members)>\n",
      "Variable name:  <HDF5 group \"/bn4b_branch2b/bn4b_branch2b\" (4 members)>\n",
      "Variable name:  <HDF5 group \"/bn4b_branch2b/bn4b_branch2b\" (4 members)>\n",
      "Variable name:  <HDF5 group \"/bn4b_branch2b/bn4b_branch2b\" (4 members)>\n",
      "Variable name:  <HDF5 group \"/bn4b_branch2b/bn4b_branch2b\" (4 members)>\n",
      "Variable name:  <HDF5 group \"/res4b_branch2c/res4b_branch2c\" (2 members)>\n",
      "Variable name:  <HDF5 group \"/res4b_branch2c/res4b_branch2c\" (2 members)>\n"
     ]
    },
    {
     "name": "stdout",
     "output_type": "stream",
     "text": [
      "Variable name:  <HDF5 group \"/bn4b_branch2c/bn4b_branch2c\" (4 members)>\n",
      "Variable name:  <HDF5 group \"/bn4b_branch2c/bn4b_branch2c\" (4 members)>\n",
      "Variable name:  <HDF5 group \"/bn4b_branch2c/bn4b_branch2c\" (4 members)>\n",
      "Variable name:  <HDF5 group \"/bn4b_branch2c/bn4b_branch2c\" (4 members)>\n",
      "Variable name:  <HDF5 group \"/res4c_branch2a/res4c_branch2a\" (2 members)>\n",
      "Variable name:  <HDF5 group \"/res4c_branch2a/res4c_branch2a\" (2 members)>\n",
      "Variable name:  <HDF5 group \"/bn4c_branch2a/bn4c_branch2a\" (4 members)>\n",
      "Variable name:  <HDF5 group \"/bn4c_branch2a/bn4c_branch2a\" (4 members)>\n",
      "Variable name:  <HDF5 group \"/bn4c_branch2a/bn4c_branch2a\" (4 members)>\n",
      "Variable name:  <HDF5 group \"/bn4c_branch2a/bn4c_branch2a\" (4 members)>\n",
      "Variable name:  <HDF5 group \"/res4c_branch2b/res4c_branch2b\" (2 members)>\n",
      "Variable name:  <HDF5 group \"/res4c_branch2b/res4c_branch2b\" (2 members)>\n",
      "Variable name:  <HDF5 group \"/bn4c_branch2b/bn4c_branch2b\" (4 members)>\n",
      "Variable name:  <HDF5 group \"/bn4c_branch2b/bn4c_branch2b\" (4 members)>\n",
      "Variable name:  <HDF5 group \"/bn4c_branch2b/bn4c_branch2b\" (4 members)>\n",
      "Variable name:  <HDF5 group \"/bn4c_branch2b/bn4c_branch2b\" (4 members)>\n",
      "Variable name:  <HDF5 group \"/res4c_branch2c/res4c_branch2c\" (2 members)>\n",
      "Variable name:  <HDF5 group \"/res4c_branch2c/res4c_branch2c\" (2 members)>\n",
      "Variable name:  <HDF5 group \"/bn4c_branch2c/bn4c_branch2c\" (4 members)>\n",
      "Variable name:  <HDF5 group \"/bn4c_branch2c/bn4c_branch2c\" (4 members)>\n",
      "Variable name:  <HDF5 group \"/bn4c_branch2c/bn4c_branch2c\" (4 members)>\n",
      "Variable name:  <HDF5 group \"/bn4c_branch2c/bn4c_branch2c\" (4 members)>\n",
      "Variable name:  <HDF5 group \"/res4d_branch2a/res4d_branch2a\" (2 members)>\n",
      "Variable name:  <HDF5 group \"/res4d_branch2a/res4d_branch2a\" (2 members)>\n",
      "Variable name:  <HDF5 group \"/bn4d_branch2a/bn4d_branch2a\" (4 members)>\n",
      "Variable name:  <HDF5 group \"/bn4d_branch2a/bn4d_branch2a\" (4 members)>\n",
      "Variable name:  <HDF5 group \"/bn4d_branch2a/bn4d_branch2a\" (4 members)>\n",
      "Variable name:  <HDF5 group \"/bn4d_branch2a/bn4d_branch2a\" (4 members)>\n",
      "Variable name:  <HDF5 group \"/res4d_branch2b/res4d_branch2b\" (2 members)>\n",
      "Variable name:  <HDF5 group \"/res4d_branch2b/res4d_branch2b\" (2 members)>\n",
      "Variable name:  <HDF5 group \"/bn4d_branch2b/bn4d_branch2b\" (4 members)>\n",
      "Variable name:  <HDF5 group \"/bn4d_branch2b/bn4d_branch2b\" (4 members)>\n",
      "Variable name:  <HDF5 group \"/bn4d_branch2b/bn4d_branch2b\" (4 members)>\n",
      "Variable name:  <HDF5 group \"/bn4d_branch2b/bn4d_branch2b\" (4 members)>\n",
      "Variable name:  <HDF5 group \"/res4d_branch2c/res4d_branch2c\" (2 members)>\n",
      "Variable name:  <HDF5 group \"/res4d_branch2c/res4d_branch2c\" (2 members)>\n",
      "Variable name:  <HDF5 group \"/bn4d_branch2c/bn4d_branch2c\" (4 members)>\n",
      "Variable name:  <HDF5 group \"/bn4d_branch2c/bn4d_branch2c\" (4 members)>\n",
      "Variable name:  <HDF5 group \"/bn4d_branch2c/bn4d_branch2c\" (4 members)>\n",
      "Variable name:  <HDF5 group \"/bn4d_branch2c/bn4d_branch2c\" (4 members)>\n",
      "Variable name:  <HDF5 group \"/res4e_branch2a/res4e_branch2a\" (2 members)>\n",
      "Variable name:  <HDF5 group \"/res4e_branch2a/res4e_branch2a\" (2 members)>\n",
      "Variable name:  <HDF5 group \"/bn4e_branch2a/bn4e_branch2a\" (4 members)>\n",
      "Variable name:  <HDF5 group \"/bn4e_branch2a/bn4e_branch2a\" (4 members)>\n",
      "Variable name:  <HDF5 group \"/bn4e_branch2a/bn4e_branch2a\" (4 members)>\n",
      "Variable name:  <HDF5 group \"/bn4e_branch2a/bn4e_branch2a\" (4 members)>\n",
      "Variable name:  <HDF5 group \"/res4e_branch2b/res4e_branch2b\" (2 members)>\n",
      "Variable name:  <HDF5 group \"/res4e_branch2b/res4e_branch2b\" (2 members)>\n",
      "Variable name:  <HDF5 group \"/bn4e_branch2b/bn4e_branch2b\" (4 members)>\n",
      "Variable name:  <HDF5 group \"/bn4e_branch2b/bn4e_branch2b\" (4 members)>\n",
      "Variable name:  <HDF5 group \"/bn4e_branch2b/bn4e_branch2b\" (4 members)>\n",
      "Variable name:  <HDF5 group \"/bn4e_branch2b/bn4e_branch2b\" (4 members)>\n",
      "Variable name:  <HDF5 group \"/res4e_branch2c/res4e_branch2c\" (2 members)>\n",
      "Variable name:  <HDF5 group \"/res4e_branch2c/res4e_branch2c\" (2 members)>\n",
      "Variable name:  <HDF5 group \"/bn4e_branch2c/bn4e_branch2c\" (4 members)>\n",
      "Variable name:  <HDF5 group \"/bn4e_branch2c/bn4e_branch2c\" (4 members)>\n",
      "Variable name:  <HDF5 group \"/bn4e_branch2c/bn4e_branch2c\" (4 members)>\n",
      "Variable name:  <HDF5 group \"/bn4e_branch2c/bn4e_branch2c\" (4 members)>\n",
      "Variable name:  <HDF5 group \"/res4f_branch2a/res4f_branch2a\" (2 members)>\n",
      "Variable name:  <HDF5 group \"/res4f_branch2a/res4f_branch2a\" (2 members)>\n",
      "Variable name:  <HDF5 group \"/bn4f_branch2a/bn4f_branch2a\" (4 members)>\n",
      "Variable name:  <HDF5 group \"/bn4f_branch2a/bn4f_branch2a\" (4 members)>\n",
      "Variable name:  <HDF5 group \"/bn4f_branch2a/bn4f_branch2a\" (4 members)>\n",
      "Variable name:  <HDF5 group \"/bn4f_branch2a/bn4f_branch2a\" (4 members)>\n",
      "Variable name:  <HDF5 group \"/res4f_branch2b/res4f_branch2b\" (2 members)>\n",
      "Variable name:  <HDF5 group \"/res4f_branch2b/res4f_branch2b\" (2 members)>\n",
      "Variable name:  <HDF5 group \"/bn4f_branch2b/bn4f_branch2b\" (4 members)>\n",
      "Variable name:  <HDF5 group \"/bn4f_branch2b/bn4f_branch2b\" (4 members)>\n",
      "Variable name:  <HDF5 group \"/bn4f_branch2b/bn4f_branch2b\" (4 members)>\n",
      "Variable name:  <HDF5 group \"/bn4f_branch2b/bn4f_branch2b\" (4 members)>\n",
      "Variable name:  <HDF5 group \"/res4f_branch2c/res4f_branch2c\" (2 members)>\n",
      "Variable name:  <HDF5 group \"/res4f_branch2c/res4f_branch2c\" (2 members)>\n",
      "Variable name:  <HDF5 group \"/bn4f_branch2c/bn4f_branch2c\" (4 members)>\n",
      "Variable name:  <HDF5 group \"/bn4f_branch2c/bn4f_branch2c\" (4 members)>\n",
      "Variable name:  <HDF5 group \"/bn4f_branch2c/bn4f_branch2c\" (4 members)>\n",
      "Variable name:  <HDF5 group \"/bn4f_branch2c/bn4f_branch2c\" (4 members)>\n",
      "Variable name:  <HDF5 group \"/res4g_branch2a/res4g_branch2a\" (2 members)>\n",
      "Variable name:  <HDF5 group \"/res4g_branch2a/res4g_branch2a\" (2 members)>\n",
      "Variable name:  <HDF5 group \"/bn4g_branch2a/bn4g_branch2a\" (4 members)>\n",
      "Variable name:  <HDF5 group \"/bn4g_branch2a/bn4g_branch2a\" (4 members)>\n",
      "Variable name:  <HDF5 group \"/bn4g_branch2a/bn4g_branch2a\" (4 members)>\n",
      "Variable name:  <HDF5 group \"/bn4g_branch2a/bn4g_branch2a\" (4 members)>\n",
      "Variable name:  <HDF5 group \"/res4g_branch2b/res4g_branch2b\" (2 members)>\n",
      "Variable name:  <HDF5 group \"/res4g_branch2b/res4g_branch2b\" (2 members)>\n",
      "Variable name:  <HDF5 group \"/bn4g_branch2b/bn4g_branch2b\" (4 members)>\n",
      "Variable name:  <HDF5 group \"/bn4g_branch2b/bn4g_branch2b\" (4 members)>\n",
      "Variable name:  <HDF5 group \"/bn4g_branch2b/bn4g_branch2b\" (4 members)>\n",
      "Variable name:  <HDF5 group \"/bn4g_branch2b/bn4g_branch2b\" (4 members)>\n",
      "Variable name:  <HDF5 group \"/res4g_branch2c/res4g_branch2c\" (2 members)>\n",
      "Variable name:  <HDF5 group \"/res4g_branch2c/res4g_branch2c\" (2 members)>\n",
      "Variable name:  <HDF5 group \"/bn4g_branch2c/bn4g_branch2c\" (4 members)>\n",
      "Variable name:  <HDF5 group \"/bn4g_branch2c/bn4g_branch2c\" (4 members)>\n",
      "Variable name:  <HDF5 group \"/bn4g_branch2c/bn4g_branch2c\" (4 members)>\n",
      "Variable name:  <HDF5 group \"/bn4g_branch2c/bn4g_branch2c\" (4 members)>\n",
      "Variable name:  <HDF5 group \"/res4h_branch2a/res4h_branch2a\" (2 members)>\n",
      "Variable name:  <HDF5 group \"/res4h_branch2a/res4h_branch2a\" (2 members)>\n",
      "Variable name:  <HDF5 group \"/bn4h_branch2a/bn4h_branch2a\" (4 members)>\n",
      "Variable name:  <HDF5 group \"/bn4h_branch2a/bn4h_branch2a\" (4 members)>\n",
      "Variable name:  <HDF5 group \"/bn4h_branch2a/bn4h_branch2a\" (4 members)>\n",
      "Variable name:  <HDF5 group \"/bn4h_branch2a/bn4h_branch2a\" (4 members)>\n",
      "Variable name:  <HDF5 group \"/res4h_branch2b/res4h_branch2b\" (2 members)>\n",
      "Variable name:  <HDF5 group \"/res4h_branch2b/res4h_branch2b\" (2 members)>\n",
      "Variable name:  <HDF5 group \"/bn4h_branch2b/bn4h_branch2b\" (4 members)>\n",
      "Variable name:  <HDF5 group \"/bn4h_branch2b/bn4h_branch2b\" (4 members)>\n",
      "Variable name:  <HDF5 group \"/bn4h_branch2b/bn4h_branch2b\" (4 members)>\n",
      "Variable name:  <HDF5 group \"/bn4h_branch2b/bn4h_branch2b\" (4 members)>\n",
      "Variable name:  <HDF5 group \"/res4h_branch2c/res4h_branch2c\" (2 members)>\n",
      "Variable name:  <HDF5 group \"/res4h_branch2c/res4h_branch2c\" (2 members)>\n",
      "Variable name:  <HDF5 group \"/bn4h_branch2c/bn4h_branch2c\" (4 members)>\n",
      "Variable name:  <HDF5 group \"/bn4h_branch2c/bn4h_branch2c\" (4 members)>\n",
      "Variable name:  <HDF5 group \"/bn4h_branch2c/bn4h_branch2c\" (4 members)>\n",
      "Variable name:  <HDF5 group \"/bn4h_branch2c/bn4h_branch2c\" (4 members)>\n",
      "Variable name:  <HDF5 group \"/res4i_branch2a/res4i_branch2a\" (2 members)>\n",
      "Variable name:  <HDF5 group \"/res4i_branch2a/res4i_branch2a\" (2 members)>\n"
     ]
    },
    {
     "name": "stdout",
     "output_type": "stream",
     "text": [
      "Variable name:  <HDF5 group \"/bn4i_branch2a/bn4i_branch2a\" (4 members)>\n",
      "Variable name:  <HDF5 group \"/bn4i_branch2a/bn4i_branch2a\" (4 members)>\n",
      "Variable name:  <HDF5 group \"/bn4i_branch2a/bn4i_branch2a\" (4 members)>\n",
      "Variable name:  <HDF5 group \"/bn4i_branch2a/bn4i_branch2a\" (4 members)>\n",
      "Variable name:  <HDF5 group \"/res4i_branch2b/res4i_branch2b\" (2 members)>\n",
      "Variable name:  <HDF5 group \"/res4i_branch2b/res4i_branch2b\" (2 members)>\n",
      "Variable name:  <HDF5 group \"/bn4i_branch2b/bn4i_branch2b\" (4 members)>\n",
      "Variable name:  <HDF5 group \"/bn4i_branch2b/bn4i_branch2b\" (4 members)>\n",
      "Variable name:  <HDF5 group \"/bn4i_branch2b/bn4i_branch2b\" (4 members)>\n",
      "Variable name:  <HDF5 group \"/bn4i_branch2b/bn4i_branch2b\" (4 members)>\n",
      "Variable name:  <HDF5 group \"/res4i_branch2c/res4i_branch2c\" (2 members)>\n",
      "Variable name:  <HDF5 group \"/res4i_branch2c/res4i_branch2c\" (2 members)>\n",
      "Variable name:  <HDF5 group \"/bn4i_branch2c/bn4i_branch2c\" (4 members)>\n",
      "Variable name:  <HDF5 group \"/bn4i_branch2c/bn4i_branch2c\" (4 members)>\n",
      "Variable name:  <HDF5 group \"/bn4i_branch2c/bn4i_branch2c\" (4 members)>\n",
      "Variable name:  <HDF5 group \"/bn4i_branch2c/bn4i_branch2c\" (4 members)>\n",
      "Variable name:  <HDF5 group \"/res4j_branch2a/res4j_branch2a\" (2 members)>\n",
      "Variable name:  <HDF5 group \"/res4j_branch2a/res4j_branch2a\" (2 members)>\n",
      "Variable name:  <HDF5 group \"/bn4j_branch2a/bn4j_branch2a\" (4 members)>\n",
      "Variable name:  <HDF5 group \"/bn4j_branch2a/bn4j_branch2a\" (4 members)>\n",
      "Variable name:  <HDF5 group \"/bn4j_branch2a/bn4j_branch2a\" (4 members)>\n",
      "Variable name:  <HDF5 group \"/bn4j_branch2a/bn4j_branch2a\" (4 members)>\n",
      "Variable name:  <HDF5 group \"/res4j_branch2b/res4j_branch2b\" (2 members)>\n",
      "Variable name:  <HDF5 group \"/res4j_branch2b/res4j_branch2b\" (2 members)>\n",
      "Variable name:  <HDF5 group \"/bn4j_branch2b/bn4j_branch2b\" (4 members)>\n",
      "Variable name:  <HDF5 group \"/bn4j_branch2b/bn4j_branch2b\" (4 members)>\n",
      "Variable name:  <HDF5 group \"/bn4j_branch2b/bn4j_branch2b\" (4 members)>\n",
      "Variable name:  <HDF5 group \"/bn4j_branch2b/bn4j_branch2b\" (4 members)>\n",
      "Variable name:  <HDF5 group \"/res4j_branch2c/res4j_branch2c\" (2 members)>\n",
      "Variable name:  <HDF5 group \"/res4j_branch2c/res4j_branch2c\" (2 members)>\n",
      "Variable name:  <HDF5 group \"/bn4j_branch2c/bn4j_branch2c\" (4 members)>\n",
      "Variable name:  <HDF5 group \"/bn4j_branch2c/bn4j_branch2c\" (4 members)>\n",
      "Variable name:  <HDF5 group \"/bn4j_branch2c/bn4j_branch2c\" (4 members)>\n",
      "Variable name:  <HDF5 group \"/bn4j_branch2c/bn4j_branch2c\" (4 members)>\n",
      "Variable name:  <HDF5 group \"/res4k_branch2a/res4k_branch2a\" (2 members)>\n",
      "Variable name:  <HDF5 group \"/res4k_branch2a/res4k_branch2a\" (2 members)>\n",
      "Variable name:  <HDF5 group \"/bn4k_branch2a/bn4k_branch2a\" (4 members)>\n",
      "Variable name:  <HDF5 group \"/bn4k_branch2a/bn4k_branch2a\" (4 members)>\n",
      "Variable name:  <HDF5 group \"/bn4k_branch2a/bn4k_branch2a\" (4 members)>\n",
      "Variable name:  <HDF5 group \"/bn4k_branch2a/bn4k_branch2a\" (4 members)>\n",
      "Variable name:  <HDF5 group \"/res4k_branch2b/res4k_branch2b\" (2 members)>\n",
      "Variable name:  <HDF5 group \"/res4k_branch2b/res4k_branch2b\" (2 members)>\n",
      "Variable name:  <HDF5 group \"/bn4k_branch2b/bn4k_branch2b\" (4 members)>\n",
      "Variable name:  <HDF5 group \"/bn4k_branch2b/bn4k_branch2b\" (4 members)>\n",
      "Variable name:  <HDF5 group \"/bn4k_branch2b/bn4k_branch2b\" (4 members)>\n",
      "Variable name:  <HDF5 group \"/bn4k_branch2b/bn4k_branch2b\" (4 members)>\n",
      "Variable name:  <HDF5 group \"/res4k_branch2c/res4k_branch2c\" (2 members)>\n",
      "Variable name:  <HDF5 group \"/res4k_branch2c/res4k_branch2c\" (2 members)>\n",
      "Variable name:  <HDF5 group \"/bn4k_branch2c/bn4k_branch2c\" (4 members)>\n",
      "Variable name:  <HDF5 group \"/bn4k_branch2c/bn4k_branch2c\" (4 members)>\n",
      "Variable name:  <HDF5 group \"/bn4k_branch2c/bn4k_branch2c\" (4 members)>\n",
      "Variable name:  <HDF5 group \"/bn4k_branch2c/bn4k_branch2c\" (4 members)>\n",
      "Variable name:  <HDF5 group \"/res4l_branch2a/res4l_branch2a\" (2 members)>\n",
      "Variable name:  <HDF5 group \"/res4l_branch2a/res4l_branch2a\" (2 members)>\n",
      "Variable name:  <HDF5 group \"/bn4l_branch2a/bn4l_branch2a\" (4 members)>\n",
      "Variable name:  <HDF5 group \"/bn4l_branch2a/bn4l_branch2a\" (4 members)>\n",
      "Variable name:  <HDF5 group \"/bn4l_branch2a/bn4l_branch2a\" (4 members)>\n",
      "Variable name:  <HDF5 group \"/bn4l_branch2a/bn4l_branch2a\" (4 members)>\n",
      "Variable name:  <HDF5 group \"/res4l_branch2b/res4l_branch2b\" (2 members)>\n",
      "Variable name:  <HDF5 group \"/res4l_branch2b/res4l_branch2b\" (2 members)>\n",
      "Variable name:  <HDF5 group \"/bn4l_branch2b/bn4l_branch2b\" (4 members)>\n",
      "Variable name:  <HDF5 group \"/bn4l_branch2b/bn4l_branch2b\" (4 members)>\n",
      "Variable name:  <HDF5 group \"/bn4l_branch2b/bn4l_branch2b\" (4 members)>\n",
      "Variable name:  <HDF5 group \"/bn4l_branch2b/bn4l_branch2b\" (4 members)>\n",
      "Variable name:  <HDF5 group \"/res4l_branch2c/res4l_branch2c\" (2 members)>\n",
      "Variable name:  <HDF5 group \"/res4l_branch2c/res4l_branch2c\" (2 members)>\n",
      "Variable name:  <HDF5 group \"/bn4l_branch2c/bn4l_branch2c\" (4 members)>\n",
      "Variable name:  <HDF5 group \"/bn4l_branch2c/bn4l_branch2c\" (4 members)>\n",
      "Variable name:  <HDF5 group \"/bn4l_branch2c/bn4l_branch2c\" (4 members)>\n",
      "Variable name:  <HDF5 group \"/bn4l_branch2c/bn4l_branch2c\" (4 members)>\n",
      "Variable name:  <HDF5 group \"/res4m_branch2a/res4m_branch2a\" (2 members)>\n",
      "Variable name:  <HDF5 group \"/res4m_branch2a/res4m_branch2a\" (2 members)>\n",
      "Variable name:  <HDF5 group \"/bn4m_branch2a/bn4m_branch2a\" (4 members)>\n",
      "Variable name:  <HDF5 group \"/bn4m_branch2a/bn4m_branch2a\" (4 members)>\n",
      "Variable name:  <HDF5 group \"/bn4m_branch2a/bn4m_branch2a\" (4 members)>\n",
      "Variable name:  <HDF5 group \"/bn4m_branch2a/bn4m_branch2a\" (4 members)>\n",
      "Variable name:  <HDF5 group \"/res4m_branch2b/res4m_branch2b\" (2 members)>\n",
      "Variable name:  <HDF5 group \"/res4m_branch2b/res4m_branch2b\" (2 members)>\n",
      "Variable name:  <HDF5 group \"/bn4m_branch2b/bn4m_branch2b\" (4 members)>\n",
      "Variable name:  <HDF5 group \"/bn4m_branch2b/bn4m_branch2b\" (4 members)>\n",
      "Variable name:  <HDF5 group \"/bn4m_branch2b/bn4m_branch2b\" (4 members)>\n",
      "Variable name:  <HDF5 group \"/bn4m_branch2b/bn4m_branch2b\" (4 members)>\n",
      "Variable name:  <HDF5 group \"/res4m_branch2c/res4m_branch2c\" (2 members)>\n",
      "Variable name:  <HDF5 group \"/res4m_branch2c/res4m_branch2c\" (2 members)>\n",
      "Variable name:  <HDF5 group \"/bn4m_branch2c/bn4m_branch2c\" (4 members)>\n",
      "Variable name:  <HDF5 group \"/bn4m_branch2c/bn4m_branch2c\" (4 members)>\n",
      "Variable name:  <HDF5 group \"/bn4m_branch2c/bn4m_branch2c\" (4 members)>\n",
      "Variable name:  <HDF5 group \"/bn4m_branch2c/bn4m_branch2c\" (4 members)>\n",
      "Variable name:  <HDF5 group \"/res4n_branch2a/res4n_branch2a\" (2 members)>\n",
      "Variable name:  <HDF5 group \"/res4n_branch2a/res4n_branch2a\" (2 members)>\n",
      "Variable name:  <HDF5 group \"/bn4n_branch2a/bn4n_branch2a\" (4 members)>\n",
      "Variable name:  <HDF5 group \"/bn4n_branch2a/bn4n_branch2a\" (4 members)>\n",
      "Variable name:  <HDF5 group \"/bn4n_branch2a/bn4n_branch2a\" (4 members)>\n",
      "Variable name:  <HDF5 group \"/bn4n_branch2a/bn4n_branch2a\" (4 members)>\n",
      "Variable name:  <HDF5 group \"/res4n_branch2b/res4n_branch2b\" (2 members)>\n",
      "Variable name:  <HDF5 group \"/res4n_branch2b/res4n_branch2b\" (2 members)>\n",
      "Variable name:  <HDF5 group \"/bn4n_branch2b/bn4n_branch2b\" (4 members)>\n",
      "Variable name:  <HDF5 group \"/bn4n_branch2b/bn4n_branch2b\" (4 members)>\n",
      "Variable name:  <HDF5 group \"/bn4n_branch2b/bn4n_branch2b\" (4 members)>\n",
      "Variable name:  <HDF5 group \"/bn4n_branch2b/bn4n_branch2b\" (4 members)>\n",
      "Variable name:  <HDF5 group \"/res4n_branch2c/res4n_branch2c\" (2 members)>\n",
      "Variable name:  <HDF5 group \"/res4n_branch2c/res4n_branch2c\" (2 members)>\n",
      "Variable name:  <HDF5 group \"/bn4n_branch2c/bn4n_branch2c\" (4 members)>\n",
      "Variable name:  <HDF5 group \"/bn4n_branch2c/bn4n_branch2c\" (4 members)>\n",
      "Variable name:  <HDF5 group \"/bn4n_branch2c/bn4n_branch2c\" (4 members)>\n",
      "Variable name:  <HDF5 group \"/bn4n_branch2c/bn4n_branch2c\" (4 members)>\n",
      "Variable name:  <HDF5 group \"/res4o_branch2a/res4o_branch2a\" (2 members)>\n",
      "Variable name:  <HDF5 group \"/res4o_branch2a/res4o_branch2a\" (2 members)>\n",
      "Variable name:  <HDF5 group \"/bn4o_branch2a/bn4o_branch2a\" (4 members)>\n",
      "Variable name:  <HDF5 group \"/bn4o_branch2a/bn4o_branch2a\" (4 members)>\n",
      "Variable name:  <HDF5 group \"/bn4o_branch2a/bn4o_branch2a\" (4 members)>\n",
      "Variable name:  <HDF5 group \"/bn4o_branch2a/bn4o_branch2a\" (4 members)>\n",
      "Variable name:  <HDF5 group \"/res4o_branch2b/res4o_branch2b\" (2 members)>\n",
      "Variable name:  <HDF5 group \"/res4o_branch2b/res4o_branch2b\" (2 members)>\n"
     ]
    },
    {
     "name": "stdout",
     "output_type": "stream",
     "text": [
      "Variable name:  <HDF5 group \"/bn4o_branch2b/bn4o_branch2b\" (4 members)>\n",
      "Variable name:  <HDF5 group \"/bn4o_branch2b/bn4o_branch2b\" (4 members)>\n",
      "Variable name:  <HDF5 group \"/bn4o_branch2b/bn4o_branch2b\" (4 members)>\n",
      "Variable name:  <HDF5 group \"/bn4o_branch2b/bn4o_branch2b\" (4 members)>\n",
      "Variable name:  <HDF5 group \"/res4o_branch2c/res4o_branch2c\" (2 members)>\n",
      "Variable name:  <HDF5 group \"/res4o_branch2c/res4o_branch2c\" (2 members)>\n",
      "Variable name:  <HDF5 group \"/bn4o_branch2c/bn4o_branch2c\" (4 members)>\n",
      "Variable name:  <HDF5 group \"/bn4o_branch2c/bn4o_branch2c\" (4 members)>\n",
      "Variable name:  <HDF5 group \"/bn4o_branch2c/bn4o_branch2c\" (4 members)>\n",
      "Variable name:  <HDF5 group \"/bn4o_branch2c/bn4o_branch2c\" (4 members)>\n",
      "Variable name:  <HDF5 group \"/res4p_branch2a/res4p_branch2a\" (2 members)>\n",
      "Variable name:  <HDF5 group \"/res4p_branch2a/res4p_branch2a\" (2 members)>\n",
      "Variable name:  <HDF5 group \"/bn4p_branch2a/bn4p_branch2a\" (4 members)>\n",
      "Variable name:  <HDF5 group \"/bn4p_branch2a/bn4p_branch2a\" (4 members)>\n",
      "Variable name:  <HDF5 group \"/bn4p_branch2a/bn4p_branch2a\" (4 members)>\n",
      "Variable name:  <HDF5 group \"/bn4p_branch2a/bn4p_branch2a\" (4 members)>\n",
      "Variable name:  <HDF5 group \"/res4p_branch2b/res4p_branch2b\" (2 members)>\n",
      "Variable name:  <HDF5 group \"/res4p_branch2b/res4p_branch2b\" (2 members)>\n",
      "Variable name:  <HDF5 group \"/bn4p_branch2b/bn4p_branch2b\" (4 members)>\n",
      "Variable name:  <HDF5 group \"/bn4p_branch2b/bn4p_branch2b\" (4 members)>\n",
      "Variable name:  <HDF5 group \"/bn4p_branch2b/bn4p_branch2b\" (4 members)>\n",
      "Variable name:  <HDF5 group \"/bn4p_branch2b/bn4p_branch2b\" (4 members)>\n",
      "Variable name:  <HDF5 group \"/res4p_branch2c/res4p_branch2c\" (2 members)>\n",
      "Variable name:  <HDF5 group \"/res4p_branch2c/res4p_branch2c\" (2 members)>\n",
      "Variable name:  <HDF5 group \"/bn4p_branch2c/bn4p_branch2c\" (4 members)>\n",
      "Variable name:  <HDF5 group \"/bn4p_branch2c/bn4p_branch2c\" (4 members)>\n",
      "Variable name:  <HDF5 group \"/bn4p_branch2c/bn4p_branch2c\" (4 members)>\n",
      "Variable name:  <HDF5 group \"/bn4p_branch2c/bn4p_branch2c\" (4 members)>\n",
      "Variable name:  <HDF5 group \"/res4q_branch2a/res4q_branch2a\" (2 members)>\n",
      "Variable name:  <HDF5 group \"/res4q_branch2a/res4q_branch2a\" (2 members)>\n",
      "Variable name:  <HDF5 group \"/bn4q_branch2a/bn4q_branch2a\" (4 members)>\n",
      "Variable name:  <HDF5 group \"/bn4q_branch2a/bn4q_branch2a\" (4 members)>\n",
      "Variable name:  <HDF5 group \"/bn4q_branch2a/bn4q_branch2a\" (4 members)>\n",
      "Variable name:  <HDF5 group \"/bn4q_branch2a/bn4q_branch2a\" (4 members)>\n",
      "Variable name:  <HDF5 group \"/res4q_branch2b/res4q_branch2b\" (2 members)>\n",
      "Variable name:  <HDF5 group \"/res4q_branch2b/res4q_branch2b\" (2 members)>\n",
      "Variable name:  <HDF5 group \"/bn4q_branch2b/bn4q_branch2b\" (4 members)>\n",
      "Variable name:  <HDF5 group \"/bn4q_branch2b/bn4q_branch2b\" (4 members)>\n",
      "Variable name:  <HDF5 group \"/bn4q_branch2b/bn4q_branch2b\" (4 members)>\n",
      "Variable name:  <HDF5 group \"/bn4q_branch2b/bn4q_branch2b\" (4 members)>\n",
      "Variable name:  <HDF5 group \"/res4q_branch2c/res4q_branch2c\" (2 members)>\n",
      "Variable name:  <HDF5 group \"/res4q_branch2c/res4q_branch2c\" (2 members)>\n",
      "Variable name:  <HDF5 group \"/bn4q_branch2c/bn4q_branch2c\" (4 members)>\n",
      "Variable name:  <HDF5 group \"/bn4q_branch2c/bn4q_branch2c\" (4 members)>\n",
      "Variable name:  <HDF5 group \"/bn4q_branch2c/bn4q_branch2c\" (4 members)>\n",
      "Variable name:  <HDF5 group \"/bn4q_branch2c/bn4q_branch2c\" (4 members)>\n",
      "Variable name:  <HDF5 group \"/res4r_branch2a/res4r_branch2a\" (2 members)>\n",
      "Variable name:  <HDF5 group \"/res4r_branch2a/res4r_branch2a\" (2 members)>\n",
      "Variable name:  <HDF5 group \"/bn4r_branch2a/bn4r_branch2a\" (4 members)>\n",
      "Variable name:  <HDF5 group \"/bn4r_branch2a/bn4r_branch2a\" (4 members)>\n",
      "Variable name:  <HDF5 group \"/bn4r_branch2a/bn4r_branch2a\" (4 members)>\n",
      "Variable name:  <HDF5 group \"/bn4r_branch2a/bn4r_branch2a\" (4 members)>\n",
      "Variable name:  <HDF5 group \"/res4r_branch2b/res4r_branch2b\" (2 members)>\n",
      "Variable name:  <HDF5 group \"/res4r_branch2b/res4r_branch2b\" (2 members)>\n",
      "Variable name:  <HDF5 group \"/bn4r_branch2b/bn4r_branch2b\" (4 members)>\n",
      "Variable name:  <HDF5 group \"/bn4r_branch2b/bn4r_branch2b\" (4 members)>\n",
      "Variable name:  <HDF5 group \"/bn4r_branch2b/bn4r_branch2b\" (4 members)>\n",
      "Variable name:  <HDF5 group \"/bn4r_branch2b/bn4r_branch2b\" (4 members)>\n",
      "Variable name:  <HDF5 group \"/res4r_branch2c/res4r_branch2c\" (2 members)>\n",
      "Variable name:  <HDF5 group \"/res4r_branch2c/res4r_branch2c\" (2 members)>\n",
      "Variable name:  <HDF5 group \"/bn4r_branch2c/bn4r_branch2c\" (4 members)>\n",
      "Variable name:  <HDF5 group \"/bn4r_branch2c/bn4r_branch2c\" (4 members)>\n",
      "Variable name:  <HDF5 group \"/bn4r_branch2c/bn4r_branch2c\" (4 members)>\n",
      "Variable name:  <HDF5 group \"/bn4r_branch2c/bn4r_branch2c\" (4 members)>\n",
      "Variable name:  <HDF5 group \"/res4s_branch2a/res4s_branch2a\" (2 members)>\n",
      "Variable name:  <HDF5 group \"/res4s_branch2a/res4s_branch2a\" (2 members)>\n",
      "Variable name:  <HDF5 group \"/bn4s_branch2a/bn4s_branch2a\" (4 members)>\n",
      "Variable name:  <HDF5 group \"/bn4s_branch2a/bn4s_branch2a\" (4 members)>\n",
      "Variable name:  <HDF5 group \"/bn4s_branch2a/bn4s_branch2a\" (4 members)>\n",
      "Variable name:  <HDF5 group \"/bn4s_branch2a/bn4s_branch2a\" (4 members)>\n",
      "Variable name:  <HDF5 group \"/res4s_branch2b/res4s_branch2b\" (2 members)>\n",
      "Variable name:  <HDF5 group \"/res4s_branch2b/res4s_branch2b\" (2 members)>\n",
      "Variable name:  <HDF5 group \"/bn4s_branch2b/bn4s_branch2b\" (4 members)>\n",
      "Variable name:  <HDF5 group \"/bn4s_branch2b/bn4s_branch2b\" (4 members)>\n",
      "Variable name:  <HDF5 group \"/bn4s_branch2b/bn4s_branch2b\" (4 members)>\n",
      "Variable name:  <HDF5 group \"/bn4s_branch2b/bn4s_branch2b\" (4 members)>\n",
      "Variable name:  <HDF5 group \"/res4s_branch2c/res4s_branch2c\" (2 members)>\n",
      "Variable name:  <HDF5 group \"/res4s_branch2c/res4s_branch2c\" (2 members)>\n",
      "Variable name:  <HDF5 group \"/bn4s_branch2c/bn4s_branch2c\" (4 members)>\n",
      "Variable name:  <HDF5 group \"/bn4s_branch2c/bn4s_branch2c\" (4 members)>\n",
      "Variable name:  <HDF5 group \"/bn4s_branch2c/bn4s_branch2c\" (4 members)>\n",
      "Variable name:  <HDF5 group \"/bn4s_branch2c/bn4s_branch2c\" (4 members)>\n",
      "Variable name:  <HDF5 group \"/res4t_branch2a/res4t_branch2a\" (2 members)>\n",
      "Variable name:  <HDF5 group \"/res4t_branch2a/res4t_branch2a\" (2 members)>\n",
      "Variable name:  <HDF5 group \"/bn4t_branch2a/bn4t_branch2a\" (4 members)>\n",
      "Variable name:  <HDF5 group \"/bn4t_branch2a/bn4t_branch2a\" (4 members)>\n",
      "Variable name:  <HDF5 group \"/bn4t_branch2a/bn4t_branch2a\" (4 members)>\n",
      "Variable name:  <HDF5 group \"/bn4t_branch2a/bn4t_branch2a\" (4 members)>\n",
      "Variable name:  <HDF5 group \"/res4t_branch2b/res4t_branch2b\" (2 members)>\n",
      "Variable name:  <HDF5 group \"/res4t_branch2b/res4t_branch2b\" (2 members)>\n",
      "Variable name:  <HDF5 group \"/bn4t_branch2b/bn4t_branch2b\" (4 members)>\n",
      "Variable name:  <HDF5 group \"/bn4t_branch2b/bn4t_branch2b\" (4 members)>\n",
      "Variable name:  <HDF5 group \"/bn4t_branch2b/bn4t_branch2b\" (4 members)>\n",
      "Variable name:  <HDF5 group \"/bn4t_branch2b/bn4t_branch2b\" (4 members)>\n",
      "Variable name:  <HDF5 group \"/res4t_branch2c/res4t_branch2c\" (2 members)>\n",
      "Variable name:  <HDF5 group \"/res4t_branch2c/res4t_branch2c\" (2 members)>\n",
      "Variable name:  <HDF5 group \"/bn4t_branch2c/bn4t_branch2c\" (4 members)>\n",
      "Variable name:  <HDF5 group \"/bn4t_branch2c/bn4t_branch2c\" (4 members)>\n",
      "Variable name:  <HDF5 group \"/bn4t_branch2c/bn4t_branch2c\" (4 members)>\n",
      "Variable name:  <HDF5 group \"/bn4t_branch2c/bn4t_branch2c\" (4 members)>\n",
      "Variable name:  <HDF5 group \"/res4u_branch2a/res4u_branch2a\" (2 members)>\n",
      "Variable name:  <HDF5 group \"/res4u_branch2a/res4u_branch2a\" (2 members)>\n",
      "Variable name:  <HDF5 group \"/bn4u_branch2a/bn4u_branch2a\" (4 members)>\n",
      "Variable name:  <HDF5 group \"/bn4u_branch2a/bn4u_branch2a\" (4 members)>\n",
      "Variable name:  <HDF5 group \"/bn4u_branch2a/bn4u_branch2a\" (4 members)>\n",
      "Variable name:  <HDF5 group \"/bn4u_branch2a/bn4u_branch2a\" (4 members)>\n",
      "Variable name:  <HDF5 group \"/res4u_branch2b/res4u_branch2b\" (2 members)>\n",
      "Variable name:  <HDF5 group \"/res4u_branch2b/res4u_branch2b\" (2 members)>\n",
      "Variable name:  <HDF5 group \"/bn4u_branch2b/bn4u_branch2b\" (4 members)>\n",
      "Variable name:  <HDF5 group \"/bn4u_branch2b/bn4u_branch2b\" (4 members)>\n",
      "Variable name:  <HDF5 group \"/bn4u_branch2b/bn4u_branch2b\" (4 members)>\n",
      "Variable name:  <HDF5 group \"/bn4u_branch2b/bn4u_branch2b\" (4 members)>\n",
      "Variable name:  <HDF5 group \"/res4u_branch2c/res4u_branch2c\" (2 members)>\n",
      "Variable name:  <HDF5 group \"/res4u_branch2c/res4u_branch2c\" (2 members)>\n"
     ]
    },
    {
     "name": "stdout",
     "output_type": "stream",
     "text": [
      "Variable name:  <HDF5 group \"/bn4u_branch2c/bn4u_branch2c\" (4 members)>\n",
      "Variable name:  <HDF5 group \"/bn4u_branch2c/bn4u_branch2c\" (4 members)>\n",
      "Variable name:  <HDF5 group \"/bn4u_branch2c/bn4u_branch2c\" (4 members)>\n",
      "Variable name:  <HDF5 group \"/bn4u_branch2c/bn4u_branch2c\" (4 members)>\n",
      "Variable name:  <HDF5 group \"/res4v_branch2a/res4v_branch2a\" (2 members)>\n",
      "Variable name:  <HDF5 group \"/res4v_branch2a/res4v_branch2a\" (2 members)>\n",
      "Variable name:  <HDF5 group \"/bn4v_branch2a/bn4v_branch2a\" (4 members)>\n",
      "Variable name:  <HDF5 group \"/bn4v_branch2a/bn4v_branch2a\" (4 members)>\n",
      "Variable name:  <HDF5 group \"/bn4v_branch2a/bn4v_branch2a\" (4 members)>\n",
      "Variable name:  <HDF5 group \"/bn4v_branch2a/bn4v_branch2a\" (4 members)>\n",
      "Variable name:  <HDF5 group \"/res4v_branch2b/res4v_branch2b\" (2 members)>\n",
      "Variable name:  <HDF5 group \"/res4v_branch2b/res4v_branch2b\" (2 members)>\n",
      "Variable name:  <HDF5 group \"/bn4v_branch2b/bn4v_branch2b\" (4 members)>\n",
      "Variable name:  <HDF5 group \"/bn4v_branch2b/bn4v_branch2b\" (4 members)>\n",
      "Variable name:  <HDF5 group \"/bn4v_branch2b/bn4v_branch2b\" (4 members)>\n",
      "Variable name:  <HDF5 group \"/bn4v_branch2b/bn4v_branch2b\" (4 members)>\n",
      "Variable name:  <HDF5 group \"/res4v_branch2c/res4v_branch2c\" (2 members)>\n",
      "Variable name:  <HDF5 group \"/res4v_branch2c/res4v_branch2c\" (2 members)>\n",
      "Variable name:  <HDF5 group \"/bn4v_branch2c/bn4v_branch2c\" (4 members)>\n",
      "Variable name:  <HDF5 group \"/bn4v_branch2c/bn4v_branch2c\" (4 members)>\n",
      "Variable name:  <HDF5 group \"/bn4v_branch2c/bn4v_branch2c\" (4 members)>\n",
      "Variable name:  <HDF5 group \"/bn4v_branch2c/bn4v_branch2c\" (4 members)>\n",
      "Variable name:  <HDF5 group \"/res4w_branch2a/res4w_branch2a\" (2 members)>\n",
      "Variable name:  <HDF5 group \"/res4w_branch2a/res4w_branch2a\" (2 members)>\n",
      "Variable name:  <HDF5 group \"/bn4w_branch2a/bn4w_branch2a\" (4 members)>\n",
      "Variable name:  <HDF5 group \"/bn4w_branch2a/bn4w_branch2a\" (4 members)>\n",
      "Variable name:  <HDF5 group \"/bn4w_branch2a/bn4w_branch2a\" (4 members)>\n",
      "Variable name:  <HDF5 group \"/bn4w_branch2a/bn4w_branch2a\" (4 members)>\n",
      "Variable name:  <HDF5 group \"/res4w_branch2b/res4w_branch2b\" (2 members)>\n",
      "Variable name:  <HDF5 group \"/res4w_branch2b/res4w_branch2b\" (2 members)>\n",
      "Variable name:  <HDF5 group \"/bn4w_branch2b/bn4w_branch2b\" (4 members)>\n",
      "Variable name:  <HDF5 group \"/bn4w_branch2b/bn4w_branch2b\" (4 members)>\n",
      "Variable name:  <HDF5 group \"/bn4w_branch2b/bn4w_branch2b\" (4 members)>\n",
      "Variable name:  <HDF5 group \"/bn4w_branch2b/bn4w_branch2b\" (4 members)>\n",
      "Variable name:  <HDF5 group \"/res4w_branch2c/res4w_branch2c\" (2 members)>\n",
      "Variable name:  <HDF5 group \"/res4w_branch2c/res4w_branch2c\" (2 members)>\n",
      "Variable name:  <HDF5 group \"/bn4w_branch2c/bn4w_branch2c\" (4 members)>\n",
      "Variable name:  <HDF5 group \"/bn4w_branch2c/bn4w_branch2c\" (4 members)>\n",
      "Variable name:  <HDF5 group \"/bn4w_branch2c/bn4w_branch2c\" (4 members)>\n",
      "Variable name:  <HDF5 group \"/bn4w_branch2c/bn4w_branch2c\" (4 members)>\n",
      "Variable name:  <HDF5 group \"/res5a_branch1/res5a_branch1\" (2 members)>\n",
      "Variable name:  <HDF5 group \"/res5a_branch1/res5a_branch1\" (2 members)>\n",
      "Variable name:  <HDF5 group \"/bn5a_branch1/bn5a_branch1\" (4 members)>\n",
      "Variable name:  <HDF5 group \"/bn5a_branch1/bn5a_branch1\" (4 members)>\n",
      "Variable name:  <HDF5 group \"/bn5a_branch1/bn5a_branch1\" (4 members)>\n",
      "Variable name:  <HDF5 group \"/bn5a_branch1/bn5a_branch1\" (4 members)>\n",
      "Variable name:  <HDF5 group \"/res5a_branch2a/res5a_branch2a\" (2 members)>\n",
      "Variable name:  <HDF5 group \"/res5a_branch2a/res5a_branch2a\" (2 members)>\n",
      "Variable name:  <HDF5 group \"/bn5a_branch2a/bn5a_branch2a\" (4 members)>\n",
      "Variable name:  <HDF5 group \"/bn5a_branch2a/bn5a_branch2a\" (4 members)>\n",
      "Variable name:  <HDF5 group \"/bn5a_branch2a/bn5a_branch2a\" (4 members)>\n",
      "Variable name:  <HDF5 group \"/bn5a_branch2a/bn5a_branch2a\" (4 members)>\n",
      "Variable name:  <HDF5 group \"/res5a_branch2b/res5a_branch2b\" (2 members)>\n",
      "Variable name:  <HDF5 group \"/res5a_branch2b/res5a_branch2b\" (2 members)>\n",
      "Variable name:  <HDF5 group \"/bn5a_branch2b/bn5a_branch2b\" (4 members)>\n",
      "Variable name:  <HDF5 group \"/bn5a_branch2b/bn5a_branch2b\" (4 members)>\n",
      "Variable name:  <HDF5 group \"/bn5a_branch2b/bn5a_branch2b\" (4 members)>\n",
      "Variable name:  <HDF5 group \"/bn5a_branch2b/bn5a_branch2b\" (4 members)>\n",
      "Variable name:  <HDF5 group \"/res5a_branch2c/res5a_branch2c\" (2 members)>\n",
      "Variable name:  <HDF5 group \"/res5a_branch2c/res5a_branch2c\" (2 members)>\n",
      "Variable name:  <HDF5 group \"/bn5a_branch2c/bn5a_branch2c\" (4 members)>\n",
      "Variable name:  <HDF5 group \"/bn5a_branch2c/bn5a_branch2c\" (4 members)>\n",
      "Variable name:  <HDF5 group \"/bn5a_branch2c/bn5a_branch2c\" (4 members)>\n",
      "Variable name:  <HDF5 group \"/bn5a_branch2c/bn5a_branch2c\" (4 members)>\n",
      "Variable name:  <HDF5 group \"/res5b_branch2a/res5b_branch2a\" (2 members)>\n",
      "Variable name:  <HDF5 group \"/res5b_branch2a/res5b_branch2a\" (2 members)>\n",
      "Variable name:  <HDF5 group \"/bn5b_branch2a/bn5b_branch2a\" (4 members)>\n",
      "Variable name:  <HDF5 group \"/bn5b_branch2a/bn5b_branch2a\" (4 members)>\n",
      "Variable name:  <HDF5 group \"/bn5b_branch2a/bn5b_branch2a\" (4 members)>\n",
      "Variable name:  <HDF5 group \"/bn5b_branch2a/bn5b_branch2a\" (4 members)>\n",
      "Variable name:  <HDF5 group \"/res5b_branch2b/res5b_branch2b\" (2 members)>\n",
      "Variable name:  <HDF5 group \"/res5b_branch2b/res5b_branch2b\" (2 members)>\n",
      "Variable name:  <HDF5 group \"/bn5b_branch2b/bn5b_branch2b\" (4 members)>\n",
      "Variable name:  <HDF5 group \"/bn5b_branch2b/bn5b_branch2b\" (4 members)>\n",
      "Variable name:  <HDF5 group \"/bn5b_branch2b/bn5b_branch2b\" (4 members)>\n",
      "Variable name:  <HDF5 group \"/bn5b_branch2b/bn5b_branch2b\" (4 members)>\n",
      "Variable name:  <HDF5 group \"/res5b_branch2c/res5b_branch2c\" (2 members)>\n",
      "Variable name:  <HDF5 group \"/res5b_branch2c/res5b_branch2c\" (2 members)>\n",
      "Variable name:  <HDF5 group \"/bn5b_branch2c/bn5b_branch2c\" (4 members)>\n",
      "Variable name:  <HDF5 group \"/bn5b_branch2c/bn5b_branch2c\" (4 members)>\n",
      "Variable name:  <HDF5 group \"/bn5b_branch2c/bn5b_branch2c\" (4 members)>\n",
      "Variable name:  <HDF5 group \"/bn5b_branch2c/bn5b_branch2c\" (4 members)>\n",
      "Variable name:  <HDF5 group \"/res5c_branch2a/res5c_branch2a\" (2 members)>\n",
      "Variable name:  <HDF5 group \"/res5c_branch2a/res5c_branch2a\" (2 members)>\n",
      "Variable name:  <HDF5 group \"/bn5c_branch2a/bn5c_branch2a\" (4 members)>\n",
      "Variable name:  <HDF5 group \"/bn5c_branch2a/bn5c_branch2a\" (4 members)>\n",
      "Variable name:  <HDF5 group \"/bn5c_branch2a/bn5c_branch2a\" (4 members)>\n",
      "Variable name:  <HDF5 group \"/bn5c_branch2a/bn5c_branch2a\" (4 members)>\n",
      "Variable name:  <HDF5 group \"/res5c_branch2b/res5c_branch2b\" (2 members)>\n",
      "Variable name:  <HDF5 group \"/res5c_branch2b/res5c_branch2b\" (2 members)>\n",
      "Variable name:  <HDF5 group \"/bn5c_branch2b/bn5c_branch2b\" (4 members)>\n",
      "Variable name:  <HDF5 group \"/bn5c_branch2b/bn5c_branch2b\" (4 members)>\n",
      "Variable name:  <HDF5 group \"/bn5c_branch2b/bn5c_branch2b\" (4 members)>\n",
      "Variable name:  <HDF5 group \"/bn5c_branch2b/bn5c_branch2b\" (4 members)>\n",
      "Variable name:  <HDF5 group \"/res5c_branch2c/res5c_branch2c\" (2 members)>\n",
      "Variable name:  <HDF5 group \"/res5c_branch2c/res5c_branch2c\" (2 members)>\n",
      "Variable name:  <HDF5 group \"/bn5c_branch2c/bn5c_branch2c\" (4 members)>\n",
      "Variable name:  <HDF5 group \"/bn5c_branch2c/bn5c_branch2c\" (4 members)>\n",
      "Variable name:  <HDF5 group \"/bn5c_branch2c/bn5c_branch2c\" (4 members)>\n",
      "Variable name:  <HDF5 group \"/bn5c_branch2c/bn5c_branch2c\" (4 members)>\n"
     ]
    },
    {
     "ename": "IndexError",
     "evalue": "list index out of range",
     "output_type": "error",
     "traceback": [
      "\u001b[0;31m---------------------------------------------------------------------------\u001b[0m",
      "\u001b[0;31mIndexError\u001b[0m                                Traceback (most recent call last)",
      "\u001b[0;32m<ipython-input-20-d6740447b7a7>\u001b[0m in \u001b[0;36m<module>\u001b[0;34m()\u001b[0m\n\u001b[1;32m      6\u001b[0m obj_trn = Train(conf, batch_size=batch_size,\n\u001b[1;32m      7\u001b[0m                 pretrained_weights_path=pretrained_weights_path)\n\u001b[0;32m----> 8\u001b[0;31m \u001b[0mobj_trn\u001b[0m\u001b[0;34m.\u001b[0m\u001b[0mexec_sess\u001b[0m\u001b[0;34m(\u001b[0m\u001b[0mdata_dict\u001b[0m\u001b[0;34m,\u001b[0m \u001b[0mimage_ids\u001b[0m\u001b[0;34m)\u001b[0m\u001b[0;34m\u001b[0m\u001b[0m\n\u001b[0m",
      "\u001b[0;32m~/All-Program/App/ObjectDetection/MaskRCNN/training.py\u001b[0m in \u001b[0;36mexec_sess\u001b[0;34m(self, data_dict, image_ids)\u001b[0m\n\u001b[1;32m    298\u001b[0m             \u001b[0mself\u001b[0m\u001b[0;34m.\u001b[0m\u001b[0moutputs_\u001b[0m \u001b[0;34m=\u001b[0m \u001b[0moutputs_\u001b[0m\u001b[0;34m\u001b[0m\u001b[0m\n\u001b[1;32m    299\u001b[0m \u001b[0;34m\u001b[0m\u001b[0m\n\u001b[0;32m--> 300\u001b[0;31m             \u001b[0mprint\u001b[0m\u001b[0;34m(\u001b[0m\u001b[0;34m'Max and Min Proposals, '\u001b[0m\u001b[0;34m,\u001b[0m \u001b[0mnp\u001b[0m\u001b[0;34m.\u001b[0m\u001b[0mamax\u001b[0m\u001b[0;34m(\u001b[0m\u001b[0moutputs_\u001b[0m\u001b[0;34m[\u001b[0m\u001b[0;36m3\u001b[0m\u001b[0;34m]\u001b[0m\u001b[0;34m)\u001b[0m\u001b[0;34m,\u001b[0m \u001b[0mnp\u001b[0m\u001b[0;34m.\u001b[0m\u001b[0mamin\u001b[0m\u001b[0;34m(\u001b[0m\u001b[0moutputs_\u001b[0m\u001b[0;34m[\u001b[0m\u001b[0;36m3\u001b[0m\u001b[0;34m]\u001b[0m\u001b[0;34m)\u001b[0m\u001b[0;34m)\u001b[0m\u001b[0;34m\u001b[0m\u001b[0m\n\u001b[0m\u001b[1;32m    301\u001b[0m             \u001b[0mprint\u001b[0m\u001b[0;34m(\u001b[0m\u001b[0;34m'Num NaN present in Proposals '\u001b[0m\u001b[0;34m,\u001b[0m \u001b[0mnp\u001b[0m\u001b[0;34m.\u001b[0m\u001b[0msum\u001b[0m\u001b[0;34m(\u001b[0m\u001b[0mnp\u001b[0m\u001b[0;34m.\u001b[0m\u001b[0misnan\u001b[0m\u001b[0;34m(\u001b[0m\u001b[0moutputs_\u001b[0m\u001b[0;34m[\u001b[0m\u001b[0;36m3\u001b[0m\u001b[0;34m]\u001b[0m\u001b[0;34m)\u001b[0m\u001b[0;34m)\u001b[0m\u001b[0;34m)\u001b[0m\u001b[0;34m\u001b[0m\u001b[0m\n\u001b[1;32m    302\u001b[0m \u001b[0;34m\u001b[0m\u001b[0m\n",
      "\u001b[0;31mIndexError\u001b[0m: list index out of range"
     ]
    }
   ],
   "source": [
    "from MaskRCNN.training import Train as Train\n",
    "from MaskRCNN.training_debug import Train as TrainDebug\n",
    "print(data_dict['batch_image_metas'])\n",
    "pretrained_weights_path = '/Users/sam/All-Program/App-DataSet/ObjectDetection/MaskRCNN/mask_rcnn_coco.h5'\n",
    "\n",
    "obj_trn = Train(conf, batch_size=batch_size,\n",
    "                pretrained_weights_path=pretrained_weights_path)\n",
    "obj_trn.exec_sess(data_dict, image_ids)\n"
   ]
  },
  {
   "cell_type": "code",
   "execution_count": null,
   "metadata": {
    "collapsed": true
   },
   "outputs": [],
   "source": []
  },
  {
   "cell_type": "markdown",
   "metadata": {},
   "source": [
    "# Evaluation\n",
    "--------"
   ]
  },
  {
   "cell_type": "markdown",
   "metadata": {},
   "source": [
    "## Tensorflow Output:\n",
    "---------"
   ]
  },
  {
   "cell_type": "code",
   "execution_count": 26,
   "metadata": {},
   "outputs": [
    {
     "name": "stdout",
     "output_type": "stream",
     "text": [
      "rpn_pred_logits: \n",
      " (1, 4092, 2) [[[-177.10237122 -385.50964355]\n",
      "  [ 284.38882446  -27.81405449]\n",
      "  [ -44.7473259    75.73406982]\n",
      "  ..., \n",
      "  [-243.84751892   56.10892487]\n",
      "  [ -13.69172096 -111.63048553]\n",
      "  [ -82.54489136  117.41168213]]]\n"
     ]
    }
   ],
   "source": [
    "print ('rpn_pred_logits: \\n', obj_trn.outputs_[0].shape, obj_trn.outputs_[0])"
   ]
  },
  {
   "cell_type": "code",
   "execution_count": 25,
   "metadata": {},
   "outputs": [
    {
     "name": "stdout",
     "output_type": "stream",
     "text": [
      "rpn_pred_probs: \n",
      " [[[ 1.  0.]\n",
      "  [ 1.  0.]\n",
      "  [ 0.  1.]\n",
      "  ..., \n",
      "  [ 0.  1.]\n",
      "  [ 1.  0.]\n",
      "  [ 0.  1.]]] [[[ 1.  0.]\n",
      "  [ 1.  0.]\n",
      "  [ 0.  1.]\n",
      "  ..., \n",
      "  [ 0.  1.]\n",
      "  [ 1.  0.]\n",
      "  [ 0.  1.]]]\n"
     ]
    }
   ],
   "source": [
    "print ('rpn_pred_probs: \\n', obj_trn.outputs_[1], obj_trn.outputs_[1])"
   ]
  },
  {
   "cell_type": "code",
   "execution_count": 28,
   "metadata": {},
   "outputs": [
    {
     "name": "stdout",
     "output_type": "stream",
     "text": [
      "rpn_pred_bbox: \n",
      " (1, 4092, 4) [[[-369.59451294 -271.08853149   56.20913696  -54.01693726]\n",
      "  [ 362.83514404  -34.57955551  115.59382629   81.38095093]\n",
      "  [-140.29745483  140.51620483  186.87646484  -31.60118103]\n",
      "  ..., \n",
      "  [  83.9699173  -124.42794037  125.03123474  154.34573364]\n",
      "  [ -37.40364075  111.21343231 -268.04351807   96.57846832]\n",
      "  [ 110.59667206  -58.97074127   65.84368134  -90.63065338]]]\n"
     ]
    }
   ],
   "source": [
    "print ('rpn_pred_bbox: \\n', obj_trn.outputs_[2].shape, obj_trn.outputs_[2])"
   ]
  },
  {
   "cell_type": "markdown",
   "metadata": {},
   "source": [
    "## Keras Output:\n",
    "------"
   ]
  },
  {
   "cell_type": "code",
   "execution_count": null,
   "metadata": {
    "collapsed": true
   },
   "outputs": [],
   "source": []
  },
  {
   "cell_type": "code",
   "execution_count": null,
   "metadata": {
    "collapsed": true
   },
   "outputs": [],
   "source": []
  },
  {
   "cell_type": "code",
   "execution_count": null,
   "metadata": {
    "collapsed": true
   },
   "outputs": [],
   "source": []
  },
  {
   "cell_type": "code",
   "execution_count": null,
   "metadata": {
    "collapsed": true
   },
   "outputs": [],
   "source": []
  },
  {
   "cell_type": "code",
   "execution_count": null,
   "metadata": {
    "collapsed": true
   },
   "outputs": [],
   "source": []
  },
  {
   "cell_type": "code",
   "execution_count": null,
   "metadata": {
    "collapsed": true
   },
   "outputs": [],
   "source": []
  },
  {
   "cell_type": "code",
   "execution_count": null,
   "metadata": {
    "collapsed": true
   },
   "outputs": [],
   "source": []
  },
  {
   "cell_type": "code",
   "execution_count": null,
   "metadata": {
    "collapsed": true
   },
   "outputs": [],
   "source": []
  },
  {
   "cell_type": "code",
   "execution_count": null,
   "metadata": {
    "collapsed": true
   },
   "outputs": [],
   "source": []
  },
  {
   "cell_type": "markdown",
   "metadata": {},
   "source": [
    "#### Ground Truth Data:\n",
    "-------"
   ]
  },
  {
   "cell_type": "code",
   "execution_count": 21,
   "metadata": {},
   "outputs": [
    {
     "data": {
      "text/plain": [
       "array([[[  6,  73,  55, 124],\n",
       "        [ 52,  46, 113, 107],\n",
       "        [ 57,  30,  98,  71],\n",
       "        [  0,   0,   0,   0],\n",
       "        [  0,   0,   0,   0],\n",
       "        [  0,   0,   0,   0],\n",
       "        [  0,   0,   0,   0],\n",
       "        [  0,   0,   0,   0],\n",
       "        [  0,   0,   0,   0],\n",
       "        [  0,   0,   0,   0],\n",
       "        [  0,   0,   0,   0],\n",
       "        [  0,   0,   0,   0],\n",
       "        [  0,   0,   0,   0],\n",
       "        [  0,   0,   0,   0],\n",
       "        [  0,   0,   0,   0],\n",
       "        [  0,   0,   0,   0],\n",
       "        [  0,   0,   0,   0],\n",
       "        [  0,   0,   0,   0],\n",
       "        [  0,   0,   0,   0],\n",
       "        [  0,   0,   0,   0],\n",
       "        [  0,   0,   0,   0],\n",
       "        [  0,   0,   0,   0],\n",
       "        [  0,   0,   0,   0],\n",
       "        [  0,   0,   0,   0],\n",
       "        [  0,   0,   0,   0],\n",
       "        [  0,   0,   0,   0],\n",
       "        [  0,   0,   0,   0],\n",
       "        [  0,   0,   0,   0],\n",
       "        [  0,   0,   0,   0],\n",
       "        [  0,   0,   0,   0],\n",
       "        [  0,   0,   0,   0],\n",
       "        [  0,   0,   0,   0],\n",
       "        [  0,   0,   0,   0],\n",
       "        [  0,   0,   0,   0],\n",
       "        [  0,   0,   0,   0],\n",
       "        [  0,   0,   0,   0],\n",
       "        [  0,   0,   0,   0],\n",
       "        [  0,   0,   0,   0],\n",
       "        [  0,   0,   0,   0],\n",
       "        [  0,   0,   0,   0],\n",
       "        [  0,   0,   0,   0],\n",
       "        [  0,   0,   0,   0],\n",
       "        [  0,   0,   0,   0],\n",
       "        [  0,   0,   0,   0],\n",
       "        [  0,   0,   0,   0],\n",
       "        [  0,   0,   0,   0],\n",
       "        [  0,   0,   0,   0],\n",
       "        [  0,   0,   0,   0],\n",
       "        [  0,   0,   0,   0],\n",
       "        [  0,   0,   0,   0],\n",
       "        [  0,   0,   0,   0],\n",
       "        [  0,   0,   0,   0],\n",
       "        [  0,   0,   0,   0],\n",
       "        [  0,   0,   0,   0],\n",
       "        [  0,   0,   0,   0],\n",
       "        [  0,   0,   0,   0],\n",
       "        [  0,   0,   0,   0],\n",
       "        [  0,   0,   0,   0],\n",
       "        [  0,   0,   0,   0],\n",
       "        [  0,   0,   0,   0],\n",
       "        [  0,   0,   0,   0],\n",
       "        [  0,   0,   0,   0],\n",
       "        [  0,   0,   0,   0],\n",
       "        [  0,   0,   0,   0],\n",
       "        [  0,   0,   0,   0],\n",
       "        [  0,   0,   0,   0],\n",
       "        [  0,   0,   0,   0],\n",
       "        [  0,   0,   0,   0],\n",
       "        [  0,   0,   0,   0],\n",
       "        [  0,   0,   0,   0],\n",
       "        [  0,   0,   0,   0],\n",
       "        [  0,   0,   0,   0],\n",
       "        [  0,   0,   0,   0],\n",
       "        [  0,   0,   0,   0],\n",
       "        [  0,   0,   0,   0],\n",
       "        [  0,   0,   0,   0],\n",
       "        [  0,   0,   0,   0],\n",
       "        [  0,   0,   0,   0],\n",
       "        [  0,   0,   0,   0],\n",
       "        [  0,   0,   0,   0],\n",
       "        [  0,   0,   0,   0],\n",
       "        [  0,   0,   0,   0],\n",
       "        [  0,   0,   0,   0],\n",
       "        [  0,   0,   0,   0],\n",
       "        [  0,   0,   0,   0],\n",
       "        [  0,   0,   0,   0],\n",
       "        [  0,   0,   0,   0],\n",
       "        [  0,   0,   0,   0],\n",
       "        [  0,   0,   0,   0],\n",
       "        [  0,   0,   0,   0],\n",
       "        [  0,   0,   0,   0],\n",
       "        [  0,   0,   0,   0],\n",
       "        [  0,   0,   0,   0],\n",
       "        [  0,   0,   0,   0],\n",
       "        [  0,   0,   0,   0],\n",
       "        [  0,   0,   0,   0],\n",
       "        [  0,   0,   0,   0],\n",
       "        [  0,   0,   0,   0],\n",
       "        [  0,   0,   0,   0],\n",
       "        [  0,   0,   0,   0]]], dtype=int32)"
      ]
     },
     "execution_count": 21,
     "metadata": {},
     "output_type": "execute_result"
    }
   ],
   "source": [
    "obj_trn.batch_gt_bboxes  # batch_gt_boxes are zero_paded"
   ]
  },
  {
   "cell_type": "markdown",
   "metadata": {},
   "source": [
    "#### RPN Class:\n",
    "------"
   ]
  },
  {
   "cell_type": "code",
   "execution_count": 22,
   "metadata": {},
   "outputs": [
    {
     "name": "stdout",
     "output_type": "stream",
     "text": [
      "(RPN) Target Class:  [[[0]\n",
      "  [0]\n",
      "  [0]\n",
      "  ..., \n",
      "  [0]\n",
      "  [0]\n",
      "  [0]]]\n"
     ]
    },
    {
     "data": {
      "text/plain": [
       "(array([3970, 4054, 4074]), array([0, 0, 0]))"
      ]
     },
     "execution_count": 22,
     "metadata": {},
     "output_type": "execute_result"
    }
   ],
   "source": [
    "print('(RPN) Target Class: ', obj_trn.batch_rpn_target_class)\n",
    "np.where(batch_rpn_target_class[run_for_batch_num] == 1)"
   ]
  },
  {
   "cell_type": "code",
   "execution_count": 23,
   "metadata": {
    "scrolled": true
   },
   "outputs": [
    {
     "name": "stdout",
     "output_type": "stream",
     "text": [
      "(RPN) Pred Logits:  [[[ 201.4161377   221.00543213]\n",
      "  [-664.92596436   -8.95970154]\n",
      "  [-123.12055206 -308.67510986]\n",
      "  ..., \n",
      "  [  74.4813385    39.92649841]\n",
      "  [-166.98858643  -36.87721634]\n",
      "  [-197.8571167  -109.42250824]]]\n"
     ]
    }
   ],
   "source": [
    "print('(RPN) Pred Logits: ', obj_trn.outputs_[0])"
   ]
  },
  {
   "cell_type": "code",
   "execution_count": 24,
   "metadata": {
    "scrolled": true
   },
   "outputs": [
    {
     "name": "stdout",
     "output_type": "stream",
     "text": [
      "(RPN) Pred probs:  [[[  3.10797499e-09   1.00000000e+00]\n",
      "  [  0.00000000e+00   1.00000000e+00]\n",
      "  [  1.00000000e+00   0.00000000e+00]\n",
      "  ..., \n",
      "  [  1.00000000e+00   9.84064667e-16]\n",
      "  [  0.00000000e+00   1.00000000e+00]\n",
      "  [  0.00000000e+00   1.00000000e+00]]]\n"
     ]
    }
   ],
   "source": [
    "print('(RPN) Pred probs: ', obj_trn.outputs_[1])"
   ]
  },
  {
   "cell_type": "markdown",
   "metadata": {},
   "source": [
    "#### RPN Boxes:\n",
    "------"
   ]
  },
  {
   "cell_type": "code",
   "execution_count": 25,
   "metadata": {},
   "outputs": [
    {
     "name": "stdout",
     "output_type": "stream",
     "text": [
      "(RPN) Target Bbox:  [[[-0.78125     0.78125     1.23918082  1.23918082]\n",
      "  [-0.234375    0.390625   -1.33531393 -1.13528725]\n",
      "  [-1.49155337  2.76213586 -1.97291405  1.49282186]\n",
      "  ..., \n",
      "  [ 0.          0.          0.          0.        ]\n",
      "  [ 0.          0.          0.          0.        ]\n",
      "  [ 0.          0.          0.          0.        ]]]\n"
     ]
    }
   ],
   "source": [
    "print('(RPN) Target Bbox: ', obj_trn.batch_rpn_target_bbox)"
   ]
  },
  {
   "cell_type": "code",
   "execution_count": 26,
   "metadata": {},
   "outputs": [
    {
     "name": "stdout",
     "output_type": "stream",
     "text": [
      "(RPN) Pred Bbox:  [[[ -10.57090473 -451.52709961 -404.64862061  -16.98497009]\n",
      "  [ 324.58416748 -210.03317261  -25.46047974  -14.76081848]\n",
      "  [  96.52058411 -207.74389648  224.7641449   251.16430664]\n",
      "  ..., \n",
      "  [  -7.11525917   77.90625763 -366.90869141  -37.26107025]\n",
      "  [ 152.19485474   33.57973862  -99.92188263 -134.29415894]\n",
      "  [ -63.37756348 -182.71760559  261.96624756  -89.91821289]]]\n"
     ]
    }
   ],
   "source": [
    "print('(RPN) Pred Bbox: ', obj_trn.outputs_[2])"
   ]
  },
  {
   "cell_type": "code",
   "execution_count": 27,
   "metadata": {},
   "outputs": [
    {
     "name": "stdout",
     "output_type": "stream",
     "text": [
      "(Proposals) proposals rois:  (1, 2000, 4) [[[ 0.  0.  0.  0.]\n",
      "  [ 1.  0.  1.  0.]\n",
      "  [ 0.  0.  0.  0.]\n",
      "  ..., \n",
      "  [ 1.  0.  1.  0.]\n",
      "  [ 1.  0.  1.  0.]\n",
      "  [ 0.  0.  0.  0.]]]\n"
     ]
    }
   ],
   "source": [
    "print('(Proposals) proposals rois: ', obj_trn.outputs_[3].shape, obj_trn.outputs_[3])"
   ]
  },
  {
   "cell_type": "markdown",
   "metadata": {},
   "source": [
    "## Debug Detection Target creation layer:"
   ]
  },
  {
   "cell_type": "code",
   "execution_count": 31,
   "metadata": {
    "collapsed": true
   },
   "outputs": [],
   "source": [
    "from MaskRCNN.building_blocks import data_processor\n",
    "import tensorflow as tf\n",
    "def get_detection_target_graph(proposals_, input_gt_class_ids, input_gt_boxes_pxl):\n",
    "    batch_rois = []\n",
    "    batch_rois_gt_class_ids = []\n",
    "    batch_rois_gt_class_boxes = []\n",
    "    for i in range(0, obj_trn.batch_size):\n",
    "        obj_dp = data_processor.BuildDetectionTargets(\n",
    "                conf, proposals_[i], input_gt_class_ids[i], input_gt_boxes_pxl[i],\n",
    "                DEBUG=True)\n",
    "        rois, roi_gt_class_ids, roi_gt_box_deltas = obj_dp.get_target_rois()\n",
    "        debug_opt = obj_dp.debug_outputs()\n",
    "        break\n",
    "#         batch_rois.append(rois)\n",
    "#         batch_rois_gt_class_ids.append(roi_gt_class_ids)\n",
    "#         batch_rois_gt_class_boxes.append(roi_gt_box_deltas)\n",
    "\n",
    "#         batch_rois = tf.stack(batch_rois, axis=0)\n",
    "#         batch_rois_gt_class_ids = tf.concat(batch_rois_gt_class_ids, axis=0)\n",
    "#         batch_rois_gt_class_boxes = tf.stack(batch_rois_gt_class_boxes, axis=0)\n",
    "\n",
    "    return batch_rois, batch_rois_gt_class_ids, batch_rois_gt_class_boxes, debug_opt"
   ]
  },
  {
   "cell_type": "code",
   "execution_count": 32,
   "metadata": {
    "collapsed": true
   },
   "outputs": [],
   "source": [
    "# tf.reset_default_graph()\n",
    "proposals_ = tf.placeholder(shape=[1,2000,4], dtype=tf.float32, name='pp')\n",
    "input_gt_class_ids = tf.placeholder(dtype=tf.int32,\n",
    "                                    shape=[None, None],\n",
    "                                    name='icid')\n",
    "\n",
    "rois, mrcnn_target_class_ids, mrcnn_target_box, debug_opt = get_detection_target_graph(\n",
    "            proposals_,\n",
    "            input_gt_class_ids,\n",
    "            obj_trn.input_gt_boxes_norm\n",
    ")\n",
    "debug_outputs = [debug_opt['non_zero_proposals'],\n",
    "                 debug_opt['prop_corresponding_gt_non_zero'],\n",
    "                 debug_opt['non_zeros_gt_box'],\n",
    "                    debug_opt['gt_boxes_non_zero'],\n",
    "                    debug_opt['gt_class_ids_non_zero'],\n",
    "                    debug_opt['iou'],\n",
    "                    debug_opt['roi_iou_max'],\n",
    "                    debug_opt['pos_indices_05more'],\n",
    "                    debug_opt['neg_indices_05more'],\n",
    "#                     debug_opt['num_pos_inst'],\n",
    "                    debug_opt['pos_indices'],\n",
    "                    debug_opt['pos_count'],\n",
    "                    debug_opt['neg_cnt'],\n",
    "                    debug_opt['neg_indices'],\n",
    "                    debug_opt['pos_rois'],\n",
    "                    debug_opt['neg_rois'],\n",
    "                    debug_opt['pos_iou'],\n",
    "                    debug_opt['roi_gt_box_assignment'],\n",
    "                    debug_opt['roi_gt_class_ids'],\n",
    "                    debug_opt['roi_gt_boxes'],\n",
    "                    debug_opt['roi_gt_box_deltas']\n",
    "                ]\n",
    "\n",
    "feed_dict = {obj_trn.xIN: obj_trn.batch_images,\n",
    "         obj_trn.anchors: obj_trn.anchors_normed,\n",
    "         input_gt_class_ids: obj_trn.batch_gt_class_ids,\n",
    "         obj_trn.input_gt_boxes_pxl: obj_trn.batch_gt_bboxes,\n",
    "         obj_trn.rpn_target_class: obj_trn.batch_rpn_target_class,\n",
    "         obj_trn.rpn_target_bbox: obj_trn.batch_rpn_target_bbox,\n",
    "             proposals_:obj_trn.outputs_[3]\n",
    "         }\n",
    "\n",
    "import tensorflow as tf\n",
    "with tf.Session() as sess:\n",
    "    sess.run(tf.global_variables_initializer())\n",
    "    output_ = sess.run(debug_outputs, feed_dict=feed_dict)\n",
    "    "
   ]
  },
  {
   "cell_type": "code",
   "execution_count": 33,
   "metadata": {},
   "outputs": [
    {
     "data": {
      "text/plain": [
       "array([[[  6,  73,  55, 124],\n",
       "        [ 52,  46, 113, 107],\n",
       "        [ 57,  30,  98,  71],\n",
       "        [  0,   0,   0,   0],\n",
       "        [  0,   0,   0,   0],\n",
       "        [  0,   0,   0,   0],\n",
       "        [  0,   0,   0,   0],\n",
       "        [  0,   0,   0,   0],\n",
       "        [  0,   0,   0,   0],\n",
       "        [  0,   0,   0,   0],\n",
       "        [  0,   0,   0,   0],\n",
       "        [  0,   0,   0,   0],\n",
       "        [  0,   0,   0,   0],\n",
       "        [  0,   0,   0,   0],\n",
       "        [  0,   0,   0,   0],\n",
       "        [  0,   0,   0,   0],\n",
       "        [  0,   0,   0,   0],\n",
       "        [  0,   0,   0,   0],\n",
       "        [  0,   0,   0,   0],\n",
       "        [  0,   0,   0,   0],\n",
       "        [  0,   0,   0,   0],\n",
       "        [  0,   0,   0,   0],\n",
       "        [  0,   0,   0,   0],\n",
       "        [  0,   0,   0,   0],\n",
       "        [  0,   0,   0,   0],\n",
       "        [  0,   0,   0,   0],\n",
       "        [  0,   0,   0,   0],\n",
       "        [  0,   0,   0,   0],\n",
       "        [  0,   0,   0,   0],\n",
       "        [  0,   0,   0,   0],\n",
       "        [  0,   0,   0,   0],\n",
       "        [  0,   0,   0,   0],\n",
       "        [  0,   0,   0,   0],\n",
       "        [  0,   0,   0,   0],\n",
       "        [  0,   0,   0,   0],\n",
       "        [  0,   0,   0,   0],\n",
       "        [  0,   0,   0,   0],\n",
       "        [  0,   0,   0,   0],\n",
       "        [  0,   0,   0,   0],\n",
       "        [  0,   0,   0,   0],\n",
       "        [  0,   0,   0,   0],\n",
       "        [  0,   0,   0,   0],\n",
       "        [  0,   0,   0,   0],\n",
       "        [  0,   0,   0,   0],\n",
       "        [  0,   0,   0,   0],\n",
       "        [  0,   0,   0,   0],\n",
       "        [  0,   0,   0,   0],\n",
       "        [  0,   0,   0,   0],\n",
       "        [  0,   0,   0,   0],\n",
       "        [  0,   0,   0,   0],\n",
       "        [  0,   0,   0,   0],\n",
       "        [  0,   0,   0,   0],\n",
       "        [  0,   0,   0,   0],\n",
       "        [  0,   0,   0,   0],\n",
       "        [  0,   0,   0,   0],\n",
       "        [  0,   0,   0,   0],\n",
       "        [  0,   0,   0,   0],\n",
       "        [  0,   0,   0,   0],\n",
       "        [  0,   0,   0,   0],\n",
       "        [  0,   0,   0,   0],\n",
       "        [  0,   0,   0,   0],\n",
       "        [  0,   0,   0,   0],\n",
       "        [  0,   0,   0,   0],\n",
       "        [  0,   0,   0,   0],\n",
       "        [  0,   0,   0,   0],\n",
       "        [  0,   0,   0,   0],\n",
       "        [  0,   0,   0,   0],\n",
       "        [  0,   0,   0,   0],\n",
       "        [  0,   0,   0,   0],\n",
       "        [  0,   0,   0,   0],\n",
       "        [  0,   0,   0,   0],\n",
       "        [  0,   0,   0,   0],\n",
       "        [  0,   0,   0,   0],\n",
       "        [  0,   0,   0,   0],\n",
       "        [  0,   0,   0,   0],\n",
       "        [  0,   0,   0,   0],\n",
       "        [  0,   0,   0,   0],\n",
       "        [  0,   0,   0,   0],\n",
       "        [  0,   0,   0,   0],\n",
       "        [  0,   0,   0,   0],\n",
       "        [  0,   0,   0,   0],\n",
       "        [  0,   0,   0,   0],\n",
       "        [  0,   0,   0,   0],\n",
       "        [  0,   0,   0,   0],\n",
       "        [  0,   0,   0,   0],\n",
       "        [  0,   0,   0,   0],\n",
       "        [  0,   0,   0,   0],\n",
       "        [  0,   0,   0,   0],\n",
       "        [  0,   0,   0,   0],\n",
       "        [  0,   0,   0,   0],\n",
       "        [  0,   0,   0,   0],\n",
       "        [  0,   0,   0,   0],\n",
       "        [  0,   0,   0,   0],\n",
       "        [  0,   0,   0,   0],\n",
       "        [  0,   0,   0,   0],\n",
       "        [  0,   0,   0,   0],\n",
       "        [  0,   0,   0,   0],\n",
       "        [  0,   0,   0,   0],\n",
       "        [  0,   0,   0,   0],\n",
       "        [  0,   0,   0,   0]]], dtype=int32)"
      ]
     },
     "execution_count": 33,
     "metadata": {},
     "output_type": "execute_result"
    }
   ],
   "source": [
    "obj_trn.batch_gt_bboxes\n"
   ]
  },
  {
   "cell_type": "code",
   "execution_count": 34,
   "metadata": {},
   "outputs": [
    {
     "name": "stdout",
     "output_type": "stream",
     "text": [
      "non_zeros_proposals:  (2000,) [False  True False ...,  True  True False]\n"
     ]
    },
    {
     "data": {
      "text/plain": [
       "(None,)"
      ]
     },
     "execution_count": 34,
     "metadata": {},
     "output_type": "execute_result"
    }
   ],
   "source": [
    "print('non_zeros_proposals: ', output_[0].shape, output_[0]),"
   ]
  },
  {
   "cell_type": "code",
   "execution_count": 35,
   "metadata": {},
   "outputs": [
    {
     "name": "stdout",
     "output_type": "stream",
     "text": [
      "prop_corresponding_gt_non_zero:  (1426, 4) [[ 1.          0.          1.          0.        ]\n",
      " [ 0.51374483  0.          0.51374483  0.        ]\n",
      " [ 0.          0.          0.          1.        ]\n",
      " ..., \n",
      " [ 0.          0.41631895  0.          0.41631895]\n",
      " [ 1.          0.          1.          0.        ]\n",
      " [ 1.          0.          1.          0.        ]]\n"
     ]
    },
    {
     "data": {
      "text/plain": [
       "(None,)"
      ]
     },
     "execution_count": 35,
     "metadata": {},
     "output_type": "execute_result"
    }
   ],
   "source": [
    "print('prop_corresponding_gt_non_zero: ', output_[1].shape, output_[1]),"
   ]
  },
  {
   "cell_type": "code",
   "execution_count": 36,
   "metadata": {
    "scrolled": false
   },
   "outputs": [
    {
     "name": "stdout",
     "output_type": "stream",
     "text": [
      "non_zeros_gt_box:  (100,) [ True  True  True False False False False False False False False False\n",
      " False False False False False False False False False False False False\n",
      " False False False False False False False False False False False False\n",
      " False False False False False False False False False False False False\n",
      " False False False False False False False False False False False False\n",
      " False False False False False False False False False False False False\n",
      " False False False False False False False False False False False False\n",
      " False False False False False False False False False False False False\n",
      " False False False False]\n"
     ]
    },
    {
     "data": {
      "text/plain": [
       "(None,)"
      ]
     },
     "execution_count": 36,
     "metadata": {},
     "output_type": "execute_result"
    }
   ],
   "source": [
    "print('non_zeros_gt_box: ', output_[2].shape, output_[2]),"
   ]
  },
  {
   "cell_type": "code",
   "execution_count": 37,
   "metadata": {},
   "outputs": [
    {
     "name": "stdout",
     "output_type": "stream",
     "text": [
      "gt_boxes_non_zero  (3, 4) [[ 0.04724409  0.57480317  0.42519686  0.96850395]\n",
      " [ 0.40944883  0.36220473  0.88188976  0.83464569]\n",
      " [ 0.44881889  0.23622048  0.76377952  0.55118108]]\n"
     ]
    }
   ],
   "source": [
    "print('gt_boxes_non_zero ', output_[3].shape, output_[3])"
   ]
  },
  {
   "cell_type": "code",
   "execution_count": 43,
   "metadata": {},
   "outputs": [
    {
     "name": "stdout",
     "output_type": "stream",
     "text": [
      "gt_class_ids_non_zero  (2,) [3 1]\n"
     ]
    }
   ],
   "source": [
    "print('gt_class_ids_non_zero ', output_[4].shape, output_[4])"
   ]
  },
  {
   "cell_type": "code",
   "execution_count": 44,
   "metadata": {},
   "outputs": [
    {
     "name": "stdout",
     "output_type": "stream",
     "text": [
      "iou proposal_pred Vs gt_box_norm  (1902, 2) [[ 0.  0.]\n",
      " [ 0.  0.]\n",
      " [ 0.  0.]\n",
      " ..., \n",
      " [ 0.  0.]\n",
      " [ 0.  0.]\n",
      " [ 0.  0.]]\n"
     ]
    }
   ],
   "source": [
    "print('iou proposal_pred Vs gt_box_norm ', output_[5].shape, output_[5])"
   ]
  },
  {
   "cell_type": "code",
   "execution_count": 38,
   "metadata": {},
   "outputs": [
    {
     "name": "stdout",
     "output_type": "stream",
     "text": [
      "[ 340  643 1000 1089 1205]\n",
      "[ 340  643 1162]\n"
     ]
    },
    {
     "data": {
      "text/plain": [
       "array([[ 0.14880031,  0.22320044,  0.09920019],\n",
       "       [ 0.16053405,  0.214697  ,  0.13889386],\n",
       "       [ 0.01842047,  0.        ,  0.        ],\n",
       "       [ 0.14172873,  0.        ,  0.        ],\n",
       "       [ 0.0158657 ,  0.        ,  0.        ]], dtype=float32)"
      ]
     },
     "execution_count": 38,
     "metadata": {},
     "output_type": "execute_result"
    }
   ],
   "source": [
    "print (np.where(output_[5][:,0] !=0)[0])\n",
    "print(np.where(output_[5][:,1] !=0)[0])\n",
    "output_[5][np.where(output_[5][:,0] !=0)[0],:]"
   ]
  },
  {
   "cell_type": "code",
   "execution_count": 39,
   "metadata": {},
   "outputs": [
    {
     "name": "stdout",
     "output_type": "stream",
     "text": [
      "roi_iou_max  [ 0.  0.  0. ...,  0.  0.  0.]\n"
     ]
    }
   ],
   "source": [
    "print ('roi_iou_max ', output_[6])"
   ]
  },
  {
   "cell_type": "code",
   "execution_count": 40,
   "metadata": {},
   "outputs": [
    {
     "name": "stdout",
     "output_type": "stream",
     "text": [
      "pos_indices_05more  []\n"
     ]
    }
   ],
   "source": [
    "print ('pos_indices_05more ', output_[7])"
   ]
  },
  {
   "cell_type": "code",
   "execution_count": 41,
   "metadata": {},
   "outputs": [
    {
     "name": "stdout",
     "output_type": "stream",
     "text": [
      "neg_indices_05more  []\n"
     ]
    }
   ],
   "source": [
    "print ('neg_indices_05more ', output_[8])"
   ]
  },
  {
   "cell_type": "code",
   "execution_count": null,
   "metadata": {
    "collapsed": true
   },
   "outputs": [],
   "source": []
  }
 ],
 "metadata": {
  "kernelspec": {
   "display_name": "Python 3",
   "language": "python",
   "name": "python3"
  },
  "language_info": {
   "codemirror_mode": {
    "name": "ipython",
    "version": 3
   },
   "file_extension": ".py",
   "mimetype": "text/x-python",
   "name": "python",
   "nbconvert_exporter": "python",
   "pygments_lexer": "ipython3",
   "version": "3.5.4"
  }
 },
 "nbformat": 4,
 "nbformat_minor": 2
}
