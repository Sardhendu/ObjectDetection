{
 "cells": [
  {
   "cell_type": "code",
   "execution_count": 1,
   "metadata": {
    "collapsed": true
   },
   "outputs": [],
   "source": [
    "import os\n",
    "import os.path as path\n",
    "import sys\n",
    "\n",
    "wk_dir = os.path.dirname(os.path.realpath('__file__'))\n",
    "parent_code_dir =  path.abspath(path.join(wk_dir ,\"../..\"))\n",
    "sys.path.append(parent_code_dir)\n",
    "\n",
    "import logging\n",
    "import random\n",
    "import cv2\n",
    "import math\n",
    "import numpy as np\n",
    "import pandas as pd\n",
    "import  matplotlib.pyplot as plt\n",
    "from PIL import Image\n",
    "from PIL import ImageDraw\n",
    "\n",
    "\n",
    "from MaskRCNN.building_blocks import utils\n",
    "from MaskRCNN.config import config\n",
    "from MaskRCNN.shapes import ShapesConfig, Dataset\n",
    "\n",
    "%matplotllib inline"
   ]
  },
  {
   "cell_type": "markdown",
   "metadata": {},
   "source": [
    "## Get/Prepare Data:\n",
    "------"
   ]
  },
  {
   "cell_type": "code",
   "execution_count": 2,
   "metadata": {},
   "outputs": [
    {
     "name": "stdout",
     "output_type": "stream",
     "text": [
      "[145   2  84]\n",
      "4\n",
      "height width:  128 128\n",
      "object_  square\n",
      "color ........  (96, 188, 76)\n",
      "height width:  128 128\n",
      "object_  circle\n",
      "color ........  (24, 175, 73)\n",
      "height width:  128 128\n",
      "object_  square\n",
      "color ........  (174, 73, 155)\n",
      "height width:  128 128\n",
      "object_  square\n",
      "color ........  (89, 135, 139)\n",
      "bounding_boxes  [[ 26  40  86 100]\n",
      " [  6  73  56 123]\n",
      " [ 52  46 112 106]\n",
      " [ 57  30  97  70]]\n",
      "active_class_info ...................  [('circle', (24, 175, 73), (31, 98, 25)), ('square', (174, 73, 155), (82, 76, 30)), ('square', (89, 135, 139), (77, 50, 20))]\n",
      "Batch Meta:  {0: {'width': 128, 'active_class_info': [('circle', (24, 175, 73), (31, 98, 25)), ('square', (174, 73, 155), (82, 76, 30)), ('square', (89, 135, 139), (77, 50, 20))], 'bg_color': array([145,   2,  84]), 'height': 128}}\n",
      "Anchors Max Min length:  154.509667992 -90.5096679919\n",
      "Anchor shape:  (4092, 4)\n",
      "Achor Area:  (4092,)\n",
      "active_class_info ....................  [('circle', (24, 175, 73), (31, 98, 25)), ('square', (174, 73, 155), (82, 76, 30)), ('square', (89, 135, 139), (77, 50, 20))]\n",
      "source_class_ids  [1 1 1 1]\n",
      "image_meta ...............  [  0 128 128   3 128 128   3   0   0 128 128   1   1   1   1   1]\n",
      "Build RPN Targets ............\n",
      "MinMax: batch_gt_boxes 6 124\n",
      "MinMax: anchors -90.5096679919 154.509667992\n",
      "0238409238490283904823048023980423  -4054\n",
      "0238409238490283904823048023980423  -4054\n",
      "pos_idx,  3\n",
      "0238409238490283904823048023980423  3 -125 -4054\n",
      "neg_idx,  4057 128\n"
     ]
    },
    {
     "ename": "TypeError",
     "evalue": "choice() got an unexpected keyword argument 'replace'",
     "output_type": "error",
     "traceback": [
      "\u001b[0;31m---------------------------------------------------------------------------\u001b[0m",
      "\u001b[0;31mTypeError\u001b[0m                                 Traceback (most recent call last)",
      "\u001b[0;32m<ipython-input-2-99b79d0c8dab>\u001b[0m in \u001b[0;36m<module>\u001b[0;34m()\u001b[0m\n\u001b[1;32m     10\u001b[0m \u001b[0;34m\u001b[0m\u001b[0m\n\u001b[1;32m     11\u001b[0m \u001b[0mobj_ptd\u001b[0m \u001b[0;34m=\u001b[0m \u001b[0mPreprareTrainData\u001b[0m\u001b[0;34m(\u001b[0m\u001b[0mconf\u001b[0m\u001b[0;34m,\u001b[0m \u001b[0mdata\u001b[0m\u001b[0;34m)\u001b[0m\u001b[0;34m\u001b[0m\u001b[0m\n\u001b[0;32m---> 12\u001b[0;31m \u001b[0mdata_dict\u001b[0m \u001b[0;34m=\u001b[0m \u001b[0mobj_ptd\u001b[0m\u001b[0;34m.\u001b[0m\u001b[0mget_data\u001b[0m\u001b[0;34m(\u001b[0m\u001b[0mimage_ids\u001b[0m\u001b[0;34m)\u001b[0m\u001b[0;34m\u001b[0m\u001b[0m\n\u001b[0m\u001b[1;32m     13\u001b[0m \u001b[0mprint\u001b[0m\u001b[0;34m(\u001b[0m\u001b[0mdata_dict\u001b[0m\u001b[0;34m.\u001b[0m\u001b[0mkeys\u001b[0m\u001b[0;34m(\u001b[0m\u001b[0;34m)\u001b[0m\u001b[0;34m)\u001b[0m\u001b[0;34m\u001b[0m\u001b[0m\n\u001b[1;32m     14\u001b[0m \u001b[0;34m\u001b[0m\u001b[0m\n",
      "\u001b[0;32m~/All-Program/App/ObjectDetection/MaskRCNN/building_blocks/data_processor.py\u001b[0m in \u001b[0;36mget_data\u001b[0;34m(self, image_ids)\u001b[0m\n\u001b[1;32m    366\u001b[0m \u001b[0;34m\u001b[0m\u001b[0m\n\u001b[1;32m    367\u001b[0m             \u001b[0;31m# GET RPN TARGETS\u001b[0m\u001b[0;34m\u001b[0m\u001b[0;34m\u001b[0m\u001b[0m\n\u001b[0;32m--> 368\u001b[0;31m             \u001b[0mpositive_anchors\u001b[0m\u001b[0;34m,\u001b[0m \u001b[0mrpn_target_class\u001b[0m\u001b[0;34m,\u001b[0m \u001b[0mrpn_target_bbox\u001b[0m \u001b[0;34m=\u001b[0m \u001b[0mself\u001b[0m\u001b[0;34m.\u001b[0m\u001b[0mbuild_rpn_targets\u001b[0m\u001b[0;34m(\u001b[0m\u001b[0mgt_bbox\u001b[0m\u001b[0;34m)\u001b[0m\u001b[0;34m\u001b[0m\u001b[0m\n\u001b[0m\u001b[1;32m    369\u001b[0m             \u001b[0mprint\u001b[0m\u001b[0;34m(\u001b[0m\u001b[0;34m'+ve class count '\u001b[0m\u001b[0;34m,\u001b[0m \u001b[0mlen\u001b[0m\u001b[0;34m(\u001b[0m\u001b[0mnp\u001b[0m\u001b[0;34m.\u001b[0m\u001b[0mwhere\u001b[0m\u001b[0;34m(\u001b[0m\u001b[0mrpn_target_class\u001b[0m \u001b[0;34m==\u001b[0m \u001b[0;36m1\u001b[0m\u001b[0;34m)\u001b[0m\u001b[0;34m[\u001b[0m\u001b[0;36m0\u001b[0m\u001b[0;34m]\u001b[0m\u001b[0;34m)\u001b[0m\u001b[0;34m)\u001b[0m\u001b[0;34m\u001b[0m\u001b[0m\n\u001b[1;32m    370\u001b[0m             \u001b[0mprint\u001b[0m\u001b[0;34m(\u001b[0m\u001b[0;34m'-ve class count '\u001b[0m\u001b[0;34m,\u001b[0m \u001b[0mlen\u001b[0m\u001b[0;34m(\u001b[0m\u001b[0mnp\u001b[0m\u001b[0;34m.\u001b[0m\u001b[0mwhere\u001b[0m\u001b[0;34m(\u001b[0m\u001b[0mrpn_target_class\u001b[0m \u001b[0;34m==\u001b[0m \u001b[0;34m-\u001b[0m\u001b[0;36m1\u001b[0m\u001b[0;34m)\u001b[0m\u001b[0;34m[\u001b[0m\u001b[0;36m0\u001b[0m\u001b[0;34m]\u001b[0m\u001b[0;34m)\u001b[0m\u001b[0;34m)\u001b[0m\u001b[0;34m\u001b[0m\u001b[0m\n",
      "\u001b[0;32m~/All-Program/App/ObjectDetection/MaskRCNN/building_blocks/data_processor.py\u001b[0m in \u001b[0;36mbuild_rpn_targets\u001b[0;34m(self, batch_gt_boxes)\u001b[0m\n\u001b[1;32m    258\u001b[0m         \u001b[0mextra\u001b[0m \u001b[0;34m=\u001b[0m \u001b[0mlen\u001b[0m\u001b[0;34m(\u001b[0m\u001b[0midx\u001b[0m\u001b[0;34m)\u001b[0m \u001b[0;34m-\u001b[0m \u001b[0;34m(\u001b[0m\u001b[0mself\u001b[0m\u001b[0;34m.\u001b[0m\u001b[0mmax_rpn_targets\u001b[0m \u001b[0;34m-\u001b[0m \u001b[0mnp\u001b[0m\u001b[0;34m.\u001b[0m\u001b[0msum\u001b[0m\u001b[0;34m(\u001b[0m\u001b[0mrpn_target_class\u001b[0m \u001b[0;34m==\u001b[0m \u001b[0;36m1\u001b[0m\u001b[0;34m)\u001b[0m\u001b[0;34m)\u001b[0m\u001b[0;34m\u001b[0m\u001b[0m\n\u001b[1;32m    259\u001b[0m         \u001b[0;32mif\u001b[0m \u001b[0mextra\u001b[0m \u001b[0;34m>\u001b[0m \u001b[0;36m0\u001b[0m\u001b[0;34m:\u001b[0m\u001b[0;34m\u001b[0m\u001b[0m\n\u001b[0;32m--> 260\u001b[0;31m             \u001b[0mrpn_target_class\u001b[0m\u001b[0;34m[\u001b[0m\u001b[0mrandom\u001b[0m\u001b[0;34m.\u001b[0m\u001b[0mchoice\u001b[0m\u001b[0;34m(\u001b[0m\u001b[0midx\u001b[0m\u001b[0;34m,\u001b[0m \u001b[0mextra\u001b[0m\u001b[0;34m,\u001b[0m \u001b[0mreplace\u001b[0m\u001b[0;34m=\u001b[0m\u001b[0;32mFalse\u001b[0m\u001b[0;34m)\u001b[0m\u001b[0;34m]\u001b[0m \u001b[0;34m=\u001b[0m \u001b[0;36m0\u001b[0m\u001b[0;34m\u001b[0m\u001b[0m\n\u001b[0m\u001b[1;32m    261\u001b[0m         \u001b[0;31m# print('extra -1 ', extra)\u001b[0m\u001b[0;34m\u001b[0m\u001b[0;34m\u001b[0m\u001b[0m\n\u001b[1;32m    262\u001b[0m         \u001b[0mprint\u001b[0m\u001b[0;34m(\u001b[0m\u001b[0;34m'0238409238490283904823048023980423 '\u001b[0m\u001b[0;34m,\u001b[0m \u001b[0mlen\u001b[0m\u001b[0;34m(\u001b[0m\u001b[0midx\u001b[0m\u001b[0;34m)\u001b[0m\u001b[0;34m,\u001b[0m \u001b[0mextra\u001b[0m\u001b[0;34m,\u001b[0m \u001b[0msum\u001b[0m\u001b[0;34m(\u001b[0m\u001b[0mrpn_target_class\u001b[0m\u001b[0;34m)\u001b[0m\u001b[0;34m)\u001b[0m\u001b[0;34m\u001b[0m\u001b[0m\n",
      "\u001b[0;31mTypeError\u001b[0m: choice() got an unexpected keyword argument 'replace'"
     ]
    }
   ],
   "source": [
    "# Debugg\n",
    "from MaskRCNN.building_blocks.data_processor import PreprareTrainData\n",
    "conf = ShapesConfig()\n",
    "\n",
    "batch_size = 1\n",
    "# Get data from for randomly generated shapes\n",
    "data = Dataset(num_images=batch_size, height=128, width=128)\n",
    "print ('Batch Meta: ', data.image_meta)\n",
    "image_ids = data.image_meta.keys()\n",
    "\n",
    "obj_ptd = PreprareTrainData(conf, data)\n",
    "data_dict = obj_ptd.get_data(image_ids)\n",
    "print(data_dict.keys())\n",
    "\n",
    "\n",
    "##### GET DATA TO VIZUALIZE\n",
    "run_for_batch_num = 0\n",
    "# Get Batch Image\n",
    "batch_images = data_dict['batch_images']\n",
    "\n",
    "# Get Image meta\n",
    "batch_image_metas = data_dict['batch_image_metas']\n",
    "\n",
    "# Get ground truth boxes\n",
    "batch_gt_bboxes = data_dict['batch_gt_bboxes']\n",
    "\n",
    "# Get ground truth boxes\n",
    "batch_gt_class_id = data_dict['batch_gt_class_ids']\n",
    "\n",
    "# Get ground truth boxes\n",
    "batch_gt_masks = data_dict['batch_gt_masks']\n",
    "\n",
    "# Get Batch RPN Target Class\n",
    "batch_rpn_target_class = data_dict['batch_rpn_target_class']\n",
    "\n",
    "# Get Boxes with iou > 0.7 to gt_boxes: batch_rpn target box\n",
    "batch_rpn_target_bbox = data_dict['batch_rpn_target_bbox']\n",
    "\n",
    "# Get Positive anchors with IOU more than 0.7\n",
    "batch_positive_anchors = data_dict['batch_positive_anchors']"
   ]
  },
  {
   "cell_type": "code",
   "execution_count": null,
   "metadata": {
    "scrolled": true
   },
   "outputs": [],
   "source": [
    "indice = np.where(np.sum(abs(batch_gt_bboxes), axis=2)[run_for_batch_num] != 0)[0]\n",
    "print(indice)\n",
    "image = batch_images[run_for_batch_num]\n",
    "gt_box = batch_gt_bboxes[run_for_batch_num, indice]\n",
    "gt_masks = batch_gt_masks[run_for_batch_num, :,:,indice]\n",
    "anchors_idx_with_neg_iou = np.where(batch_rpn_target_class[run_for_batch_num] == -1)[0]\n",
    "anchors_idx_with_neutral_iou = np.where(batch_rpn_target_class[run_for_batch_num] == 0)[0]\n",
    "anchors_idx_with_pos_iou = np.where(batch_rpn_target_class[run_for_batch_num] == 1)[0]\n",
    "rpn_target_bbox = batch_rpn_target_bbox[run_for_batch_num, indice]\n",
    "positive_anchor_bbox = batch_positive_anchors[run_for_batch_num]\n",
    "\n",
    "positive_anchors = obj_ptd.anchors[anchors_idx_with_pos_iou]\n",
    "neutral_anchors = obj_ptd.anchors[anchors_idx_with_neutral_iou]\n",
    "negative_anchors = obj_ptd.anchors[anchors_idx_with_neg_iou]\n",
    "\n",
    "from MaskRCNN.visualize import Visualize\n",
    "obj_viz = Visualize(rows=1, cols=4, figsize=(20,4))\n",
    "\n",
    "obj_viz.vizualize_image(image)\n",
    "for j in range(0,3):  # total number of labels\n",
    "    if j < gt_masks.shape[0]:\n",
    "        obj_viz.vizualize_image(gt_masks[j,:,:])\n",
    "    else:\n",
    "        obj_viz.num += 1\n",
    "obj_viz.show()"
   ]
  },
  {
   "cell_type": "markdown",
   "metadata": {},
   "source": [
    "#### Batch Images:"
   ]
  },
  {
   "cell_type": "code",
   "execution_count": null,
   "metadata": {},
   "outputs": [],
   "source": [
    "print('batch_images: ', batch_images.shape, batch_images)"
   ]
  },
  {
   "cell_type": "markdown",
   "metadata": {},
   "source": [
    "#### Batch Image Meta:"
   ]
  },
  {
   "cell_type": "code",
   "execution_count": null,
   "metadata": {},
   "outputs": [],
   "source": [
    "print('batch_image_metas: ', batch_image_metas.shape, batch_image_metas)"
   ]
  },
  {
   "cell_type": "markdown",
   "metadata": {},
   "source": [
    "#### Batch rpn Target class:"
   ]
  },
  {
   "cell_type": "code",
   "execution_count": null,
   "metadata": {},
   "outputs": [],
   "source": [
    "print('batch_rpn_target_class ', batch_rpn_target_class.shape, \n",
    "      sum(sum(batch_rpn_target_class)), \n",
    "      batch_rpn_target_class)"
   ]
  },
  {
   "cell_type": "markdown",
   "metadata": {},
   "source": [
    "#### Batch rpn Box:"
   ]
  },
  {
   "cell_type": "code",
   "execution_count": null,
   "metadata": {},
   "outputs": [],
   "source": [
    "print('batch_rpn_target_bbox: ', batch_rpn_target_bbox.shape, batch_rpn_target_bbox)"
   ]
  },
  {
   "cell_type": "markdown",
   "metadata": {},
   "source": [
    "#### Batch GT classid"
   ]
  },
  {
   "cell_type": "code",
   "execution_count": null,
   "metadata": {},
   "outputs": [],
   "source": [
    "print('batch_gt_class_id: ', batch_gt_class_id.shape, batch_gt_class_id)"
   ]
  },
  {
   "cell_type": "markdown",
   "metadata": {},
   "source": [
    "#### Batch GT Box"
   ]
  },
  {
   "cell_type": "code",
   "execution_count": null,
   "metadata": {
    "scrolled": false
   },
   "outputs": [],
   "source": [
    "print('batch_gt_bboxes: ', batch_gt_bboxes.shape, batch_gt_bboxes)"
   ]
  },
  {
   "cell_type": "markdown",
   "metadata": {},
   "source": [
    "#### Batach GT Mask"
   ]
  },
  {
   "cell_type": "code",
   "execution_count": null,
   "metadata": {
    "collapsed": true
   },
   "outputs": [],
   "source": [
    "print('batch_gt_masks: ', batch_gt_masks.shape, \n",
    "      sum(sum(sum(batch_gt_masks))), batch_gt_masks)"
   ]
  },
  {
   "cell_type": "markdown",
   "metadata": {},
   "source": [
    "#### Anchors:"
   ]
  },
  {
   "cell_type": "code",
   "execution_count": 11,
   "metadata": {},
   "outputs": [
    {
     "name": "stdout",
     "output_type": "stream",
     "text": [
      "[0 1 2 3]\n",
      "image  (128, 128, 3)\n",
      "gt_box  (4, 4)\n",
      "gt_masks  (4, 128, 128)\n",
      "rpn_target_bbox  (4, 4)\n",
      "anchors_idx_with_neg_iou  128\n",
      "anchors_idx_with_neutral_iou  3960\n",
      "anchors_idx_with_pos_iou  4\n",
      "positive_anchors  (4, 4)\n",
      "neutral_anchors  (3960, 4)\n",
      "negative_anchors  (128, 4)\n",
      "positive_anchor_bbox  (4, 4)\n"
     ]
    }
   ],
   "source": [
    "# batch_gt_bboxes.shape\n",
    "indice = np.where(np.sum(abs(batch_gt_bboxes), axis=2)[run_for_batch_num] != 0)[0]\n",
    "print(indice)\n",
    "image = batch_images[run_for_batch_num]\n",
    "gt_box = batch_gt_bboxes[run_for_batch_num, indice]\n",
    "gt_masks = batch_gt_masks[run_for_batch_num, :,:,indice]\n",
    "anchors_idx_with_neg_iou = np.where(batch_rpn_target_class[run_for_batch_num] == -1)[0]\n",
    "anchors_idx_with_neutral_iou = np.where(batch_rpn_target_class[run_for_batch_num] == 0)[0]\n",
    "anchors_idx_with_pos_iou = np.where(batch_rpn_target_class[run_for_batch_num] == 1)[0]\n",
    "rpn_target_bbox = batch_rpn_target_bbox[run_for_batch_num, indice]\n",
    "positive_anchor_bbox = batch_positive_anchors[run_for_batch_num]\n",
    "\n",
    "positive_anchors = obj_ptd.anchors[anchors_idx_with_pos_iou]\n",
    "neutral_anchors = obj_ptd.anchors[anchors_idx_with_neutral_iou]\n",
    "negative_anchors = obj_ptd.anchors[anchors_idx_with_neg_iou]\n",
    "\n",
    "print ('image ', image.shape)\n",
    "print ('gt_box ', gt_box.shape)\n",
    "print ('gt_masks ', gt_masks.shape)\n",
    "print ('rpn_target_bbox ', rpn_target_bbox.shape)\n",
    "\n",
    "print ('anchors_idx_with_neg_iou ', len(anchors_idx_with_neg_iou))\n",
    "print ('anchors_idx_with_neutral_iou ', len(anchors_idx_with_neutral_iou))\n",
    "print ('anchors_idx_with_pos_iou ', len(anchors_idx_with_pos_iou))\n",
    "print ('positive_anchors ', positive_anchors.shape)\n",
    "print ('neutral_anchors ', neutral_anchors.shape)\n",
    "print ('negative_anchors ', negative_anchors.shape)\n",
    "\n",
    "\n",
    "print ('positive_anchor_bbox ', positive_anchor_bbox.shape)\n",
    "\n"
   ]
  },
  {
   "cell_type": "code",
   "execution_count": 12,
   "metadata": {},
   "outputs": [
    {
     "data": {
      "text/plain": [
       "array([[   0.      ,    0.      ,   64.      ,   64.      ],\n",
       "       [ -13.254834,   73.372583,   77.254834,  118.627417],\n",
       "       [  32.      ,    0.      ,   96.      ,   64.      ],\n",
       "       [  50.745166,   41.372583,  141.254834,   86.627417]])"
      ]
     },
     "execution_count": 12,
     "metadata": {},
     "output_type": "execute_result"
    }
   ],
   "source": [
    "positive_anchor_bbox"
   ]
  },
  {
   "cell_type": "markdown",
   "metadata": {},
   "source": [
    "#### Check if Positive index on the anchor box is the same as extracted positive_anchor_box"
   ]
  },
  {
   "cell_type": "code",
   "execution_count": 13,
   "metadata": {},
   "outputs": [
    {
     "name": "stdout",
     "output_type": "stream",
     "text": [
      "[[   0.          0.         64.         64.      ]\n",
      " [ -13.254834   73.372583   77.254834  118.627417]\n",
      " [  32.          0.         96.         64.      ]\n",
      " [  50.745166   41.372583  141.254834   86.627417]]\n",
      "[[   0.          0.         64.         64.      ]\n",
      " [ -13.254834   73.372583   77.254834  118.627417]\n",
      " [  32.          0.         96.         64.      ]\n",
      " [  50.745166   41.372583  141.254834   86.627417]]\n"
     ]
    }
   ],
   "source": [
    "print (obj_ptd.anchors[anchors_idx_with_pos_iou])  \n",
    "print (positive_anchor_bbox)"
   ]
  },
  {
   "cell_type": "markdown",
   "metadata": {},
   "source": [
    "## Vizualize obejcts:\n",
    "---------"
   ]
  },
  {
   "cell_type": "code",
   "execution_count": 14,
   "metadata": {},
   "outputs": [
    {
     "data": {
      "image/png": "[encoded data removed]",
      "text/plain": [
       "<matplotlib.figure.Figure at 0x1c24986550>"
      ]
     },
     "metadata": {},
     "output_type": "display_data"
    }
   ],
   "source": [
    "from MaskRCNN.visualize import Visualize\n",
    "obj_viz = Visualize(rows=1, cols=4, figsize=(20,4))\n",
    "\n",
    "obj_viz.vizualize_image(image)\n",
    "for j in range(0,3):  # total number of labels\n",
    "    if j < gt_masks.shape[0]:\n",
    "        obj_viz.vizualize_image(gt_masks[j,:,:])\n",
    "    else:\n",
    "        obj_viz.num += 1\n",
    "obj_viz.show()"
   ]
  },
  {
   "cell_type": "markdown",
   "metadata": {},
   "source": [
    "## Vizualize Ground Truth Boxes\n",
    "---------"
   ]
  },
  {
   "cell_type": "code",
   "execution_count": 13,
   "metadata": {},
   "outputs": [
    {
     "data": {
      "image/png": "[encoded data removed]",
      "text/plain": [
       "<matplotlib.figure.Figure at 0x1c2cf57780>"
      ]
     },
     "metadata": {},
     "output_type": "display_data"
    }
   ],
   "source": [
    "obj_viz = Visualize(rows=1, cols=1, figsize=(20,10))\n",
    "obj_viz.visualize_boxes(gt_box, image)\n",
    "obj_viz.show()"
   ]
  },
  {
   "cell_type": "markdown",
   "metadata": {},
   "source": [
    "## Vizualize Positive Anchors woth IOU > 0.7 or the bouding box with max IOU\n",
    "------"
   ]
  },
  {
   "cell_type": "code",
   "execution_count": 14,
   "metadata": {},
   "outputs": [
    {
     "data": {
      "image/png": "[encoded data removed]",
      "text/plain": [
       "<matplotlib.figure.Figure at 0x1c2cfdd908>"
      ]
     },
     "metadata": {},
     "output_type": "display_data"
    }
   ],
   "source": [
    "obj_viz = Visualize(rows=1, cols=1, figsize=(20,10))\n",
    "obj_viz.visualize_boxes(positive_anchor_bbox, image)\n",
    "obj_viz.show()"
   ]
  },
  {
   "cell_type": "markdown",
   "metadata": {},
   "source": [
    "## Vizualize Negative Anchors with IOU < 0.3\n",
    "----------"
   ]
  },
  {
   "cell_type": "code",
   "execution_count": 15,
   "metadata": {},
   "outputs": [
    {
     "data": {
      "image/png": "[encoded data removed]",
      "text/plain": [
       "<matplotlib.figure.Figure at 0x1c2d50f5c0>"
      ]
     },
     "metadata": {},
     "output_type": "display_data"
    }
   ],
   "source": [
    "obj_viz = Visualize(rows=1, cols=1, figsize=(20,10))\n",
    "obj_viz.visualize_boxes(negative_anchors, image)\n",
    "obj_viz.show()"
   ]
  },
  {
   "cell_type": "markdown",
   "metadata": {},
   "source": [
    "## Vizualize Neutral Anchors 0.3<IOU<0.7\n",
    "\n",
    "#### Read this:\n",
    "* You might be wondering, why many boxes, which seem to have iou = 0 are marked as neutral. This is becasue. In normal scenario we would have a class imbalance problem, where we would end up having more negative classes than positive classes.\n",
    "\n",
    "* Moreover, for regression Loss we have stated a limit of 256 anchors 128(+ve) and 128(-ve). in real scenario we would have -ve anchors >>> 128. Hence for training and loss calculation we select only 128 anchors from the list of all -ve anchors and make all other -ve anchors as neutral."
   ]
  },
  {
   "cell_type": "code",
   "execution_count": 16,
   "metadata": {
    "collapsed": true
   },
   "outputs": [],
   "source": [
    "np.random.shuffle(neutral_anchors)"
   ]
  },
  {
   "cell_type": "code",
   "execution_count": 17,
   "metadata": {},
   "outputs": [
    {
     "data": {
      "image/png": "[encoded data removed]",
      "text/plain": [
       "<matplotlib.figure.Figure at 0x1c2daa4ef0>"
      ]
     },
     "metadata": {},
     "output_type": "display_data"
    }
   ],
   "source": [
    "obj_viz = Visualize(rows=1, cols=1, figsize=(20,10))\n",
    "obj_viz.visualize_boxes(neutral_anchors[0:10], image)\n",
    "obj_viz.show()"
   ]
  },
  {
   "cell_type": "markdown",
   "metadata": {},
   "source": [
    "## Lets do some Training:\n",
    "--------"
   ]
  },
  {
   "cell_type": "code",
   "execution_count": 18,
   "metadata": {
    "scrolled": true
   },
   "outputs": [
    {
     "name": "stderr",
     "output_type": "stream",
     "text": [
      "Using TensorFlow backend.\n"
     ]
    },
    {
     "name": "stdout",
     "output_type": "stream",
     "text": [
      "[[  0 128 128   3 128 128   3   0   0 128 128   1   0   1   0   1]]\n",
      "<MaskRCNN.shapes.ShapesConfig object at 0x1c247e52e8>\n",
      "(FPN) C2: (shape)  (?, 32, 32, 256)\n",
      "(FPN) C3: (shape)  (?, 16, 16, 512)\n",
      "(FPN) C4: (shape)  (?, 8, 8, 1024)\n",
      "(FPN) C5: (shape)  (?, 4, 4, 2048)\n",
      "(FPN) P2: (shape)  (?, 32, 32, 256)\n",
      "(FPN) P3: (shape)  (?, 16, 16, 256)\n",
      "(FPN) P4: (shape)  (?, 8, 8, 256)\n",
      "(FPN) P5: (shape)  (?, 4, 4, 256)\n",
      "(FPN) P6: (shape)  (?, 2, 2, 256)\n",
      "(RPN) Class Logits (shape)  (?, ?, 2)\n",
      "(RPN) Class Probs (shape)  (?, ?, 2)\n",
      "(RPN) Bbox (shape)  (?, ?, 4)\n",
      "(RPN) Class Logits (shape)  (?, ?, 2)\n",
      "(RPN) Class Probs (shape)  (?, ?, 2)\n",
      "(RPN) Bbox (shape)  (?, ?, 4)\n",
      "(RPN) Class Logits (shape)  (?, ?, 2)\n",
      "(RPN) Class Probs (shape)  (?, ?, 2)\n",
      "(RPN) Bbox (shape)  (?, ?, 4)\n",
      "(RPN) Class Logits (shape)  (?, ?, 2)\n",
      "(RPN) Class Probs (shape)  (?, ?, 2)\n",
      "(RPN) Bbox (shape)  (?, ?, 4)\n",
      "(RPN) Class Logits (shape)  (?, ?, 2)\n",
      "(RPN) Class Probs (shape)  (?, ?, 2)\n",
      "(RPN) Bbox (shape)  (?, ?, 4)\n",
      "(Proposals) Proposals (shape)  (1, ?, ?)\n",
      "Proposal DEBUG ................\n",
      "(MRCNN) Pooled Roi's (shape) (1, ?, 7, 7, 256)\n",
      "(?, ?)\n",
      "mrcnn_target_box (1, ?, ?) \n",
      " Tensor(\"stack_3:0\", shape=(1, ?, ?), dtype=float32)\n",
      "\n",
      "mrcnn_pred_box (?, ?, 4, 4) \n",
      " Tensor(\"mrcnn_bbox/Reshape:0\", shape=(?, ?, 4, 4), dtype=float32)\n",
      "\n",
      "mrcnn_target_class_ids (1, ?) \n",
      " Tensor(\"concat_12:0\", shape=(1, ?), dtype=int32)\n",
      "batch_active_class_ids  (1, 4) [[0 1 0 1]]\n",
      "batch_rpn_target_class  (1, 4092, 1)\n",
      "Variable:  fpn_c5p5/kernel:0\n",
      "Shape:  (1, 1, 2048, 256)\n",
      "Variable:  fpn_c5p5/bias:0\n",
      "Shape:  (256,)\n",
      "Variable:  fpn_c4p4/kernel:0\n",
      "Shape:  (1, 1, 1024, 256)\n",
      "Variable:  fpn_c4p4/bias:0\n",
      "Shape:  (256,)\n",
      "Variable:  fpn_c3p3/kernel:0\n",
      "Shape:  (1, 1, 512, 256)\n",
      "Variable:  fpn_c3p3/bias:0\n",
      "Shape:  (256,)\n",
      "Variable:  fpn_c2p2/kernel:0\n",
      "Shape:  (1, 1, 256, 256)\n",
      "Variable:  fpn_c2p2/bias:0\n",
      "Shape:  (256,)\n",
      "Variable:  fpn_p2/kernel:0\n",
      "Shape:  (3, 3, 256, 256)\n",
      "Variable:  fpn_p2/bias:0\n",
      "Shape:  (256,)\n",
      "Variable:  fpn_p3/kernel:0\n",
      "Shape:  (3, 3, 256, 256)\n",
      "Variable:  fpn_p3/bias:0\n",
      "Shape:  (256,)\n",
      "Variable:  fpn_p4/kernel:0\n",
      "Shape:  (3, 3, 256, 256)\n",
      "Variable:  fpn_p4/bias:0\n",
      "Shape:  (256,)\n",
      "Variable:  fpn_p5/kernel:0\n",
      "Shape:  (3, 3, 256, 256)\n",
      "Variable:  fpn_p5/bias:0\n",
      "Shape:  (256,)\n",
      "Variable:  rpn_conv_shared/kernel:0\n",
      "Shape:  (3, 3, 256, 512)\n",
      "Variable:  rpn_conv_shared/bias:0\n",
      "Shape:  (512,)\n",
      "Variable:  rpn_class_raw/kernel:0\n",
      "Shape:  (1, 1, 512, 6)\n",
      "Variable:  rpn_class_raw/bias:0\n",
      "Shape:  (6,)\n",
      "Variable:  rpn_bbox_pred/kernel:0\n",
      "Shape:  (1, 1, 512, 12)\n",
      "Variable:  rpn_bbox_pred/bias:0\n",
      "Shape:  (12,)\n",
      "Variable:  mrcnn_class_conv1/kernel:0\n",
      "Shape:  (7, 7, 256, 1024)\n",
      "Variable:  mrcnn_class_conv1/bias:0\n",
      "Shape:  (1024,)\n",
      "Variable:  mrcnn_class_bn1/gamma:0\n",
      "Shape:  (1024,)\n",
      "Variable:  mrcnn_class_bn1/beta:0\n",
      "Shape:  (1024,)\n",
      "Variable:  mrcnn_class_bn1/moving_mean:0\n",
      "Shape:  (1024,)\n",
      "Variable:  mrcnn_class_bn1/moving_variance:0\n",
      "Shape:  (1024,)\n",
      "Variable:  mrcnn_class_conv2/kernel:0\n",
      "Shape:  (1, 1, 1024, 1024)\n",
      "Variable:  mrcnn_class_conv2/bias:0\n",
      "Shape:  (1024,)\n",
      "Variable:  mrcnn_class_bn2/gamma:0\n",
      "Shape:  (1024,)\n",
      "Variable:  mrcnn_class_bn2/beta:0\n",
      "Shape:  (1024,)\n",
      "Variable:  mrcnn_class_bn2/moving_mean:0\n",
      "Shape:  (1024,)\n",
      "Variable:  mrcnn_class_bn2/moving_variance:0\n",
      "Shape:  (1024,)\n",
      "Variable:  mrcnn_class_logits/kernel:0\n",
      "Shape:  (1024, 4)\n",
      "Variable:  mrcnn_class_logits/bias:0\n",
      "Shape:  (4,)\n",
      "Variable:  mrcnn_bbox_fc/kernel:0\n",
      "Shape:  (1024, 16)\n",
      "Variable:  mrcnn_bbox_fc/bias:0\n",
      "Shape:  (16,)\n",
      "Variable name:  <HDF5 group \"/conv1/conv1\" (2 members)>\n",
      "Variable name:  <HDF5 group \"/conv1/conv1\" (2 members)>\n",
      "Variable name:  <HDF5 group \"/bn_conv1/bn_conv1\" (4 members)>\n",
      "Variable name:  <HDF5 group \"/bn_conv1/bn_conv1\" (4 members)>\n",
      "Variable name:  <HDF5 group \"/bn_conv1/bn_conv1\" (4 members)>\n",
      "Variable name:  <HDF5 group \"/bn_conv1/bn_conv1\" (4 members)>\n",
      "Variable name:  <HDF5 group \"/res2a_branch1/res2a_branch1\" (2 members)>\n",
      "Variable name:  <HDF5 group \"/res2a_branch1/res2a_branch1\" (2 members)>\n",
      "Variable name:  <HDF5 group \"/bn2a_branch1/bn2a_branch1\" (4 members)>\n",
      "Variable name:  <HDF5 group \"/bn2a_branch1/bn2a_branch1\" (4 members)>\n",
      "Variable name:  <HDF5 group \"/bn2a_branch1/bn2a_branch1\" (4 members)>\n",
      "Variable name:  <HDF5 group \"/bn2a_branch1/bn2a_branch1\" (4 members)>\n",
      "Variable name:  <HDF5 group \"/res2a_branch2a/res2a_branch2a\" (2 members)>\n",
      "Variable name:  <HDF5 group \"/res2a_branch2a/res2a_branch2a\" (2 members)>\n",
      "Variable name:  <HDF5 group \"/bn2a_branch2a/bn2a_branch2a\" (4 members)>\n",
      "Variable name:  <HDF5 group \"/bn2a_branch2a/bn2a_branch2a\" (4 members)>\n",
      "Variable name:  <HDF5 group \"/bn2a_branch2a/bn2a_branch2a\" (4 members)>\n",
      "Variable name:  <HDF5 group \"/bn2a_branch2a/bn2a_branch2a\" (4 members)>\n",
      "Variable name:  <HDF5 group \"/res2a_branch2b/res2a_branch2b\" (2 members)>\n",
      "Variable name:  <HDF5 group \"/res2a_branch2b/res2a_branch2b\" (2 members)>\n",
      "Variable name:  <HDF5 group \"/bn2a_branch2b/bn2a_branch2b\" (4 members)>\n",
      "Variable name:  <HDF5 group \"/bn2a_branch2b/bn2a_branch2b\" (4 members)>\n",
      "Variable name:  <HDF5 group \"/bn2a_branch2b/bn2a_branch2b\" (4 members)>\n",
      "Variable name:  <HDF5 group \"/bn2a_branch2b/bn2a_branch2b\" (4 members)>\n",
      "Variable name:  <HDF5 group \"/res2a_branch2c/res2a_branch2c\" (2 members)>\n",
      "Variable name:  <HDF5 group \"/res2a_branch2c/res2a_branch2c\" (2 members)>\n",
      "Variable name:  <HDF5 group \"/bn2a_branch2c/bn2a_branch2c\" (4 members)>\n",
      "Variable name:  <HDF5 group \"/bn2a_branch2c/bn2a_branch2c\" (4 members)>\n",
      "Variable name:  <HDF5 group \"/bn2a_branch2c/bn2a_branch2c\" (4 members)>\n",
      "Variable name:  <HDF5 group \"/bn2a_branch2c/bn2a_branch2c\" (4 members)>\n",
      "Variable name:  <HDF5 group \"/res2b_branch2a/res2b_branch2a\" (2 members)>\n",
      "Variable name:  <HDF5 group \"/res2b_branch2a/res2b_branch2a\" (2 members)>\n",
      "Variable name:  <HDF5 group \"/bn2b_branch2a/bn2b_branch2a\" (4 members)>\n",
      "Variable name:  <HDF5 group \"/bn2b_branch2a/bn2b_branch2a\" (4 members)>\n",
      "Variable name:  <HDF5 group \"/bn2b_branch2a/bn2b_branch2a\" (4 members)>\n",
      "Variable name:  <HDF5 group \"/bn2b_branch2a/bn2b_branch2a\" (4 members)>\n",
      "Variable name:  <HDF5 group \"/res2b_branch2b/res2b_branch2b\" (2 members)>\n",
      "Variable name:  <HDF5 group \"/res2b_branch2b/res2b_branch2b\" (2 members)>\n",
      "Variable name:  <HDF5 group \"/bn2b_branch2b/bn2b_branch2b\" (4 members)>\n",
      "Variable name:  <HDF5 group \"/bn2b_branch2b/bn2b_branch2b\" (4 members)>\n",
      "Variable name:  <HDF5 group \"/bn2b_branch2b/bn2b_branch2b\" (4 members)>\n",
      "Variable name:  <HDF5 group \"/bn2b_branch2b/bn2b_branch2b\" (4 members)>\n",
      "Variable name:  <HDF5 group \"/res2b_branch2c/res2b_branch2c\" (2 members)>\n",
      "Variable name:  <HDF5 group \"/res2b_branch2c/res2b_branch2c\" (2 members)>\n",
      "Variable name:  <HDF5 group \"/bn2b_branch2c/bn2b_branch2c\" (4 members)>\n",
      "Variable name:  <HDF5 group \"/bn2b_branch2c/bn2b_branch2c\" (4 members)>\n",
      "Variable name:  <HDF5 group \"/bn2b_branch2c/bn2b_branch2c\" (4 members)>\n",
      "Variable name:  <HDF5 group \"/bn2b_branch2c/bn2b_branch2c\" (4 members)>\n",
      "Variable name:  <HDF5 group \"/res2c_branch2a/res2c_branch2a\" (2 members)>\n",
      "Variable name:  <HDF5 group \"/res2c_branch2a/res2c_branch2a\" (2 members)>\n",
      "Variable name:  <HDF5 group \"/bn2c_branch2a/bn2c_branch2a\" (4 members)>\n",
      "Variable name:  <HDF5 group \"/bn2c_branch2a/bn2c_branch2a\" (4 members)>\n",
      "Variable name:  <HDF5 group \"/bn2c_branch2a/bn2c_branch2a\" (4 members)>\n",
      "Variable name:  <HDF5 group \"/bn2c_branch2a/bn2c_branch2a\" (4 members)>\n",
      "Variable name:  <HDF5 group \"/res2c_branch2b/res2c_branch2b\" (2 members)>\n",
      "Variable name:  <HDF5 group \"/res2c_branch2b/res2c_branch2b\" (2 members)>\n",
      "Variable name:  <HDF5 group \"/bn2c_branch2b/bn2c_branch2b\" (4 members)>\n",
      "Variable name:  <HDF5 group \"/bn2c_branch2b/bn2c_branch2b\" (4 members)>\n",
      "Variable name:  <HDF5 group \"/bn2c_branch2b/bn2c_branch2b\" (4 members)>\n",
      "Variable name:  <HDF5 group \"/bn2c_branch2b/bn2c_branch2b\" (4 members)>\n",
      "Variable name:  <HDF5 group \"/res2c_branch2c/res2c_branch2c\" (2 members)>\n",
      "Variable name:  <HDF5 group \"/res2c_branch2c/res2c_branch2c\" (2 members)>\n",
      "Variable name:  <HDF5 group \"/bn2c_branch2c/bn2c_branch2c\" (4 members)>\n",
      "Variable name:  <HDF5 group \"/bn2c_branch2c/bn2c_branch2c\" (4 members)>\n",
      "Variable name:  <HDF5 group \"/bn2c_branch2c/bn2c_branch2c\" (4 members)>\n",
      "Variable name:  <HDF5 group \"/bn2c_branch2c/bn2c_branch2c\" (4 members)>\n",
      "Variable name:  <HDF5 group \"/res3a_branch1/res3a_branch1\" (2 members)>\n",
      "Variable name:  <HDF5 group \"/res3a_branch1/res3a_branch1\" (2 members)>\n"
     ]
    },
    {
     "name": "stdout",
     "output_type": "stream",
     "text": [
      "Variable name:  <HDF5 group \"/bn3a_branch1/bn3a_branch1\" (4 members)>\n",
      "Variable name:  <HDF5 group \"/bn3a_branch1/bn3a_branch1\" (4 members)>\n",
      "Variable name:  <HDF5 group \"/bn3a_branch1/bn3a_branch1\" (4 members)>\n",
      "Variable name:  <HDF5 group \"/bn3a_branch1/bn3a_branch1\" (4 members)>\n",
      "Variable name:  <HDF5 group \"/res3a_branch2a/res3a_branch2a\" (2 members)>\n",
      "Variable name:  <HDF5 group \"/res3a_branch2a/res3a_branch2a\" (2 members)>\n",
      "Variable name:  <HDF5 group \"/bn3a_branch2a/bn3a_branch2a\" (4 members)>\n",
      "Variable name:  <HDF5 group \"/bn3a_branch2a/bn3a_branch2a\" (4 members)>\n",
      "Variable name:  <HDF5 group \"/bn3a_branch2a/bn3a_branch2a\" (4 members)>\n",
      "Variable name:  <HDF5 group \"/bn3a_branch2a/bn3a_branch2a\" (4 members)>\n",
      "Variable name:  <HDF5 group \"/res3a_branch2b/res3a_branch2b\" (2 members)>\n",
      "Variable name:  <HDF5 group \"/res3a_branch2b/res3a_branch2b\" (2 members)>\n",
      "Variable name:  <HDF5 group \"/bn3a_branch2b/bn3a_branch2b\" (4 members)>\n",
      "Variable name:  <HDF5 group \"/bn3a_branch2b/bn3a_branch2b\" (4 members)>\n",
      "Variable name:  <HDF5 group \"/bn3a_branch2b/bn3a_branch2b\" (4 members)>\n",
      "Variable name:  <HDF5 group \"/bn3a_branch2b/bn3a_branch2b\" (4 members)>\n",
      "Variable name:  <HDF5 group \"/res3a_branch2c/res3a_branch2c\" (2 members)>\n",
      "Variable name:  <HDF5 group \"/res3a_branch2c/res3a_branch2c\" (2 members)>\n",
      "Variable name:  <HDF5 group \"/bn3a_branch2c/bn3a_branch2c\" (4 members)>\n",
      "Variable name:  <HDF5 group \"/bn3a_branch2c/bn3a_branch2c\" (4 members)>\n",
      "Variable name:  <HDF5 group \"/bn3a_branch2c/bn3a_branch2c\" (4 members)>\n",
      "Variable name:  <HDF5 group \"/bn3a_branch2c/bn3a_branch2c\" (4 members)>\n",
      "Variable name:  <HDF5 group \"/res3b_branch2a/res3b_branch2a\" (2 members)>\n",
      "Variable name:  <HDF5 group \"/res3b_branch2a/res3b_branch2a\" (2 members)>\n",
      "Variable name:  <HDF5 group \"/bn3b_branch2a/bn3b_branch2a\" (4 members)>\n",
      "Variable name:  <HDF5 group \"/bn3b_branch2a/bn3b_branch2a\" (4 members)>\n",
      "Variable name:  <HDF5 group \"/bn3b_branch2a/bn3b_branch2a\" (4 members)>\n",
      "Variable name:  <HDF5 group \"/bn3b_branch2a/bn3b_branch2a\" (4 members)>\n",
      "Variable name:  <HDF5 group \"/res3b_branch2b/res3b_branch2b\" (2 members)>\n",
      "Variable name:  <HDF5 group \"/res3b_branch2b/res3b_branch2b\" (2 members)>\n",
      "Variable name:  <HDF5 group \"/bn3b_branch2b/bn3b_branch2b\" (4 members)>\n",
      "Variable name:  <HDF5 group \"/bn3b_branch2b/bn3b_branch2b\" (4 members)>\n",
      "Variable name:  <HDF5 group \"/bn3b_branch2b/bn3b_branch2b\" (4 members)>\n",
      "Variable name:  <HDF5 group \"/bn3b_branch2b/bn3b_branch2b\" (4 members)>\n",
      "Variable name:  <HDF5 group \"/res3b_branch2c/res3b_branch2c\" (2 members)>\n",
      "Variable name:  <HDF5 group \"/res3b_branch2c/res3b_branch2c\" (2 members)>\n",
      "Variable name:  <HDF5 group \"/bn3b_branch2c/bn3b_branch2c\" (4 members)>\n",
      "Variable name:  <HDF5 group \"/bn3b_branch2c/bn3b_branch2c\" (4 members)>\n",
      "Variable name:  <HDF5 group \"/bn3b_branch2c/bn3b_branch2c\" (4 members)>\n",
      "Variable name:  <HDF5 group \"/bn3b_branch2c/bn3b_branch2c\" (4 members)>\n",
      "Variable name:  <HDF5 group \"/res3c_branch2a/res3c_branch2a\" (2 members)>\n",
      "Variable name:  <HDF5 group \"/res3c_branch2a/res3c_branch2a\" (2 members)>\n",
      "Variable name:  <HDF5 group \"/bn3c_branch2a/bn3c_branch2a\" (4 members)>\n",
      "Variable name:  <HDF5 group \"/bn3c_branch2a/bn3c_branch2a\" (4 members)>\n",
      "Variable name:  <HDF5 group \"/bn3c_branch2a/bn3c_branch2a\" (4 members)>\n",
      "Variable name:  <HDF5 group \"/bn3c_branch2a/bn3c_branch2a\" (4 members)>\n",
      "Variable name:  <HDF5 group \"/res3c_branch2b/res3c_branch2b\" (2 members)>\n",
      "Variable name:  <HDF5 group \"/res3c_branch2b/res3c_branch2b\" (2 members)>\n",
      "Variable name:  <HDF5 group \"/bn3c_branch2b/bn3c_branch2b\" (4 members)>\n",
      "Variable name:  <HDF5 group \"/bn3c_branch2b/bn3c_branch2b\" (4 members)>\n",
      "Variable name:  <HDF5 group \"/bn3c_branch2b/bn3c_branch2b\" (4 members)>\n",
      "Variable name:  <HDF5 group \"/bn3c_branch2b/bn3c_branch2b\" (4 members)>\n",
      "Variable name:  <HDF5 group \"/res3c_branch2c/res3c_branch2c\" (2 members)>\n",
      "Variable name:  <HDF5 group \"/res3c_branch2c/res3c_branch2c\" (2 members)>\n",
      "Variable name:  <HDF5 group \"/bn3c_branch2c/bn3c_branch2c\" (4 members)>\n",
      "Variable name:  <HDF5 group \"/bn3c_branch2c/bn3c_branch2c\" (4 members)>\n",
      "Variable name:  <HDF5 group \"/bn3c_branch2c/bn3c_branch2c\" (4 members)>\n",
      "Variable name:  <HDF5 group \"/bn3c_branch2c/bn3c_branch2c\" (4 members)>\n",
      "Variable name:  <HDF5 group \"/res3d_branch2a/res3d_branch2a\" (2 members)>\n",
      "Variable name:  <HDF5 group \"/res3d_branch2a/res3d_branch2a\" (2 members)>\n",
      "Variable name:  <HDF5 group \"/bn3d_branch2a/bn3d_branch2a\" (4 members)>\n",
      "Variable name:  <HDF5 group \"/bn3d_branch2a/bn3d_branch2a\" (4 members)>\n",
      "Variable name:  <HDF5 group \"/bn3d_branch2a/bn3d_branch2a\" (4 members)>\n",
      "Variable name:  <HDF5 group \"/bn3d_branch2a/bn3d_branch2a\" (4 members)>\n",
      "Variable name:  <HDF5 group \"/res3d_branch2b/res3d_branch2b\" (2 members)>\n",
      "Variable name:  <HDF5 group \"/res3d_branch2b/res3d_branch2b\" (2 members)>\n",
      "Variable name:  <HDF5 group \"/bn3d_branch2b/bn3d_branch2b\" (4 members)>\n",
      "Variable name:  <HDF5 group \"/bn3d_branch2b/bn3d_branch2b\" (4 members)>\n",
      "Variable name:  <HDF5 group \"/bn3d_branch2b/bn3d_branch2b\" (4 members)>\n",
      "Variable name:  <HDF5 group \"/bn3d_branch2b/bn3d_branch2b\" (4 members)>\n",
      "Variable name:  <HDF5 group \"/res3d_branch2c/res3d_branch2c\" (2 members)>\n",
      "Variable name:  <HDF5 group \"/res3d_branch2c/res3d_branch2c\" (2 members)>\n",
      "Variable name:  <HDF5 group \"/bn3d_branch2c/bn3d_branch2c\" (4 members)>\n",
      "Variable name:  <HDF5 group \"/bn3d_branch2c/bn3d_branch2c\" (4 members)>\n",
      "Variable name:  <HDF5 group \"/bn3d_branch2c/bn3d_branch2c\" (4 members)>\n",
      "Variable name:  <HDF5 group \"/bn3d_branch2c/bn3d_branch2c\" (4 members)>\n",
      "Variable name:  <HDF5 group \"/res4a_branch1/res4a_branch1\" (2 members)>\n",
      "Variable name:  <HDF5 group \"/res4a_branch1/res4a_branch1\" (2 members)>\n",
      "Variable name:  <HDF5 group \"/bn4a_branch1/bn4a_branch1\" (4 members)>\n",
      "Variable name:  <HDF5 group \"/bn4a_branch1/bn4a_branch1\" (4 members)>\n",
      "Variable name:  <HDF5 group \"/bn4a_branch1/bn4a_branch1\" (4 members)>\n",
      "Variable name:  <HDF5 group \"/bn4a_branch1/bn4a_branch1\" (4 members)>\n",
      "Variable name:  <HDF5 group \"/res4a_branch2a/res4a_branch2a\" (2 members)>\n",
      "Variable name:  <HDF5 group \"/res4a_branch2a/res4a_branch2a\" (2 members)>\n",
      "Variable name:  <HDF5 group \"/bn4a_branch2a/bn4a_branch2a\" (4 members)>\n",
      "Variable name:  <HDF5 group \"/bn4a_branch2a/bn4a_branch2a\" (4 members)>\n",
      "Variable name:  <HDF5 group \"/bn4a_branch2a/bn4a_branch2a\" (4 members)>\n",
      "Variable name:  <HDF5 group \"/bn4a_branch2a/bn4a_branch2a\" (4 members)>\n",
      "Variable name:  <HDF5 group \"/res4a_branch2b/res4a_branch2b\" (2 members)>\n",
      "Variable name:  <HDF5 group \"/res4a_branch2b/res4a_branch2b\" (2 members)>\n",
      "Variable name:  <HDF5 group \"/bn4a_branch2b/bn4a_branch2b\" (4 members)>\n",
      "Variable name:  <HDF5 group \"/bn4a_branch2b/bn4a_branch2b\" (4 members)>\n",
      "Variable name:  <HDF5 group \"/bn4a_branch2b/bn4a_branch2b\" (4 members)>\n",
      "Variable name:  <HDF5 group \"/bn4a_branch2b/bn4a_branch2b\" (4 members)>\n",
      "Variable name:  <HDF5 group \"/res4a_branch2c/res4a_branch2c\" (2 members)>\n",
      "Variable name:  <HDF5 group \"/res4a_branch2c/res4a_branch2c\" (2 members)>\n",
      "Variable name:  <HDF5 group \"/bn4a_branch2c/bn4a_branch2c\" (4 members)>\n",
      "Variable name:  <HDF5 group \"/bn4a_branch2c/bn4a_branch2c\" (4 members)>\n",
      "Variable name:  <HDF5 group \"/bn4a_branch2c/bn4a_branch2c\" (4 members)>\n",
      "Variable name:  <HDF5 group \"/bn4a_branch2c/bn4a_branch2c\" (4 members)>\n",
      "Variable name:  <HDF5 group \"/res4b_branch2a/res4b_branch2a\" (2 members)>\n",
      "Variable name:  <HDF5 group \"/res4b_branch2a/res4b_branch2a\" (2 members)>\n",
      "Variable name:  <HDF5 group \"/bn4b_branch2a/bn4b_branch2a\" (4 members)>\n",
      "Variable name:  <HDF5 group \"/bn4b_branch2a/bn4b_branch2a\" (4 members)>\n",
      "Variable name:  <HDF5 group \"/bn4b_branch2a/bn4b_branch2a\" (4 members)>\n",
      "Variable name:  <HDF5 group \"/bn4b_branch2a/bn4b_branch2a\" (4 members)>\n",
      "Variable name:  <HDF5 group \"/res4b_branch2b/res4b_branch2b\" (2 members)>\n",
      "Variable name:  <HDF5 group \"/res4b_branch2b/res4b_branch2b\" (2 members)>\n",
      "Variable name:  <HDF5 group \"/bn4b_branch2b/bn4b_branch2b\" (4 members)>\n",
      "Variable name:  <HDF5 group \"/bn4b_branch2b/bn4b_branch2b\" (4 members)>\n",
      "Variable name:  <HDF5 group \"/bn4b_branch2b/bn4b_branch2b\" (4 members)>\n",
      "Variable name:  <HDF5 group \"/bn4b_branch2b/bn4b_branch2b\" (4 members)>\n",
      "Variable name:  <HDF5 group \"/res4b_branch2c/res4b_branch2c\" (2 members)>\n",
      "Variable name:  <HDF5 group \"/res4b_branch2c/res4b_branch2c\" (2 members)>\n"
     ]
    },
    {
     "name": "stdout",
     "output_type": "stream",
     "text": [
      "Variable name:  <HDF5 group \"/bn4b_branch2c/bn4b_branch2c\" (4 members)>\n",
      "Variable name:  <HDF5 group \"/bn4b_branch2c/bn4b_branch2c\" (4 members)>\n",
      "Variable name:  <HDF5 group \"/bn4b_branch2c/bn4b_branch2c\" (4 members)>\n",
      "Variable name:  <HDF5 group \"/bn4b_branch2c/bn4b_branch2c\" (4 members)>\n",
      "Variable name:  <HDF5 group \"/res4c_branch2a/res4c_branch2a\" (2 members)>\n",
      "Variable name:  <HDF5 group \"/res4c_branch2a/res4c_branch2a\" (2 members)>\n",
      "Variable name:  <HDF5 group \"/bn4c_branch2a/bn4c_branch2a\" (4 members)>\n",
      "Variable name:  <HDF5 group \"/bn4c_branch2a/bn4c_branch2a\" (4 members)>\n",
      "Variable name:  <HDF5 group \"/bn4c_branch2a/bn4c_branch2a\" (4 members)>\n",
      "Variable name:  <HDF5 group \"/bn4c_branch2a/bn4c_branch2a\" (4 members)>\n",
      "Variable name:  <HDF5 group \"/res4c_branch2b/res4c_branch2b\" (2 members)>\n",
      "Variable name:  <HDF5 group \"/res4c_branch2b/res4c_branch2b\" (2 members)>\n",
      "Variable name:  <HDF5 group \"/bn4c_branch2b/bn4c_branch2b\" (4 members)>\n",
      "Variable name:  <HDF5 group \"/bn4c_branch2b/bn4c_branch2b\" (4 members)>\n",
      "Variable name:  <HDF5 group \"/bn4c_branch2b/bn4c_branch2b\" (4 members)>\n",
      "Variable name:  <HDF5 group \"/bn4c_branch2b/bn4c_branch2b\" (4 members)>\n",
      "Variable name:  <HDF5 group \"/res4c_branch2c/res4c_branch2c\" (2 members)>\n",
      "Variable name:  <HDF5 group \"/res4c_branch2c/res4c_branch2c\" (2 members)>\n",
      "Variable name:  <HDF5 group \"/bn4c_branch2c/bn4c_branch2c\" (4 members)>\n",
      "Variable name:  <HDF5 group \"/bn4c_branch2c/bn4c_branch2c\" (4 members)>\n",
      "Variable name:  <HDF5 group \"/bn4c_branch2c/bn4c_branch2c\" (4 members)>\n",
      "Variable name:  <HDF5 group \"/bn4c_branch2c/bn4c_branch2c\" (4 members)>\n",
      "Variable name:  <HDF5 group \"/res4d_branch2a/res4d_branch2a\" (2 members)>\n",
      "Variable name:  <HDF5 group \"/res4d_branch2a/res4d_branch2a\" (2 members)>\n",
      "Variable name:  <HDF5 group \"/bn4d_branch2a/bn4d_branch2a\" (4 members)>\n",
      "Variable name:  <HDF5 group \"/bn4d_branch2a/bn4d_branch2a\" (4 members)>\n",
      "Variable name:  <HDF5 group \"/bn4d_branch2a/bn4d_branch2a\" (4 members)>\n",
      "Variable name:  <HDF5 group \"/bn4d_branch2a/bn4d_branch2a\" (4 members)>\n",
      "Variable name:  <HDF5 group \"/res4d_branch2b/res4d_branch2b\" (2 members)>\n",
      "Variable name:  <HDF5 group \"/res4d_branch2b/res4d_branch2b\" (2 members)>\n",
      "Variable name:  <HDF5 group \"/bn4d_branch2b/bn4d_branch2b\" (4 members)>\n",
      "Variable name:  <HDF5 group \"/bn4d_branch2b/bn4d_branch2b\" (4 members)>\n",
      "Variable name:  <HDF5 group \"/bn4d_branch2b/bn4d_branch2b\" (4 members)>\n",
      "Variable name:  <HDF5 group \"/bn4d_branch2b/bn4d_branch2b\" (4 members)>\n",
      "Variable name:  <HDF5 group \"/res4d_branch2c/res4d_branch2c\" (2 members)>\n",
      "Variable name:  <HDF5 group \"/res4d_branch2c/res4d_branch2c\" (2 members)>\n",
      "Variable name:  <HDF5 group \"/bn4d_branch2c/bn4d_branch2c\" (4 members)>\n",
      "Variable name:  <HDF5 group \"/bn4d_branch2c/bn4d_branch2c\" (4 members)>\n",
      "Variable name:  <HDF5 group \"/bn4d_branch2c/bn4d_branch2c\" (4 members)>\n",
      "Variable name:  <HDF5 group \"/bn4d_branch2c/bn4d_branch2c\" (4 members)>\n",
      "Variable name:  <HDF5 group \"/res4e_branch2a/res4e_branch2a\" (2 members)>\n",
      "Variable name:  <HDF5 group \"/res4e_branch2a/res4e_branch2a\" (2 members)>\n",
      "Variable name:  <HDF5 group \"/bn4e_branch2a/bn4e_branch2a\" (4 members)>\n",
      "Variable name:  <HDF5 group \"/bn4e_branch2a/bn4e_branch2a\" (4 members)>\n",
      "Variable name:  <HDF5 group \"/bn4e_branch2a/bn4e_branch2a\" (4 members)>\n",
      "Variable name:  <HDF5 group \"/bn4e_branch2a/bn4e_branch2a\" (4 members)>\n",
      "Variable name:  <HDF5 group \"/res4e_branch2b/res4e_branch2b\" (2 members)>\n",
      "Variable name:  <HDF5 group \"/res4e_branch2b/res4e_branch2b\" (2 members)>\n",
      "Variable name:  <HDF5 group \"/bn4e_branch2b/bn4e_branch2b\" (4 members)>\n",
      "Variable name:  <HDF5 group \"/bn4e_branch2b/bn4e_branch2b\" (4 members)>\n",
      "Variable name:  <HDF5 group \"/bn4e_branch2b/bn4e_branch2b\" (4 members)>\n",
      "Variable name:  <HDF5 group \"/bn4e_branch2b/bn4e_branch2b\" (4 members)>\n",
      "Variable name:  <HDF5 group \"/res4e_branch2c/res4e_branch2c\" (2 members)>\n",
      "Variable name:  <HDF5 group \"/res4e_branch2c/res4e_branch2c\" (2 members)>\n",
      "Variable name:  <HDF5 group \"/bn4e_branch2c/bn4e_branch2c\" (4 members)>\n",
      "Variable name:  <HDF5 group \"/bn4e_branch2c/bn4e_branch2c\" (4 members)>\n",
      "Variable name:  <HDF5 group \"/bn4e_branch2c/bn4e_branch2c\" (4 members)>\n",
      "Variable name:  <HDF5 group \"/bn4e_branch2c/bn4e_branch2c\" (4 members)>\n",
      "Variable name:  <HDF5 group \"/res4f_branch2a/res4f_branch2a\" (2 members)>\n",
      "Variable name:  <HDF5 group \"/res4f_branch2a/res4f_branch2a\" (2 members)>\n",
      "Variable name:  <HDF5 group \"/bn4f_branch2a/bn4f_branch2a\" (4 members)>\n",
      "Variable name:  <HDF5 group \"/bn4f_branch2a/bn4f_branch2a\" (4 members)>\n",
      "Variable name:  <HDF5 group \"/bn4f_branch2a/bn4f_branch2a\" (4 members)>\n",
      "Variable name:  <HDF5 group \"/bn4f_branch2a/bn4f_branch2a\" (4 members)>\n",
      "Variable name:  <HDF5 group \"/res4f_branch2b/res4f_branch2b\" (2 members)>\n",
      "Variable name:  <HDF5 group \"/res4f_branch2b/res4f_branch2b\" (2 members)>\n",
      "Variable name:  <HDF5 group \"/bn4f_branch2b/bn4f_branch2b\" (4 members)>\n",
      "Variable name:  <HDF5 group \"/bn4f_branch2b/bn4f_branch2b\" (4 members)>\n",
      "Variable name:  <HDF5 group \"/bn4f_branch2b/bn4f_branch2b\" (4 members)>\n",
      "Variable name:  <HDF5 group \"/bn4f_branch2b/bn4f_branch2b\" (4 members)>\n",
      "Variable name:  <HDF5 group \"/res4f_branch2c/res4f_branch2c\" (2 members)>\n",
      "Variable name:  <HDF5 group \"/res4f_branch2c/res4f_branch2c\" (2 members)>\n",
      "Variable name:  <HDF5 group \"/bn4f_branch2c/bn4f_branch2c\" (4 members)>\n",
      "Variable name:  <HDF5 group \"/bn4f_branch2c/bn4f_branch2c\" (4 members)>\n",
      "Variable name:  <HDF5 group \"/bn4f_branch2c/bn4f_branch2c\" (4 members)>\n",
      "Variable name:  <HDF5 group \"/bn4f_branch2c/bn4f_branch2c\" (4 members)>\n",
      "Variable name:  <HDF5 group \"/res4g_branch2a/res4g_branch2a\" (2 members)>\n",
      "Variable name:  <HDF5 group \"/res4g_branch2a/res4g_branch2a\" (2 members)>\n",
      "Variable name:  <HDF5 group \"/bn4g_branch2a/bn4g_branch2a\" (4 members)>\n",
      "Variable name:  <HDF5 group \"/bn4g_branch2a/bn4g_branch2a\" (4 members)>\n",
      "Variable name:  <HDF5 group \"/bn4g_branch2a/bn4g_branch2a\" (4 members)>\n",
      "Variable name:  <HDF5 group \"/bn4g_branch2a/bn4g_branch2a\" (4 members)>\n",
      "Variable name:  <HDF5 group \"/res4g_branch2b/res4g_branch2b\" (2 members)>\n",
      "Variable name:  <HDF5 group \"/res4g_branch2b/res4g_branch2b\" (2 members)>\n",
      "Variable name:  <HDF5 group \"/bn4g_branch2b/bn4g_branch2b\" (4 members)>\n",
      "Variable name:  <HDF5 group \"/bn4g_branch2b/bn4g_branch2b\" (4 members)>\n",
      "Variable name:  <HDF5 group \"/bn4g_branch2b/bn4g_branch2b\" (4 members)>\n",
      "Variable name:  <HDF5 group \"/bn4g_branch2b/bn4g_branch2b\" (4 members)>\n",
      "Variable name:  <HDF5 group \"/res4g_branch2c/res4g_branch2c\" (2 members)>\n",
      "Variable name:  <HDF5 group \"/res4g_branch2c/res4g_branch2c\" (2 members)>\n",
      "Variable name:  <HDF5 group \"/bn4g_branch2c/bn4g_branch2c\" (4 members)>\n",
      "Variable name:  <HDF5 group \"/bn4g_branch2c/bn4g_branch2c\" (4 members)>\n",
      "Variable name:  <HDF5 group \"/bn4g_branch2c/bn4g_branch2c\" (4 members)>\n",
      "Variable name:  <HDF5 group \"/bn4g_branch2c/bn4g_branch2c\" (4 members)>\n",
      "Variable name:  <HDF5 group \"/res4h_branch2a/res4h_branch2a\" (2 members)>\n",
      "Variable name:  <HDF5 group \"/res4h_branch2a/res4h_branch2a\" (2 members)>\n",
      "Variable name:  <HDF5 group \"/bn4h_branch2a/bn4h_branch2a\" (4 members)>\n",
      "Variable name:  <HDF5 group \"/bn4h_branch2a/bn4h_branch2a\" (4 members)>\n",
      "Variable name:  <HDF5 group \"/bn4h_branch2a/bn4h_branch2a\" (4 members)>\n",
      "Variable name:  <HDF5 group \"/bn4h_branch2a/bn4h_branch2a\" (4 members)>\n",
      "Variable name:  <HDF5 group \"/res4h_branch2b/res4h_branch2b\" (2 members)>\n",
      "Variable name:  <HDF5 group \"/res4h_branch2b/res4h_branch2b\" (2 members)>\n",
      "Variable name:  <HDF5 group \"/bn4h_branch2b/bn4h_branch2b\" (4 members)>\n",
      "Variable name:  <HDF5 group \"/bn4h_branch2b/bn4h_branch2b\" (4 members)>\n",
      "Variable name:  <HDF5 group \"/bn4h_branch2b/bn4h_branch2b\" (4 members)>\n",
      "Variable name:  <HDF5 group \"/bn4h_branch2b/bn4h_branch2b\" (4 members)>\n",
      "Variable name:  <HDF5 group \"/res4h_branch2c/res4h_branch2c\" (2 members)>\n",
      "Variable name:  <HDF5 group \"/res4h_branch2c/res4h_branch2c\" (2 members)>\n",
      "Variable name:  <HDF5 group \"/bn4h_branch2c/bn4h_branch2c\" (4 members)>\n",
      "Variable name:  <HDF5 group \"/bn4h_branch2c/bn4h_branch2c\" (4 members)>\n",
      "Variable name:  <HDF5 group \"/bn4h_branch2c/bn4h_branch2c\" (4 members)>\n",
      "Variable name:  <HDF5 group \"/bn4h_branch2c/bn4h_branch2c\" (4 members)>\n",
      "Variable name:  <HDF5 group \"/res4i_branch2a/res4i_branch2a\" (2 members)>\n",
      "Variable name:  <HDF5 group \"/res4i_branch2a/res4i_branch2a\" (2 members)>\n"
     ]
    },
    {
     "name": "stdout",
     "output_type": "stream",
     "text": [
      "Variable name:  <HDF5 group \"/bn4i_branch2a/bn4i_branch2a\" (4 members)>\n",
      "Variable name:  <HDF5 group \"/bn4i_branch2a/bn4i_branch2a\" (4 members)>\n",
      "Variable name:  <HDF5 group \"/bn4i_branch2a/bn4i_branch2a\" (4 members)>\n",
      "Variable name:  <HDF5 group \"/bn4i_branch2a/bn4i_branch2a\" (4 members)>\n",
      "Variable name:  <HDF5 group \"/res4i_branch2b/res4i_branch2b\" (2 members)>\n",
      "Variable name:  <HDF5 group \"/res4i_branch2b/res4i_branch2b\" (2 members)>\n",
      "Variable name:  <HDF5 group \"/bn4i_branch2b/bn4i_branch2b\" (4 members)>\n",
      "Variable name:  <HDF5 group \"/bn4i_branch2b/bn4i_branch2b\" (4 members)>\n",
      "Variable name:  <HDF5 group \"/bn4i_branch2b/bn4i_branch2b\" (4 members)>\n",
      "Variable name:  <HDF5 group \"/bn4i_branch2b/bn4i_branch2b\" (4 members)>\n",
      "Variable name:  <HDF5 group \"/res4i_branch2c/res4i_branch2c\" (2 members)>\n",
      "Variable name:  <HDF5 group \"/res4i_branch2c/res4i_branch2c\" (2 members)>\n",
      "Variable name:  <HDF5 group \"/bn4i_branch2c/bn4i_branch2c\" (4 members)>\n",
      "Variable name:  <HDF5 group \"/bn4i_branch2c/bn4i_branch2c\" (4 members)>\n",
      "Variable name:  <HDF5 group \"/bn4i_branch2c/bn4i_branch2c\" (4 members)>\n",
      "Variable name:  <HDF5 group \"/bn4i_branch2c/bn4i_branch2c\" (4 members)>\n",
      "Variable name:  <HDF5 group \"/res4j_branch2a/res4j_branch2a\" (2 members)>\n",
      "Variable name:  <HDF5 group \"/res4j_branch2a/res4j_branch2a\" (2 members)>\n",
      "Variable name:  <HDF5 group \"/bn4j_branch2a/bn4j_branch2a\" (4 members)>\n",
      "Variable name:  <HDF5 group \"/bn4j_branch2a/bn4j_branch2a\" (4 members)>\n",
      "Variable name:  <HDF5 group \"/bn4j_branch2a/bn4j_branch2a\" (4 members)>\n",
      "Variable name:  <HDF5 group \"/bn4j_branch2a/bn4j_branch2a\" (4 members)>\n",
      "Variable name:  <HDF5 group \"/res4j_branch2b/res4j_branch2b\" (2 members)>\n",
      "Variable name:  <HDF5 group \"/res4j_branch2b/res4j_branch2b\" (2 members)>\n",
      "Variable name:  <HDF5 group \"/bn4j_branch2b/bn4j_branch2b\" (4 members)>\n",
      "Variable name:  <HDF5 group \"/bn4j_branch2b/bn4j_branch2b\" (4 members)>\n",
      "Variable name:  <HDF5 group \"/bn4j_branch2b/bn4j_branch2b\" (4 members)>\n",
      "Variable name:  <HDF5 group \"/bn4j_branch2b/bn4j_branch2b\" (4 members)>\n",
      "Variable name:  <HDF5 group \"/res4j_branch2c/res4j_branch2c\" (2 members)>\n",
      "Variable name:  <HDF5 group \"/res4j_branch2c/res4j_branch2c\" (2 members)>\n",
      "Variable name:  <HDF5 group \"/bn4j_branch2c/bn4j_branch2c\" (4 members)>\n",
      "Variable name:  <HDF5 group \"/bn4j_branch2c/bn4j_branch2c\" (4 members)>\n",
      "Variable name:  <HDF5 group \"/bn4j_branch2c/bn4j_branch2c\" (4 members)>\n",
      "Variable name:  <HDF5 group \"/bn4j_branch2c/bn4j_branch2c\" (4 members)>\n",
      "Variable name:  <HDF5 group \"/res4k_branch2a/res4k_branch2a\" (2 members)>\n",
      "Variable name:  <HDF5 group \"/res4k_branch2a/res4k_branch2a\" (2 members)>\n",
      "Variable name:  <HDF5 group \"/bn4k_branch2a/bn4k_branch2a\" (4 members)>\n",
      "Variable name:  <HDF5 group \"/bn4k_branch2a/bn4k_branch2a\" (4 members)>\n",
      "Variable name:  <HDF5 group \"/bn4k_branch2a/bn4k_branch2a\" (4 members)>\n",
      "Variable name:  <HDF5 group \"/bn4k_branch2a/bn4k_branch2a\" (4 members)>\n",
      "Variable name:  <HDF5 group \"/res4k_branch2b/res4k_branch2b\" (2 members)>\n",
      "Variable name:  <HDF5 group \"/res4k_branch2b/res4k_branch2b\" (2 members)>\n",
      "Variable name:  <HDF5 group \"/bn4k_branch2b/bn4k_branch2b\" (4 members)>\n",
      "Variable name:  <HDF5 group \"/bn4k_branch2b/bn4k_branch2b\" (4 members)>\n",
      "Variable name:  <HDF5 group \"/bn4k_branch2b/bn4k_branch2b\" (4 members)>\n",
      "Variable name:  <HDF5 group \"/bn4k_branch2b/bn4k_branch2b\" (4 members)>\n",
      "Variable name:  <HDF5 group \"/res4k_branch2c/res4k_branch2c\" (2 members)>\n",
      "Variable name:  <HDF5 group \"/res4k_branch2c/res4k_branch2c\" (2 members)>\n",
      "Variable name:  <HDF5 group \"/bn4k_branch2c/bn4k_branch2c\" (4 members)>\n",
      "Variable name:  <HDF5 group \"/bn4k_branch2c/bn4k_branch2c\" (4 members)>\n",
      "Variable name:  <HDF5 group \"/bn4k_branch2c/bn4k_branch2c\" (4 members)>\n",
      "Variable name:  <HDF5 group \"/bn4k_branch2c/bn4k_branch2c\" (4 members)>\n",
      "Variable name:  <HDF5 group \"/res4l_branch2a/res4l_branch2a\" (2 members)>\n",
      "Variable name:  <HDF5 group \"/res4l_branch2a/res4l_branch2a\" (2 members)>\n",
      "Variable name:  <HDF5 group \"/bn4l_branch2a/bn4l_branch2a\" (4 members)>\n",
      "Variable name:  <HDF5 group \"/bn4l_branch2a/bn4l_branch2a\" (4 members)>\n",
      "Variable name:  <HDF5 group \"/bn4l_branch2a/bn4l_branch2a\" (4 members)>\n",
      "Variable name:  <HDF5 group \"/bn4l_branch2a/bn4l_branch2a\" (4 members)>\n",
      "Variable name:  <HDF5 group \"/res4l_branch2b/res4l_branch2b\" (2 members)>\n",
      "Variable name:  <HDF5 group \"/res4l_branch2b/res4l_branch2b\" (2 members)>\n",
      "Variable name:  <HDF5 group \"/bn4l_branch2b/bn4l_branch2b\" (4 members)>\n",
      "Variable name:  <HDF5 group \"/bn4l_branch2b/bn4l_branch2b\" (4 members)>\n",
      "Variable name:  <HDF5 group \"/bn4l_branch2b/bn4l_branch2b\" (4 members)>\n",
      "Variable name:  <HDF5 group \"/bn4l_branch2b/bn4l_branch2b\" (4 members)>\n",
      "Variable name:  <HDF5 group \"/res4l_branch2c/res4l_branch2c\" (2 members)>\n",
      "Variable name:  <HDF5 group \"/res4l_branch2c/res4l_branch2c\" (2 members)>\n",
      "Variable name:  <HDF5 group \"/bn4l_branch2c/bn4l_branch2c\" (4 members)>\n",
      "Variable name:  <HDF5 group \"/bn4l_branch2c/bn4l_branch2c\" (4 members)>\n",
      "Variable name:  <HDF5 group \"/bn4l_branch2c/bn4l_branch2c\" (4 members)>\n",
      "Variable name:  <HDF5 group \"/bn4l_branch2c/bn4l_branch2c\" (4 members)>\n",
      "Variable name:  <HDF5 group \"/res4m_branch2a/res4m_branch2a\" (2 members)>\n",
      "Variable name:  <HDF5 group \"/res4m_branch2a/res4m_branch2a\" (2 members)>\n",
      "Variable name:  <HDF5 group \"/bn4m_branch2a/bn4m_branch2a\" (4 members)>\n",
      "Variable name:  <HDF5 group \"/bn4m_branch2a/bn4m_branch2a\" (4 members)>\n",
      "Variable name:  <HDF5 group \"/bn4m_branch2a/bn4m_branch2a\" (4 members)>\n",
      "Variable name:  <HDF5 group \"/bn4m_branch2a/bn4m_branch2a\" (4 members)>\n",
      "Variable name:  <HDF5 group \"/res4m_branch2b/res4m_branch2b\" (2 members)>\n",
      "Variable name:  <HDF5 group \"/res4m_branch2b/res4m_branch2b\" (2 members)>\n",
      "Variable name:  <HDF5 group \"/bn4m_branch2b/bn4m_branch2b\" (4 members)>\n",
      "Variable name:  <HDF5 group \"/bn4m_branch2b/bn4m_branch2b\" (4 members)>\n",
      "Variable name:  <HDF5 group \"/bn4m_branch2b/bn4m_branch2b\" (4 members)>\n",
      "Variable name:  <HDF5 group \"/bn4m_branch2b/bn4m_branch2b\" (4 members)>\n",
      "Variable name:  <HDF5 group \"/res4m_branch2c/res4m_branch2c\" (2 members)>\n",
      "Variable name:  <HDF5 group \"/res4m_branch2c/res4m_branch2c\" (2 members)>\n",
      "Variable name:  <HDF5 group \"/bn4m_branch2c/bn4m_branch2c\" (4 members)>\n",
      "Variable name:  <HDF5 group \"/bn4m_branch2c/bn4m_branch2c\" (4 members)>\n",
      "Variable name:  <HDF5 group \"/bn4m_branch2c/bn4m_branch2c\" (4 members)>\n",
      "Variable name:  <HDF5 group \"/bn4m_branch2c/bn4m_branch2c\" (4 members)>\n",
      "Variable name:  <HDF5 group \"/res4n_branch2a/res4n_branch2a\" (2 members)>\n",
      "Variable name:  <HDF5 group \"/res4n_branch2a/res4n_branch2a\" (2 members)>\n",
      "Variable name:  <HDF5 group \"/bn4n_branch2a/bn4n_branch2a\" (4 members)>\n",
      "Variable name:  <HDF5 group \"/bn4n_branch2a/bn4n_branch2a\" (4 members)>\n",
      "Variable name:  <HDF5 group \"/bn4n_branch2a/bn4n_branch2a\" (4 members)>\n",
      "Variable name:  <HDF5 group \"/bn4n_branch2a/bn4n_branch2a\" (4 members)>\n",
      "Variable name:  <HDF5 group \"/res4n_branch2b/res4n_branch2b\" (2 members)>\n",
      "Variable name:  <HDF5 group \"/res4n_branch2b/res4n_branch2b\" (2 members)>\n",
      "Variable name:  <HDF5 group \"/bn4n_branch2b/bn4n_branch2b\" (4 members)>\n",
      "Variable name:  <HDF5 group \"/bn4n_branch2b/bn4n_branch2b\" (4 members)>\n",
      "Variable name:  <HDF5 group \"/bn4n_branch2b/bn4n_branch2b\" (4 members)>\n",
      "Variable name:  <HDF5 group \"/bn4n_branch2b/bn4n_branch2b\" (4 members)>\n",
      "Variable name:  <HDF5 group \"/res4n_branch2c/res4n_branch2c\" (2 members)>\n",
      "Variable name:  <HDF5 group \"/res4n_branch2c/res4n_branch2c\" (2 members)>\n",
      "Variable name:  <HDF5 group \"/bn4n_branch2c/bn4n_branch2c\" (4 members)>\n",
      "Variable name:  <HDF5 group \"/bn4n_branch2c/bn4n_branch2c\" (4 members)>\n",
      "Variable name:  <HDF5 group \"/bn4n_branch2c/bn4n_branch2c\" (4 members)>\n",
      "Variable name:  <HDF5 group \"/bn4n_branch2c/bn4n_branch2c\" (4 members)>\n",
      "Variable name:  <HDF5 group \"/res4o_branch2a/res4o_branch2a\" (2 members)>\n",
      "Variable name:  <HDF5 group \"/res4o_branch2a/res4o_branch2a\" (2 members)>\n",
      "Variable name:  <HDF5 group \"/bn4o_branch2a/bn4o_branch2a\" (4 members)>\n",
      "Variable name:  <HDF5 group \"/bn4o_branch2a/bn4o_branch2a\" (4 members)>\n",
      "Variable name:  <HDF5 group \"/bn4o_branch2a/bn4o_branch2a\" (4 members)>\n",
      "Variable name:  <HDF5 group \"/bn4o_branch2a/bn4o_branch2a\" (4 members)>\n",
      "Variable name:  <HDF5 group \"/res4o_branch2b/res4o_branch2b\" (2 members)>\n",
      "Variable name:  <HDF5 group \"/res4o_branch2b/res4o_branch2b\" (2 members)>\n"
     ]
    },
    {
     "name": "stdout",
     "output_type": "stream",
     "text": [
      "Variable name:  <HDF5 group \"/bn4o_branch2b/bn4o_branch2b\" (4 members)>\n",
      "Variable name:  <HDF5 group \"/bn4o_branch2b/bn4o_branch2b\" (4 members)>\n",
      "Variable name:  <HDF5 group \"/bn4o_branch2b/bn4o_branch2b\" (4 members)>\n",
      "Variable name:  <HDF5 group \"/bn4o_branch2b/bn4o_branch2b\" (4 members)>\n",
      "Variable name:  <HDF5 group \"/res4o_branch2c/res4o_branch2c\" (2 members)>\n",
      "Variable name:  <HDF5 group \"/res4o_branch2c/res4o_branch2c\" (2 members)>\n",
      "Variable name:  <HDF5 group \"/bn4o_branch2c/bn4o_branch2c\" (4 members)>\n",
      "Variable name:  <HDF5 group \"/bn4o_branch2c/bn4o_branch2c\" (4 members)>\n",
      "Variable name:  <HDF5 group \"/bn4o_branch2c/bn4o_branch2c\" (4 members)>\n",
      "Variable name:  <HDF5 group \"/bn4o_branch2c/bn4o_branch2c\" (4 members)>\n",
      "Variable name:  <HDF5 group \"/res4p_branch2a/res4p_branch2a\" (2 members)>\n",
      "Variable name:  <HDF5 group \"/res4p_branch2a/res4p_branch2a\" (2 members)>\n",
      "Variable name:  <HDF5 group \"/bn4p_branch2a/bn4p_branch2a\" (4 members)>\n",
      "Variable name:  <HDF5 group \"/bn4p_branch2a/bn4p_branch2a\" (4 members)>\n",
      "Variable name:  <HDF5 group \"/bn4p_branch2a/bn4p_branch2a\" (4 members)>\n",
      "Variable name:  <HDF5 group \"/bn4p_branch2a/bn4p_branch2a\" (4 members)>\n",
      "Variable name:  <HDF5 group \"/res4p_branch2b/res4p_branch2b\" (2 members)>\n",
      "Variable name:  <HDF5 group \"/res4p_branch2b/res4p_branch2b\" (2 members)>\n",
      "Variable name:  <HDF5 group \"/bn4p_branch2b/bn4p_branch2b\" (4 members)>\n",
      "Variable name:  <HDF5 group \"/bn4p_branch2b/bn4p_branch2b\" (4 members)>\n",
      "Variable name:  <HDF5 group \"/bn4p_branch2b/bn4p_branch2b\" (4 members)>\n",
      "Variable name:  <HDF5 group \"/bn4p_branch2b/bn4p_branch2b\" (4 members)>\n",
      "Variable name:  <HDF5 group \"/res4p_branch2c/res4p_branch2c\" (2 members)>\n",
      "Variable name:  <HDF5 group \"/res4p_branch2c/res4p_branch2c\" (2 members)>\n",
      "Variable name:  <HDF5 group \"/bn4p_branch2c/bn4p_branch2c\" (4 members)>\n",
      "Variable name:  <HDF5 group \"/bn4p_branch2c/bn4p_branch2c\" (4 members)>\n",
      "Variable name:  <HDF5 group \"/bn4p_branch2c/bn4p_branch2c\" (4 members)>\n",
      "Variable name:  <HDF5 group \"/bn4p_branch2c/bn4p_branch2c\" (4 members)>\n",
      "Variable name:  <HDF5 group \"/res4q_branch2a/res4q_branch2a\" (2 members)>\n",
      "Variable name:  <HDF5 group \"/res4q_branch2a/res4q_branch2a\" (2 members)>\n",
      "Variable name:  <HDF5 group \"/bn4q_branch2a/bn4q_branch2a\" (4 members)>\n",
      "Variable name:  <HDF5 group \"/bn4q_branch2a/bn4q_branch2a\" (4 members)>\n",
      "Variable name:  <HDF5 group \"/bn4q_branch2a/bn4q_branch2a\" (4 members)>\n",
      "Variable name:  <HDF5 group \"/bn4q_branch2a/bn4q_branch2a\" (4 members)>\n",
      "Variable name:  <HDF5 group \"/res4q_branch2b/res4q_branch2b\" (2 members)>\n",
      "Variable name:  <HDF5 group \"/res4q_branch2b/res4q_branch2b\" (2 members)>\n",
      "Variable name:  <HDF5 group \"/bn4q_branch2b/bn4q_branch2b\" (4 members)>\n",
      "Variable name:  <HDF5 group \"/bn4q_branch2b/bn4q_branch2b\" (4 members)>\n",
      "Variable name:  <HDF5 group \"/bn4q_branch2b/bn4q_branch2b\" (4 members)>\n",
      "Variable name:  <HDF5 group \"/bn4q_branch2b/bn4q_branch2b\" (4 members)>\n",
      "Variable name:  <HDF5 group \"/res4q_branch2c/res4q_branch2c\" (2 members)>\n",
      "Variable name:  <HDF5 group \"/res4q_branch2c/res4q_branch2c\" (2 members)>\n",
      "Variable name:  <HDF5 group \"/bn4q_branch2c/bn4q_branch2c\" (4 members)>\n",
      "Variable name:  <HDF5 group \"/bn4q_branch2c/bn4q_branch2c\" (4 members)>\n",
      "Variable name:  <HDF5 group \"/bn4q_branch2c/bn4q_branch2c\" (4 members)>\n",
      "Variable name:  <HDF5 group \"/bn4q_branch2c/bn4q_branch2c\" (4 members)>\n",
      "Variable name:  <HDF5 group \"/res4r_branch2a/res4r_branch2a\" (2 members)>\n",
      "Variable name:  <HDF5 group \"/res4r_branch2a/res4r_branch2a\" (2 members)>\n",
      "Variable name:  <HDF5 group \"/bn4r_branch2a/bn4r_branch2a\" (4 members)>\n",
      "Variable name:  <HDF5 group \"/bn4r_branch2a/bn4r_branch2a\" (4 members)>\n",
      "Variable name:  <HDF5 group \"/bn4r_branch2a/bn4r_branch2a\" (4 members)>\n",
      "Variable name:  <HDF5 group \"/bn4r_branch2a/bn4r_branch2a\" (4 members)>\n",
      "Variable name:  <HDF5 group \"/res4r_branch2b/res4r_branch2b\" (2 members)>\n",
      "Variable name:  <HDF5 group \"/res4r_branch2b/res4r_branch2b\" (2 members)>\n",
      "Variable name:  <HDF5 group \"/bn4r_branch2b/bn4r_branch2b\" (4 members)>\n",
      "Variable name:  <HDF5 group \"/bn4r_branch2b/bn4r_branch2b\" (4 members)>\n",
      "Variable name:  <HDF5 group \"/bn4r_branch2b/bn4r_branch2b\" (4 members)>\n",
      "Variable name:  <HDF5 group \"/bn4r_branch2b/bn4r_branch2b\" (4 members)>\n",
      "Variable name:  <HDF5 group \"/res4r_branch2c/res4r_branch2c\" (2 members)>\n",
      "Variable name:  <HDF5 group \"/res4r_branch2c/res4r_branch2c\" (2 members)>\n",
      "Variable name:  <HDF5 group \"/bn4r_branch2c/bn4r_branch2c\" (4 members)>\n",
      "Variable name:  <HDF5 group \"/bn4r_branch2c/bn4r_branch2c\" (4 members)>\n",
      "Variable name:  <HDF5 group \"/bn4r_branch2c/bn4r_branch2c\" (4 members)>\n",
      "Variable name:  <HDF5 group \"/bn4r_branch2c/bn4r_branch2c\" (4 members)>\n",
      "Variable name:  <HDF5 group \"/res4s_branch2a/res4s_branch2a\" (2 members)>\n",
      "Variable name:  <HDF5 group \"/res4s_branch2a/res4s_branch2a\" (2 members)>\n",
      "Variable name:  <HDF5 group \"/bn4s_branch2a/bn4s_branch2a\" (4 members)>\n",
      "Variable name:  <HDF5 group \"/bn4s_branch2a/bn4s_branch2a\" (4 members)>\n",
      "Variable name:  <HDF5 group \"/bn4s_branch2a/bn4s_branch2a\" (4 members)>\n",
      "Variable name:  <HDF5 group \"/bn4s_branch2a/bn4s_branch2a\" (4 members)>\n",
      "Variable name:  <HDF5 group \"/res4s_branch2b/res4s_branch2b\" (2 members)>\n",
      "Variable name:  <HDF5 group \"/res4s_branch2b/res4s_branch2b\" (2 members)>\n",
      "Variable name:  <HDF5 group \"/bn4s_branch2b/bn4s_branch2b\" (4 members)>\n",
      "Variable name:  <HDF5 group \"/bn4s_branch2b/bn4s_branch2b\" (4 members)>\n",
      "Variable name:  <HDF5 group \"/bn4s_branch2b/bn4s_branch2b\" (4 members)>\n",
      "Variable name:  <HDF5 group \"/bn4s_branch2b/bn4s_branch2b\" (4 members)>\n",
      "Variable name:  <HDF5 group \"/res4s_branch2c/res4s_branch2c\" (2 members)>\n",
      "Variable name:  <HDF5 group \"/res4s_branch2c/res4s_branch2c\" (2 members)>\n",
      "Variable name:  <HDF5 group \"/bn4s_branch2c/bn4s_branch2c\" (4 members)>\n",
      "Variable name:  <HDF5 group \"/bn4s_branch2c/bn4s_branch2c\" (4 members)>\n",
      "Variable name:  <HDF5 group \"/bn4s_branch2c/bn4s_branch2c\" (4 members)>\n",
      "Variable name:  <HDF5 group \"/bn4s_branch2c/bn4s_branch2c\" (4 members)>\n",
      "Variable name:  <HDF5 group \"/res4t_branch2a/res4t_branch2a\" (2 members)>\n",
      "Variable name:  <HDF5 group \"/res4t_branch2a/res4t_branch2a\" (2 members)>\n",
      "Variable name:  <HDF5 group \"/bn4t_branch2a/bn4t_branch2a\" (4 members)>\n",
      "Variable name:  <HDF5 group \"/bn4t_branch2a/bn4t_branch2a\" (4 members)>\n",
      "Variable name:  <HDF5 group \"/bn4t_branch2a/bn4t_branch2a\" (4 members)>\n",
      "Variable name:  <HDF5 group \"/bn4t_branch2a/bn4t_branch2a\" (4 members)>\n",
      "Variable name:  <HDF5 group \"/res4t_branch2b/res4t_branch2b\" (2 members)>\n",
      "Variable name:  <HDF5 group \"/res4t_branch2b/res4t_branch2b\" (2 members)>\n",
      "Variable name:  <HDF5 group \"/bn4t_branch2b/bn4t_branch2b\" (4 members)>\n",
      "Variable name:  <HDF5 group \"/bn4t_branch2b/bn4t_branch2b\" (4 members)>\n",
      "Variable name:  <HDF5 group \"/bn4t_branch2b/bn4t_branch2b\" (4 members)>\n",
      "Variable name:  <HDF5 group \"/bn4t_branch2b/bn4t_branch2b\" (4 members)>\n",
      "Variable name:  <HDF5 group \"/res4t_branch2c/res4t_branch2c\" (2 members)>\n",
      "Variable name:  <HDF5 group \"/res4t_branch2c/res4t_branch2c\" (2 members)>\n",
      "Variable name:  <HDF5 group \"/bn4t_branch2c/bn4t_branch2c\" (4 members)>\n",
      "Variable name:  <HDF5 group \"/bn4t_branch2c/bn4t_branch2c\" (4 members)>\n",
      "Variable name:  <HDF5 group \"/bn4t_branch2c/bn4t_branch2c\" (4 members)>\n",
      "Variable name:  <HDF5 group \"/bn4t_branch2c/bn4t_branch2c\" (4 members)>\n",
      "Variable name:  <HDF5 group \"/res4u_branch2a/res4u_branch2a\" (2 members)>\n",
      "Variable name:  <HDF5 group \"/res4u_branch2a/res4u_branch2a\" (2 members)>\n",
      "Variable name:  <HDF5 group \"/bn4u_branch2a/bn4u_branch2a\" (4 members)>\n",
      "Variable name:  <HDF5 group \"/bn4u_branch2a/bn4u_branch2a\" (4 members)>\n",
      "Variable name:  <HDF5 group \"/bn4u_branch2a/bn4u_branch2a\" (4 members)>\n",
      "Variable name:  <HDF5 group \"/bn4u_branch2a/bn4u_branch2a\" (4 members)>\n",
      "Variable name:  <HDF5 group \"/res4u_branch2b/res4u_branch2b\" (2 members)>\n",
      "Variable name:  <HDF5 group \"/res4u_branch2b/res4u_branch2b\" (2 members)>\n",
      "Variable name:  <HDF5 group \"/bn4u_branch2b/bn4u_branch2b\" (4 members)>\n",
      "Variable name:  <HDF5 group \"/bn4u_branch2b/bn4u_branch2b\" (4 members)>\n",
      "Variable name:  <HDF5 group \"/bn4u_branch2b/bn4u_branch2b\" (4 members)>\n",
      "Variable name:  <HDF5 group \"/bn4u_branch2b/bn4u_branch2b\" (4 members)>\n",
      "Variable name:  <HDF5 group \"/res4u_branch2c/res4u_branch2c\" (2 members)>\n",
      "Variable name:  <HDF5 group \"/res4u_branch2c/res4u_branch2c\" (2 members)>\n"
     ]
    },
    {
     "name": "stdout",
     "output_type": "stream",
     "text": [
      "Variable name:  <HDF5 group \"/bn4u_branch2c/bn4u_branch2c\" (4 members)>\n",
      "Variable name:  <HDF5 group \"/bn4u_branch2c/bn4u_branch2c\" (4 members)>\n",
      "Variable name:  <HDF5 group \"/bn4u_branch2c/bn4u_branch2c\" (4 members)>\n",
      "Variable name:  <HDF5 group \"/bn4u_branch2c/bn4u_branch2c\" (4 members)>\n",
      "Variable name:  <HDF5 group \"/res4v_branch2a/res4v_branch2a\" (2 members)>\n",
      "Variable name:  <HDF5 group \"/res4v_branch2a/res4v_branch2a\" (2 members)>\n",
      "Variable name:  <HDF5 group \"/bn4v_branch2a/bn4v_branch2a\" (4 members)>\n",
      "Variable name:  <HDF5 group \"/bn4v_branch2a/bn4v_branch2a\" (4 members)>\n",
      "Variable name:  <HDF5 group \"/bn4v_branch2a/bn4v_branch2a\" (4 members)>\n",
      "Variable name:  <HDF5 group \"/bn4v_branch2a/bn4v_branch2a\" (4 members)>\n",
      "Variable name:  <HDF5 group \"/res4v_branch2b/res4v_branch2b\" (2 members)>\n",
      "Variable name:  <HDF5 group \"/res4v_branch2b/res4v_branch2b\" (2 members)>\n",
      "Variable name:  <HDF5 group \"/bn4v_branch2b/bn4v_branch2b\" (4 members)>\n",
      "Variable name:  <HDF5 group \"/bn4v_branch2b/bn4v_branch2b\" (4 members)>\n",
      "Variable name:  <HDF5 group \"/bn4v_branch2b/bn4v_branch2b\" (4 members)>\n",
      "Variable name:  <HDF5 group \"/bn4v_branch2b/bn4v_branch2b\" (4 members)>\n",
      "Variable name:  <HDF5 group \"/res4v_branch2c/res4v_branch2c\" (2 members)>\n",
      "Variable name:  <HDF5 group \"/res4v_branch2c/res4v_branch2c\" (2 members)>\n",
      "Variable name:  <HDF5 group \"/bn4v_branch2c/bn4v_branch2c\" (4 members)>\n",
      "Variable name:  <HDF5 group \"/bn4v_branch2c/bn4v_branch2c\" (4 members)>\n",
      "Variable name:  <HDF5 group \"/bn4v_branch2c/bn4v_branch2c\" (4 members)>\n",
      "Variable name:  <HDF5 group \"/bn4v_branch2c/bn4v_branch2c\" (4 members)>\n",
      "Variable name:  <HDF5 group \"/res4w_branch2a/res4w_branch2a\" (2 members)>\n",
      "Variable name:  <HDF5 group \"/res4w_branch2a/res4w_branch2a\" (2 members)>\n",
      "Variable name:  <HDF5 group \"/bn4w_branch2a/bn4w_branch2a\" (4 members)>\n",
      "Variable name:  <HDF5 group \"/bn4w_branch2a/bn4w_branch2a\" (4 members)>\n",
      "Variable name:  <HDF5 group \"/bn4w_branch2a/bn4w_branch2a\" (4 members)>\n",
      "Variable name:  <HDF5 group \"/bn4w_branch2a/bn4w_branch2a\" (4 members)>\n",
      "Variable name:  <HDF5 group \"/res4w_branch2b/res4w_branch2b\" (2 members)>\n",
      "Variable name:  <HDF5 group \"/res4w_branch2b/res4w_branch2b\" (2 members)>\n",
      "Variable name:  <HDF5 group \"/bn4w_branch2b/bn4w_branch2b\" (4 members)>\n",
      "Variable name:  <HDF5 group \"/bn4w_branch2b/bn4w_branch2b\" (4 members)>\n",
      "Variable name:  <HDF5 group \"/bn4w_branch2b/bn4w_branch2b\" (4 members)>\n",
      "Variable name:  <HDF5 group \"/bn4w_branch2b/bn4w_branch2b\" (4 members)>\n",
      "Variable name:  <HDF5 group \"/res4w_branch2c/res4w_branch2c\" (2 members)>\n",
      "Variable name:  <HDF5 group \"/res4w_branch2c/res4w_branch2c\" (2 members)>\n",
      "Variable name:  <HDF5 group \"/bn4w_branch2c/bn4w_branch2c\" (4 members)>\n",
      "Variable name:  <HDF5 group \"/bn4w_branch2c/bn4w_branch2c\" (4 members)>\n",
      "Variable name:  <HDF5 group \"/bn4w_branch2c/bn4w_branch2c\" (4 members)>\n",
      "Variable name:  <HDF5 group \"/bn4w_branch2c/bn4w_branch2c\" (4 members)>\n",
      "Variable name:  <HDF5 group \"/res5a_branch1/res5a_branch1\" (2 members)>\n",
      "Variable name:  <HDF5 group \"/res5a_branch1/res5a_branch1\" (2 members)>\n",
      "Variable name:  <HDF5 group \"/bn5a_branch1/bn5a_branch1\" (4 members)>\n",
      "Variable name:  <HDF5 group \"/bn5a_branch1/bn5a_branch1\" (4 members)>\n",
      "Variable name:  <HDF5 group \"/bn5a_branch1/bn5a_branch1\" (4 members)>\n",
      "Variable name:  <HDF5 group \"/bn5a_branch1/bn5a_branch1\" (4 members)>\n",
      "Variable name:  <HDF5 group \"/res5a_branch2a/res5a_branch2a\" (2 members)>\n",
      "Variable name:  <HDF5 group \"/res5a_branch2a/res5a_branch2a\" (2 members)>\n",
      "Variable name:  <HDF5 group \"/bn5a_branch2a/bn5a_branch2a\" (4 members)>\n",
      "Variable name:  <HDF5 group \"/bn5a_branch2a/bn5a_branch2a\" (4 members)>\n",
      "Variable name:  <HDF5 group \"/bn5a_branch2a/bn5a_branch2a\" (4 members)>\n",
      "Variable name:  <HDF5 group \"/bn5a_branch2a/bn5a_branch2a\" (4 members)>\n",
      "Variable name:  <HDF5 group \"/res5a_branch2b/res5a_branch2b\" (2 members)>\n",
      "Variable name:  <HDF5 group \"/res5a_branch2b/res5a_branch2b\" (2 members)>\n",
      "Variable name:  <HDF5 group \"/bn5a_branch2b/bn5a_branch2b\" (4 members)>\n",
      "Variable name:  <HDF5 group \"/bn5a_branch2b/bn5a_branch2b\" (4 members)>\n",
      "Variable name:  <HDF5 group \"/bn5a_branch2b/bn5a_branch2b\" (4 members)>\n",
      "Variable name:  <HDF5 group \"/bn5a_branch2b/bn5a_branch2b\" (4 members)>\n",
      "Variable name:  <HDF5 group \"/res5a_branch2c/res5a_branch2c\" (2 members)>\n",
      "Variable name:  <HDF5 group \"/res5a_branch2c/res5a_branch2c\" (2 members)>\n",
      "Variable name:  <HDF5 group \"/bn5a_branch2c/bn5a_branch2c\" (4 members)>\n",
      "Variable name:  <HDF5 group \"/bn5a_branch2c/bn5a_branch2c\" (4 members)>\n",
      "Variable name:  <HDF5 group \"/bn5a_branch2c/bn5a_branch2c\" (4 members)>\n",
      "Variable name:  <HDF5 group \"/bn5a_branch2c/bn5a_branch2c\" (4 members)>\n",
      "Variable name:  <HDF5 group \"/res5b_branch2a/res5b_branch2a\" (2 members)>\n",
      "Variable name:  <HDF5 group \"/res5b_branch2a/res5b_branch2a\" (2 members)>\n",
      "Variable name:  <HDF5 group \"/bn5b_branch2a/bn5b_branch2a\" (4 members)>\n",
      "Variable name:  <HDF5 group \"/bn5b_branch2a/bn5b_branch2a\" (4 members)>\n",
      "Variable name:  <HDF5 group \"/bn5b_branch2a/bn5b_branch2a\" (4 members)>\n",
      "Variable name:  <HDF5 group \"/bn5b_branch2a/bn5b_branch2a\" (4 members)>\n",
      "Variable name:  <HDF5 group \"/res5b_branch2b/res5b_branch2b\" (2 members)>\n",
      "Variable name:  <HDF5 group \"/res5b_branch2b/res5b_branch2b\" (2 members)>\n",
      "Variable name:  <HDF5 group \"/bn5b_branch2b/bn5b_branch2b\" (4 members)>\n",
      "Variable name:  <HDF5 group \"/bn5b_branch2b/bn5b_branch2b\" (4 members)>\n",
      "Variable name:  <HDF5 group \"/bn5b_branch2b/bn5b_branch2b\" (4 members)>\n",
      "Variable name:  <HDF5 group \"/bn5b_branch2b/bn5b_branch2b\" (4 members)>\n",
      "Variable name:  <HDF5 group \"/res5b_branch2c/res5b_branch2c\" (2 members)>\n",
      "Variable name:  <HDF5 group \"/res5b_branch2c/res5b_branch2c\" (2 members)>\n",
      "Variable name:  <HDF5 group \"/bn5b_branch2c/bn5b_branch2c\" (4 members)>\n",
      "Variable name:  <HDF5 group \"/bn5b_branch2c/bn5b_branch2c\" (4 members)>\n",
      "Variable name:  <HDF5 group \"/bn5b_branch2c/bn5b_branch2c\" (4 members)>\n",
      "Variable name:  <HDF5 group \"/bn5b_branch2c/bn5b_branch2c\" (4 members)>\n",
      "Variable name:  <HDF5 group \"/res5c_branch2a/res5c_branch2a\" (2 members)>\n",
      "Variable name:  <HDF5 group \"/res5c_branch2a/res5c_branch2a\" (2 members)>\n",
      "Variable name:  <HDF5 group \"/bn5c_branch2a/bn5c_branch2a\" (4 members)>\n",
      "Variable name:  <HDF5 group \"/bn5c_branch2a/bn5c_branch2a\" (4 members)>\n",
      "Variable name:  <HDF5 group \"/bn5c_branch2a/bn5c_branch2a\" (4 members)>\n",
      "Variable name:  <HDF5 group \"/bn5c_branch2a/bn5c_branch2a\" (4 members)>\n",
      "Variable name:  <HDF5 group \"/res5c_branch2b/res5c_branch2b\" (2 members)>\n",
      "Variable name:  <HDF5 group \"/res5c_branch2b/res5c_branch2b\" (2 members)>\n",
      "Variable name:  <HDF5 group \"/bn5c_branch2b/bn5c_branch2b\" (4 members)>\n",
      "Variable name:  <HDF5 group \"/bn5c_branch2b/bn5c_branch2b\" (4 members)>\n",
      "Variable name:  <HDF5 group \"/bn5c_branch2b/bn5c_branch2b\" (4 members)>\n",
      "Variable name:  <HDF5 group \"/bn5c_branch2b/bn5c_branch2b\" (4 members)>\n",
      "Variable name:  <HDF5 group \"/res5c_branch2c/res5c_branch2c\" (2 members)>\n",
      "Variable name:  <HDF5 group \"/res5c_branch2c/res5c_branch2c\" (2 members)>\n",
      "Variable name:  <HDF5 group \"/bn5c_branch2c/bn5c_branch2c\" (4 members)>\n",
      "Variable name:  <HDF5 group \"/bn5c_branch2c/bn5c_branch2c\" (4 members)>\n",
      "Variable name:  <HDF5 group \"/bn5c_branch2c/bn5c_branch2c\" (4 members)>\n",
      "Variable name:  <HDF5 group \"/bn5c_branch2c/bn5c_branch2c\" (4 members)>\n",
      "Max and Min Proposals,  1.0 0.0\n",
      "Num NaN present in Proposals  0\n",
      "(RPN) rpn_pred_logits:  (1, 4092, 2)\n",
      "(RPN) rpn_pred_probs:  (1, 4092, 2)\n",
      "(RPN) rpn_pred_bbox:  (1, 4092, 4)\n",
      "(PROPOSAL) proposals  (1, 2000, 4)\n",
      "(MRCNN) mrcnn_target_class_ids (1, 32)\n",
      "(MRCNN) mrcnn_target_box (shape)  (1, 32, 4)\n",
      "(MRCNN) mrcnn_class_logits (1, 32, 4)\n",
      "(MRCNN) mrcnn_class_probs (shape)  (1, 32, 4)\n",
      "(MRCNN) mrcnn_bbox (shape)  (1, 32, 4, 4)\n",
      "(LOSS) rpn_loss_extra_var (shape)  (3, 4)\n",
      "(LOSS) rpn_class_loss (shape)  233.397\n",
      "(LOSS) rpn_box_loss (shape)  218.428\n",
      "(LOSS) mrcnn_class_loss (shape)  nan\n",
      "(LOSS) mrcnn_box_loss (shape)  0.0\n",
      "batch_rpn_target_class:  [[[0]\n",
      "  [0]\n",
      "  [0]\n",
      "  ..., \n",
      "  [0]\n",
      "  [0]\n",
      "  [0]]]\n",
      "[[  0 128 128   3 128 128   3   0   0 128 128   1   0   1   0   1]]\n",
      "[[-274.05908203 -240.11697388 -227.26579285 -438.43807983]\n",
      " [ 295.38873291  352.80743408 -213.19485474 -190.35925293]\n",
      " [ 172.52108765  154.11213684  -49.68869781   19.03437805]]\n"
     ]
    }
   ],
   "source": [
    "from MaskRCNN.training import Train as Train\n",
    "from MaskRCNN.training_debug import Train as TrainDebug\n",
    "print(data_dict['batch_image_metas'])\n",
    "pretrained_weights_path = '/Users/sam/All-Program/App-DataSet/ObjectDetection/MaskRCNN/mask_rcnn_coco.h5'\n",
    "\n",
    "obj_trn = Train(conf, batch_size=batch_size,\n",
    "                pretrained_weights_path=pretrained_weights_path)\n",
    "obj_trn.exec_sess(data_dict, image_ids)\n"
   ]
  },
  {
   "cell_type": "markdown",
   "metadata": {},
   "source": [
    "#### Ground Truth Data:\n",
    "-------"
   ]
  },
  {
   "cell_type": "code",
   "execution_count": 19,
   "metadata": {},
   "outputs": [
    {
     "data": {
      "text/plain": [
       "array([[[ 37,   8,  72,  53],\n",
       "        [ 79,  81, 126, 128],\n",
       "        [ 63,  13, 112,  62],\n",
       "        [  0,   0,   0,   0],\n",
       "        [  0,   0,   0,   0],\n",
       "        [  0,   0,   0,   0],\n",
       "        [  0,   0,   0,   0],\n",
       "        [  0,   0,   0,   0],\n",
       "        [  0,   0,   0,   0],\n",
       "        [  0,   0,   0,   0],\n",
       "        [  0,   0,   0,   0],\n",
       "        [  0,   0,   0,   0],\n",
       "        [  0,   0,   0,   0],\n",
       "        [  0,   0,   0,   0],\n",
       "        [  0,   0,   0,   0],\n",
       "        [  0,   0,   0,   0],\n",
       "        [  0,   0,   0,   0],\n",
       "        [  0,   0,   0,   0],\n",
       "        [  0,   0,   0,   0],\n",
       "        [  0,   0,   0,   0],\n",
       "        [  0,   0,   0,   0],\n",
       "        [  0,   0,   0,   0],\n",
       "        [  0,   0,   0,   0],\n",
       "        [  0,   0,   0,   0],\n",
       "        [  0,   0,   0,   0],\n",
       "        [  0,   0,   0,   0],\n",
       "        [  0,   0,   0,   0],\n",
       "        [  0,   0,   0,   0],\n",
       "        [  0,   0,   0,   0],\n",
       "        [  0,   0,   0,   0],\n",
       "        [  0,   0,   0,   0],\n",
       "        [  0,   0,   0,   0],\n",
       "        [  0,   0,   0,   0],\n",
       "        [  0,   0,   0,   0],\n",
       "        [  0,   0,   0,   0],\n",
       "        [  0,   0,   0,   0],\n",
       "        [  0,   0,   0,   0],\n",
       "        [  0,   0,   0,   0],\n",
       "        [  0,   0,   0,   0],\n",
       "        [  0,   0,   0,   0],\n",
       "        [  0,   0,   0,   0],\n",
       "        [  0,   0,   0,   0],\n",
       "        [  0,   0,   0,   0],\n",
       "        [  0,   0,   0,   0],\n",
       "        [  0,   0,   0,   0],\n",
       "        [  0,   0,   0,   0],\n",
       "        [  0,   0,   0,   0],\n",
       "        [  0,   0,   0,   0],\n",
       "        [  0,   0,   0,   0],\n",
       "        [  0,   0,   0,   0],\n",
       "        [  0,   0,   0,   0],\n",
       "        [  0,   0,   0,   0],\n",
       "        [  0,   0,   0,   0],\n",
       "        [  0,   0,   0,   0],\n",
       "        [  0,   0,   0,   0],\n",
       "        [  0,   0,   0,   0],\n",
       "        [  0,   0,   0,   0],\n",
       "        [  0,   0,   0,   0],\n",
       "        [  0,   0,   0,   0],\n",
       "        [  0,   0,   0,   0],\n",
       "        [  0,   0,   0,   0],\n",
       "        [  0,   0,   0,   0],\n",
       "        [  0,   0,   0,   0],\n",
       "        [  0,   0,   0,   0],\n",
       "        [  0,   0,   0,   0],\n",
       "        [  0,   0,   0,   0],\n",
       "        [  0,   0,   0,   0],\n",
       "        [  0,   0,   0,   0],\n",
       "        [  0,   0,   0,   0],\n",
       "        [  0,   0,   0,   0],\n",
       "        [  0,   0,   0,   0],\n",
       "        [  0,   0,   0,   0],\n",
       "        [  0,   0,   0,   0],\n",
       "        [  0,   0,   0,   0],\n",
       "        [  0,   0,   0,   0],\n",
       "        [  0,   0,   0,   0],\n",
       "        [  0,   0,   0,   0],\n",
       "        [  0,   0,   0,   0],\n",
       "        [  0,   0,   0,   0],\n",
       "        [  0,   0,   0,   0],\n",
       "        [  0,   0,   0,   0],\n",
       "        [  0,   0,   0,   0],\n",
       "        [  0,   0,   0,   0],\n",
       "        [  0,   0,   0,   0],\n",
       "        [  0,   0,   0,   0],\n",
       "        [  0,   0,   0,   0],\n",
       "        [  0,   0,   0,   0],\n",
       "        [  0,   0,   0,   0],\n",
       "        [  0,   0,   0,   0],\n",
       "        [  0,   0,   0,   0],\n",
       "        [  0,   0,   0,   0],\n",
       "        [  0,   0,   0,   0],\n",
       "        [  0,   0,   0,   0],\n",
       "        [  0,   0,   0,   0],\n",
       "        [  0,   0,   0,   0],\n",
       "        [  0,   0,   0,   0],\n",
       "        [  0,   0,   0,   0],\n",
       "        [  0,   0,   0,   0],\n",
       "        [  0,   0,   0,   0],\n",
       "        [  0,   0,   0,   0]]], dtype=int32)"
      ]
     },
     "execution_count": 19,
     "metadata": {},
     "output_type": "execute_result"
    }
   ],
   "source": [
    "obj_trn.batch_gt_bboxes  # batch_gt_boxes are zero_paded"
   ]
  },
  {
   "cell_type": "markdown",
   "metadata": {},
   "source": [
    "#### RPN Class:\n",
    "------"
   ]
  },
  {
   "cell_type": "code",
   "execution_count": 20,
   "metadata": {},
   "outputs": [
    {
     "name": "stdout",
     "output_type": "stream",
     "text": [
      "(RPN) Target Class:  [[[0]\n",
      "  [0]\n",
      "  [0]\n",
      "  ..., \n",
      "  [0]\n",
      "  [0]\n",
      "  [0]]]\n"
     ]
    },
    {
     "data": {
      "text/plain": [
       "(array([3920, 4072, 4078]), array([0, 0, 0]))"
      ]
     },
     "execution_count": 20,
     "metadata": {},
     "output_type": "execute_result"
    }
   ],
   "source": [
    "print('(RPN) Target Class: ', obj_trn.batch_rpn_target_class)\n",
    "np.where(batch_rpn_target_class[run_for_batch_num] == 1)"
   ]
  },
  {
   "cell_type": "code",
   "execution_count": 21,
   "metadata": {
    "scrolled": true
   },
   "outputs": [
    {
     "name": "stdout",
     "output_type": "stream",
     "text": [
      "(RPN) Pred Logits:  [[[ 188.87236023  -53.48423004]\n",
      "  [ 115.75724792 -148.6603241 ]\n",
      "  [   3.61575699 -334.7951355 ]\n",
      "  ..., \n",
      "  [  23.46432495    5.34645271]\n",
      "  [  54.28678894   13.94624329]\n",
      "  [-147.22480774 -145.1230011 ]]]\n"
     ]
    }
   ],
   "source": [
    "print('(RPN) Pred Logits: ', obj_trn.outputs_[0])"
   ]
  },
  {
   "cell_type": "code",
   "execution_count": 22,
   "metadata": {
    "scrolled": true
   },
   "outputs": [
    {
     "name": "stdout",
     "output_type": "stream",
     "text": [
      "(RPN) Pred probs:  [[[  1.00000000e+00   0.00000000e+00]\n",
      "  [  1.00000000e+00   0.00000000e+00]\n",
      "  [  1.00000000e+00   0.00000000e+00]\n",
      "  ..., \n",
      "  [  1.00000000e+00   1.35365523e-08]\n",
      "  [  1.00000000e+00   3.02220301e-18]\n",
      "  [  1.08921349e-01   8.91078651e-01]]]\n"
     ]
    }
   ],
   "source": [
    "print('(RPN) Pred probs: ', obj_trn.outputs_[1])"
   ]
  },
  {
   "cell_type": "markdown",
   "metadata": {},
   "source": [
    "#### RPN Boxes:\n",
    "------"
   ]
  },
  {
   "cell_type": "code",
   "execution_count": 23,
   "metadata": {},
   "outputs": [
    {
     "name": "stdout",
     "output_type": "stream",
     "text": [
      "(RPN) Target Bbox:  [[[ 2.8726213  -0.3314563   2.18092874 -0.02823502]\n",
      "  [-1.328125    0.859375   -1.33531393 -1.33531393]\n",
      "  [ 1.015625    1.328125   -1.54367741 -1.54367741]\n",
      "  ..., \n",
      "  [ 0.          0.          0.          0.        ]\n",
      "  [ 0.          0.          0.          0.        ]\n",
      "  [ 0.          0.          0.          0.        ]]]\n"
     ]
    }
   ],
   "source": [
    "print('(RPN) Target Bbox: ', obj_trn.batch_rpn_target_bbox)"
   ]
  },
  {
   "cell_type": "code",
   "execution_count": 24,
   "metadata": {},
   "outputs": [
    {
     "name": "stdout",
     "output_type": "stream",
     "text": [
      "(RPN) Pred Bbox:  [[[  95.09632111  -45.71514511 -132.81124878  286.01727295]\n",
      "  [ 203.06892395  381.30337524   90.51807404  -78.39691925]\n",
      "  [-105.3742981  -258.24505615 -161.29386902   87.56385803]\n",
      "  ..., \n",
      "  [-106.5790863   -22.60909462  -50.53930664   88.60528564]\n",
      "  [ 251.38041687  312.19891357 -179.01490784  -30.71788216]\n",
      "  [-152.92759705  254.11044312   -9.48088169  -56.5919838 ]]]\n"
     ]
    }
   ],
   "source": [
    "print('(RPN) Pred Bbox: ', obj_trn.outputs_[2])"
   ]
  },
  {
   "cell_type": "code",
   "execution_count": 25,
   "metadata": {},
   "outputs": [
    {
     "name": "stdout",
     "output_type": "stream",
     "text": [
      "(Proposals) proposals rois:  (1, 2000, 4) [[[ 0.12539089  0.          0.12539089  1.        ]\n",
      "  [ 0.          0.          0.          1.        ]\n",
      "  [ 0.          0.          0.          1.        ]\n",
      "  ..., \n",
      "  [ 1.          0.          1.          0.        ]\n",
      "  [ 0.          0.          0.          0.        ]\n",
      "  [ 1.          0.          1.          0.        ]]]\n"
     ]
    }
   ],
   "source": [
    "print('(Proposals) proposals rois: ', obj_trn.outputs_[3].shape, obj_trn.outputs_[3])"
   ]
  },
  {
   "cell_type": "markdown",
   "metadata": {},
   "source": [
    "## Debug Detection Target creation layer:"
   ]
  },
  {
   "cell_type": "code",
   "execution_count": 21,
   "metadata": {
    "collapsed": true
   },
   "outputs": [],
   "source": [
    "from MaskRCNN.building_blocks import data_processor\n",
    "def get_detection_target_graph(proposals_, input_gt_class_ids, input_gt_boxes_pxl):\n",
    "    batch_rois = []\n",
    "    batch_rois_gt_class_ids = []\n",
    "    batch_rois_gt_class_boxes = []\n",
    "    for i in range(0, obj_trn.batch_size):\n",
    "        obj_dp = data_processor.BuildDetectionTargets(\n",
    "                conf, proposals_[i], input_gt_class_ids[i], input_gt_boxes_pxl[i],\n",
    "                DEBUG=True)\n",
    "        rois, roi_gt_class_ids, roi_gt_box_deltas = obj_dp.get_target_rois()\n",
    "        debug_opt = obj_dp.debug_outputs()\n",
    "        break\n",
    "#         batch_rois.append(rois)\n",
    "#         batch_rois_gt_class_ids.append(roi_gt_class_ids)\n",
    "#         batch_rois_gt_class_boxes.append(roi_gt_box_deltas)\n",
    "\n",
    "#         batch_rois = tf.stack(batch_rois, axis=0)\n",
    "#         batch_rois_gt_class_ids = tf.concat(batch_rois_gt_class_ids, axis=0)\n",
    "#         batch_rois_gt_class_boxes = tf.stack(batch_rois_gt_class_boxes, axis=0)\n",
    "\n",
    "    return batch_rois, batch_rois_gt_class_ids, batch_rois_gt_class_boxes, debug_opt"
   ]
  },
  {
   "cell_type": "code",
   "execution_count": 38,
   "metadata": {
    "collapsed": true
   },
   "outputs": [],
   "source": [
    "# tf.reset_default_graph()\n",
    "proposals_ = tf.placeholder(shape=[1,2000,4], dtype=tf.float32, name='pp')\n",
    "input_gt_class_ids = tf.placeholder(dtype=tf.int32,\n",
    "                                    shape=[None, None],\n",
    "                                    name='icid')\n",
    "\n",
    "rois, mrcnn_target_class_ids, mrcnn_target_box, debug_opt = get_detection_target_graph(\n",
    "            proposals_,\n",
    "            input_gt_class_ids,\n",
    "            obj_trn.input_gt_boxes_norm\n",
    ")\n",
    "debug_outputs = [debug_opt['non_zero_proposals'],\n",
    "                 debug_opt['prop_corresponding_gt_non_zero'],\n",
    "                 debug_opt['non_zeros_gt_box'],\n",
    "                    debug_opt['gt_boxes_non_zero'],\n",
    "                    debug_opt['gt_class_ids_non_zero'],\n",
    "                    debug_opt['iou'],\n",
    "                    debug_opt['roi_iou_max'],\n",
    "                    debug_opt['pos_indices_05more'],\n",
    "                    debug_opt['neg_indices_05more'],\n",
    "#                     debug_opt['num_pos_inst'],\n",
    "                    debug_opt['pos_indices'],\n",
    "                    debug_opt['pos_count'],\n",
    "                    debug_opt['neg_cnt'],\n",
    "                    debug_opt['neg_indices'],\n",
    "                    debug_opt['pos_rois'],\n",
    "                    debug_opt['neg_rois'],\n",
    "                    debug_opt['pos_iou'],\n",
    "                    debug_opt['roi_gt_box_assignment'],\n",
    "                    debug_opt['roi_gt_class_ids'],\n",
    "                    debug_opt['roi_gt_boxes'],\n",
    "                    debug_opt['roi_gt_box_deltas']\n",
    "                ]\n",
    "\n",
    "feed_dict = {obj_trn.xIN: obj_trn.batch_images,\n",
    "         obj_trn.anchors: obj_trn.anchors_normed,\n",
    "         input_gt_class_ids: obj_trn.batch_gt_class_ids,\n",
    "         obj_trn.input_gt_boxes_pxl: obj_trn.batch_gt_bboxes,\n",
    "         obj_trn.rpn_target_class: obj_trn.batch_rpn_target_class,\n",
    "         obj_trn.rpn_target_bbox: obj_trn.batch_rpn_target_bbox,\n",
    "             proposals_:obj_trn.outputs_[3]\n",
    "         }\n",
    "\n",
    "import tensorflow as tf\n",
    "with tf.Session() as sess:\n",
    "    sess.run(tf.global_variables_initializer())\n",
    "    output_ = sess.run(debug_outputs, feed_dict=feed_dict)\n",
    "    "
   ]
  },
  {
   "cell_type": "code",
   "execution_count": 36,
   "metadata": {},
   "outputs": [
    {
     "data": {
      "text/plain": [
       "array([[[11, 34, 74, 91],\n",
       "        [19, 16, 60, 57],\n",
       "        [ 0,  0,  0,  0],\n",
       "        [ 0,  0,  0,  0],\n",
       "        [ 0,  0,  0,  0],\n",
       "        [ 0,  0,  0,  0],\n",
       "        [ 0,  0,  0,  0],\n",
       "        [ 0,  0,  0,  0],\n",
       "        [ 0,  0,  0,  0],\n",
       "        [ 0,  0,  0,  0],\n",
       "        [ 0,  0,  0,  0],\n",
       "        [ 0,  0,  0,  0],\n",
       "        [ 0,  0,  0,  0],\n",
       "        [ 0,  0,  0,  0],\n",
       "        [ 0,  0,  0,  0],\n",
       "        [ 0,  0,  0,  0],\n",
       "        [ 0,  0,  0,  0],\n",
       "        [ 0,  0,  0,  0],\n",
       "        [ 0,  0,  0,  0],\n",
       "        [ 0,  0,  0,  0],\n",
       "        [ 0,  0,  0,  0],\n",
       "        [ 0,  0,  0,  0],\n",
       "        [ 0,  0,  0,  0],\n",
       "        [ 0,  0,  0,  0],\n",
       "        [ 0,  0,  0,  0],\n",
       "        [ 0,  0,  0,  0],\n",
       "        [ 0,  0,  0,  0],\n",
       "        [ 0,  0,  0,  0],\n",
       "        [ 0,  0,  0,  0],\n",
       "        [ 0,  0,  0,  0],\n",
       "        [ 0,  0,  0,  0],\n",
       "        [ 0,  0,  0,  0],\n",
       "        [ 0,  0,  0,  0],\n",
       "        [ 0,  0,  0,  0],\n",
       "        [ 0,  0,  0,  0],\n",
       "        [ 0,  0,  0,  0],\n",
       "        [ 0,  0,  0,  0],\n",
       "        [ 0,  0,  0,  0],\n",
       "        [ 0,  0,  0,  0],\n",
       "        [ 0,  0,  0,  0],\n",
       "        [ 0,  0,  0,  0],\n",
       "        [ 0,  0,  0,  0],\n",
       "        [ 0,  0,  0,  0],\n",
       "        [ 0,  0,  0,  0],\n",
       "        [ 0,  0,  0,  0],\n",
       "        [ 0,  0,  0,  0],\n",
       "        [ 0,  0,  0,  0],\n",
       "        [ 0,  0,  0,  0],\n",
       "        [ 0,  0,  0,  0],\n",
       "        [ 0,  0,  0,  0],\n",
       "        [ 0,  0,  0,  0],\n",
       "        [ 0,  0,  0,  0],\n",
       "        [ 0,  0,  0,  0],\n",
       "        [ 0,  0,  0,  0],\n",
       "        [ 0,  0,  0,  0],\n",
       "        [ 0,  0,  0,  0],\n",
       "        [ 0,  0,  0,  0],\n",
       "        [ 0,  0,  0,  0],\n",
       "        [ 0,  0,  0,  0],\n",
       "        [ 0,  0,  0,  0],\n",
       "        [ 0,  0,  0,  0],\n",
       "        [ 0,  0,  0,  0],\n",
       "        [ 0,  0,  0,  0],\n",
       "        [ 0,  0,  0,  0],\n",
       "        [ 0,  0,  0,  0],\n",
       "        [ 0,  0,  0,  0],\n",
       "        [ 0,  0,  0,  0],\n",
       "        [ 0,  0,  0,  0],\n",
       "        [ 0,  0,  0,  0],\n",
       "        [ 0,  0,  0,  0],\n",
       "        [ 0,  0,  0,  0],\n",
       "        [ 0,  0,  0,  0],\n",
       "        [ 0,  0,  0,  0],\n",
       "        [ 0,  0,  0,  0],\n",
       "        [ 0,  0,  0,  0],\n",
       "        [ 0,  0,  0,  0],\n",
       "        [ 0,  0,  0,  0],\n",
       "        [ 0,  0,  0,  0],\n",
       "        [ 0,  0,  0,  0],\n",
       "        [ 0,  0,  0,  0],\n",
       "        [ 0,  0,  0,  0],\n",
       "        [ 0,  0,  0,  0],\n",
       "        [ 0,  0,  0,  0],\n",
       "        [ 0,  0,  0,  0],\n",
       "        [ 0,  0,  0,  0],\n",
       "        [ 0,  0,  0,  0],\n",
       "        [ 0,  0,  0,  0],\n",
       "        [ 0,  0,  0,  0],\n",
       "        [ 0,  0,  0,  0],\n",
       "        [ 0,  0,  0,  0],\n",
       "        [ 0,  0,  0,  0],\n",
       "        [ 0,  0,  0,  0],\n",
       "        [ 0,  0,  0,  0],\n",
       "        [ 0,  0,  0,  0],\n",
       "        [ 0,  0,  0,  0],\n",
       "        [ 0,  0,  0,  0],\n",
       "        [ 0,  0,  0,  0],\n",
       "        [ 0,  0,  0,  0],\n",
       "        [ 0,  0,  0,  0],\n",
       "        [ 0,  0,  0,  0]]], dtype=int32)"
      ]
     },
     "execution_count": 36,
     "metadata": {},
     "output_type": "execute_result"
    }
   ],
   "source": [
    "obj_trn.batch_gt_bboxes\n"
   ]
  },
  {
   "cell_type": "code",
   "execution_count": 39,
   "metadata": {},
   "outputs": [
    {
     "name": "stdout",
     "output_type": "stream",
     "text": [
      "non_zeros_proposals:  (2000,) [ True  True False ...,  True  True  True]\n"
     ]
    },
    {
     "data": {
      "text/plain": [
       "(None,)"
      ]
     },
     "execution_count": 39,
     "metadata": {},
     "output_type": "execute_result"
    }
   ],
   "source": [
    "print('non_zeros_proposals: ', output_[0].shape, output_[0]),"
   ]
  },
  {
   "cell_type": "code",
   "execution_count": 40,
   "metadata": {},
   "outputs": [
    {
     "name": "stdout",
     "output_type": "stream",
     "text": [
      "prop_corresponding_gt_non_zero:  (1902, 4) [[ 1.          0.          1.          0.        ]\n",
      " [ 0.          0.64352852  1.          0.64352852]\n",
      " [ 0.          0.43961674  0.          0.44247484]\n",
      " ..., \n",
      " [ 0.          0.          0.          1.        ]\n",
      " [ 0.          1.          0.          1.        ]\n",
      " [ 0.05586874  0.          0.05586874  0.        ]]\n"
     ]
    },
    {
     "data": {
      "text/plain": [
       "(None,)"
      ]
     },
     "execution_count": 40,
     "metadata": {},
     "output_type": "execute_result"
    }
   ],
   "source": [
    "print('prop_corresponding_gt_non_zero: ', output_[1].shape, output_[1]),"
   ]
  },
  {
   "cell_type": "code",
   "execution_count": 41,
   "metadata": {
    "scrolled": false
   },
   "outputs": [
    {
     "name": "stdout",
     "output_type": "stream",
     "text": [
      "non_zeros_gt_box:  (100,) [ True  True False False False False False False False False False False\n",
      " False False False False False False False False False False False False\n",
      " False False False False False False False False False False False False\n",
      " False False False False False False False False False False False False\n",
      " False False False False False False False False False False False False\n",
      " False False False False False False False False False False False False\n",
      " False False False False False False False False False False False False\n",
      " False False False False False False False False False False False False\n",
      " False False False False]\n"
     ]
    },
    {
     "data": {
      "text/plain": [
       "(None,)"
      ]
     },
     "execution_count": 41,
     "metadata": {},
     "output_type": "execute_result"
    }
   ],
   "source": [
    "print('non_zeros_gt_box: ', output_[2].shape, output_[2]),"
   ]
  },
  {
   "cell_type": "code",
   "execution_count": 42,
   "metadata": {},
   "outputs": [
    {
     "name": "stdout",
     "output_type": "stream",
     "text": [
      "gt_boxes_non_zero  (2, 4) [[ 0.08661418  0.26771653  0.57480317  0.70866144]\n",
      " [ 0.1496063   0.12598425  0.46456692  0.44094488]]\n"
     ]
    }
   ],
   "source": [
    "print('gt_boxes_non_zero ', output_[3].shape, output_[3])"
   ]
  },
  {
   "cell_type": "code",
   "execution_count": 43,
   "metadata": {},
   "outputs": [
    {
     "name": "stdout",
     "output_type": "stream",
     "text": [
      "gt_class_ids_non_zero  (2,) [3 1]\n"
     ]
    }
   ],
   "source": [
    "print('gt_class_ids_non_zero ', output_[4].shape, output_[4])"
   ]
  },
  {
   "cell_type": "code",
   "execution_count": 44,
   "metadata": {},
   "outputs": [
    {
     "name": "stdout",
     "output_type": "stream",
     "text": [
      "iou proposal_pred Vs gt_box_norm  (1902, 2) [[ 0.  0.]\n",
      " [ 0.  0.]\n",
      " [ 0.  0.]\n",
      " ..., \n",
      " [ 0.  0.]\n",
      " [ 0.  0.]\n",
      " [ 0.  0.]]\n"
     ]
    }
   ],
   "source": [
    "print('iou proposal_pred Vs gt_box_norm ', output_[5].shape, output_[5])"
   ]
  },
  {
   "cell_type": "code",
   "execution_count": 55,
   "metadata": {},
   "outputs": [
    {
     "name": "stdout",
     "output_type": "stream",
     "text": [
      "[   7   15  548  614  727 1886]\n",
      "[   7  548  614  727 1886]\n"
     ]
    },
    {
     "data": {
      "text/plain": [
       "array([[  2.15264440e-01,   9.92001891e-02],\n",
       "       [  1.68442987e-02,   0.00000000e+00],\n",
       "       [  5.49419838e-07,   8.51599850e-07],\n",
       "       [  1.83140045e-07,   2.83866996e-07],\n",
       "       [  3.08938593e-01,   2.02032015e-01],\n",
       "       [  8.06851254e-04,   1.12777494e-03]], dtype=float32)"
      ]
     },
     "execution_count": 55,
     "metadata": {},
     "output_type": "execute_result"
    }
   ],
   "source": [
    "print (np.where(output_[5][:,0] !=0)[0])\n",
    "print(np.where(output_[5][:,1] !=0)[0])\n",
    "output_[5][np.where(output_[5][:,0] !=0)[0],:]"
   ]
  },
  {
   "cell_type": "code",
   "execution_count": 56,
   "metadata": {},
   "outputs": [
    {
     "name": "stdout",
     "output_type": "stream",
     "text": [
      "roi_iou_max  [ 0.  0.  0. ...,  0.  0.  0.]\n"
     ]
    }
   ],
   "source": [
    "print ('roi_iou_max ', output_[6])"
   ]
  },
  {
   "cell_type": "code",
   "execution_count": 57,
   "metadata": {},
   "outputs": [
    {
     "name": "stdout",
     "output_type": "stream",
     "text": [
      "pos_indices_05more  []\n"
     ]
    }
   ],
   "source": [
    "print ('pos_indices_05more ', output_[7])"
   ]
  },
  {
   "cell_type": "code",
   "execution_count": 58,
   "metadata": {},
   "outputs": [
    {
     "name": "stdout",
     "output_type": "stream",
     "text": [
      "neg_indices_05more  []\n"
     ]
    }
   ],
   "source": [
    "print ('neg_indices_05more ', output_[8])"
   ]
  },
  {
   "cell_type": "code",
   "execution_count": null,
   "metadata": {
    "collapsed": true
   },
   "outputs": [],
   "source": []
  }
 ],
 "metadata": {
  "kernelspec": {
   "display_name": "Python 3",
   "language": "python",
   "name": "python3"
  },
  "language_info": {
   "codemirror_mode": {
    "name": "ipython",
    "version": 3
   },
   "file_extension": ".py",
   "mimetype": "text/x-python",
   "name": "python",
   "nbconvert_exporter": "python",
   "pygments_lexer": "ipython3",
   "version": "3.5.4"
  }
 },
 "nbformat": 4,
 "nbformat_minor": 2
}
